{
 "cells": [
  {
   "cell_type": "markdown",
   "metadata": {
    "papermill": {
     "duration": 0.026919,
     "end_time": "2021-08-23T18:41:41.934314",
     "exception": false,
     "start_time": "2021-08-23T18:41:41.907395",
     "status": "completed"
    },
    "tags": []
   },
   "source": [
    "#### In this notebook, we used data from 3 datasets containing OCT images, \n",
    " 1.  #### Kermany (Retinal_OCT2017)\n",
    " 2.  #### Duke Srinivasan 2014\n",
    " 3.  #### Tehran Rabbani 2018\n",
    " \n",
    " We perform classification on 3 classes: AMD, DR and NORMAL\n",
    "\n",
    "#### Test set is the Dataverse Dataset\n",
    "\n",
    "We take 2 new datasets and merge with the entire kermany18 dataset. We train on the OpticNet model from scratch and obtain 96% training accuracy and 93.6% validation accuracy. We test the model on the Dataverse dataset which serves as our offsite testing set and obtain 61% accuracy showing that the model has only learnt based on data it was given and cannot generalize to OCT scans that are different to the ones it has seen. This shows that pretraining on Imagenet ends up helping the model better generalize to other OCT scans sugge"
   ]
  },
  {
   "cell_type": "markdown",
   "metadata": {
    "papermill": {
     "duration": 0.025258,
     "end_time": "2021-08-23T18:41:41.985519",
     "exception": false,
     "start_time": "2021-08-23T18:41:41.960261",
     "status": "completed"
    },
    "tags": []
   },
   "source": [
    "# Importing Data & Libraries"
   ]
  },
  {
   "cell_type": "code",
   "execution_count": 1,
   "metadata": {
    "execution": {
     "iopub.execute_input": "2021-08-23T18:41:42.047622Z",
     "iopub.status.busy": "2021-08-23T18:41:42.046943Z",
     "iopub.status.idle": "2021-08-23T18:41:42.050539Z",
     "shell.execute_reply": "2021-08-23T18:41:42.050023Z",
     "shell.execute_reply.started": "2021-08-23T18:40:57.960150Z"
    },
    "papermill": {
     "duration": 0.039447,
     "end_time": "2021-08-23T18:41:42.050668",
     "exception": false,
     "start_time": "2021-08-23T18:41:42.011221",
     "status": "completed"
    },
    "tags": []
   },
   "outputs": [],
   "source": [
    "p = \"/kaggle/input/kermany2018/OCT2017 /train\"\n",
    "p1 = \"/kaggle/input/ai-in-healthcare-hackathon/DataVerse_Dataset/DataVerse_Dataset\"\n",
    "p2 = '/kaggle/input/ai-in-healthcare-hackathon/OCT_Dataset_Duke_Srinivasan_2014'\n",
    "p3 = \"/kaggle/input/ai-in-healthcare-hackathon/OCT_Dataset_Tehran_Rabbani_2018\""
   ]
  },
  {
   "cell_type": "code",
   "execution_count": 2,
   "metadata": {
    "execution": {
     "iopub.execute_input": "2021-08-23T18:41:42.109443Z",
     "iopub.status.busy": "2021-08-23T18:41:42.108720Z",
     "iopub.status.idle": "2021-08-23T18:41:47.275952Z",
     "shell.execute_reply": "2021-08-23T18:41:47.275488Z",
     "shell.execute_reply.started": "2021-08-23T18:40:57.974536Z"
    },
    "papermill": {
     "duration": 5.200044,
     "end_time": "2021-08-23T18:41:47.276079",
     "exception": false,
     "start_time": "2021-08-23T18:41:42.076035",
     "status": "completed"
    },
    "tags": []
   },
   "outputs": [],
   "source": [
    "import os\n",
    "import pandas as pd\n",
    "from PIL import Image\n",
    "import numpy as np\n",
    "import matplotlib.pyplot as plt\n",
    "import random\n",
    "from tqdm import tqdm\n",
    "from collections import defaultdict\n",
    "import seaborn as sns\n",
    "from keras.preprocessing.image import ImageDataGenerator\n",
    "import tensorflow as tf\n",
    "\n",
    "from keras.layers import Activation,Dense, Dropout, Flatten, Conv2D, MaxPool2D,MaxPooling2D,AveragePooling2D, BatchNormalization, ReLU\n",
    "from keras.applications.vgg16 import VGG16\n",
    "from keras.models import Model\n",
    "from keras.applications.inception_v3 import InceptionV3\n",
    "from keras.applications import ResNet50, InceptionResNetV2\n",
    "from keras.preprocessing.image import load_img,img_to_array\n",
    "from tensorflow.keras.applications.imagenet_utils import preprocess_input\n",
    "import tensorflow_addons as tfa\n",
    "\n",
    "import matplotlib.cm as cm\n",
    "from IPython.display import Image, display\n",
    "\n",
    "import itertools\n",
    "import sklearn\n",
    "from sklearn.model_selection import train_test_split\n",
    "from sklearn.utils import class_weight\n",
    "from sklearn.preprocessing import LabelBinarizer\n",
    "from sklearn.metrics import roc_curve, auc, roc_auc_score, confusion_matrix, classification_report"
   ]
  },
  {
   "cell_type": "markdown",
   "metadata": {
    "papermill": {
     "duration": 0.025156,
     "end_time": "2021-08-23T18:41:47.327838",
     "exception": false,
     "start_time": "2021-08-23T18:41:47.302682",
     "status": "completed"
    },
    "tags": []
   },
   "source": [
    "# Data Pre Processing & Visualization"
   ]
  },
  {
   "cell_type": "code",
   "execution_count": 3,
   "metadata": {
    "execution": {
     "iopub.execute_input": "2021-08-23T18:41:47.383692Z",
     "iopub.status.busy": "2021-08-23T18:41:47.382904Z",
     "iopub.status.idle": "2021-08-23T18:41:47.385578Z",
     "shell.execute_reply": "2021-08-23T18:41:47.385173Z",
     "shell.execute_reply.started": "2021-08-23T18:40:57.987343Z"
    },
    "papermill": {
     "duration": 0.032316,
     "end_time": "2021-08-23T18:41:47.385690",
     "exception": false,
     "start_time": "2021-08-23T18:41:47.353374",
     "status": "completed"
    },
    "tags": []
   },
   "outputs": [],
   "source": [
    "new_class = {'CNV':'AMD', 'AMD':'AMD', 'DME':'DR', 'NORMAL':'NORMAL'}"
   ]
  },
  {
   "cell_type": "code",
   "execution_count": 4,
   "metadata": {
    "execution": {
     "iopub.execute_input": "2021-08-23T18:41:47.440675Z",
     "iopub.status.busy": "2021-08-23T18:41:47.440180Z",
     "iopub.status.idle": "2021-08-23T18:41:49.038926Z",
     "shell.execute_reply": "2021-08-23T18:41:49.038492Z",
     "shell.execute_reply.started": "2021-08-23T18:40:58.002369Z"
    },
    "papermill": {
     "duration": 1.628133,
     "end_time": "2021-08-23T18:41:49.039049",
     "exception": false,
     "start_time": "2021-08-23T18:41:47.410916",
     "status": "completed"
    },
    "tags": []
   },
   "outputs": [
    {
     "name": "stderr",
     "output_type": "stream",
     "text": [
      "100%|██████████| 11348/11348 [00:00<00:00, 363640.93it/s]\n",
      "100%|██████████| 37205/37205 [00:00<00:00, 253891.09it/s]\n",
      "100%|██████████| 26315/26315 [00:00<00:00, 388443.49it/s]\n"
     ]
    }
   ],
   "source": [
    "data_path = []\n",
    "data_label = []\n",
    "\n",
    "for i in ['DME', 'CNV', 'NORMAL']:\n",
    "    path = os.path.join(p, i)\n",
    "    for j in tqdm(os.listdir(path)):\n",
    "        data_path.append(os.path.join(path, j))\n",
    "        data_label.append(new_class[i])"
   ]
  },
  {
   "cell_type": "code",
   "execution_count": 5,
   "metadata": {
    "execution": {
     "iopub.execute_input": "2021-08-23T18:41:49.101361Z",
     "iopub.status.busy": "2021-08-23T18:41:49.100807Z",
     "iopub.status.idle": "2021-08-23T18:41:49.609000Z",
     "shell.execute_reply": "2021-08-23T18:41:49.609435Z",
     "shell.execute_reply.started": "2021-08-23T18:40:58.247866Z"
    },
    "papermill": {
     "duration": 0.541484,
     "end_time": "2021-08-23T18:41:49.609585",
     "exception": false,
     "start_time": "2021-08-23T18:41:49.068101",
     "status": "completed"
    },
    "tags": []
   },
   "outputs": [
    {
     "name": "stderr",
     "output_type": "stream",
     "text": [
      "100%|██████████| 1101/1101 [00:00<00:00, 370798.84it/s]\n",
      "100%|██████████| 723/723 [00:00<00:00, 366817.68it/s]\n",
      "100%|██████████| 1407/1407 [00:00<00:00, 376100.04it/s]\n"
     ]
    }
   ],
   "source": [
    "for i in ['DME', 'AMD', 'NORMAL']:\n",
    "    path = os.path.join(p2, i)\n",
    "    for j in tqdm(os.listdir(path)):\n",
    "        data_path.append(os.path.join(path, j))\n",
    "        data_label.append(new_class[i])"
   ]
  },
  {
   "cell_type": "code",
   "execution_count": 6,
   "metadata": {
    "execution": {
     "iopub.execute_input": "2021-08-23T18:41:49.674948Z",
     "iopub.status.busy": "2021-08-23T18:41:49.674328Z",
     "iopub.status.idle": "2021-08-23T18:41:50.085053Z",
     "shell.execute_reply": "2021-08-23T18:41:50.085678Z",
     "shell.execute_reply.started": "2021-08-23T18:40:58.277814Z"
    },
    "papermill": {
     "duration": 0.446085,
     "end_time": "2021-08-23T18:41:50.085873",
     "exception": false,
     "start_time": "2021-08-23T18:41:49.639788",
     "status": "completed"
    },
    "tags": []
   },
   "outputs": [
    {
     "name": "stderr",
     "output_type": "stream",
     "text": [
      "100%|██████████| 1104/1104 [00:00<00:00, 374031.63it/s]\n",
      "100%|██████████| 1565/1565 [00:00<00:00, 368913.94it/s]\n",
      "100%|██████████| 1585/1585 [00:00<00:00, 370092.51it/s]\n"
     ]
    }
   ],
   "source": [
    "for i in ['DME', 'AMD', 'NORMAL']:\n",
    "    path = os.path.join(p3, i)\n",
    "    for j in tqdm(os.listdir(path)):\n",
    "        data_path.append(os.path.join(path, j))\n",
    "        data_label.append(new_class[i])"
   ]
  },
  {
   "cell_type": "code",
   "execution_count": 7,
   "metadata": {
    "execution": {
     "iopub.execute_input": "2021-08-23T18:41:50.157048Z",
     "iopub.status.busy": "2021-08-23T18:41:50.156197Z",
     "iopub.status.idle": "2021-08-23T18:41:50.159021Z",
     "shell.execute_reply": "2021-08-23T18:41:50.158591Z",
     "shell.execute_reply.started": "2021-08-23T18:40:58.314694Z"
    },
    "papermill": {
     "duration": 0.039417,
     "end_time": "2021-08-23T18:41:50.159149",
     "exception": false,
     "start_time": "2021-08-23T18:41:50.119732",
     "status": "completed"
    },
    "tags": []
   },
   "outputs": [],
   "source": [
    "def labeller(j):\n",
    "    if j.startswith(\"AMRD\"): return 'AMD'\n",
    "    elif j.startswith(\"DR\"): return 'DR'\n",
    "    else: return 'NORMAL'"
   ]
  },
  {
   "cell_type": "code",
   "execution_count": 8,
   "metadata": {
    "execution": {
     "iopub.execute_input": "2021-08-23T18:41:50.236213Z",
     "iopub.status.busy": "2021-08-23T18:41:50.235513Z",
     "iopub.status.idle": "2021-08-23T18:41:50.283437Z",
     "shell.execute_reply": "2021-08-23T18:41:50.282897Z",
     "shell.execute_reply.started": "2021-08-23T18:40:58.321567Z"
    },
    "papermill": {
     "duration": 0.091565,
     "end_time": "2021-08-23T18:41:50.283568",
     "exception": false,
     "start_time": "2021-08-23T18:41:50.192003",
     "status": "completed"
    },
    "tags": []
   },
   "outputs": [],
   "source": [
    "test_path = []\n",
    "test_label = []\n",
    "for i in ['Macular Degeneration', 'Diabetic_Retinopathy','Normal_retina']:\n",
    "    full_path = os.path.join(p1,i)\n",
    "    img_dir = os.listdir(full_path)\n",
    "    for j in img_dir:\n",
    "        test_path.append(os.path.join(full_path, j))\n",
    "        test_label.append(labeller(j))"
   ]
  },
  {
   "cell_type": "code",
   "execution_count": 9,
   "metadata": {
    "execution": {
     "iopub.execute_input": "2021-08-23T18:41:50.358402Z",
     "iopub.status.busy": "2021-08-23T18:41:50.357605Z",
     "iopub.status.idle": "2021-08-23T18:41:50.454229Z",
     "shell.execute_reply": "2021-08-23T18:41:50.453755Z",
     "shell.execute_reply.started": "2021-08-23T18:40:58.335497Z"
    },
    "papermill": {
     "duration": 0.137506,
     "end_time": "2021-08-23T18:41:50.454370",
     "exception": false,
     "start_time": "2021-08-23T18:41:50.316864",
     "status": "completed"
    },
    "tags": []
   },
   "outputs": [],
   "source": [
    "X_train, X_val, y_train, y_val = train_test_split(data_path, data_label, test_size=0.1, random_state=42)\n",
    "df_train = pd.DataFrame(list(zip(X_train, y_train)),columns =['image_path', 'label'])\n",
    "df_val = pd.DataFrame(list(zip(X_val, y_val)),columns =['image_path', 'label'])\n",
    "df_test = pd.DataFrame(list(zip(test_path, test_label)),columns =['image_path', 'label'])"
   ]
  },
  {
   "cell_type": "markdown",
   "metadata": {
    "papermill": {
     "duration": 0.032798,
     "end_time": "2021-08-23T18:41:50.520369",
     "exception": false,
     "start_time": "2021-08-23T18:41:50.487571",
     "status": "completed"
    },
    "tags": []
   },
   "source": [
    "Training Data"
   ]
  },
  {
   "cell_type": "code",
   "execution_count": 10,
   "metadata": {
    "execution": {
     "iopub.execute_input": "2021-08-23T18:41:50.617115Z",
     "iopub.status.busy": "2021-08-23T18:41:50.616272Z",
     "iopub.status.idle": "2021-08-23T18:41:50.832512Z",
     "shell.execute_reply": "2021-08-23T18:41:50.832039Z",
     "shell.execute_reply.started": "2021-08-23T18:40:58.430114Z"
    },
    "papermill": {
     "duration": 0.279683,
     "end_time": "2021-08-23T18:41:50.832630",
     "exception": false,
     "start_time": "2021-08-23T18:41:50.552947",
     "status": "completed"
    },
    "tags": []
   },
   "outputs": [
    {
     "data": {
      "text/plain": [
       "<AxesSubplot:xlabel='label', ylabel='count'>"
      ]
     },
     "execution_count": 10,
     "metadata": {},
     "output_type": "execute_result"
    },
    {
     "data": {
      "image/png": "[encoded data removed]",
      "text/plain": [
       "<Figure size 1080x288 with 1 Axes>"
      ]
     },
     "metadata": {
      "needs_background": "light"
     },
     "output_type": "display_data"
    }
   ],
   "source": [
    "plt.rcParams[\"figure.figsize\"] = (15,4)\n",
    "df = df_train\n",
    "lab = df['label']\n",
    "dist = lab.value_counts()\n",
    "sns.countplot(x = lab)"
   ]
  },
  {
   "cell_type": "code",
   "execution_count": 11,
   "metadata": {
    "execution": {
     "iopub.execute_input": "2021-08-23T18:41:50.913878Z",
     "iopub.status.busy": "2021-08-23T18:41:50.913065Z",
     "iopub.status.idle": "2021-08-23T18:41:51.043539Z",
     "shell.execute_reply": "2021-08-23T18:41:51.043946Z",
     "shell.execute_reply.started": "2021-08-23T18:40:58.658814Z"
    },
    "papermill": {
     "duration": 0.177207,
     "end_time": "2021-08-23T18:41:51.044091",
     "exception": false,
     "start_time": "2021-08-23T18:41:50.866884",
     "status": "completed"
    },
    "tags": []
   },
   "outputs": [
    {
     "data": {
      "text/plain": [
       "<AxesSubplot:xlabel='label', ylabel='count'>"
      ]
     },
     "execution_count": 11,
     "metadata": {},
     "output_type": "execute_result"
    },
    {
     "data": {
      "image/png": "[encoded data removed]",
      "text/plain": [
       "<Figure size 1080x288 with 1 Axes>"
      ]
     },
     "metadata": {
      "needs_background": "light"
     },
     "output_type": "display_data"
    }
   ],
   "source": [
    "plt.rcParams[\"figure.figsize\"] = (15,4)\n",
    "df = df_val\n",
    "lab = df['label']\n",
    "dist = lab.value_counts()\n",
    "sns.countplot(x = lab)"
   ]
  },
  {
   "cell_type": "markdown",
   "metadata": {
    "papermill": {
     "duration": 0.034791,
     "end_time": "2021-08-23T18:41:51.113617",
     "exception": false,
     "start_time": "2021-08-23T18:41:51.078826",
     "status": "completed"
    },
    "tags": []
   },
   "source": [
    "Test Data"
   ]
  },
  {
   "cell_type": "code",
   "execution_count": 12,
   "metadata": {
    "execution": {
     "iopub.execute_input": "2021-08-23T18:41:51.377027Z",
     "iopub.status.busy": "2021-08-23T18:41:51.368263Z",
     "iopub.status.idle": "2021-08-23T18:41:51.487750Z",
     "shell.execute_reply": "2021-08-23T18:41:51.488167Z",
     "shell.execute_reply.started": "2021-08-23T18:40:58.804108Z"
    },
    "papermill": {
     "duration": 0.339205,
     "end_time": "2021-08-23T18:41:51.488321",
     "exception": false,
     "start_time": "2021-08-23T18:41:51.149116",
     "status": "completed"
    },
    "tags": []
   },
   "outputs": [
    {
     "data": {
      "text/plain": [
       "<AxesSubplot:xlabel='label', ylabel='count'>"
      ]
     },
     "execution_count": 12,
     "metadata": {},
     "output_type": "execute_result"
    },
    {
     "data": {
      "image/png": "[encoded data removed]",
      "text/plain": [
       "<Figure size 1080x288 with 1 Axes>"
      ]
     },
     "metadata": {
      "needs_background": "light"
     },
     "output_type": "display_data"
    }
   ],
   "source": [
    "plt.rcParams[\"figure.figsize\"] = (15,4)\n",
    "df = df_test\n",
    "lab = df['label']\n",
    "dist = lab.value_counts()\n",
    "sns.countplot(x = lab)"
   ]
  },
  {
   "cell_type": "markdown",
   "metadata": {
    "papermill": {
     "duration": 0.035466,
     "end_time": "2021-08-23T18:41:51.559197",
     "exception": false,
     "start_time": "2021-08-23T18:41:51.523731",
     "status": "completed"
    },
    "tags": []
   },
   "source": [
    "## Data Augmentation"
   ]
  },
  {
   "cell_type": "code",
   "execution_count": 13,
   "metadata": {
    "execution": {
     "iopub.execute_input": "2021-08-23T18:41:51.640103Z",
     "iopub.status.busy": "2021-08-23T18:41:51.639242Z",
     "iopub.status.idle": "2021-08-23T18:43:01.380352Z",
     "shell.execute_reply": "2021-08-23T18:43:01.380943Z",
     "shell.execute_reply.started": "2021-08-23T18:40:58.935081Z"
    },
    "papermill": {
     "duration": 69.786892,
     "end_time": "2021-08-23T18:43:01.381161",
     "exception": false,
     "start_time": "2021-08-23T18:41:51.594269",
     "status": "completed"
    },
    "tags": []
   },
   "outputs": [
    {
     "name": "stdout",
     "output_type": "stream",
     "text": [
      "Found 74117 validated image filenames belonging to 3 classes.\n",
      "Found 8236 validated image filenames belonging to 3 classes.\n",
      "Found 368 validated image filenames belonging to 3 classes.\n"
     ]
    },
    {
     "name": "stderr",
     "output_type": "stream",
     "text": [
      "/opt/conda/lib/python3.7/site-packages/keras_preprocessing/image/dataframe_iterator.py:282: UserWarning: Found 2 invalid image filename(s) in x_col=\"image_path\". These filename(s) will be ignored.\n",
      "  .format(n_invalid, x_col)\n"
     ]
    }
   ],
   "source": [
    "train_aug = ImageDataGenerator(\n",
    "        rotation_range=0.2,\n",
    "        width_shift_range=0.05,\n",
    "        height_shift_range=0.05,\n",
    "        shear_range=0.05,\n",
    "        zoom_range=0.05,\n",
    "        rescale=1.0/255,\n",
    "        horizontal_flip=True,\n",
    "        fill_mode='nearest')\n",
    "\n",
    "test_aug = ImageDataGenerator(\n",
    "    rescale = 1.0/255,)\n",
    "\n",
    "train_generator= train_aug.flow_from_dataframe(\n",
    "        dataframe=df_train,\n",
    "        x_col=\"image_path\",\n",
    "        y_col=\"label\",\n",
    "        batch_size=8,\n",
    "        color_mode=\"rgb\",\n",
    "        shuffle = True,\n",
    "        target_size = (224, 224),\n",
    "        class_mode=\"categorical\")\n",
    "\n",
    "val_generator= test_aug.flow_from_dataframe(\n",
    "        dataframe=df_val,\n",
    "        x_col=\"image_path\",\n",
    "        y_col=\"label\",\n",
    "        color_mode=\"rgb\",\n",
    "        batch_size=8,\n",
    "        shuffle = False, \n",
    "        target_size = (224, 224),\n",
    "        class_mode=\"categorical\")\n",
    "\n",
    "test_generator= test_aug.flow_from_dataframe(\n",
    "        dataframe=df_test,\n",
    "        x_col=\"image_path\",\n",
    "        y_col=\"label\",\n",
    "        color_mode=\"rgb\",\n",
    "        batch_size=8,\n",
    "        shuffle = False, \n",
    "        target_size = (224, 224),\n",
    "        class_mode=\"categorical\")"
   ]
  },
  {
   "cell_type": "markdown",
   "metadata": {
    "papermill": {
     "duration": 0.035764,
     "end_time": "2021-08-23T18:43:01.454495",
     "exception": false,
     "start_time": "2021-08-23T18:43:01.418731",
     "status": "completed"
    },
    "tags": []
   },
   "source": [
    "# MODEL\n",
    "## Compiling & Training"
   ]
  },
  {
   "cell_type": "code",
   "execution_count": 14,
   "metadata": {
    "execution": {
     "iopub.execute_input": "2021-08-23T18:43:01.569072Z",
     "iopub.status.busy": "2021-08-23T18:43:01.567033Z",
     "iopub.status.idle": "2021-08-23T18:43:01.571581Z",
     "shell.execute_reply": "2021-08-23T18:43:01.571157Z"
    },
    "papermill": {
     "duration": 0.080838,
     "end_time": "2021-08-23T18:43:01.571728",
     "exception": false,
     "start_time": "2021-08-23T18:43:01.490890",
     "status": "completed"
    },
    "tags": []
   },
   "outputs": [],
   "source": [
    "from keras.layers import Input, Multiply,GlobalAveragePooling2D, Add, Dense, Activation, Maximum, ZeroPadding2D, BatchNormalization, Flatten, Conv2D, AveragePooling2D, MaxPooling2D, GlobalMaxPooling2D, Lambda, UpSampling2D, DepthwiseConv2D, SeparableConv2D\n",
    "from keras.optimizers import Adam\n",
    "from keras.initializers import glorot_uniform\n",
    "\n",
    "def res_conv(X, filters, base, s):\n",
    "    \n",
    "    name_base = base + '/branch'\n",
    "    \n",
    "    F1, F2, F3 = filters\n",
    "\n",
    "    ##### Branch1 is the main path and Branch2 is the shortcut path #####\n",
    "    \n",
    "    X_shortcut = X\n",
    "    \n",
    "    ##### Branch1 #####\n",
    "    # First component of Branch1 \n",
    "    X = BatchNormalization(axis=-1, name=name_base + '1/bn_1')(X)\n",
    "    X= Activation('relu', name=name_base + '1/relu_1')(X)\n",
    "    X = Conv2D(filters=F1, kernel_size=(1,1), strides=(1,1), padding='valid', name=name_base + '1/conv_1', kernel_initializer=glorot_uniform(seed=0))(X)\n",
    "\n",
    "    # Second component of Branch1\n",
    "    X = BatchNormalization(axis=-1, name=name_base + '1/bn_2')(X)\n",
    "    X = Activation('relu', name=name_base + '1/relu_2')(X)\n",
    "    X = Conv2D(filters=F2, kernel_size=(2,2), strides=(s,s), padding='same', name=name_base + '1/conv_2', kernel_initializer=glorot_uniform(seed=0))(X)\n",
    "    \n",
    "    # Third component of Branch1\n",
    "    X = BatchNormalization(axis=-1, name=name_base + '1/bn_3')(X)\n",
    "    X = Activation('relu', name=name_base + '1/relu_3')(X)\n",
    "    X = Conv2D(filters=F3, kernel_size=(1,1), strides=(1,1), padding='valid', name=name_base + '1/conv_3', kernel_initializer=glorot_uniform(seed=0))(X)\n",
    "    \n",
    "    ##### Branch2 ####\n",
    "    X_shortcut = BatchNormalization(axis=-1, name=name_base + '2/bn_1')(X_shortcut)\n",
    "    X_shortcut= Activation('relu', name=name_base + '2/relu_1')(X_shortcut)\n",
    "    X_shortcut = Conv2D(filters=F3, kernel_size=(1,1), strides=(s,s), padding='valid', name=name_base + '2/conv_1', kernel_initializer=glorot_uniform(seed=0))(X_shortcut)\n",
    "    \n",
    "    # Final step: Add Branch1 and Branch2\n",
    "    X = Add(name=base + '/Add')([X, X_shortcut])\n",
    "\n",
    "    return X\n",
    "\n",
    "def res_identity(X, filters, base):\n",
    "    \n",
    "    name_base = base + '/branch'\n",
    "    \n",
    "    F1, F2, F3 = filters\n",
    "\n",
    "    ##### Branch1 is the main path and Branch2 is the shortcut path #####\n",
    "    \n",
    "    X_shortcut = X\n",
    "    \n",
    "    ##### Branch1 #####\n",
    "    # First component of Branch1 \n",
    "    X = BatchNormalization(axis=-1, name=name_base + '1/bn_1')(X)\n",
    "    Shortcut= Activation('relu', name=name_base + '1/relu_1')(X)\n",
    "    X = Conv2D(filters=F1, kernel_size=(1,1), strides=(1,1), padding='valid', name=name_base + '1/conv_1', kernel_initializer=glorot_uniform(seed=0))(Shortcut)\n",
    "\n",
    "    # Second component BranchOut 1\n",
    "    X1 = BatchNormalization(axis=-1, name=name_base + '1/ConvBn_2')(X)\n",
    "    X1 = Activation('relu', name=name_base + '1/ConvRelu_2')(X1)\n",
    "    X1 = Conv2D(filters=F2, kernel_size=(2,2), dilation_rate=(2, 2),strides=(1,1), padding='same', name=name_base + '1/Conv_2', kernel_initializer=glorot_uniform(seed=0))(X1)\n",
    "    \n",
    "    # Second component BrancOut 2\n",
    "    X2 = BatchNormalization(axis=-1, name=name_base + '1/SepBn_2')(X)\n",
    "    X2 = Activation('relu', name=name_base + '1/SepRelu_2')(X2)\n",
    "    X2 = SeparableConv2D(filters=F2, kernel_size=(2,2), dilation_rate=(2, 2),strides=(1,1), padding='same', name=name_base + '1/SepConv_2', kernel_initializer=glorot_uniform(seed=0))(X2)\n",
    "    \n",
    "    # Second component Add-BranchOut\n",
    "    X = Add(name=base + '/Add-2branches')([X1, X2])\n",
    "    \n",
    "    # Third component of Branch1\n",
    "    X = BatchNormalization(axis=-1, name=name_base + '1/bn_3')(X)\n",
    "    X = Activation('relu', name=name_base + '1/relu_3')(X)\n",
    "    X = Conv2D(filters=F3, kernel_size=(1,1), strides=(1,1), padding='valid', name=name_base + '1/conv_3', kernel_initializer=glorot_uniform(seed=0))(X)    \n",
    "    \n",
    "    # Final step: Add Branch1 and the original Input itself\n",
    "    X = Add(name=base + '/Add')([X_shortcut,X])\n",
    "\n",
    "    return X\n",
    "\n",
    "def EncoderDecoder(X, name_base):\n",
    "    X = MaxPooling2D((3,3), strides=(2,2), padding='same', name = name_base + '/Downsample1')(X)\n",
    "    #X = Conv2D(outgoing_depth, (2,2), strides=(1,1), dilation_rate=(2,2), padding='same', name = name_base + '/DC1', kernel_initializer=glorot_uniform(seed=0))(X)    \n",
    "    X = UpSampling2D(size=(2, 2),interpolation='bilinear',name = name_base + '/Upsample1')(X)\n",
    "    X = Activation('sigmoid', name = name_base + '/Activate')(X)\n",
    "    return X\n",
    "\n",
    "def RDBI(X, filters, base, number):\n",
    "    \n",
    "    for i in range(number):\n",
    "        X = res_identity(X, filters, base+ '/id_'+str(1+i))\n",
    "    \n",
    "    return X\n",
    "def OpticNet(input_size,num_of_classes):\n",
    "    input_shape=(input_size, input_size, 3) # Height x Width x Channel\n",
    "    X_input = Input(input_shape)\n",
    "    X = Conv2D(64, (7,7), strides=(2,2), padding='same', name ='CONV1', kernel_initializer=glorot_uniform(seed=0))(X_input)\n",
    "    X = BatchNormalization(axis=-1, name ='BN1')(X)\n",
    "    X = Activation('relu', name ='RELU1')(X)\n",
    "    X = res_conv(X, [64,64,256], 'RC0', 1)\n",
    "    \n",
    "    # MID 1\n",
    "    X1 = EncoderDecoder(X, 'EncoderDecoder1')\n",
    "    X2 = RDBI(X, [32,32,256], 'RDBI1',4)\n",
    "    X = Multiply(name = 'Mutiply1')([X1,X2])\n",
    "    X = Add(name = 'Add1')([X,X1,X2])\n",
    "    X = res_conv(X, [128,128,512], 'RC1', 2)\n",
    "    \n",
    "    # MID 2\n",
    "    X1 = EncoderDecoder(X, 'EncoderDecoder2')\n",
    "    X2 = RDBI(X, [64,64,512], 'RDBI2',4)\n",
    "    X = Multiply(name = 'Mutiply2')([X1,X2])\n",
    "    X = Add(name = 'Add2')([X,X1,X2])\n",
    "    X = res_conv(X, [256,256,1024], 'RC2', 2)\n",
    "    \n",
    "    # MID 3\n",
    "    X1 = EncoderDecoder(X, 'EncoderDecoder3')\n",
    "    X2 = RDBI(X, [128,128,1024], 'RDBI3',3)\n",
    "    X = Multiply(name = 'Mutiply3')([X1,X2])\n",
    "    X = Add(name = 'Add3')([X,X1,X2])\n",
    "    X = res_conv(X, [512,512,2048], 'RC3', 2)\n",
    "    \n",
    "    # MID 4\n",
    "    X1 = EncoderDecoder(X, 'EncoderDecoder4')\n",
    "    X2 = RDBI(X, [256,256,2048], 'RDBI4',3)\n",
    "    X = Multiply(name = 'Mutiply4')([X1,X2])\n",
    "    X = Add(name = 'Add4')([X,X1,X2]) \n",
    "    \n",
    "    X = GlobalAveragePooling2D(name='global_avg_pool')(X)\n",
    "    X = Dense(256, name='Dense_1')(X)\n",
    "    X = Dense(num_of_classes, name='Dense_2')(X)\n",
    "    X = Activation('softmax', name='classifier')(X)\n",
    "    \n",
    "    model = Model(inputs=X_input, outputs=X, name='')\n",
    "\n",
    "    return model"
   ]
  },
  {
   "cell_type": "code",
   "execution_count": 15,
   "metadata": {
    "execution": {
     "iopub.execute_input": "2021-08-23T18:43:01.655063Z",
     "iopub.status.busy": "2021-08-23T18:43:01.654499Z",
     "iopub.status.idle": "2021-08-23T18:43:01.657094Z",
     "shell.execute_reply": "2021-08-23T18:43:01.657493Z"
    },
    "papermill": {
     "duration": 0.047417,
     "end_time": "2021-08-23T18:43:01.657632",
     "exception": false,
     "start_time": "2021-08-23T18:43:01.610215",
     "status": "completed"
    },
    "tags": []
   },
   "outputs": [],
   "source": [
    "def train_model(model, train_generator, test_generator, num_epochs, optimizer, class_weights):\n",
    "    model.compile(loss='categorical_crossentropy', \n",
    "                  optimizer=optimizer, \n",
    "                  metrics=['accuracy'])\n",
    "    early_stop = tf.keras.callbacks.EarlyStopping(monitor='val_acc', min_delta=0, patience=5, verbose=1, mode='auto')\n",
    "    rlr = tf.keras.callbacks.ReduceLROnPlateau(monitor='val_loss', factor=0.1, patience=6, verbose=1, min_lr=1e-8, mode='auto')\n",
    "    model.summary()\n",
    "    \n",
    "    # Train using .fit\n",
    "    history = model.fit(train_generator, epochs=num_epochs, \n",
    "                        validation_data=test_generator, class_weight = class_weights, steps_per_epoch=289, validation_steps=73, verbose=1,\n",
    "                        callbacks = [early_stop, rlr])\n",
    "    \n",
    "    return model, history"
   ]
  },
  {
   "cell_type": "markdown",
   "metadata": {
    "papermill": {
     "duration": 0.040779,
     "end_time": "2021-08-23T18:43:01.736435",
     "exception": false,
     "start_time": "2021-08-23T18:43:01.695656",
     "status": "completed"
    },
    "tags": []
   },
   "source": [
    "# Model Evaluation\n",
    "## Plotting Curves - Loss, Accuracy, ROC + Confusion Matrix"
   ]
  },
  {
   "cell_type": "code",
   "execution_count": 16,
   "metadata": {
    "execution": {
     "iopub.execute_input": "2021-08-23T18:43:01.866944Z",
     "iopub.status.busy": "2021-08-23T18:43:01.865869Z",
     "iopub.status.idle": "2021-08-23T18:43:01.885470Z",
     "shell.execute_reply": "2021-08-23T18:43:01.886648Z"
    },
    "papermill": {
     "duration": 0.091489,
     "end_time": "2021-08-23T18:43:01.886875",
     "exception": false,
     "start_time": "2021-08-23T18:43:01.795386",
     "status": "completed"
    },
    "tags": []
   },
   "outputs": [],
   "source": [
    "def plot_loss(history):\n",
    "    plt.plot(history.history['loss'])\n",
    "    plt.plot(history.history['val_loss'])\n",
    "    plt.title('model loss')\n",
    "    plt.ylabel('loss')\n",
    "    plt.xlabel('epoch')\n",
    "    plt.legend(['train', 'val'], loc='upper left')\n",
    "    \n",
    "def plot_acc(history):\n",
    "    plt.plot(history.history['accuracy'])\n",
    "    plt.plot(history.history['val_accuracy'])\n",
    "    plt.title('model accuracy')\n",
    "    plt.ylabel('accuracy')\n",
    "    plt.xlabel('epoch')\n",
    "    plt.legend(['train', 'val'], loc='upper left')\n",
    "    \n",
    "# It prints & plots the confusion matrix, normalization can be applied by setting normalize=True.\n",
    "    \n",
    "def plot_confusion_matrix(cm, classes,normalize=False,title='Confusion matrix',cmap=plt.cm.Blues):\n",
    "\n",
    "    plt.figure(figsize = (5,5))\n",
    "    plt.imshow(cm, interpolation='nearest', cmap=cmap)\n",
    "    plt.title(title)\n",
    "    plt.colorbar()\n",
    "    tick_marks = np.arange(len(classes))\n",
    "    plt.xticks(tick_marks, classes, rotation=90)\n",
    "    plt.yticks(tick_marks, classes)\n",
    "    if normalize:\n",
    "        cm = cm.astype('float') / cm.sum(axis=1)[:, np.newaxis]\n",
    "\n",
    "    thresh = cm.max() / 2.\n",
    "    for i, j in itertools.product(range(cm.shape[0]), range(cm.shape[1])):\n",
    "        plt.text(j, i, cm[i, j],\n",
    "                 horizontalalignment=\"center\",\n",
    "                 color=\"white\" if cm[i, j] > thresh else \"black\")\n",
    "    plt.tight_layout()\n",
    "    plt.ylabel('True label')\n",
    "    plt.xlabel('Predicted label')\n",
    "\n",
    "def plot_roc_curves(y_true, y_pred, num_classes, class_labels):\n",
    "    \n",
    "    lb = LabelBinarizer()\n",
    "    lb.fit(y_true)\n",
    "    y_test = lb.transform(y_true)\n",
    "\n",
    "    # Compute ROC curve and ROC area for each class\n",
    "    fpr = dict()\n",
    "    tpr = dict()\n",
    "    roc_auc = dict()\n",
    "    for i in range(num_classes):\n",
    "        fpr[i], tpr[i], _ = roc_curve(y_test[:, i], y_pred[:, i])\n",
    "        roc_auc[i] = auc(fpr[i], tpr[i])\n",
    "\n",
    "    # Plot all ROC curves\n",
    "    for i in range(num_classes):\n",
    "        fig, c_ax = plt.subplots(1,1, figsize = (6, 4))\n",
    "        c_ax.plot(fpr[i], tpr[i],\n",
    "                 label='ROC curve of class {0} (area = {1:0.4f})'\n",
    "                 ''.format(class_labels[i], roc_auc[i]))\n",
    "        c_ax.set_xlabel('False Positive Rate')\n",
    "        c_ax.set_ylabel('True Positive Rate')\n",
    "        c_ax.set_title('ROC curve of class {0}'.format(class_labels[i]))\n",
    "        c_ax.legend(loc=\"lower right\")\n",
    "        plt.show()\n",
    "    return roc_auc_score(y_test, y_pred)"
   ]
  },
  {
   "cell_type": "code",
   "execution_count": 17,
   "metadata": {
    "execution": {
     "iopub.execute_input": "2021-08-23T18:43:02.044216Z",
     "iopub.status.busy": "2021-08-23T18:43:02.043423Z",
     "iopub.status.idle": "2021-08-23T18:43:02.047375Z",
     "shell.execute_reply": "2021-08-23T18:43:02.048622Z"
    },
    "papermill": {
     "duration": 0.08282,
     "end_time": "2021-08-23T18:43:02.048817",
     "exception": false,
     "start_time": "2021-08-23T18:43:01.965997",
     "status": "completed"
    },
    "tags": []
   },
   "outputs": [],
   "source": [
    "def evaluate_model(model, history, test_generator):\n",
    "    # Evaluate model\n",
    "    score = model.evaluate(test_generator, verbose=0)\n",
    "    print('\\nTest set accuracy:', score[1], '\\n')\n",
    "    \n",
    "    y_true = np.array(test_generator.labels)\n",
    "    y_pred = model.predict(test_generator, verbose = 1)\n",
    "    y_pred_classes = np.argmax(y_pred,axis = 1)\n",
    "    class_labels = list(test_generator.class_indices.keys())   \n",
    "    \n",
    "    print('\\n', sklearn.metrics.classification_report(y_true, y_pred_classes, target_names=class_labels), sep='')\n",
    "    confusion_mtx = confusion_matrix(y_true, y_pred_classes)\n",
    "    plot_acc(history)\n",
    "    plt.show()\n",
    "    plot_loss(history)\n",
    "    plt.show()\n",
    "    plot_confusion_matrix(confusion_mtx, classes = class_labels)\n",
    "    plt.show()\n",
    "    print(\"ROS AUC score:\", plot_roc_curves(y_true, y_pred,3, class_labels))"
   ]
  },
  {
   "cell_type": "markdown",
   "metadata": {
    "papermill": {
     "duration": 0.058546,
     "end_time": "2021-08-23T18:43:02.166726",
     "exception": false,
     "start_time": "2021-08-23T18:43:02.108180",
     "status": "completed"
    },
    "tags": []
   },
   "source": [
    "# Transfer Learning using OpticNet"
   ]
  },
  {
   "cell_type": "markdown",
   "metadata": {
    "papermill": {
     "duration": 0.057025,
     "end_time": "2021-08-23T18:43:02.282837",
     "exception": false,
     "start_time": "2021-08-23T18:43:02.225812",
     "status": "completed"
    },
    "tags": []
   },
   "source": [
    "Compilation"
   ]
  },
  {
   "cell_type": "code",
   "execution_count": 18,
   "metadata": {
    "execution": {
     "iopub.execute_input": "2021-08-23T18:43:02.361911Z",
     "iopub.status.busy": "2021-08-23T18:43:02.361372Z",
     "iopub.status.idle": "2021-08-23T18:43:05.809114Z",
     "shell.execute_reply": "2021-08-23T18:43:05.808653Z"
    },
    "papermill": {
     "duration": 3.48756,
     "end_time": "2021-08-23T18:43:05.809270",
     "exception": false,
     "start_time": "2021-08-23T18:43:02.321710",
     "status": "completed"
    },
    "tags": []
   },
   "outputs": [],
   "source": [
    "opticnet_model = OpticNet(224,3)"
   ]
  },
  {
   "cell_type": "markdown",
   "metadata": {
    "papermill": {
     "duration": 0.035759,
     "end_time": "2021-08-23T18:43:05.882439",
     "exception": false,
     "start_time": "2021-08-23T18:43:05.846680",
     "status": "completed"
    },
    "tags": []
   },
   "source": [
    "Training"
   ]
  },
  {
   "cell_type": "code",
   "execution_count": 19,
   "metadata": {
    "execution": {
     "iopub.execute_input": "2021-08-23T18:43:05.971009Z",
     "iopub.status.busy": "2021-08-23T18:43:05.970148Z",
     "iopub.status.idle": "2021-08-23T19:26:37.883860Z",
     "shell.execute_reply": "2021-08-23T19:26:37.884562Z"
    },
    "papermill": {
     "duration": 2611.965541,
     "end_time": "2021-08-23T19:26:37.884755",
     "exception": false,
     "start_time": "2021-08-23T18:43:05.919214",
     "status": "completed"
    },
    "tags": []
   },
   "outputs": [
    {
     "name": "stdout",
     "output_type": "stream",
     "text": [
      "Model: \"model\"\n",
      "__________________________________________________________________________________________________\n",
      "Layer (type)                    Output Shape         Param #     Connected to                     \n",
      "==================================================================================================\n",
      "input_1 (InputLayer)            [(None, 224, 224, 3) 0                                            \n",
      "__________________________________________________________________________________________________\n",
      "CONV1 (Conv2D)                  (None, 112, 112, 64) 9472        input_1[0][0]                    \n",
      "__________________________________________________________________________________________________\n",
      "BN1 (BatchNormalization)        (None, 112, 112, 64) 256         CONV1[0][0]                      \n",
      "__________________________________________________________________________________________________\n",
      "RELU1 (Activation)              (None, 112, 112, 64) 0           BN1[0][0]                        \n",
      "__________________________________________________________________________________________________\n",
      "RC0/branch1/bn_1 (BatchNormaliz (None, 112, 112, 64) 256         RELU1[0][0]                      \n",
      "__________________________________________________________________________________________________\n",
      "RC0/branch1/relu_1 (Activation) (None, 112, 112, 64) 0           RC0/branch1/bn_1[0][0]           \n",
      "__________________________________________________________________________________________________\n",
      "RC0/branch1/conv_1 (Conv2D)     (None, 112, 112, 64) 4160        RC0/branch1/relu_1[0][0]         \n",
      "__________________________________________________________________________________________________\n",
      "RC0/branch1/bn_2 (BatchNormaliz (None, 112, 112, 64) 256         RC0/branch1/conv_1[0][0]         \n",
      "__________________________________________________________________________________________________\n",
      "RC0/branch1/relu_2 (Activation) (None, 112, 112, 64) 0           RC0/branch1/bn_2[0][0]           \n",
      "__________________________________________________________________________________________________\n",
      "RC0/branch1/conv_2 (Conv2D)     (None, 112, 112, 64) 16448       RC0/branch1/relu_2[0][0]         \n",
      "__________________________________________________________________________________________________\n",
      "RC0/branch1/bn_3 (BatchNormaliz (None, 112, 112, 64) 256         RC0/branch1/conv_2[0][0]         \n",
      "__________________________________________________________________________________________________\n",
      "RC0/branch2/bn_1 (BatchNormaliz (None, 112, 112, 64) 256         RELU1[0][0]                      \n",
      "__________________________________________________________________________________________________\n",
      "RC0/branch1/relu_3 (Activation) (None, 112, 112, 64) 0           RC0/branch1/bn_3[0][0]           \n",
      "__________________________________________________________________________________________________\n",
      "RC0/branch2/relu_1 (Activation) (None, 112, 112, 64) 0           RC0/branch2/bn_1[0][0]           \n",
      "__________________________________________________________________________________________________\n",
      "RC0/branch1/conv_3 (Conv2D)     (None, 112, 112, 256 16640       RC0/branch1/relu_3[0][0]         \n",
      "__________________________________________________________________________________________________\n",
      "RC0/branch2/conv_1 (Conv2D)     (None, 112, 112, 256 16640       RC0/branch2/relu_1[0][0]         \n",
      "__________________________________________________________________________________________________\n",
      "RC0/Add (Add)                   (None, 112, 112, 256 0           RC0/branch1/conv_3[0][0]         \n",
      "                                                                 RC0/branch2/conv_1[0][0]         \n",
      "__________________________________________________________________________________________________\n",
      "RDBI1/id_1/branch1/bn_1 (BatchN (None, 112, 112, 256 1024        RC0/Add[0][0]                    \n",
      "__________________________________________________________________________________________________\n",
      "RDBI1/id_1/branch1/relu_1 (Acti (None, 112, 112, 256 0           RDBI1/id_1/branch1/bn_1[0][0]    \n",
      "__________________________________________________________________________________________________\n",
      "RDBI1/id_1/branch1/conv_1 (Conv (None, 112, 112, 32) 8224        RDBI1/id_1/branch1/relu_1[0][0]  \n",
      "__________________________________________________________________________________________________\n",
      "RDBI1/id_1/branch1/ConvBn_2 (Ba (None, 112, 112, 32) 128         RDBI1/id_1/branch1/conv_1[0][0]  \n",
      "__________________________________________________________________________________________________\n",
      "RDBI1/id_1/branch1/SepBn_2 (Bat (None, 112, 112, 32) 128         RDBI1/id_1/branch1/conv_1[0][0]  \n",
      "__________________________________________________________________________________________________\n",
      "RDBI1/id_1/branch1/ConvRelu_2 ( (None, 112, 112, 32) 0           RDBI1/id_1/branch1/ConvBn_2[0][0]\n",
      "__________________________________________________________________________________________________\n",
      "RDBI1/id_1/branch1/SepRelu_2 (A (None, 112, 112, 32) 0           RDBI1/id_1/branch1/SepBn_2[0][0] \n",
      "__________________________________________________________________________________________________\n",
      "RDBI1/id_1/branch1/Conv_2 (Conv (None, 112, 112, 32) 4128        RDBI1/id_1/branch1/ConvRelu_2[0][\n",
      "__________________________________________________________________________________________________\n",
      "RDBI1/id_1/branch1/SepConv_2 (S (None, 112, 112, 32) 1184        RDBI1/id_1/branch1/SepRelu_2[0][0\n",
      "__________________________________________________________________________________________________\n",
      "RDBI1/id_1/Add-2branches (Add)  (None, 112, 112, 32) 0           RDBI1/id_1/branch1/Conv_2[0][0]  \n",
      "                                                                 RDBI1/id_1/branch1/SepConv_2[0][0\n",
      "__________________________________________________________________________________________________\n",
      "RDBI1/id_1/branch1/bn_3 (BatchN (None, 112, 112, 32) 128         RDBI1/id_1/Add-2branches[0][0]   \n",
      "__________________________________________________________________________________________________\n",
      "RDBI1/id_1/branch1/relu_3 (Acti (None, 112, 112, 32) 0           RDBI1/id_1/branch1/bn_3[0][0]    \n",
      "__________________________________________________________________________________________________\n",
      "RDBI1/id_1/branch1/conv_3 (Conv (None, 112, 112, 256 8448        RDBI1/id_1/branch1/relu_3[0][0]  \n",
      "__________________________________________________________________________________________________\n",
      "RDBI1/id_1/Add (Add)            (None, 112, 112, 256 0           RC0/Add[0][0]                    \n",
      "                                                                 RDBI1/id_1/branch1/conv_3[0][0]  \n",
      "__________________________________________________________________________________________________\n",
      "RDBI1/id_2/branch1/bn_1 (BatchN (None, 112, 112, 256 1024        RDBI1/id_1/Add[0][0]             \n",
      "__________________________________________________________________________________________________\n",
      "RDBI1/id_2/branch1/relu_1 (Acti (None, 112, 112, 256 0           RDBI1/id_2/branch1/bn_1[0][0]    \n",
      "__________________________________________________________________________________________________\n",
      "RDBI1/id_2/branch1/conv_1 (Conv (None, 112, 112, 32) 8224        RDBI1/id_2/branch1/relu_1[0][0]  \n",
      "__________________________________________________________________________________________________\n",
      "RDBI1/id_2/branch1/ConvBn_2 (Ba (None, 112, 112, 32) 128         RDBI1/id_2/branch1/conv_1[0][0]  \n",
      "__________________________________________________________________________________________________\n",
      "RDBI1/id_2/branch1/SepBn_2 (Bat (None, 112, 112, 32) 128         RDBI1/id_2/branch1/conv_1[0][0]  \n",
      "__________________________________________________________________________________________________\n",
      "RDBI1/id_2/branch1/ConvRelu_2 ( (None, 112, 112, 32) 0           RDBI1/id_2/branch1/ConvBn_2[0][0]\n",
      "__________________________________________________________________________________________________\n",
      "RDBI1/id_2/branch1/SepRelu_2 (A (None, 112, 112, 32) 0           RDBI1/id_2/branch1/SepBn_2[0][0] \n",
      "__________________________________________________________________________________________________\n",
      "RDBI1/id_2/branch1/Conv_2 (Conv (None, 112, 112, 32) 4128        RDBI1/id_2/branch1/ConvRelu_2[0][\n",
      "__________________________________________________________________________________________________\n",
      "RDBI1/id_2/branch1/SepConv_2 (S (None, 112, 112, 32) 1184        RDBI1/id_2/branch1/SepRelu_2[0][0\n",
      "__________________________________________________________________________________________________\n",
      "RDBI1/id_2/Add-2branches (Add)  (None, 112, 112, 32) 0           RDBI1/id_2/branch1/Conv_2[0][0]  \n",
      "                                                                 RDBI1/id_2/branch1/SepConv_2[0][0\n",
      "__________________________________________________________________________________________________\n",
      "RDBI1/id_2/branch1/bn_3 (BatchN (None, 112, 112, 32) 128         RDBI1/id_2/Add-2branches[0][0]   \n",
      "__________________________________________________________________________________________________\n",
      "RDBI1/id_2/branch1/relu_3 (Acti (None, 112, 112, 32) 0           RDBI1/id_2/branch1/bn_3[0][0]    \n",
      "__________________________________________________________________________________________________\n",
      "RDBI1/id_2/branch1/conv_3 (Conv (None, 112, 112, 256 8448        RDBI1/id_2/branch1/relu_3[0][0]  \n",
      "__________________________________________________________________________________________________\n",
      "RDBI1/id_2/Add (Add)            (None, 112, 112, 256 0           RDBI1/id_1/Add[0][0]             \n",
      "                                                                 RDBI1/id_2/branch1/conv_3[0][0]  \n",
      "__________________________________________________________________________________________________\n",
      "RDBI1/id_3/branch1/bn_1 (BatchN (None, 112, 112, 256 1024        RDBI1/id_2/Add[0][0]             \n",
      "__________________________________________________________________________________________________\n",
      "RDBI1/id_3/branch1/relu_1 (Acti (None, 112, 112, 256 0           RDBI1/id_3/branch1/bn_1[0][0]    \n",
      "__________________________________________________________________________________________________\n",
      "RDBI1/id_3/branch1/conv_1 (Conv (None, 112, 112, 32) 8224        RDBI1/id_3/branch1/relu_1[0][0]  \n",
      "__________________________________________________________________________________________________\n",
      "RDBI1/id_3/branch1/ConvBn_2 (Ba (None, 112, 112, 32) 128         RDBI1/id_3/branch1/conv_1[0][0]  \n",
      "__________________________________________________________________________________________________\n",
      "RDBI1/id_3/branch1/SepBn_2 (Bat (None, 112, 112, 32) 128         RDBI1/id_3/branch1/conv_1[0][0]  \n",
      "__________________________________________________________________________________________________\n",
      "RDBI1/id_3/branch1/ConvRelu_2 ( (None, 112, 112, 32) 0           RDBI1/id_3/branch1/ConvBn_2[0][0]\n",
      "__________________________________________________________________________________________________\n",
      "RDBI1/id_3/branch1/SepRelu_2 (A (None, 112, 112, 32) 0           RDBI1/id_3/branch1/SepBn_2[0][0] \n",
      "__________________________________________________________________________________________________\n",
      "RDBI1/id_3/branch1/Conv_2 (Conv (None, 112, 112, 32) 4128        RDBI1/id_3/branch1/ConvRelu_2[0][\n",
      "__________________________________________________________________________________________________\n",
      "RDBI1/id_3/branch1/SepConv_2 (S (None, 112, 112, 32) 1184        RDBI1/id_3/branch1/SepRelu_2[0][0\n",
      "__________________________________________________________________________________________________\n",
      "RDBI1/id_3/Add-2branches (Add)  (None, 112, 112, 32) 0           RDBI1/id_3/branch1/Conv_2[0][0]  \n",
      "                                                                 RDBI1/id_3/branch1/SepConv_2[0][0\n",
      "__________________________________________________________________________________________________\n",
      "RDBI1/id_3/branch1/bn_3 (BatchN (None, 112, 112, 32) 128         RDBI1/id_3/Add-2branches[0][0]   \n",
      "__________________________________________________________________________________________________\n",
      "RDBI1/id_3/branch1/relu_3 (Acti (None, 112, 112, 32) 0           RDBI1/id_3/branch1/bn_3[0][0]    \n",
      "__________________________________________________________________________________________________\n",
      "RDBI1/id_3/branch1/conv_3 (Conv (None, 112, 112, 256 8448        RDBI1/id_3/branch1/relu_3[0][0]  \n",
      "__________________________________________________________________________________________________\n",
      "RDBI1/id_3/Add (Add)            (None, 112, 112, 256 0           RDBI1/id_2/Add[0][0]             \n",
      "                                                                 RDBI1/id_3/branch1/conv_3[0][0]  \n",
      "__________________________________________________________________________________________________\n",
      "RDBI1/id_4/branch1/bn_1 (BatchN (None, 112, 112, 256 1024        RDBI1/id_3/Add[0][0]             \n",
      "__________________________________________________________________________________________________\n",
      "RDBI1/id_4/branch1/relu_1 (Acti (None, 112, 112, 256 0           RDBI1/id_4/branch1/bn_1[0][0]    \n",
      "__________________________________________________________________________________________________\n",
      "RDBI1/id_4/branch1/conv_1 (Conv (None, 112, 112, 32) 8224        RDBI1/id_4/branch1/relu_1[0][0]  \n",
      "__________________________________________________________________________________________________\n",
      "RDBI1/id_4/branch1/ConvBn_2 (Ba (None, 112, 112, 32) 128         RDBI1/id_4/branch1/conv_1[0][0]  \n",
      "__________________________________________________________________________________________________\n",
      "RDBI1/id_4/branch1/SepBn_2 (Bat (None, 112, 112, 32) 128         RDBI1/id_4/branch1/conv_1[0][0]  \n",
      "__________________________________________________________________________________________________\n",
      "RDBI1/id_4/branch1/ConvRelu_2 ( (None, 112, 112, 32) 0           RDBI1/id_4/branch1/ConvBn_2[0][0]\n",
      "__________________________________________________________________________________________________\n",
      "RDBI1/id_4/branch1/SepRelu_2 (A (None, 112, 112, 32) 0           RDBI1/id_4/branch1/SepBn_2[0][0] \n",
      "__________________________________________________________________________________________________\n",
      "RDBI1/id_4/branch1/Conv_2 (Conv (None, 112, 112, 32) 4128        RDBI1/id_4/branch1/ConvRelu_2[0][\n",
      "__________________________________________________________________________________________________\n",
      "RDBI1/id_4/branch1/SepConv_2 (S (None, 112, 112, 32) 1184        RDBI1/id_4/branch1/SepRelu_2[0][0\n",
      "__________________________________________________________________________________________________\n",
      "RDBI1/id_4/Add-2branches (Add)  (None, 112, 112, 32) 0           RDBI1/id_4/branch1/Conv_2[0][0]  \n",
      "                                                                 RDBI1/id_4/branch1/SepConv_2[0][0\n",
      "__________________________________________________________________________________________________\n",
      "RDBI1/id_4/branch1/bn_3 (BatchN (None, 112, 112, 32) 128         RDBI1/id_4/Add-2branches[0][0]   \n",
      "__________________________________________________________________________________________________\n",
      "EncoderDecoder1/Downsample1 (Ma (None, 56, 56, 256)  0           RC0/Add[0][0]                    \n",
      "__________________________________________________________________________________________________\n",
      "RDBI1/id_4/branch1/relu_3 (Acti (None, 112, 112, 32) 0           RDBI1/id_4/branch1/bn_3[0][0]    \n",
      "__________________________________________________________________________________________________\n",
      "EncoderDecoder1/Upsample1 (UpSa (None, 112, 112, 256 0           EncoderDecoder1/Downsample1[0][0]\n",
      "__________________________________________________________________________________________________\n",
      "RDBI1/id_4/branch1/conv_3 (Conv (None, 112, 112, 256 8448        RDBI1/id_4/branch1/relu_3[0][0]  \n",
      "__________________________________________________________________________________________________\n",
      "EncoderDecoder1/Activate (Activ (None, 112, 112, 256 0           EncoderDecoder1/Upsample1[0][0]  \n",
      "__________________________________________________________________________________________________\n",
      "RDBI1/id_4/Add (Add)            (None, 112, 112, 256 0           RDBI1/id_3/Add[0][0]             \n",
      "                                                                 RDBI1/id_4/branch1/conv_3[0][0]  \n",
      "__________________________________________________________________________________________________\n",
      "Mutiply1 (Multiply)             (None, 112, 112, 256 0           EncoderDecoder1/Activate[0][0]   \n",
      "                                                                 RDBI1/id_4/Add[0][0]             \n",
      "__________________________________________________________________________________________________\n",
      "Add1 (Add)                      (None, 112, 112, 256 0           Mutiply1[0][0]                   \n",
      "                                                                 EncoderDecoder1/Activate[0][0]   \n",
      "                                                                 RDBI1/id_4/Add[0][0]             \n",
      "__________________________________________________________________________________________________\n",
      "RC1/branch1/bn_1 (BatchNormaliz (None, 112, 112, 256 1024        Add1[0][0]                       \n",
      "__________________________________________________________________________________________________\n",
      "RC1/branch1/relu_1 (Activation) (None, 112, 112, 256 0           RC1/branch1/bn_1[0][0]           \n",
      "__________________________________________________________________________________________________\n",
      "RC1/branch1/conv_1 (Conv2D)     (None, 112, 112, 128 32896       RC1/branch1/relu_1[0][0]         \n",
      "__________________________________________________________________________________________________\n",
      "RC1/branch1/bn_2 (BatchNormaliz (None, 112, 112, 128 512         RC1/branch1/conv_1[0][0]         \n",
      "__________________________________________________________________________________________________\n",
      "RC1/branch1/relu_2 (Activation) (None, 112, 112, 128 0           RC1/branch1/bn_2[0][0]           \n",
      "__________________________________________________________________________________________________\n",
      "RC1/branch1/conv_2 (Conv2D)     (None, 56, 56, 128)  65664       RC1/branch1/relu_2[0][0]         \n",
      "__________________________________________________________________________________________________\n",
      "RC1/branch1/bn_3 (BatchNormaliz (None, 56, 56, 128)  512         RC1/branch1/conv_2[0][0]         \n",
      "__________________________________________________________________________________________________\n",
      "RC1/branch2/bn_1 (BatchNormaliz (None, 112, 112, 256 1024        Add1[0][0]                       \n",
      "__________________________________________________________________________________________________\n",
      "RC1/branch1/relu_3 (Activation) (None, 56, 56, 128)  0           RC1/branch1/bn_3[0][0]           \n",
      "__________________________________________________________________________________________________\n",
      "RC1/branch2/relu_1 (Activation) (None, 112, 112, 256 0           RC1/branch2/bn_1[0][0]           \n",
      "__________________________________________________________________________________________________\n",
      "RC1/branch1/conv_3 (Conv2D)     (None, 56, 56, 512)  66048       RC1/branch1/relu_3[0][0]         \n",
      "__________________________________________________________________________________________________\n",
      "RC1/branch2/conv_1 (Conv2D)     (None, 56, 56, 512)  131584      RC1/branch2/relu_1[0][0]         \n",
      "__________________________________________________________________________________________________\n",
      "RC1/Add (Add)                   (None, 56, 56, 512)  0           RC1/branch1/conv_3[0][0]         \n",
      "                                                                 RC1/branch2/conv_1[0][0]         \n",
      "__________________________________________________________________________________________________\n",
      "RDBI2/id_1/branch1/bn_1 (BatchN (None, 56, 56, 512)  2048        RC1/Add[0][0]                    \n",
      "__________________________________________________________________________________________________\n",
      "RDBI2/id_1/branch1/relu_1 (Acti (None, 56, 56, 512)  0           RDBI2/id_1/branch1/bn_1[0][0]    \n",
      "__________________________________________________________________________________________________\n",
      "RDBI2/id_1/branch1/conv_1 (Conv (None, 56, 56, 64)   32832       RDBI2/id_1/branch1/relu_1[0][0]  \n",
      "__________________________________________________________________________________________________\n",
      "RDBI2/id_1/branch1/ConvBn_2 (Ba (None, 56, 56, 64)   256         RDBI2/id_1/branch1/conv_1[0][0]  \n",
      "__________________________________________________________________________________________________\n",
      "RDBI2/id_1/branch1/SepBn_2 (Bat (None, 56, 56, 64)   256         RDBI2/id_1/branch1/conv_1[0][0]  \n",
      "__________________________________________________________________________________________________\n",
      "RDBI2/id_1/branch1/ConvRelu_2 ( (None, 56, 56, 64)   0           RDBI2/id_1/branch1/ConvBn_2[0][0]\n",
      "__________________________________________________________________________________________________\n",
      "RDBI2/id_1/branch1/SepRelu_2 (A (None, 56, 56, 64)   0           RDBI2/id_1/branch1/SepBn_2[0][0] \n",
      "__________________________________________________________________________________________________\n",
      "RDBI2/id_1/branch1/Conv_2 (Conv (None, 56, 56, 64)   16448       RDBI2/id_1/branch1/ConvRelu_2[0][\n",
      "__________________________________________________________________________________________________\n",
      "RDBI2/id_1/branch1/SepConv_2 (S (None, 56, 56, 64)   4416        RDBI2/id_1/branch1/SepRelu_2[0][0\n",
      "__________________________________________________________________________________________________\n",
      "RDBI2/id_1/Add-2branches (Add)  (None, 56, 56, 64)   0           RDBI2/id_1/branch1/Conv_2[0][0]  \n",
      "                                                                 RDBI2/id_1/branch1/SepConv_2[0][0\n",
      "__________________________________________________________________________________________________\n",
      "RDBI2/id_1/branch1/bn_3 (BatchN (None, 56, 56, 64)   256         RDBI2/id_1/Add-2branches[0][0]   \n",
      "__________________________________________________________________________________________________\n",
      "RDBI2/id_1/branch1/relu_3 (Acti (None, 56, 56, 64)   0           RDBI2/id_1/branch1/bn_3[0][0]    \n",
      "__________________________________________________________________________________________________\n",
      "RDBI2/id_1/branch1/conv_3 (Conv (None, 56, 56, 512)  33280       RDBI2/id_1/branch1/relu_3[0][0]  \n",
      "__________________________________________________________________________________________________\n",
      "RDBI2/id_1/Add (Add)            (None, 56, 56, 512)  0           RC1/Add[0][0]                    \n",
      "                                                                 RDBI2/id_1/branch1/conv_3[0][0]  \n",
      "__________________________________________________________________________________________________\n",
      "RDBI2/id_2/branch1/bn_1 (BatchN (None, 56, 56, 512)  2048        RDBI2/id_1/Add[0][0]             \n",
      "__________________________________________________________________________________________________\n",
      "RDBI2/id_2/branch1/relu_1 (Acti (None, 56, 56, 512)  0           RDBI2/id_2/branch1/bn_1[0][0]    \n",
      "__________________________________________________________________________________________________\n",
      "RDBI2/id_2/branch1/conv_1 (Conv (None, 56, 56, 64)   32832       RDBI2/id_2/branch1/relu_1[0][0]  \n",
      "__________________________________________________________________________________________________\n",
      "RDBI2/id_2/branch1/ConvBn_2 (Ba (None, 56, 56, 64)   256         RDBI2/id_2/branch1/conv_1[0][0]  \n",
      "__________________________________________________________________________________________________\n",
      "RDBI2/id_2/branch1/SepBn_2 (Bat (None, 56, 56, 64)   256         RDBI2/id_2/branch1/conv_1[0][0]  \n",
      "__________________________________________________________________________________________________\n",
      "RDBI2/id_2/branch1/ConvRelu_2 ( (None, 56, 56, 64)   0           RDBI2/id_2/branch1/ConvBn_2[0][0]\n",
      "__________________________________________________________________________________________________\n",
      "RDBI2/id_2/branch1/SepRelu_2 (A (None, 56, 56, 64)   0           RDBI2/id_2/branch1/SepBn_2[0][0] \n",
      "__________________________________________________________________________________________________\n",
      "RDBI2/id_2/branch1/Conv_2 (Conv (None, 56, 56, 64)   16448       RDBI2/id_2/branch1/ConvRelu_2[0][\n",
      "__________________________________________________________________________________________________\n",
      "RDBI2/id_2/branch1/SepConv_2 (S (None, 56, 56, 64)   4416        RDBI2/id_2/branch1/SepRelu_2[0][0\n",
      "__________________________________________________________________________________________________\n",
      "RDBI2/id_2/Add-2branches (Add)  (None, 56, 56, 64)   0           RDBI2/id_2/branch1/Conv_2[0][0]  \n",
      "                                                                 RDBI2/id_2/branch1/SepConv_2[0][0\n",
      "__________________________________________________________________________________________________\n",
      "RDBI2/id_2/branch1/bn_3 (BatchN (None, 56, 56, 64)   256         RDBI2/id_2/Add-2branches[0][0]   \n",
      "__________________________________________________________________________________________________\n",
      "RDBI2/id_2/branch1/relu_3 (Acti (None, 56, 56, 64)   0           RDBI2/id_2/branch1/bn_3[0][0]    \n",
      "__________________________________________________________________________________________________\n",
      "RDBI2/id_2/branch1/conv_3 (Conv (None, 56, 56, 512)  33280       RDBI2/id_2/branch1/relu_3[0][0]  \n",
      "__________________________________________________________________________________________________\n",
      "RDBI2/id_2/Add (Add)            (None, 56, 56, 512)  0           RDBI2/id_1/Add[0][0]             \n",
      "                                                                 RDBI2/id_2/branch1/conv_3[0][0]  \n",
      "__________________________________________________________________________________________________\n",
      "RDBI2/id_3/branch1/bn_1 (BatchN (None, 56, 56, 512)  2048        RDBI2/id_2/Add[0][0]             \n",
      "__________________________________________________________________________________________________\n",
      "RDBI2/id_3/branch1/relu_1 (Acti (None, 56, 56, 512)  0           RDBI2/id_3/branch1/bn_1[0][0]    \n",
      "__________________________________________________________________________________________________\n",
      "RDBI2/id_3/branch1/conv_1 (Conv (None, 56, 56, 64)   32832       RDBI2/id_3/branch1/relu_1[0][0]  \n",
      "__________________________________________________________________________________________________\n",
      "RDBI2/id_3/branch1/ConvBn_2 (Ba (None, 56, 56, 64)   256         RDBI2/id_3/branch1/conv_1[0][0]  \n",
      "__________________________________________________________________________________________________\n",
      "RDBI2/id_3/branch1/SepBn_2 (Bat (None, 56, 56, 64)   256         RDBI2/id_3/branch1/conv_1[0][0]  \n",
      "__________________________________________________________________________________________________\n",
      "RDBI2/id_3/branch1/ConvRelu_2 ( (None, 56, 56, 64)   0           RDBI2/id_3/branch1/ConvBn_2[0][0]\n",
      "__________________________________________________________________________________________________\n",
      "RDBI2/id_3/branch1/SepRelu_2 (A (None, 56, 56, 64)   0           RDBI2/id_3/branch1/SepBn_2[0][0] \n",
      "__________________________________________________________________________________________________\n",
      "RDBI2/id_3/branch1/Conv_2 (Conv (None, 56, 56, 64)   16448       RDBI2/id_3/branch1/ConvRelu_2[0][\n",
      "__________________________________________________________________________________________________\n",
      "RDBI2/id_3/branch1/SepConv_2 (S (None, 56, 56, 64)   4416        RDBI2/id_3/branch1/SepRelu_2[0][0\n",
      "__________________________________________________________________________________________________\n",
      "RDBI2/id_3/Add-2branches (Add)  (None, 56, 56, 64)   0           RDBI2/id_3/branch1/Conv_2[0][0]  \n",
      "                                                                 RDBI2/id_3/branch1/SepConv_2[0][0\n",
      "__________________________________________________________________________________________________\n",
      "RDBI2/id_3/branch1/bn_3 (BatchN (None, 56, 56, 64)   256         RDBI2/id_3/Add-2branches[0][0]   \n",
      "__________________________________________________________________________________________________\n",
      "RDBI2/id_3/branch1/relu_3 (Acti (None, 56, 56, 64)   0           RDBI2/id_3/branch1/bn_3[0][0]    \n",
      "__________________________________________________________________________________________________\n",
      "RDBI2/id_3/branch1/conv_3 (Conv (None, 56, 56, 512)  33280       RDBI2/id_3/branch1/relu_3[0][0]  \n",
      "__________________________________________________________________________________________________\n",
      "RDBI2/id_3/Add (Add)            (None, 56, 56, 512)  0           RDBI2/id_2/Add[0][0]             \n",
      "                                                                 RDBI2/id_3/branch1/conv_3[0][0]  \n",
      "__________________________________________________________________________________________________\n",
      "RDBI2/id_4/branch1/bn_1 (BatchN (None, 56, 56, 512)  2048        RDBI2/id_3/Add[0][0]             \n",
      "__________________________________________________________________________________________________\n",
      "RDBI2/id_4/branch1/relu_1 (Acti (None, 56, 56, 512)  0           RDBI2/id_4/branch1/bn_1[0][0]    \n",
      "__________________________________________________________________________________________________\n",
      "RDBI2/id_4/branch1/conv_1 (Conv (None, 56, 56, 64)   32832       RDBI2/id_4/branch1/relu_1[0][0]  \n",
      "__________________________________________________________________________________________________\n",
      "RDBI2/id_4/branch1/ConvBn_2 (Ba (None, 56, 56, 64)   256         RDBI2/id_4/branch1/conv_1[0][0]  \n",
      "__________________________________________________________________________________________________\n",
      "RDBI2/id_4/branch1/SepBn_2 (Bat (None, 56, 56, 64)   256         RDBI2/id_4/branch1/conv_1[0][0]  \n",
      "__________________________________________________________________________________________________\n",
      "RDBI2/id_4/branch1/ConvRelu_2 ( (None, 56, 56, 64)   0           RDBI2/id_4/branch1/ConvBn_2[0][0]\n",
      "__________________________________________________________________________________________________\n",
      "RDBI2/id_4/branch1/SepRelu_2 (A (None, 56, 56, 64)   0           RDBI2/id_4/branch1/SepBn_2[0][0] \n",
      "__________________________________________________________________________________________________\n",
      "RDBI2/id_4/branch1/Conv_2 (Conv (None, 56, 56, 64)   16448       RDBI2/id_4/branch1/ConvRelu_2[0][\n",
      "__________________________________________________________________________________________________\n",
      "RDBI2/id_4/branch1/SepConv_2 (S (None, 56, 56, 64)   4416        RDBI2/id_4/branch1/SepRelu_2[0][0\n",
      "__________________________________________________________________________________________________\n",
      "RDBI2/id_4/Add-2branches (Add)  (None, 56, 56, 64)   0           RDBI2/id_4/branch1/Conv_2[0][0]  \n",
      "                                                                 RDBI2/id_4/branch1/SepConv_2[0][0\n",
      "__________________________________________________________________________________________________\n",
      "RDBI2/id_4/branch1/bn_3 (BatchN (None, 56, 56, 64)   256         RDBI2/id_4/Add-2branches[0][0]   \n",
      "__________________________________________________________________________________________________\n",
      "EncoderDecoder2/Downsample1 (Ma (None, 28, 28, 512)  0           RC1/Add[0][0]                    \n",
      "__________________________________________________________________________________________________\n",
      "RDBI2/id_4/branch1/relu_3 (Acti (None, 56, 56, 64)   0           RDBI2/id_4/branch1/bn_3[0][0]    \n",
      "__________________________________________________________________________________________________\n",
      "EncoderDecoder2/Upsample1 (UpSa (None, 56, 56, 512)  0           EncoderDecoder2/Downsample1[0][0]\n",
      "__________________________________________________________________________________________________\n",
      "RDBI2/id_4/branch1/conv_3 (Conv (None, 56, 56, 512)  33280       RDBI2/id_4/branch1/relu_3[0][0]  \n",
      "__________________________________________________________________________________________________\n",
      "EncoderDecoder2/Activate (Activ (None, 56, 56, 512)  0           EncoderDecoder2/Upsample1[0][0]  \n",
      "__________________________________________________________________________________________________\n",
      "RDBI2/id_4/Add (Add)            (None, 56, 56, 512)  0           RDBI2/id_3/Add[0][0]             \n",
      "                                                                 RDBI2/id_4/branch1/conv_3[0][0]  \n",
      "__________________________________________________________________________________________________\n",
      "Mutiply2 (Multiply)             (None, 56, 56, 512)  0           EncoderDecoder2/Activate[0][0]   \n",
      "                                                                 RDBI2/id_4/Add[0][0]             \n",
      "__________________________________________________________________________________________________\n",
      "Add2 (Add)                      (None, 56, 56, 512)  0           Mutiply2[0][0]                   \n",
      "                                                                 EncoderDecoder2/Activate[0][0]   \n",
      "                                                                 RDBI2/id_4/Add[0][0]             \n",
      "__________________________________________________________________________________________________\n",
      "RC2/branch1/bn_1 (BatchNormaliz (None, 56, 56, 512)  2048        Add2[0][0]                       \n",
      "__________________________________________________________________________________________________\n",
      "RC2/branch1/relu_1 (Activation) (None, 56, 56, 512)  0           RC2/branch1/bn_1[0][0]           \n",
      "__________________________________________________________________________________________________\n",
      "RC2/branch1/conv_1 (Conv2D)     (None, 56, 56, 256)  131328      RC2/branch1/relu_1[0][0]         \n",
      "__________________________________________________________________________________________________\n",
      "RC2/branch1/bn_2 (BatchNormaliz (None, 56, 56, 256)  1024        RC2/branch1/conv_1[0][0]         \n",
      "__________________________________________________________________________________________________\n",
      "RC2/branch1/relu_2 (Activation) (None, 56, 56, 256)  0           RC2/branch1/bn_2[0][0]           \n",
      "__________________________________________________________________________________________________\n",
      "RC2/branch1/conv_2 (Conv2D)     (None, 28, 28, 256)  262400      RC2/branch1/relu_2[0][0]         \n",
      "__________________________________________________________________________________________________\n",
      "RC2/branch1/bn_3 (BatchNormaliz (None, 28, 28, 256)  1024        RC2/branch1/conv_2[0][0]         \n",
      "__________________________________________________________________________________________________\n",
      "RC2/branch2/bn_1 (BatchNormaliz (None, 56, 56, 512)  2048        Add2[0][0]                       \n",
      "__________________________________________________________________________________________________\n",
      "RC2/branch1/relu_3 (Activation) (None, 28, 28, 256)  0           RC2/branch1/bn_3[0][0]           \n",
      "__________________________________________________________________________________________________\n",
      "RC2/branch2/relu_1 (Activation) (None, 56, 56, 512)  0           RC2/branch2/bn_1[0][0]           \n",
      "__________________________________________________________________________________________________\n",
      "RC2/branch1/conv_3 (Conv2D)     (None, 28, 28, 1024) 263168      RC2/branch1/relu_3[0][0]         \n",
      "__________________________________________________________________________________________________\n",
      "RC2/branch2/conv_1 (Conv2D)     (None, 28, 28, 1024) 525312      RC2/branch2/relu_1[0][0]         \n",
      "__________________________________________________________________________________________________\n",
      "RC2/Add (Add)                   (None, 28, 28, 1024) 0           RC2/branch1/conv_3[0][0]         \n",
      "                                                                 RC2/branch2/conv_1[0][0]         \n",
      "__________________________________________________________________________________________________\n",
      "RDBI3/id_1/branch1/bn_1 (BatchN (None, 28, 28, 1024) 4096        RC2/Add[0][0]                    \n",
      "__________________________________________________________________________________________________\n",
      "RDBI3/id_1/branch1/relu_1 (Acti (None, 28, 28, 1024) 0           RDBI3/id_1/branch1/bn_1[0][0]    \n",
      "__________________________________________________________________________________________________\n",
      "RDBI3/id_1/branch1/conv_1 (Conv (None, 28, 28, 128)  131200      RDBI3/id_1/branch1/relu_1[0][0]  \n",
      "__________________________________________________________________________________________________\n",
      "RDBI3/id_1/branch1/ConvBn_2 (Ba (None, 28, 28, 128)  512         RDBI3/id_1/branch1/conv_1[0][0]  \n",
      "__________________________________________________________________________________________________\n",
      "RDBI3/id_1/branch1/SepBn_2 (Bat (None, 28, 28, 128)  512         RDBI3/id_1/branch1/conv_1[0][0]  \n",
      "__________________________________________________________________________________________________\n",
      "RDBI3/id_1/branch1/ConvRelu_2 ( (None, 28, 28, 128)  0           RDBI3/id_1/branch1/ConvBn_2[0][0]\n",
      "__________________________________________________________________________________________________\n",
      "RDBI3/id_1/branch1/SepRelu_2 (A (None, 28, 28, 128)  0           RDBI3/id_1/branch1/SepBn_2[0][0] \n",
      "__________________________________________________________________________________________________\n",
      "RDBI3/id_1/branch1/Conv_2 (Conv (None, 28, 28, 128)  65664       RDBI3/id_1/branch1/ConvRelu_2[0][\n",
      "__________________________________________________________________________________________________\n",
      "RDBI3/id_1/branch1/SepConv_2 (S (None, 28, 28, 128)  17024       RDBI3/id_1/branch1/SepRelu_2[0][0\n",
      "__________________________________________________________________________________________________\n",
      "RDBI3/id_1/Add-2branches (Add)  (None, 28, 28, 128)  0           RDBI3/id_1/branch1/Conv_2[0][0]  \n",
      "                                                                 RDBI3/id_1/branch1/SepConv_2[0][0\n",
      "__________________________________________________________________________________________________\n",
      "RDBI3/id_1/branch1/bn_3 (BatchN (None, 28, 28, 128)  512         RDBI3/id_1/Add-2branches[0][0]   \n",
      "__________________________________________________________________________________________________\n",
      "RDBI3/id_1/branch1/relu_3 (Acti (None, 28, 28, 128)  0           RDBI3/id_1/branch1/bn_3[0][0]    \n",
      "__________________________________________________________________________________________________\n",
      "RDBI3/id_1/branch1/conv_3 (Conv (None, 28, 28, 1024) 132096      RDBI3/id_1/branch1/relu_3[0][0]  \n",
      "__________________________________________________________________________________________________\n",
      "RDBI3/id_1/Add (Add)            (None, 28, 28, 1024) 0           RC2/Add[0][0]                    \n",
      "                                                                 RDBI3/id_1/branch1/conv_3[0][0]  \n",
      "__________________________________________________________________________________________________\n",
      "RDBI3/id_2/branch1/bn_1 (BatchN (None, 28, 28, 1024) 4096        RDBI3/id_1/Add[0][0]             \n",
      "__________________________________________________________________________________________________\n",
      "RDBI3/id_2/branch1/relu_1 (Acti (None, 28, 28, 1024) 0           RDBI3/id_2/branch1/bn_1[0][0]    \n",
      "__________________________________________________________________________________________________\n",
      "RDBI3/id_2/branch1/conv_1 (Conv (None, 28, 28, 128)  131200      RDBI3/id_2/branch1/relu_1[0][0]  \n",
      "__________________________________________________________________________________________________\n",
      "RDBI3/id_2/branch1/ConvBn_2 (Ba (None, 28, 28, 128)  512         RDBI3/id_2/branch1/conv_1[0][0]  \n",
      "__________________________________________________________________________________________________\n",
      "RDBI3/id_2/branch1/SepBn_2 (Bat (None, 28, 28, 128)  512         RDBI3/id_2/branch1/conv_1[0][0]  \n",
      "__________________________________________________________________________________________________\n",
      "RDBI3/id_2/branch1/ConvRelu_2 ( (None, 28, 28, 128)  0           RDBI3/id_2/branch1/ConvBn_2[0][0]\n",
      "__________________________________________________________________________________________________\n",
      "RDBI3/id_2/branch1/SepRelu_2 (A (None, 28, 28, 128)  0           RDBI3/id_2/branch1/SepBn_2[0][0] \n",
      "__________________________________________________________________________________________________\n",
      "RDBI3/id_2/branch1/Conv_2 (Conv (None, 28, 28, 128)  65664       RDBI3/id_2/branch1/ConvRelu_2[0][\n",
      "__________________________________________________________________________________________________\n",
      "RDBI3/id_2/branch1/SepConv_2 (S (None, 28, 28, 128)  17024       RDBI3/id_2/branch1/SepRelu_2[0][0\n",
      "__________________________________________________________________________________________________\n",
      "RDBI3/id_2/Add-2branches (Add)  (None, 28, 28, 128)  0           RDBI3/id_2/branch1/Conv_2[0][0]  \n",
      "                                                                 RDBI3/id_2/branch1/SepConv_2[0][0\n",
      "__________________________________________________________________________________________________\n",
      "RDBI3/id_2/branch1/bn_3 (BatchN (None, 28, 28, 128)  512         RDBI3/id_2/Add-2branches[0][0]   \n",
      "__________________________________________________________________________________________________\n",
      "RDBI3/id_2/branch1/relu_3 (Acti (None, 28, 28, 128)  0           RDBI3/id_2/branch1/bn_3[0][0]    \n",
      "__________________________________________________________________________________________________\n",
      "RDBI3/id_2/branch1/conv_3 (Conv (None, 28, 28, 1024) 132096      RDBI3/id_2/branch1/relu_3[0][0]  \n",
      "__________________________________________________________________________________________________\n",
      "RDBI3/id_2/Add (Add)            (None, 28, 28, 1024) 0           RDBI3/id_1/Add[0][0]             \n",
      "                                                                 RDBI3/id_2/branch1/conv_3[0][0]  \n",
      "__________________________________________________________________________________________________\n",
      "RDBI3/id_3/branch1/bn_1 (BatchN (None, 28, 28, 1024) 4096        RDBI3/id_2/Add[0][0]             \n",
      "__________________________________________________________________________________________________\n",
      "RDBI3/id_3/branch1/relu_1 (Acti (None, 28, 28, 1024) 0           RDBI3/id_3/branch1/bn_1[0][0]    \n",
      "__________________________________________________________________________________________________\n",
      "RDBI3/id_3/branch1/conv_1 (Conv (None, 28, 28, 128)  131200      RDBI3/id_3/branch1/relu_1[0][0]  \n",
      "__________________________________________________________________________________________________\n",
      "RDBI3/id_3/branch1/ConvBn_2 (Ba (None, 28, 28, 128)  512         RDBI3/id_3/branch1/conv_1[0][0]  \n",
      "__________________________________________________________________________________________________\n",
      "RDBI3/id_3/branch1/SepBn_2 (Bat (None, 28, 28, 128)  512         RDBI3/id_3/branch1/conv_1[0][0]  \n",
      "__________________________________________________________________________________________________\n",
      "RDBI3/id_3/branch1/ConvRelu_2 ( (None, 28, 28, 128)  0           RDBI3/id_3/branch1/ConvBn_2[0][0]\n",
      "__________________________________________________________________________________________________\n",
      "RDBI3/id_3/branch1/SepRelu_2 (A (None, 28, 28, 128)  0           RDBI3/id_3/branch1/SepBn_2[0][0] \n",
      "__________________________________________________________________________________________________\n",
      "RDBI3/id_3/branch1/Conv_2 (Conv (None, 28, 28, 128)  65664       RDBI3/id_3/branch1/ConvRelu_2[0][\n",
      "__________________________________________________________________________________________________\n",
      "RDBI3/id_3/branch1/SepConv_2 (S (None, 28, 28, 128)  17024       RDBI3/id_3/branch1/SepRelu_2[0][0\n",
      "__________________________________________________________________________________________________\n",
      "RDBI3/id_3/Add-2branches (Add)  (None, 28, 28, 128)  0           RDBI3/id_3/branch1/Conv_2[0][0]  \n",
      "                                                                 RDBI3/id_3/branch1/SepConv_2[0][0\n",
      "__________________________________________________________________________________________________\n",
      "RDBI3/id_3/branch1/bn_3 (BatchN (None, 28, 28, 128)  512         RDBI3/id_3/Add-2branches[0][0]   \n",
      "__________________________________________________________________________________________________\n",
      "EncoderDecoder3/Downsample1 (Ma (None, 14, 14, 1024) 0           RC2/Add[0][0]                    \n",
      "__________________________________________________________________________________________________\n",
      "RDBI3/id_3/branch1/relu_3 (Acti (None, 28, 28, 128)  0           RDBI3/id_3/branch1/bn_3[0][0]    \n",
      "__________________________________________________________________________________________________\n",
      "EncoderDecoder3/Upsample1 (UpSa (None, 28, 28, 1024) 0           EncoderDecoder3/Downsample1[0][0]\n",
      "__________________________________________________________________________________________________\n",
      "RDBI3/id_3/branch1/conv_3 (Conv (None, 28, 28, 1024) 132096      RDBI3/id_3/branch1/relu_3[0][0]  \n",
      "__________________________________________________________________________________________________\n",
      "EncoderDecoder3/Activate (Activ (None, 28, 28, 1024) 0           EncoderDecoder3/Upsample1[0][0]  \n",
      "__________________________________________________________________________________________________\n",
      "RDBI3/id_3/Add (Add)            (None, 28, 28, 1024) 0           RDBI3/id_2/Add[0][0]             \n",
      "                                                                 RDBI3/id_3/branch1/conv_3[0][0]  \n",
      "__________________________________________________________________________________________________\n",
      "Mutiply3 (Multiply)             (None, 28, 28, 1024) 0           EncoderDecoder3/Activate[0][0]   \n",
      "                                                                 RDBI3/id_3/Add[0][0]             \n",
      "__________________________________________________________________________________________________\n",
      "Add3 (Add)                      (None, 28, 28, 1024) 0           Mutiply3[0][0]                   \n",
      "                                                                 EncoderDecoder3/Activate[0][0]   \n",
      "                                                                 RDBI3/id_3/Add[0][0]             \n",
      "__________________________________________________________________________________________________\n",
      "RC3/branch1/bn_1 (BatchNormaliz (None, 28, 28, 1024) 4096        Add3[0][0]                       \n",
      "__________________________________________________________________________________________________\n",
      "RC3/branch1/relu_1 (Activation) (None, 28, 28, 1024) 0           RC3/branch1/bn_1[0][0]           \n",
      "__________________________________________________________________________________________________\n",
      "RC3/branch1/conv_1 (Conv2D)     (None, 28, 28, 512)  524800      RC3/branch1/relu_1[0][0]         \n",
      "__________________________________________________________________________________________________\n",
      "RC3/branch1/bn_2 (BatchNormaliz (None, 28, 28, 512)  2048        RC3/branch1/conv_1[0][0]         \n",
      "__________________________________________________________________________________________________\n",
      "RC3/branch1/relu_2 (Activation) (None, 28, 28, 512)  0           RC3/branch1/bn_2[0][0]           \n",
      "__________________________________________________________________________________________________\n",
      "RC3/branch1/conv_2 (Conv2D)     (None, 14, 14, 512)  1049088     RC3/branch1/relu_2[0][0]         \n",
      "__________________________________________________________________________________________________\n",
      "RC3/branch1/bn_3 (BatchNormaliz (None, 14, 14, 512)  2048        RC3/branch1/conv_2[0][0]         \n",
      "__________________________________________________________________________________________________\n",
      "RC3/branch2/bn_1 (BatchNormaliz (None, 28, 28, 1024) 4096        Add3[0][0]                       \n",
      "__________________________________________________________________________________________________\n",
      "RC3/branch1/relu_3 (Activation) (None, 14, 14, 512)  0           RC3/branch1/bn_3[0][0]           \n",
      "__________________________________________________________________________________________________\n",
      "RC3/branch2/relu_1 (Activation) (None, 28, 28, 1024) 0           RC3/branch2/bn_1[0][0]           \n",
      "__________________________________________________________________________________________________\n",
      "RC3/branch1/conv_3 (Conv2D)     (None, 14, 14, 2048) 1050624     RC3/branch1/relu_3[0][0]         \n",
      "__________________________________________________________________________________________________\n",
      "RC3/branch2/conv_1 (Conv2D)     (None, 14, 14, 2048) 2099200     RC3/branch2/relu_1[0][0]         \n",
      "__________________________________________________________________________________________________\n",
      "RC3/Add (Add)                   (None, 14, 14, 2048) 0           RC3/branch1/conv_3[0][0]         \n",
      "                                                                 RC3/branch2/conv_1[0][0]         \n",
      "__________________________________________________________________________________________________\n",
      "RDBI4/id_1/branch1/bn_1 (BatchN (None, 14, 14, 2048) 8192        RC3/Add[0][0]                    \n",
      "__________________________________________________________________________________________________\n",
      "RDBI4/id_1/branch1/relu_1 (Acti (None, 14, 14, 2048) 0           RDBI4/id_1/branch1/bn_1[0][0]    \n",
      "__________________________________________________________________________________________________\n",
      "RDBI4/id_1/branch1/conv_1 (Conv (None, 14, 14, 256)  524544      RDBI4/id_1/branch1/relu_1[0][0]  \n",
      "__________________________________________________________________________________________________\n",
      "RDBI4/id_1/branch1/ConvBn_2 (Ba (None, 14, 14, 256)  1024        RDBI4/id_1/branch1/conv_1[0][0]  \n",
      "__________________________________________________________________________________________________\n",
      "RDBI4/id_1/branch1/SepBn_2 (Bat (None, 14, 14, 256)  1024        RDBI4/id_1/branch1/conv_1[0][0]  \n",
      "__________________________________________________________________________________________________\n",
      "RDBI4/id_1/branch1/ConvRelu_2 ( (None, 14, 14, 256)  0           RDBI4/id_1/branch1/ConvBn_2[0][0]\n",
      "__________________________________________________________________________________________________\n",
      "RDBI4/id_1/branch1/SepRelu_2 (A (None, 14, 14, 256)  0           RDBI4/id_1/branch1/SepBn_2[0][0] \n",
      "__________________________________________________________________________________________________\n",
      "RDBI4/id_1/branch1/Conv_2 (Conv (None, 14, 14, 256)  262400      RDBI4/id_1/branch1/ConvRelu_2[0][\n",
      "__________________________________________________________________________________________________\n",
      "RDBI4/id_1/branch1/SepConv_2 (S (None, 14, 14, 256)  66816       RDBI4/id_1/branch1/SepRelu_2[0][0\n",
      "__________________________________________________________________________________________________\n",
      "RDBI4/id_1/Add-2branches (Add)  (None, 14, 14, 256)  0           RDBI4/id_1/branch1/Conv_2[0][0]  \n",
      "                                                                 RDBI4/id_1/branch1/SepConv_2[0][0\n",
      "__________________________________________________________________________________________________\n",
      "RDBI4/id_1/branch1/bn_3 (BatchN (None, 14, 14, 256)  1024        RDBI4/id_1/Add-2branches[0][0]   \n",
      "__________________________________________________________________________________________________\n",
      "RDBI4/id_1/branch1/relu_3 (Acti (None, 14, 14, 256)  0           RDBI4/id_1/branch1/bn_3[0][0]    \n",
      "__________________________________________________________________________________________________\n",
      "RDBI4/id_1/branch1/conv_3 (Conv (None, 14, 14, 2048) 526336      RDBI4/id_1/branch1/relu_3[0][0]  \n",
      "__________________________________________________________________________________________________\n",
      "RDBI4/id_1/Add (Add)            (None, 14, 14, 2048) 0           RC3/Add[0][0]                    \n",
      "                                                                 RDBI4/id_1/branch1/conv_3[0][0]  \n",
      "__________________________________________________________________________________________________\n",
      "RDBI4/id_2/branch1/bn_1 (BatchN (None, 14, 14, 2048) 8192        RDBI4/id_1/Add[0][0]             \n",
      "__________________________________________________________________________________________________\n",
      "RDBI4/id_2/branch1/relu_1 (Acti (None, 14, 14, 2048) 0           RDBI4/id_2/branch1/bn_1[0][0]    \n",
      "__________________________________________________________________________________________________\n",
      "RDBI4/id_2/branch1/conv_1 (Conv (None, 14, 14, 256)  524544      RDBI4/id_2/branch1/relu_1[0][0]  \n",
      "__________________________________________________________________________________________________\n",
      "RDBI4/id_2/branch1/ConvBn_2 (Ba (None, 14, 14, 256)  1024        RDBI4/id_2/branch1/conv_1[0][0]  \n",
      "__________________________________________________________________________________________________\n",
      "RDBI4/id_2/branch1/SepBn_2 (Bat (None, 14, 14, 256)  1024        RDBI4/id_2/branch1/conv_1[0][0]  \n",
      "__________________________________________________________________________________________________\n",
      "RDBI4/id_2/branch1/ConvRelu_2 ( (None, 14, 14, 256)  0           RDBI4/id_2/branch1/ConvBn_2[0][0]\n",
      "__________________________________________________________________________________________________\n",
      "RDBI4/id_2/branch1/SepRelu_2 (A (None, 14, 14, 256)  0           RDBI4/id_2/branch1/SepBn_2[0][0] \n",
      "__________________________________________________________________________________________________\n",
      "RDBI4/id_2/branch1/Conv_2 (Conv (None, 14, 14, 256)  262400      RDBI4/id_2/branch1/ConvRelu_2[0][\n",
      "__________________________________________________________________________________________________\n",
      "RDBI4/id_2/branch1/SepConv_2 (S (None, 14, 14, 256)  66816       RDBI4/id_2/branch1/SepRelu_2[0][0\n",
      "__________________________________________________________________________________________________\n",
      "RDBI4/id_2/Add-2branches (Add)  (None, 14, 14, 256)  0           RDBI4/id_2/branch1/Conv_2[0][0]  \n",
      "                                                                 RDBI4/id_2/branch1/SepConv_2[0][0\n",
      "__________________________________________________________________________________________________\n",
      "RDBI4/id_2/branch1/bn_3 (BatchN (None, 14, 14, 256)  1024        RDBI4/id_2/Add-2branches[0][0]   \n",
      "__________________________________________________________________________________________________\n",
      "RDBI4/id_2/branch1/relu_3 (Acti (None, 14, 14, 256)  0           RDBI4/id_2/branch1/bn_3[0][0]    \n",
      "__________________________________________________________________________________________________\n",
      "RDBI4/id_2/branch1/conv_3 (Conv (None, 14, 14, 2048) 526336      RDBI4/id_2/branch1/relu_3[0][0]  \n",
      "__________________________________________________________________________________________________\n",
      "RDBI4/id_2/Add (Add)            (None, 14, 14, 2048) 0           RDBI4/id_1/Add[0][0]             \n",
      "                                                                 RDBI4/id_2/branch1/conv_3[0][0]  \n",
      "__________________________________________________________________________________________________\n",
      "RDBI4/id_3/branch1/bn_1 (BatchN (None, 14, 14, 2048) 8192        RDBI4/id_2/Add[0][0]             \n",
      "__________________________________________________________________________________________________\n",
      "RDBI4/id_3/branch1/relu_1 (Acti (None, 14, 14, 2048) 0           RDBI4/id_3/branch1/bn_1[0][0]    \n",
      "__________________________________________________________________________________________________\n",
      "RDBI4/id_3/branch1/conv_1 (Conv (None, 14, 14, 256)  524544      RDBI4/id_3/branch1/relu_1[0][0]  \n",
      "__________________________________________________________________________________________________\n",
      "RDBI4/id_3/branch1/ConvBn_2 (Ba (None, 14, 14, 256)  1024        RDBI4/id_3/branch1/conv_1[0][0]  \n",
      "__________________________________________________________________________________________________\n",
      "RDBI4/id_3/branch1/SepBn_2 (Bat (None, 14, 14, 256)  1024        RDBI4/id_3/branch1/conv_1[0][0]  \n",
      "__________________________________________________________________________________________________\n",
      "RDBI4/id_3/branch1/ConvRelu_2 ( (None, 14, 14, 256)  0           RDBI4/id_3/branch1/ConvBn_2[0][0]\n",
      "__________________________________________________________________________________________________\n",
      "RDBI4/id_3/branch1/SepRelu_2 (A (None, 14, 14, 256)  0           RDBI4/id_3/branch1/SepBn_2[0][0] \n",
      "__________________________________________________________________________________________________\n",
      "RDBI4/id_3/branch1/Conv_2 (Conv (None, 14, 14, 256)  262400      RDBI4/id_3/branch1/ConvRelu_2[0][\n",
      "__________________________________________________________________________________________________\n",
      "RDBI4/id_3/branch1/SepConv_2 (S (None, 14, 14, 256)  66816       RDBI4/id_3/branch1/SepRelu_2[0][0\n",
      "__________________________________________________________________________________________________\n",
      "RDBI4/id_3/Add-2branches (Add)  (None, 14, 14, 256)  0           RDBI4/id_3/branch1/Conv_2[0][0]  \n",
      "                                                                 RDBI4/id_3/branch1/SepConv_2[0][0\n",
      "__________________________________________________________________________________________________\n",
      "RDBI4/id_3/branch1/bn_3 (BatchN (None, 14, 14, 256)  1024        RDBI4/id_3/Add-2branches[0][0]   \n",
      "__________________________________________________________________________________________________\n",
      "EncoderDecoder4/Downsample1 (Ma (None, 7, 7, 2048)   0           RC3/Add[0][0]                    \n",
      "__________________________________________________________________________________________________\n",
      "RDBI4/id_3/branch1/relu_3 (Acti (None, 14, 14, 256)  0           RDBI4/id_3/branch1/bn_3[0][0]    \n",
      "__________________________________________________________________________________________________\n",
      "EncoderDecoder4/Upsample1 (UpSa (None, 14, 14, 2048) 0           EncoderDecoder4/Downsample1[0][0]\n",
      "__________________________________________________________________________________________________\n",
      "RDBI4/id_3/branch1/conv_3 (Conv (None, 14, 14, 2048) 526336      RDBI4/id_3/branch1/relu_3[0][0]  \n",
      "__________________________________________________________________________________________________\n",
      "EncoderDecoder4/Activate (Activ (None, 14, 14, 2048) 0           EncoderDecoder4/Upsample1[0][0]  \n",
      "__________________________________________________________________________________________________\n",
      "RDBI4/id_3/Add (Add)            (None, 14, 14, 2048) 0           RDBI4/id_2/Add[0][0]             \n",
      "                                                                 RDBI4/id_3/branch1/conv_3[0][0]  \n",
      "__________________________________________________________________________________________________\n",
      "Mutiply4 (Multiply)             (None, 14, 14, 2048) 0           EncoderDecoder4/Activate[0][0]   \n",
      "                                                                 RDBI4/id_3/Add[0][0]             \n",
      "__________________________________________________________________________________________________\n",
      "Add4 (Add)                      (None, 14, 14, 2048) 0           Mutiply4[0][0]                   \n",
      "                                                                 EncoderDecoder4/Activate[0][0]   \n",
      "                                                                 RDBI4/id_3/Add[0][0]             \n",
      "__________________________________________________________________________________________________\n",
      "global_avg_pool (GlobalAverageP (None, 2048)         0           Add4[0][0]                       \n",
      "__________________________________________________________________________________________________\n",
      "Dense_1 (Dense)                 (None, 256)          524544      global_avg_pool[0][0]            \n",
      "__________________________________________________________________________________________________\n",
      "Dense_2 (Dense)                 (None, 3)            771         Dense_1[0][0]                    \n",
      "__________________________________________________________________________________________________\n",
      "classifier (Activation)         (None, 3)            0           Dense_2[0][0]                    \n",
      "==================================================================================================\n",
      "Total params: 12,495,235\n",
      "Trainable params: 12,450,051\n",
      "Non-trainable params: 45,184\n",
      "__________________________________________________________________________________________________\n",
      "Epoch 1/30\n",
      "289/289 [==============================] - 104s 306ms/step - loss: 2.5522 - accuracy: 0.4298 - val_loss: 2.6508 - val_accuracy: 0.4914\n",
      "Epoch 2/30\n",
      "289/289 [==============================] - 86s 297ms/step - loss: 1.0524 - accuracy: 0.6360 - val_loss: 1.4965 - val_accuracy: 0.4863\n",
      "Epoch 3/30\n",
      "289/289 [==============================] - 86s 296ms/step - loss: 0.8566 - accuracy: 0.7010 - val_loss: 1.5290 - val_accuracy: 0.5599\n",
      "Epoch 4/30\n",
      "289/289 [==============================] - 86s 296ms/step - loss: 0.7634 - accuracy: 0.6997 - val_loss: 1.0742 - val_accuracy: 0.6421\n",
      "Epoch 5/30\n",
      "289/289 [==============================] - 86s 297ms/step - loss: 0.7260 - accuracy: 0.7076 - val_loss: 0.8723 - val_accuracy: 0.7483\n",
      "Epoch 6/30\n",
      "289/289 [==============================] - 86s 298ms/step - loss: 0.6215 - accuracy: 0.7613 - val_loss: 0.9378 - val_accuracy: 0.7774\n",
      "Epoch 7/30\n",
      "289/289 [==============================] - 86s 297ms/step - loss: 0.5420 - accuracy: 0.8106 - val_loss: 1.7749 - val_accuracy: 0.4264\n",
      "Epoch 8/30\n",
      "289/289 [==============================] - 86s 297ms/step - loss: 0.4468 - accuracy: 0.8530 - val_loss: 0.4265 - val_accuracy: 0.8442\n",
      "Epoch 9/30\n",
      "289/289 [==============================] - 86s 297ms/step - loss: 0.4119 - accuracy: 0.8536 - val_loss: 0.4672 - val_accuracy: 0.8510\n",
      "Epoch 10/30\n",
      "289/289 [==============================] - 86s 298ms/step - loss: 0.3131 - accuracy: 0.9029 - val_loss: 0.3462 - val_accuracy: 0.8699\n",
      "Epoch 11/30\n",
      "289/289 [==============================] - 86s 298ms/step - loss: 0.3055 - accuracy: 0.8983 - val_loss: 0.3317 - val_accuracy: 0.8955\n",
      "Epoch 12/30\n",
      "289/289 [==============================] - 87s 301ms/step - loss: 0.3600 - accuracy: 0.8814 - val_loss: 0.4247 - val_accuracy: 0.8870\n",
      "Epoch 13/30\n",
      "289/289 [==============================] - 87s 301ms/step - loss: 0.2863 - accuracy: 0.9022 - val_loss: 0.3228 - val_accuracy: 0.8938\n",
      "Epoch 14/30\n",
      "289/289 [==============================] - 86s 297ms/step - loss: 0.3258 - accuracy: 0.8885 - val_loss: 0.5482 - val_accuracy: 0.8476\n",
      "Epoch 15/30\n",
      "289/289 [==============================] - 87s 301ms/step - loss: 0.2630 - accuracy: 0.9153 - val_loss: 0.3010 - val_accuracy: 0.9075\n",
      "Epoch 16/30\n",
      "289/289 [==============================] - 87s 299ms/step - loss: 0.2708 - accuracy: 0.9051 - val_loss: 2.1144 - val_accuracy: 0.4007\n",
      "Epoch 17/30\n",
      "289/289 [==============================] - 87s 299ms/step - loss: 0.2706 - accuracy: 0.9152 - val_loss: 0.5149 - val_accuracy: 0.8476\n",
      "Epoch 18/30\n",
      "289/289 [==============================] - 86s 299ms/step - loss: 0.2520 - accuracy: 0.9169 - val_loss: 0.6294 - val_accuracy: 0.7723\n",
      "Epoch 19/30\n",
      "289/289 [==============================] - 86s 299ms/step - loss: 0.2820 - accuracy: 0.9044 - val_loss: 0.3825 - val_accuracy: 0.9007\n",
      "Epoch 20/30\n",
      "289/289 [==============================] - 86s 298ms/step - loss: 0.2602 - accuracy: 0.9120 - val_loss: 0.8645 - val_accuracy: 0.6866\n",
      "Epoch 21/30\n",
      "289/289 [==============================] - 87s 300ms/step - loss: 0.2490 - accuracy: 0.9063 - val_loss: 0.4747 - val_accuracy: 0.8801\n",
      "\n",
      "Epoch 00021: ReduceLROnPlateau reducing learning rate to 9.999999747378752e-06.\n",
      "Epoch 22/30\n",
      "289/289 [==============================] - 86s 298ms/step - loss: 0.1903 - accuracy: 0.9306 - val_loss: 0.1564 - val_accuracy: 0.9384\n",
      "Epoch 23/30\n",
      "289/289 [==============================] - 87s 299ms/step - loss: 0.1532 - accuracy: 0.9516 - val_loss: 0.1892 - val_accuracy: 0.9366\n",
      "Epoch 24/30\n",
      "289/289 [==============================] - 86s 299ms/step - loss: 0.1265 - accuracy: 0.9536 - val_loss: 0.1688 - val_accuracy: 0.9401\n",
      "Epoch 25/30\n",
      "289/289 [==============================] - 87s 300ms/step - loss: 0.1485 - accuracy: 0.9488 - val_loss: 0.2027 - val_accuracy: 0.9401\n",
      "Epoch 26/30\n",
      "289/289 [==============================] - 86s 298ms/step - loss: 0.1656 - accuracy: 0.9509 - val_loss: 0.1361 - val_accuracy: 0.9606\n",
      "Epoch 27/30\n",
      "289/289 [==============================] - 87s 299ms/step - loss: 0.1804 - accuracy: 0.9382 - val_loss: 0.1856 - val_accuracy: 0.9384\n",
      "Epoch 28/30\n",
      "289/289 [==============================] - 86s 297ms/step - loss: 0.1513 - accuracy: 0.9489 - val_loss: 0.1757 - val_accuracy: 0.9401\n",
      "Epoch 29/30\n",
      "289/289 [==============================] - 87s 300ms/step - loss: 0.1368 - accuracy: 0.9526 - val_loss: 0.1358 - val_accuracy: 0.9538\n",
      "Epoch 30/30\n",
      "289/289 [==============================] - 86s 298ms/step - loss: 0.1068 - accuracy: 0.9612 - val_loss: 0.1673 - val_accuracy: 0.9366\n"
     ]
    }
   ],
   "source": [
    "opticnet_model, opticnet_history = train_model(opticnet_model, train_generator, val_generator, 30, Adam(lr=.0001), None)"
   ]
  },
  {
   "cell_type": "markdown",
   "metadata": {
    "papermill": {
     "duration": 2.257918,
     "end_time": "2021-08-23T19:26:42.663233",
     "exception": false,
     "start_time": "2021-08-23T19:26:40.405315",
     "status": "completed"
    },
    "tags": []
   },
   "source": [
    "Evaluation"
   ]
  },
  {
   "cell_type": "code",
   "execution_count": 20,
   "metadata": {
    "execution": {
     "iopub.execute_input": "2021-08-23T19:26:47.708837Z",
     "iopub.status.busy": "2021-08-23T19:26:47.708278Z",
     "iopub.status.idle": "2021-08-23T19:27:00.132398Z",
     "shell.execute_reply": "2021-08-23T19:27:00.131926Z"
    },
    "papermill": {
     "duration": 15.145646,
     "end_time": "2021-08-23T19:27:00.132529",
     "exception": false,
     "start_time": "2021-08-23T19:26:44.986883",
     "status": "completed"
    },
    "tags": []
   },
   "outputs": [
    {
     "name": "stdout",
     "output_type": "stream",
     "text": [
      "\n",
      "Test set accuracy: 0.6086956262588501 \n",
      "\n",
      "46/46 [==============================] - 5s 83ms/step\n",
      "\n",
      "              precision    recall  f1-score   support\n",
      "\n",
      "         AMD       0.28      1.00      0.44        55\n",
      "          DR       1.00      0.65      0.79       107\n",
      "      NORMAL       0.94      0.48      0.64       206\n",
      "\n",
      "    accuracy                           0.61       368\n",
      "   macro avg       0.74      0.71      0.62       368\n",
      "weighted avg       0.86      0.61      0.65       368\n",
      "\n"
     ]
    },
    {
     "data": {
      "image/png": "[encoded data removed]",
      "text/plain": [
       "<Figure size 1080x288 with 1 Axes>"
      ]
     },
     "metadata": {
      "needs_background": "light"
     },
     "output_type": "display_data"
    },
    {
     "data": {
      "image/png": "[encoded data removed]",
      "text/plain": [
       "<Figure size 1080x288 with 1 Axes>"
      ]
     },
     "metadata": {
      "needs_background": "light"
     },
     "output_type": "display_data"
    },
    {
     "data": {
      "image/png": "[encoded data removed]",
      "text/plain": [
       "<Figure size 360x360 with 2 Axes>"
      ]
     },
     "metadata": {
      "needs_background": "light"
     },
     "output_type": "display_data"
    },
    {
     "data": {
      "image/png": "[encoded data removed]",
      "text/plain": [
       "<Figure size 432x288 with 1 Axes>"
      ]
     },
     "metadata": {
      "needs_background": "light"
     },
     "output_type": "display_data"
    },
    {
     "data": {
      "image/png": "[encoded data removed]",
      "text/plain": [
       "<Figure size 432x288 with 1 Axes>"
      ]
     },
     "metadata": {
      "needs_background": "light"
     },
     "output_type": "display_data"
    },
    {
     "data": {
      "image/png": "[encoded data removed]",
      "text/plain": [
       "<Figure size 432x288 with 1 Axes>"
      ]
     },
     "metadata": {
      "needs_background": "light"
     },
     "output_type": "display_data"
    },
    {
     "name": "stdout",
     "output_type": "stream",
     "text": [
      "ROS AUC score: 0.9749630510398498\n"
     ]
    }
   ],
   "source": [
    "evaluate_model(opticnet_model, opticnet_history, test_generator)"
   ]
  },
  {
   "cell_type": "code",
   "execution_count": 21,
   "metadata": {
    "execution": {
     "iopub.execute_input": "2021-08-23T19:27:05.049118Z",
     "iopub.status.busy": "2021-08-23T19:27:05.044242Z",
     "iopub.status.idle": "2021-08-23T19:27:05.974087Z",
     "shell.execute_reply": "2021-08-23T19:27:05.973575Z"
    },
    "papermill": {
     "duration": 3.308242,
     "end_time": "2021-08-23T19:27:05.974251",
     "exception": false,
     "start_time": "2021-08-23T19:27:02.666009",
     "status": "completed"
    },
    "tags": []
   },
   "outputs": [],
   "source": [
    "opticnet_model.save(\"/kaggle/working/opticnet.h5\")"
   ]
  },
  {
   "cell_type": "markdown",
   "metadata": {
    "papermill": {
     "duration": 2.317792,
     "end_time": "2021-08-23T19:27:10.579459",
     "exception": false,
     "start_time": "2021-08-23T19:27:08.261667",
     "status": "completed"
    },
    "tags": []
   },
   "source": [
    "# Model Interpretability using Grad CAM\n",
    "\n",
    "One way to ensure the model is performing correctly is to debug your model and visually validate that it is “looking” and “activating” at the correct locations in an image.\n",
    "\n",
    "Selvaraju et al. published a novel paper entitled, Grad-CAM: Visual Explanations from Deep Networks via Gradient-based Localization (https://arxiv.org/abs/1610.02391). \n",
    "\n",
    "GRAD-CAM works by (1) finding the final convolutional layer in the network and then (2) examining the gradient information flowing into that layer.\n",
    "\n",
    "The output of Grad-CAM is a heatmap visualization for a given class label (either the top, predicted label or an arbitrary label we select for debugging). We can use this heatmap to visually verify where in the image the CNN is looking."
   ]
  },
  {
   "cell_type": "code",
   "execution_count": 22,
   "metadata": {
    "execution": {
     "iopub.execute_input": "2021-08-23T19:27:15.363770Z",
     "iopub.status.busy": "2021-08-23T19:27:15.362738Z",
     "iopub.status.idle": "2021-08-23T19:27:15.373643Z",
     "shell.execute_reply": "2021-08-23T19:27:15.373122Z"
    },
    "papermill": {
     "duration": 2.395936,
     "end_time": "2021-08-23T19:27:15.373770",
     "exception": false,
     "start_time": "2021-08-23T19:27:12.977834",
     "status": "completed"
    },
    "tags": []
   },
   "outputs": [],
   "source": [
    "image_path= df_test['image_path'][100]\n",
    "\n",
    "img = load_img(image_path, target_size=(224,224,3)) # stores image in PIL format\n",
    "image_array=img_to_array(img)"
   ]
  },
  {
   "cell_type": "markdown",
   "metadata": {
    "papermill": {
     "duration": 2.272645,
     "end_time": "2021-08-23T19:27:19.958632",
     "exception": false,
     "start_time": "2021-08-23T19:27:17.685987",
     "status": "completed"
    },
    "tags": []
   },
   "source": [
    "Display Original Image"
   ]
  },
  {
   "cell_type": "code",
   "execution_count": 23,
   "metadata": {
    "execution": {
     "iopub.execute_input": "2021-08-23T19:27:25.307045Z",
     "iopub.status.busy": "2021-08-23T19:27:25.306476Z",
     "iopub.status.idle": "2021-08-23T19:27:25.319190Z",
     "shell.execute_reply": "2021-08-23T19:27:25.319827Z"
    },
    "papermill": {
     "duration": 2.623188,
     "end_time": "2021-08-23T19:27:25.320049",
     "exception": false,
     "start_time": "2021-08-23T19:27:22.696861",
     "status": "completed"
    },
    "tags": []
   },
   "outputs": [
    {
     "data": {
      "image/jpeg": "[encoded data removed]",
      "text/plain": [
       "<IPython.core.display.Image object>"
      ]
     },
     "metadata": {},
     "output_type": "display_data"
    }
   ],
   "source": [
    "display(Image(image_path))"
   ]
  },
  {
   "cell_type": "markdown",
   "metadata": {
    "papermill": {
     "duration": 2.313065,
     "end_time": "2021-08-23T19:27:29.942927",
     "exception": false,
     "start_time": "2021-08-23T19:27:27.629862",
     "status": "completed"
    },
    "tags": []
   },
   "source": [
    "GRAD CAM Algorithm"
   ]
  },
  {
   "cell_type": "code",
   "execution_count": 24,
   "metadata": {
    "execution": {
     "iopub.execute_input": "2021-08-23T19:27:34.526031Z",
     "iopub.status.busy": "2021-08-23T19:27:34.525421Z",
     "iopub.status.idle": "2021-08-23T19:27:34.528619Z",
     "shell.execute_reply": "2021-08-23T19:27:34.528206Z"
    },
    "papermill": {
     "duration": 2.307373,
     "end_time": "2021-08-23T19:27:34.528736",
     "exception": false,
     "start_time": "2021-08-23T19:27:32.221363",
     "status": "completed"
    },
    "tags": []
   },
   "outputs": [],
   "source": [
    "def make_gradcam_heatmap(img_array, model, last_conv_layer_name, pred_index=None):\n",
    "    # First, we create a model that maps the input image to the activations\n",
    "    # of the last conv layer as well as the output predictions\n",
    "\n",
    "    grad_model = tf.keras.models.Model([model.inputs], [model.get_layer(last_conv_layer_name).output, model.layers[-2].output])\n",
    "\n",
    "    # Then, we compute the gradient of the top predicted class for our input image\n",
    "    # with respect to the activations of the last conv layer\n",
    "    with tf.GradientTape() as tape:\n",
    "        last_conv_layer_output, preds = grad_model(img_array)\n",
    "        if pred_index is None:\n",
    "            pred_index = tf.argmax(preds[0])\n",
    "        class_channel = preds[:, pred_index]\n",
    "\n",
    "    # This is the gradient of the output neuron (top predicted or chosen)\n",
    "    # with regard to the output feature map of the last conv layer\n",
    "    grads = tape.gradient(class_channel, last_conv_layer_output)\n",
    "\n",
    "    # This is a vector where each entry is the mean intensity of the gradient\n",
    "    # over a specific feature map channel\n",
    "    pooled_grads = tf.reduce_mean(grads, axis=(0, 1, 2))\n",
    "\n",
    "    # We multiply each channel in the feature map array\n",
    "    # by \"how important this channel is\" with regard to the top predicted class\n",
    "    # then sum all the channels to obtain the heatmap class activation\n",
    "    last_conv_layer_output = last_conv_layer_output[0]\n",
    "    heatmap = last_conv_layer_output @ pooled_grads[..., tf.newaxis]\n",
    "    heatmap = tf.squeeze(heatmap)\n",
    "\n",
    "    # For visualization purpose, we will also normalize the heatmap between 0 & 1\n",
    "    heatmap = tf.maximum(heatmap, 0) / tf.math.reduce_max(heatmap)\n",
    "    return heatmap.numpy()"
   ]
  },
  {
   "cell_type": "markdown",
   "metadata": {
    "papermill": {
     "duration": 2.339165,
     "end_time": "2021-08-23T19:27:39.421701",
     "exception": false,
     "start_time": "2021-08-23T19:27:37.082536",
     "status": "completed"
    },
    "tags": []
   },
   "source": [
    "Create Heat Map"
   ]
  },
  {
   "cell_type": "code",
   "execution_count": 25,
   "metadata": {
    "execution": {
     "iopub.execute_input": "2021-08-23T19:27:44.033431Z",
     "iopub.status.busy": "2021-08-23T19:27:44.031807Z",
     "iopub.status.idle": "2021-08-23T19:27:44.034060Z",
     "shell.execute_reply": "2021-08-23T19:27:44.034478Z"
    },
    "papermill": {
     "duration": 2.327688,
     "end_time": "2021-08-23T19:27:44.034623",
     "exception": false,
     "start_time": "2021-08-23T19:27:41.706935",
     "status": "completed"
    },
    "tags": []
   },
   "outputs": [],
   "source": [
    "# Make model\n",
    "model = opticnet_model"
   ]
  },
  {
   "cell_type": "code",
   "execution_count": 26,
   "metadata": {
    "execution": {
     "iopub.execute_input": "2021-08-23T19:27:49.041635Z",
     "iopub.status.busy": "2021-08-23T19:27:49.040703Z",
     "iopub.status.idle": "2021-08-23T19:27:49.669739Z",
     "shell.execute_reply": "2021-08-23T19:27:49.671113Z"
    },
    "papermill": {
     "duration": 3.022617,
     "end_time": "2021-08-23T19:27:49.671390",
     "exception": false,
     "start_time": "2021-08-23T19:27:46.648773",
     "status": "completed"
    },
    "tags": []
   },
   "outputs": [
    {
     "data": {
      "image/png": "[encoded data removed]",
      "text/plain": [
       "<Figure size 288x288 with 1 Axes>"
      ]
     },
     "metadata": {
      "needs_background": "light"
     },
     "output_type": "display_data"
    }
   ],
   "source": [
    "last_conv_layer_name =\"Add4\"\n",
    "# Remove last layer's softmax\n",
    "model.layers[-1].activation = None\n",
    "\n",
    "img_array=np.expand_dims(image_array, axis=0)\n",
    "# Prepare particular image \n",
    "\n",
    "# Generate class activation heatmap\n",
    "heatmap= make_gradcam_heatmap(img_array, model, last_conv_layer_name)\n",
    "\n",
    "# Display heatmap\n",
    "plt.matshow(heatmap)\n",
    "plt.show()"
   ]
  },
  {
   "cell_type": "code",
   "execution_count": 27,
   "metadata": {
    "execution": {
     "iopub.execute_input": "2021-08-23T19:27:54.433050Z",
     "iopub.status.busy": "2021-08-23T19:27:54.431209Z",
     "iopub.status.idle": "2021-08-23T19:27:54.433733Z",
     "shell.execute_reply": "2021-08-23T19:27:54.434127Z"
    },
    "papermill": {
     "duration": 2.332322,
     "end_time": "2021-08-23T19:27:54.434296",
     "exception": false,
     "start_time": "2021-08-23T19:27:52.101974",
     "status": "completed"
    },
    "tags": []
   },
   "outputs": [],
   "source": [
    "def save_and_display_gradcam(img_path, heatmap, cam_path, alpha=0.4):\n",
    "    # Load the original image\n",
    "    img = tf.keras.preprocessing.image.load_img(img_path)\n",
    "    img = tf.keras.preprocessing.image.img_to_array(img)\n",
    "\n",
    "    # Rescale heatmap to a range 0-255\n",
    "    heatmap = np.uint8(255 * heatmap)\n",
    "\n",
    "    # Use jet colormap to colorize heatmap\n",
    "    jet = cm.get_cmap(\"jet\")\n",
    "\n",
    "    # Use RGB values of the colormap\n",
    "    jet_colors = jet(np.arange(256))[:, :3]\n",
    "    jet_heatmap = jet_colors[heatmap]\n",
    "\n",
    "    # Create an image with RGB colorized heatmap\n",
    "    jet_heatmap = tf.keras.preprocessing.image.array_to_img(jet_heatmap)\n",
    "    jet_heatmap = jet_heatmap.resize((img.shape[1], img.shape[0]))\n",
    "    jet_heatmap = tf.keras.preprocessing.image.img_to_array(jet_heatmap)\n",
    "\n",
    "    # Superimpose the heatmap on original image\n",
    "    superimposed_img = jet_heatmap * alpha + img\n",
    "    superimposed_img = tf.keras.preprocessing.image.array_to_img(superimposed_img)\n",
    "\n",
    "    # Save the superimposed image\n",
    "    superimposed_img.save(cam_path)\n",
    "\n",
    "    # Display Grad CAM\n",
    "    display(Image(cam_path))\n"
   ]
  },
  {
   "cell_type": "code",
   "execution_count": 28,
   "metadata": {
    "execution": {
     "iopub.execute_input": "2021-08-23T19:27:59.807586Z",
     "iopub.status.busy": "2021-08-23T19:27:59.806864Z",
     "iopub.status.idle": "2021-08-23T19:27:59.847315Z",
     "shell.execute_reply": "2021-08-23T19:27:59.847744Z"
    },
    "papermill": {
     "duration": 2.394167,
     "end_time": "2021-08-23T19:27:59.847894",
     "exception": false,
     "start_time": "2021-08-23T19:27:57.453727",
     "status": "completed"
    },
    "tags": []
   },
   "outputs": [
    {
     "data": {
      "image/jpeg": "[encoded data removed]",
      "text/plain": [
       "<IPython.core.display.Image object>"
      ]
     },
     "metadata": {},
     "output_type": "display_data"
    }
   ],
   "source": [
    "save_and_display_gradcam(image_path, heatmap,cam_path=\"/kaggle/working/GradCamTest.jpg\")"
   ]
  },
  {
   "cell_type": "code",
   "execution_count": null,
   "metadata": {
    "papermill": {
     "duration": 2.341161,
     "end_time": "2021-08-23T19:28:04.470442",
     "exception": false,
     "start_time": "2021-08-23T19:28:02.129281",
     "status": "completed"
    },
    "tags": []
   },
   "outputs": [],
   "source": []
  }
 ],
 "metadata": {
  "kernelspec": {
   "display_name": "Python 3",
   "language": "python",
   "name": "python3"
  },
  "language_info": {
   "codemirror_mode": {
    "name": "ipython",
    "version": 3
   },
   "file_extension": ".py",
   "mimetype": "text/x-python",
   "name": "python",
   "nbconvert_exporter": "python",
   "pygments_lexer": "ipython3",
   "version": "3.8.10"
  },
  "papermill": {
   "default_parameters": {},
   "duration": 2794.464033,
   "end_time": "2021-08-23T19:28:09.705604",
   "environment_variables": {},
   "exception": null,
   "input_path": "__notebook__.ipynb",
   "output_path": "__notebook__.ipynb",
   "parameters": {},
   "start_time": "2021-08-23T18:41:35.241571",
   "version": "2.3.3"
  }
 },
 "nbformat": 4,
 "nbformat_minor": 5
}
