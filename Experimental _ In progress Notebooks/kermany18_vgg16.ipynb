{
 "cells": [
  {
   "cell_type": "markdown",
   "metadata": {},
   "source": [
    "#### In this notebook, we used data from Kermany (Retinal_OCT2017).\n",
    "\n",
    "#### There are 4 classes AMD, DME, DRUSEN, NORMAL\n",
    "\n",
    "We take all images from train and val sets and merge them and divide them into 80:20 split for train and val sets. We use the 1000 images from the test set as the test itself. Augmentations were done and training was done for 2 epochs using SGD optimizer on VGG16, performing transfer learning with pretrained frozen imagenet weights on convolutional layers while we retrain the classifier. After training we get 92% train and 92% val accuracy while getting 96% test set accuracy. We observe that white patches adds regularization to the images and forces the model to train of the key points to focus on. Transfer learning allows the model to learn and identify the key regions quickly allowing us to train better models in short amount of time"
   ]
  },
  {
   "cell_type": "markdown",
   "metadata": {},
   "source": [
    "# Importing Data & Libraries"
   ]
  },
  {
   "cell_type": "code",
   "execution_count": 1,
   "metadata": {
    "execution": {
     "iopub.execute_input": "2021-08-22T16:03:46.923088Z",
     "iopub.status.busy": "2021-08-22T16:03:46.922438Z",
     "iopub.status.idle": "2021-08-22T16:03:51.389647Z",
     "shell.execute_reply": "2021-08-22T16:03:51.389037Z",
     "shell.execute_reply.started": "2021-08-22T14:26:24.548684Z"
    },
    "papermill": {
     "duration": 4.493169,
     "end_time": "2021-08-22T16:03:51.389793",
     "exception": false,
     "start_time": "2021-08-22T16:03:46.896624",
     "status": "completed"
    },
    "tags": []
   },
   "outputs": [],
   "source": [
    "import os\n",
    "import pandas as pd\n",
    "from PIL import Image\n",
    "import numpy as np\n",
    "import matplotlib.pyplot as plt\n",
    "import random\n",
    "from collections import defaultdict\n",
    "import seaborn as sns\n",
    "from keras.preprocessing.image import ImageDataGenerator\n",
    "import tensorflow as tf\n",
    "import tensorflow_addons as tfa"
   ]
  },
  {
   "cell_type": "code",
   "execution_count": 2,
   "metadata": {
    "execution": {
     "iopub.execute_input": "2021-08-22T16:03:51.421105Z",
     "iopub.status.busy": "2021-08-22T16:03:51.420294Z",
     "iopub.status.idle": "2021-08-22T16:03:51.422812Z",
     "shell.execute_reply": "2021-08-22T16:03:51.422420Z",
     "shell.execute_reply.started": "2021-08-22T14:26:29.338692Z"
    },
    "papermill": {
     "duration": 0.019373,
     "end_time": "2021-08-22T16:03:51.422939",
     "exception": false,
     "start_time": "2021-08-22T16:03:51.403566",
     "status": "completed"
    },
    "tags": []
   },
   "outputs": [],
   "source": [
    "train_path = \"/kaggle/input/kermany2018/OCT2017 /train\"\n",
    "val_path = \"/kaggle/input/kermany2018/OCT2017 /val\"\n",
    "test_path = \"/kaggle/input/kermany2018/OCT2017 /test\""
   ]
  },
  {
   "cell_type": "markdown",
   "metadata": {},
   "source": [
    "# Data Pre Processing & Visualization"
   ]
  },
  {
   "cell_type": "code",
   "execution_count": 3,
   "metadata": {
    "execution": {
     "iopub.execute_input": "2021-08-22T16:03:51.454166Z",
     "iopub.status.busy": "2021-08-22T16:03:51.453615Z",
     "iopub.status.idle": "2021-08-22T16:03:53.649429Z",
     "shell.execute_reply": "2021-08-22T16:03:53.650043Z",
     "shell.execute_reply.started": "2021-08-22T14:26:29.345668Z"
    },
    "papermill": {
     "duration": 2.214085,
     "end_time": "2021-08-22T16:03:53.650244",
     "exception": false,
     "start_time": "2021-08-22T16:03:51.436159",
     "status": "completed"
    },
    "tags": []
   },
   "outputs": [
    {
     "name": "stderr",
     "output_type": "stream",
     "text": [
      "100%|██████████| 8616/8616 [00:00<00:00, 350961.19it/s]\n",
      "100%|██████████| 37205/37205 [00:00<00:00, 340554.19it/s]\n",
      "100%|██████████| 26315/26315 [00:00<00:00, 374471.10it/s]\n",
      "100%|██████████| 11348/11348 [00:00<00:00, 377522.96it/s]\n"
     ]
    }
   ],
   "source": [
    "from tqdm import tqdm\n",
    "from PIL import Image\n",
    "from collections import defaultdict\n",
    "\n",
    "X_train = []\n",
    "Y_train = []\n",
    "\n",
    "for target in os.listdir(train_path):\n",
    "    target_path = os.path.join(train_path, target)\n",
    "    for file in tqdm(os.listdir(target_path)):\n",
    "        file_path = os.path.join(target_path, file)\n",
    "        X_train.append(file_path)\n",
    "        Y_train.append(target)"
   ]
  },
  {
   "cell_type": "code",
   "execution_count": 4,
   "metadata": {
    "execution": {
     "iopub.execute_input": "2021-08-22T16:03:53.689239Z",
     "iopub.status.busy": "2021-08-22T16:03:53.688626Z",
     "iopub.status.idle": "2021-08-22T16:03:53.720080Z",
     "shell.execute_reply": "2021-08-22T16:03:53.719646Z",
     "shell.execute_reply.started": "2021-08-22T14:26:31.297592Z"
    },
    "papermill": {
     "duration": 0.052231,
     "end_time": "2021-08-22T16:03:53.720211",
     "exception": false,
     "start_time": "2021-08-22T16:03:53.667980",
     "status": "completed"
    },
    "tags": []
   },
   "outputs": [
    {
     "name": "stderr",
     "output_type": "stream",
     "text": [
      "100%|██████████| 8/8 [00:00<00:00, 69470.87it/s]\n",
      "100%|██████████| 8/8 [00:00<00:00, 71851.03it/s]\n",
      "100%|██████████| 8/8 [00:00<00:00, 86928.58it/s]\n",
      "100%|██████████| 8/8 [00:00<00:00, 80273.76it/s]\n"
     ]
    }
   ],
   "source": [
    "for target in os.listdir(val_path):\n",
    "    target_path = os.path.join(val_path, target)\n",
    "    for file in tqdm(os.listdir(target_path)):\n",
    "        file_path = os.path.join(target_path, file)\n",
    "        X_train.append(file_path)\n",
    "        Y_train.append(target)"
   ]
  },
  {
   "cell_type": "code",
   "execution_count": 5,
   "metadata": {
    "execution": {
     "iopub.execute_input": "2021-08-22T16:03:53.763683Z",
     "iopub.status.busy": "2021-08-22T16:03:53.763033Z",
     "iopub.status.idle": "2021-08-22T16:03:53.889366Z",
     "shell.execute_reply": "2021-08-22T16:03:53.889777Z",
     "shell.execute_reply.started": "2021-08-22T14:26:31.329790Z"
    },
    "papermill": {
     "duration": 0.150542,
     "end_time": "2021-08-22T16:03:53.889947",
     "exception": false,
     "start_time": "2021-08-22T16:03:53.739405",
     "status": "completed"
    },
    "tags": []
   },
   "outputs": [
    {
     "name": "stderr",
     "output_type": "stream",
     "text": [
      "100%|██████████| 242/242 [00:00<00:00, 313278.26it/s]\n",
      "100%|██████████| 242/242 [00:00<00:00, 196709.61it/s]\n",
      "100%|██████████| 242/242 [00:00<00:00, 191875.53it/s]\n",
      "100%|██████████| 242/242 [00:00<00:00, 337328.54it/s]\n"
     ]
    }
   ],
   "source": [
    "X_test = []\n",
    "Y_test = []\n",
    "\n",
    "for target in os.listdir(test_path):\n",
    "    target_path = os.path.join(test_path, target)\n",
    "    for file in tqdm(os.listdir(target_path)):\n",
    "        file_path = os.path.join(target_path, file)\n",
    "        X_test.append(file_path)\n",
    "        Y_test.append(target)"
   ]
  },
  {
   "cell_type": "code",
   "execution_count": 6,
   "metadata": {
    "execution": {
     "iopub.execute_input": "2021-08-22T16:03:53.938321Z",
     "iopub.status.busy": "2021-08-22T16:03:53.937623Z",
     "iopub.status.idle": "2021-08-22T16:03:54.117019Z",
     "shell.execute_reply": "2021-08-22T16:03:54.117431Z",
     "shell.execute_reply.started": "2021-08-22T14:26:31.601233Z"
    },
    "papermill": {
     "duration": 0.205448,
     "end_time": "2021-08-22T16:03:54.117591",
     "exception": false,
     "start_time": "2021-08-22T16:03:53.912143",
     "status": "completed"
    },
    "tags": []
   },
   "outputs": [],
   "source": [
    "from sklearn.model_selection import train_test_split\n",
    "X_train, X_val, Y_train, Y_val = train_test_split(X_train, Y_train, test_size=0.2, random_state=42)"
   ]
  },
  {
   "cell_type": "markdown",
   "metadata": {},
   "source": [
    "Training distribution"
   ]
  },
  {
   "cell_type": "code",
   "execution_count": 7,
   "metadata": {
    "execution": {
     "iopub.execute_input": "2021-08-22T16:03:54.183420Z",
     "iopub.status.busy": "2021-08-22T16:03:54.182681Z",
     "iopub.status.idle": "2021-08-22T16:03:54.473551Z",
     "shell.execute_reply": "2021-08-22T16:03:54.473942Z",
     "shell.execute_reply.started": "2021-08-22T14:26:31.786868Z"
    },
    "papermill": {
     "duration": 0.334633,
     "end_time": "2021-08-22T16:03:54.474092",
     "exception": false,
     "start_time": "2021-08-22T16:03:54.139459",
     "status": "completed"
    },
    "tags": []
   },
   "outputs": [
    {
     "data": {
      "text/plain": [
       "<AxesSubplot:ylabel='count'>"
      ]
     },
     "execution_count": 7,
     "metadata": {},
     "output_type": "execute_result"
    },
    {
     "data": {
      "image/png": "[encoded data removed]",
      "text/plain": [
       "<Figure size 432x288 with 1 Axes>"
      ]
     },
     "metadata": {
      "needs_background": "light"
     },
     "output_type": "display_data"
    }
   ],
   "source": [
    "sns.countplot(x = Y_train)"
   ]
  },
  {
   "cell_type": "markdown",
   "metadata": {},
   "source": [
    "Validation distribution"
   ]
  },
  {
   "cell_type": "code",
   "execution_count": 8,
   "metadata": {
    "execution": {
     "iopub.execute_input": "2021-08-22T16:03:54.529001Z",
     "iopub.status.busy": "2021-08-22T16:03:54.528284Z",
     "iopub.status.idle": "2021-08-22T16:03:54.680646Z",
     "shell.execute_reply": "2021-08-22T16:03:54.681071Z",
     "shell.execute_reply.started": "2021-08-22T14:26:32.133832Z"
    },
    "papermill": {
     "duration": 0.184515,
     "end_time": "2021-08-22T16:03:54.681216",
     "exception": false,
     "start_time": "2021-08-22T16:03:54.496701",
     "status": "completed"
    },
    "tags": []
   },
   "outputs": [
    {
     "data": {
      "text/plain": [
       "<AxesSubplot:ylabel='count'>"
      ]
     },
     "execution_count": 8,
     "metadata": {},
     "output_type": "execute_result"
    },
    {
     "data": {
      "image/png": "[encoded data removed]",
      "text/plain": [
       "<Figure size 432x288 with 1 Axes>"
      ]
     },
     "metadata": {
      "needs_background": "light"
     },
     "output_type": "display_data"
    }
   ],
   "source": [
    "sns.countplot(x = Y_val)"
   ]
  },
  {
   "cell_type": "markdown",
   "metadata": {},
   "source": [
    "Test distribution"
   ]
  },
  {
   "cell_type": "code",
   "execution_count": 9,
   "metadata": {
    "execution": {
     "iopub.execute_input": "2021-08-22T16:03:54.732794Z",
     "iopub.status.busy": "2021-08-22T16:03:54.732004Z",
     "iopub.status.idle": "2021-08-22T16:03:54.998005Z",
     "shell.execute_reply": "2021-08-22T16:03:54.998413Z",
     "shell.execute_reply.started": "2021-08-22T14:26:32.315774Z"
    },
    "papermill": {
     "duration": 0.293959,
     "end_time": "2021-08-22T16:03:54.998555",
     "exception": false,
     "start_time": "2021-08-22T16:03:54.704596",
     "status": "completed"
    },
    "tags": []
   },
   "outputs": [
    {
     "data": {
      "text/plain": [
       "<AxesSubplot:ylabel='count'>"
      ]
     },
     "execution_count": 9,
     "metadata": {},
     "output_type": "execute_result"
    },
    {
     "data": {
      "image/png": "[encoded data removed]",
      "text/plain": [
       "<Figure size 432x288 with 1 Axes>"
      ]
     },
     "metadata": {
      "needs_background": "light"
     },
     "output_type": "display_data"
    }
   ],
   "source": [
    "sns.countplot(x = Y_test)"
   ]
  },
  {
   "cell_type": "code",
   "execution_count": 10,
   "metadata": {
    "execution": {
     "iopub.execute_input": "2021-08-22T16:03:55.070598Z",
     "iopub.status.busy": "2021-08-22T16:03:55.069938Z",
     "iopub.status.idle": "2021-08-22T16:03:55.093940Z",
     "shell.execute_reply": "2021-08-22T16:03:55.094311Z",
     "shell.execute_reply.started": "2021-08-22T14:26:32.594250Z"
    },
    "papermill": {
     "duration": 0.071726,
     "end_time": "2021-08-22T16:03:55.094447",
     "exception": false,
     "start_time": "2021-08-22T16:03:55.022721",
     "status": "completed"
    },
    "tags": []
   },
   "outputs": [],
   "source": [
    "df_train = pd.DataFrame(list(zip(X_train, Y_train)), columns =['image_path', 'label'])\n",
    "df_val = pd.DataFrame(list(zip(X_val, Y_val)), columns =['image_path', 'label'])\n",
    "df_test = pd.DataFrame(list(zip(X_test, Y_test)), columns =['image_path', 'label'])"
   ]
  },
  {
   "cell_type": "markdown",
   "metadata": {},
   "source": [
    "## Data Augmentation"
   ]
  },
  {
   "cell_type": "code",
   "execution_count": 11,
   "metadata": {
    "execution": {
     "iopub.execute_input": "2021-08-22T16:03:55.152058Z",
     "iopub.status.busy": "2021-08-22T16:03:55.151439Z",
     "iopub.status.idle": "2021-08-22T16:06:06.114664Z",
     "shell.execute_reply": "2021-08-22T16:06:06.115494Z",
     "shell.execute_reply.started": "2021-08-22T14:34:37.215710Z"
    },
    "papermill": {
     "duration": 130.997262,
     "end_time": "2021-08-22T16:06:06.115711",
     "exception": false,
     "start_time": "2021-08-22T16:03:55.118449",
     "status": "completed"
    },
    "tags": []
   },
   "outputs": [
    {
     "name": "stdout",
     "output_type": "stream",
     "text": [
      "Found 66812 validated image filenames belonging to 4 classes.\n",
      "Found 16704 validated image filenames belonging to 4 classes.\n",
      "Found 968 validated image filenames belonging to 4 classes.\n"
     ]
    }
   ],
   "source": [
    "from keras.preprocessing.image import ImageDataGenerator\n",
    "\n",
    "train_aug = ImageDataGenerator(\n",
    "    horizontal_flip=True,\n",
    "    width_shift_range=0.05,\n",
    "    height_shift_range=0.05,\n",
    "    zoom_range=0.05,\n",
    "    rescale = 1./255,\n",
    "    preprocessing_function=tf.keras.applications.vgg16.preprocess_input\n",
    ")\n",
    "\n",
    "test_aug = ImageDataGenerator(\n",
    "    rescale = 1./255,\n",
    "    preprocessing_function=tf.keras.applications.vgg16.preprocess_input\n",
    ")\n",
    "\n",
    "train_generator= train_aug.flow_from_dataframe(\n",
    "    dataframe=df_train,\n",
    "    x_col=\"image_path\",\n",
    "    y_col=\"label\",\n",
    "    batch_size=16,\n",
    "    color_mode=\"rgb\",\n",
    "    target_size = (224, 224),\n",
    "    class_mode=\"categorical\")\n",
    "\n",
    "val_generator= test_aug.flow_from_dataframe(\n",
    "    dataframe=df_val,\n",
    "    x_col=\"image_path\",\n",
    "    y_col=\"label\",\n",
    "    batch_size=16,\n",
    "    color_mode=\"rgb\",\n",
    "    target_size = (224, 224),\n",
    "    class_mode=\"categorical\")\n",
    "\n",
    "test_generator= test_aug.flow_from_dataframe(\n",
    "    dataframe=df_test,\n",
    "    x_col=\"image_path\",\n",
    "    y_col=\"label\",\n",
    "    color_mode=\"rgb\",\n",
    "    batch_size=16,\n",
    "    shuffle = False, \n",
    "    target_size = (224, 224),\n",
    "    class_mode=\"categorical\")"
   ]
  },
  {
   "cell_type": "markdown",
   "metadata": {},
   "source": [
    "# MODEL\n",
    "## Compiling & Training"
   ]
  },
  {
   "cell_type": "code",
   "execution_count": 12,
   "metadata": {
    "execution": {
     "iopub.execute_input": "2021-08-22T16:06:06.175595Z",
     "iopub.status.busy": "2021-08-22T16:06:06.174885Z",
     "iopub.status.idle": "2021-08-22T16:06:06.177487Z",
     "shell.execute_reply": "2021-08-22T16:06:06.177097Z",
     "shell.execute_reply.started": "2021-08-22T16:02:10.698745Z"
    },
    "papermill": {
     "duration": 0.036081,
     "end_time": "2021-08-22T16:06:06.177588",
     "exception": false,
     "start_time": "2021-08-22T16:06:06.141507",
     "status": "completed"
    },
    "tags": []
   },
   "outputs": [],
   "source": [
    "from tensorflow.keras.applications.vgg16 import VGG16\n",
    "from keras.layers import Activation,Dense, Dropout, Flatten, Conv2D, MaxPool2D, MaxPooling2D,AveragePooling2D, BatchNormalization, PReLU, ReLU\n",
    "from keras.models import Model\n",
    "from keras.applications.inception_v3 import InceptionV3\n",
    "from keras.applications import ResNet50, InceptionResNetV2\n",
    "\n",
    "def generate_model(pretrained_model = 'vgg16', num_classes=4):\n",
    "    if pretrained_model == 'inceptionv3':\n",
    "        base_model = InceptionV3(weights = 'imagenet', include_top=False, input_shape=(224, 224, 3))\n",
    "    elif pretrained_model == 'inceptionresnet':\n",
    "        base_model = InceptionResNetV2(weights = 'imagenet', include_top=False, input_shape=(224, 224, 3))\n",
    "    else:\n",
    "        base_model = VGG16(weights = 'imagenet', include_top=False, input_shape=(224, 224, 3)) # Topless\n",
    "    \n",
    "    x = base_model.output\n",
    "    x = Flatten()(x)\n",
    "    x = Dense(4096)(x)\n",
    "    x = ReLU()(x)\n",
    "    x = Dropout(0.5)(x)\n",
    "    x = Dense(4096)(x)\n",
    "    x = ReLU()(x)\n",
    "    x = Dropout(0.5)(x)\n",
    "    predictions = Dense(num_classes, activation='softmax')(x)\n",
    "    model = Model(inputs=base_model.input, outputs=predictions)\n",
    "    \n",
    "    #Freezing Convolutional Base\n",
    "    for layer in base_model.layers[:-3]:\n",
    "        layer.trainable = False  \n",
    "    return model"
   ]
  },
  {
   "cell_type": "code",
   "execution_count": 13,
   "metadata": {
    "execution": {
     "iopub.execute_input": "2021-08-22T16:06:06.233130Z",
     "iopub.status.busy": "2021-08-22T16:06:06.232393Z",
     "iopub.status.idle": "2021-08-22T16:06:06.234667Z",
     "shell.execute_reply": "2021-08-22T16:06:06.235138Z",
     "shell.execute_reply.started": "2021-08-22T14:36:27.631061Z"
    },
    "papermill": {
     "duration": 0.033079,
     "end_time": "2021-08-22T16:06:06.235258",
     "exception": false,
     "start_time": "2021-08-22T16:06:06.202179",
     "status": "completed"
    },
    "tags": []
   },
   "outputs": [],
   "source": [
    "def train_model(model, train_generator, test_generator, num_epochs, optimizer, metrics):\n",
    "    model.compile(loss='categorical_crossentropy', \n",
    "                  optimizer=optimizer, \n",
    "                  metrics=metrics)\n",
    "    early_stop = tf.keras.callbacks.EarlyStopping(monitor=\"val_accuracy\",patience=6, verbose=1)\n",
    "    rlr = tf.keras.callbacks.ReduceLROnPlateau(monitor=\"val_loss\", factor=0.1, patience=7)\n",
    "    print(model.summary())\n",
    "    \n",
    "    history = model.fit(train_generator, epochs=num_epochs, \n",
    "                        validation_data=test_generator, verbose=1,\n",
    "                        callbacks = [early_stop, rlr])\n",
    "    \n",
    "    return model, history"
   ]
  },
  {
   "cell_type": "markdown",
   "metadata": {},
   "source": [
    "# Model Evaluation\n",
    "## Plotting Curves - Loss, Accuracy, ROC + Confusion Matrix"
   ]
  },
  {
   "cell_type": "code",
   "execution_count": 14,
   "metadata": {
    "execution": {
     "iopub.execute_input": "2021-08-22T16:06:06.308231Z",
     "iopub.status.busy": "2021-08-22T16:06:06.307655Z",
     "iopub.status.idle": "2021-08-22T16:06:08.265887Z",
     "shell.execute_reply": "2021-08-22T16:06:08.265422Z",
     "shell.execute_reply.started": "2021-08-22T14:36:32.101905Z"
    },
    "papermill": {
     "duration": 2.006105,
     "end_time": "2021-08-22T16:06:08.266018",
     "exception": false,
     "start_time": "2021-08-22T16:06:06.259913",
     "status": "completed"
    },
    "tags": []
   },
   "outputs": [],
   "source": [
    "import itertools\n",
    "import sklearn\n",
    "from sklearn.model_selection import train_test_split\n",
    "from sklearn.utils import class_weight\n",
    "from sklearn.preprocessing import LabelBinarizer\n",
    "from sklearn.metrics import roc_curve, auc, roc_auc_score, confusion_matrix, classification_report\n",
    "\n",
    "metrics = ['accuracy',\n",
    "                tf.keras.metrics.AUC(),\n",
    "                tfa.metrics.CohenKappa(num_classes = 4),\n",
    "                tfa.metrics.F1Score(num_classes = 4),\n",
    "                tf.keras.metrics.Precision(), \n",
    "                tf.keras.metrics.Recall()]\n",
    "\n",
    "def plot_loss(history):\n",
    "    plt.plot(history.history['loss'])\n",
    "    plt.plot(history.history['val_loss'])\n",
    "    plt.title('model loss')\n",
    "    plt.ylabel('loss')\n",
    "    plt.xlabel('epoch')\n",
    "    plt.legend(['train', 'val'], loc='upper left')\n",
    "    \n",
    "def plot_acc(history):\n",
    "    plt.plot(history.history['accuracy'])\n",
    "    plt.plot(history.history['val_accuracy'])\n",
    "    plt.title('model accuracy')\n",
    "    plt.ylabel('accuracy')\n",
    "    plt.xlabel('epoch')\n",
    "    plt.legend(['train', 'val'], loc='upper left')\n",
    "    \n",
    "# It prints & plots the confusion matrix, normalization can be applied by setting normalize=True.\n",
    "    \n",
    "def plot_confusion_matrix(cm, classes,normalize=False,title='Confusion matrix',cmap=plt.cm.Blues):\n",
    "\n",
    "    plt.figure(figsize = (5,5))\n",
    "    plt.imshow(cm, interpolation='nearest', cmap=cmap)\n",
    "    plt.title(title)\n",
    "    plt.colorbar()\n",
    "    tick_marks = np.arange(len(classes))\n",
    "    plt.xticks(tick_marks, classes, rotation=90)\n",
    "    plt.yticks(tick_marks, classes)\n",
    "    if normalize:\n",
    "        cm = cm.astype('float') / cm.sum(axis=1)[:, np.newaxis]\n",
    "\n",
    "    thresh = cm.max() / 2.\n",
    "    for i, j in itertools.product(range(cm.shape[0]), range(cm.shape[1])):\n",
    "        plt.text(j, i, cm[i, j],\n",
    "                 horizontalalignment=\"center\",\n",
    "                 color=\"white\" if cm[i, j] > thresh else \"black\")\n",
    "    plt.tight_layout()\n",
    "    plt.ylabel('True label')\n",
    "    plt.xlabel('Predicted label')\n",
    "\n",
    "def plot_roc_curves(y_true, y_pred, num_classes, class_labels):\n",
    "    \n",
    "    lb = LabelBinarizer()\n",
    "    lb.fit(y_true)\n",
    "    y_test = lb.transform(y_true)\n",
    "\n",
    "    # Compute ROC curve and ROC area for each class\n",
    "    fpr = dict()\n",
    "    tpr = dict()\n",
    "    roc_auc = dict()\n",
    "    for i in range(num_classes):\n",
    "        fpr[i], tpr[i], _ = roc_curve(y_test[:, i], y_pred[:, i])\n",
    "        roc_auc[i] = auc(fpr[i], tpr[i])\n",
    "\n",
    "    # Plot all ROC curves\n",
    "    for i in range(num_classes):\n",
    "        fig, c_ax = plt.subplots(1,1, figsize = (6, 4))\n",
    "        c_ax.plot(fpr[i], tpr[i],\n",
    "                 label='ROC curve of class {0} (area = {1:0.4f})'\n",
    "                 ''.format(class_labels[i], roc_auc[i]))\n",
    "        c_ax.set_xlabel('False Positive Rate')\n",
    "        c_ax.set_ylabel('True Positive Rate')\n",
    "        c_ax.set_title('ROC curve of class {0}'.format(class_labels[i]))\n",
    "        c_ax.legend(loc=\"lower right\")\n",
    "        plt.show()\n",
    "    return roc_auc_score(y_test, y_pred)"
   ]
  },
  {
   "cell_type": "code",
   "execution_count": 15,
   "metadata": {
    "execution": {
     "iopub.execute_input": "2021-08-22T16:06:08.324620Z",
     "iopub.status.busy": "2021-08-22T16:06:08.323100Z",
     "iopub.status.idle": "2021-08-22T16:06:08.325428Z",
     "shell.execute_reply": "2021-08-22T16:06:08.325819Z",
     "shell.execute_reply.started": "2021-08-22T16:02:14.429372Z"
    },
    "papermill": {
     "duration": 0.03463,
     "end_time": "2021-08-22T16:06:08.325962",
     "exception": false,
     "start_time": "2021-08-22T16:06:08.291332",
     "status": "completed"
    },
    "tags": []
   },
   "outputs": [],
   "source": [
    "def evaluate_model(model, history, test_generator):\n",
    "    # Evaluate model\n",
    "    score = model.evaluate(test_generator, verbose=0)\n",
    "    print('\\nTest set accuracy:', score[1], '\\n')\n",
    "    \n",
    "    y_true = np.array(test_generator.labels)\n",
    "    y_pred = model.predict(test_generator, verbose = 1)\n",
    "    y_pred_classes = np.argmax(y_pred,axis = 1)\n",
    "    class_labels = list(test_generator.class_indices.keys())   \n",
    "    \n",
    "    print('\\n', sklearn.metrics.classification_report(y_true, y_pred_classes, target_names=class_labels), sep='')\n",
    "    confusion_mtx = confusion_matrix(y_true, y_pred_classes)\n",
    "    plot_acc(history)\n",
    "    plt.show()\n",
    "    plot_loss(history)\n",
    "    plt.show()\n",
    "    plot_confusion_matrix(confusion_mtx, classes = class_labels)\n",
    "    plt.show()\n",
    "    print(\"ROS AUC score:\", plot_roc_curves(y_true, y_pred, 4, class_labels))"
   ]
  },
  {
   "cell_type": "markdown",
   "metadata": {},
   "source": [
    "# Transfer Learning using VGG16"
   ]
  },
  {
   "cell_type": "code",
   "execution_count": 16,
   "metadata": {
    "execution": {
     "iopub.execute_input": "2021-08-22T16:06:08.388703Z",
     "iopub.status.busy": "2021-08-22T16:06:08.387825Z",
     "iopub.status.idle": "2021-08-22T16:06:09.205585Z",
     "shell.execute_reply": "2021-08-22T16:06:09.205124Z",
     "shell.execute_reply.started": "2021-08-22T16:02:17.227464Z"
    },
    "papermill": {
     "duration": 0.85459,
     "end_time": "2021-08-22T16:06:09.205711",
     "exception": false,
     "start_time": "2021-08-22T16:06:08.351121",
     "status": "completed"
    },
    "tags": []
   },
   "outputs": [
    {
     "name": "stdout",
     "output_type": "stream",
     "text": [
      "Downloading data from https://storage.googleapis.com/tensorflow/keras-applications/vgg16/vgg16_weights_tf_dim_ordering_tf_kernels_notop.h5\n",
      "58892288/58889256 [==============================] - 0s 0us/step\n"
     ]
    }
   ],
   "source": [
    "vgg_model = generate_model('vgg16', 4)"
   ]
  },
  {
   "cell_type": "code",
   "execution_count": 17,
   "metadata": {
    "execution": {
     "iopub.execute_input": "2021-08-22T16:06:09.274077Z",
     "iopub.status.busy": "2021-08-22T16:06:09.273219Z",
     "iopub.status.idle": "2021-08-22T16:49:33.950810Z",
     "shell.execute_reply": "2021-08-22T16:49:33.951568Z",
     "shell.execute_reply.started": "2021-08-22T16:02:18.928714Z"
    },
    "papermill": {
     "duration": 2604.718017,
     "end_time": "2021-08-22T16:49:33.951797",
     "exception": false,
     "start_time": "2021-08-22T16:06:09.233780",
     "status": "completed"
    },
    "tags": []
   },
   "outputs": [
    {
     "name": "stdout",
     "output_type": "stream",
     "text": [
      "Model: \"model\"\n",
      "_________________________________________________________________\n",
      "Layer (type)                 Output Shape              Param #   \n",
      "=================================================================\n",
      "input_1 (InputLayer)         [(None, 224, 224, 3)]     0         \n",
      "_________________________________________________________________\n",
      "block1_conv1 (Conv2D)        (None, 224, 224, 64)      1792      \n",
      "_________________________________________________________________\n",
      "block1_conv2 (Conv2D)        (None, 224, 224, 64)      36928     \n",
      "_________________________________________________________________\n",
      "block1_pool (MaxPooling2D)   (None, 112, 112, 64)      0         \n",
      "_________________________________________________________________\n",
      "block2_conv1 (Conv2D)        (None, 112, 112, 128)     73856     \n",
      "_________________________________________________________________\n",
      "block2_conv2 (Conv2D)        (None, 112, 112, 128)     147584    \n",
      "_________________________________________________________________\n",
      "block2_pool (MaxPooling2D)   (None, 56, 56, 128)       0         \n",
      "_________________________________________________________________\n",
      "block3_conv1 (Conv2D)        (None, 56, 56, 256)       295168    \n",
      "_________________________________________________________________\n",
      "block3_conv2 (Conv2D)        (None, 56, 56, 256)       590080    \n",
      "_________________________________________________________________\n",
      "block3_conv3 (Conv2D)        (None, 56, 56, 256)       590080    \n",
      "_________________________________________________________________\n",
      "block3_pool (MaxPooling2D)   (None, 28, 28, 256)       0         \n",
      "_________________________________________________________________\n",
      "block4_conv1 (Conv2D)        (None, 28, 28, 512)       1180160   \n",
      "_________________________________________________________________\n",
      "block4_conv2 (Conv2D)        (None, 28, 28, 512)       2359808   \n",
      "_________________________________________________________________\n",
      "block4_conv3 (Conv2D)        (None, 28, 28, 512)       2359808   \n",
      "_________________________________________________________________\n",
      "block4_pool (MaxPooling2D)   (None, 14, 14, 512)       0         \n",
      "_________________________________________________________________\n",
      "block5_conv1 (Conv2D)        (None, 14, 14, 512)       2359808   \n",
      "_________________________________________________________________\n",
      "block5_conv2 (Conv2D)        (None, 14, 14, 512)       2359808   \n",
      "_________________________________________________________________\n",
      "block5_conv3 (Conv2D)        (None, 14, 14, 512)       2359808   \n",
      "_________________________________________________________________\n",
      "block5_pool (MaxPooling2D)   (None, 7, 7, 512)         0         \n",
      "_________________________________________________________________\n",
      "flatten (Flatten)            (None, 25088)             0         \n",
      "_________________________________________________________________\n",
      "dense (Dense)                (None, 4096)              102764544 \n",
      "_________________________________________________________________\n",
      "re_lu (ReLU)                 (None, 4096)              0         \n",
      "_________________________________________________________________\n",
      "dropout (Dropout)            (None, 4096)              0         \n",
      "_________________________________________________________________\n",
      "dense_1 (Dense)              (None, 4096)              16781312  \n",
      "_________________________________________________________________\n",
      "re_lu_1 (ReLU)               (None, 4096)              0         \n",
      "_________________________________________________________________\n",
      "dropout_1 (Dropout)          (None, 4096)              0         \n",
      "_________________________________________________________________\n",
      "dense_2 (Dense)              (None, 4)                 16388     \n",
      "=================================================================\n",
      "Total params: 134,276,932\n",
      "Trainable params: 124,281,860\n",
      "Non-trainable params: 9,995,072\n",
      "_________________________________________________________________\n",
      "None\n",
      "Epoch 1/2\n",
      "4176/4176 [==============================] - 1480s 352ms/step - loss: 0.4727 - accuracy: 0.8272 - auc: 0.9550 - cohen_kappa: 0.7365 - f1_score: 0.7391 - precision: 0.8606 - recall: 0.7910 - val_loss: 0.2714 - val_accuracy: 0.9054 - val_auc: 0.9855 - val_cohen_kappa: 0.8595 - val_f1_score: 0.8645 - val_precision: 0.9130 - val_recall: 0.8976\n",
      "Epoch 2/2\n",
      "4176/4176 [==============================] - 1122s 269ms/step - loss: 0.2360 - accuracy: 0.9187 - auc: 0.9885 - cohen_kappa: 0.8782 - f1_score: 0.8786 - precision: 0.9265 - recall: 0.9110 - val_loss: 0.2266 - val_accuracy: 0.9241 - val_auc: 0.9893 - val_cohen_kappa: 0.8855 - val_f1_score: 0.8791 - val_precision: 0.9289 - val_recall: 0.9189\n"
     ]
    }
   ],
   "source": [
    "vgg_model, vgg_history = train_model(vgg_model, train_generator, val_generator, 2, tf.keras.optimizers.SGD(lr=0.001, momentum=0.9), metrics)"
   ]
  },
  {
   "cell_type": "code",
   "execution_count": 18,
   "metadata": {
    "execution": {
     "iopub.execute_input": "2021-08-22T16:49:38.361679Z",
     "iopub.status.busy": "2021-08-22T16:49:38.360666Z",
     "iopub.status.idle": "2021-08-22T16:49:53.803520Z",
     "shell.execute_reply": "2021-08-22T16:49:53.803942Z",
     "shell.execute_reply.started": "2021-08-22T15:54:54.006609Z"
    },
    "papermill": {
     "duration": 17.630964,
     "end_time": "2021-08-22T16:49:53.804105",
     "exception": false,
     "start_time": "2021-08-22T16:49:36.173141",
     "status": "completed"
    },
    "tags": []
   },
   "outputs": [
    {
     "name": "stdout",
     "output_type": "stream",
     "text": [
      "\n",
      "Test set accuracy: 0.96074378490448 \n",
      "\n",
      "61/61 [==============================] - 5s 76ms/step\n",
      "\n",
      "              precision    recall  f1-score   support\n",
      "\n",
      "         CNV       0.89      1.00      0.94       242\n",
      "         DME       1.00      0.98      0.99       242\n",
      "      DRUSEN       1.00      0.87      0.93       242\n",
      "      NORMAL       0.96      1.00      0.98       242\n",
      "\n",
      "    accuracy                           0.96       968\n",
      "   macro avg       0.96      0.96      0.96       968\n",
      "weighted avg       0.96      0.96      0.96       968\n",
      "\n"
     ]
    },
    {
     "data": {
      "image/png": "[encoded data removed]",
      "text/plain": [
       "<Figure size 432x288 with 1 Axes>"
      ]
     },
     "metadata": {
      "needs_background": "light"
     },
     "output_type": "display_data"
    },
    {
     "data": {
      "image/png": "[encoded data removed]",
      "text/plain": [
       "<Figure size 432x288 with 1 Axes>"
      ]
     },
     "metadata": {
      "needs_background": "light"
     },
     "output_type": "display_data"
    },
    {
     "data": {
      "image/png": "[encoded data removed]",
      "text/plain": [
       "<Figure size 360x360 with 2 Axes>"
      ]
     },
     "metadata": {
      "needs_background": "light"
     },
     "output_type": "display_data"
    },
    {
     "data": {
      "image/png": "[encoded data removed]",
      "text/plain": [
       "<Figure size 432x288 with 1 Axes>"
      ]
     },
     "metadata": {
      "needs_background": "light"
     },
     "output_type": "display_data"
    },
    {
     "data": {
      "image/png": "[encoded data removed]",
      "text/plain": [
       "<Figure size 432x288 with 1 Axes>"
      ]
     },
     "metadata": {
      "needs_background": "light"
     },
     "output_type": "display_data"
    },
    {
     "data": {
      "image/png": "[encoded data removed]",
      "text/plain": [
       "<Figure size 432x288 with 1 Axes>"
      ]
     },
     "metadata": {
      "needs_background": "light"
     },
     "output_type": "display_data"
    },
    {
     "data": {
      "image/png": "[encoded data removed]",
      "text/plain": [
       "<Figure size 432x288 with 1 Axes>"
      ]
     },
     "metadata": {
      "needs_background": "light"
     },
     "output_type": "display_data"
    },
    {
     "name": "stdout",
     "output_type": "stream",
     "text": [
      "ROS AUC score: 0.9996172278760558\n"
     ]
    }
   ],
   "source": [
    "evaluate_model(vgg_model, vgg_history, test_generator)"
   ]
  },
  {
   "cell_type": "code",
   "execution_count": 19,
   "metadata": {
    "execution": {
     "iopub.execute_input": "2021-08-22T16:49:58.766522Z",
     "iopub.status.busy": "2021-08-22T16:49:58.765373Z",
     "iopub.status.idle": "2021-08-22T16:50:00.622314Z",
     "shell.execute_reply": "2021-08-22T16:50:00.621808Z"
    },
    "papermill": {
     "duration": 4.591497,
     "end_time": "2021-08-22T16:50:00.622446",
     "exception": false,
     "start_time": "2021-08-22T16:49:56.030949",
     "status": "completed"
    },
    "tags": []
   },
   "outputs": [],
   "source": [
    "vgg_model.save(\"/kaggle/working/model_weights.h5\")"
   ]
  }
 ],
 "metadata": {
  "kernelspec": {
   "display_name": "Python 3",
   "language": "python",
   "name": "python3"
  },
  "language_info": {
   "codemirror_mode": {
    "name": "ipython",
    "version": 3
   },
   "file_extension": ".py",
   "mimetype": "text/x-python",
   "name": "python",
   "nbconvert_exporter": "python",
   "pygments_lexer": "ipython3",
   "version": "3.8.10"
  },
  "papermill": {
   "default_parameters": {},
   "duration": 2785.388441,
   "end_time": "2021-08-22T16:50:05.836098",
   "environment_variables": {},
   "exception": null,
   "input_path": "__notebook__.ipynb",
   "output_path": "__notebook__.ipynb",
   "parameters": {},
   "start_time": "2021-08-22T16:03:40.447657",
   "version": "2.3.3"
  }
 },
 "nbformat": 4,
 "nbformat_minor": 5
}
