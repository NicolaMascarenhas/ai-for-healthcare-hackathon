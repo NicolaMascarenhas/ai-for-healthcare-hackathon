{
  "nbformat": 4,
  "nbformat_minor": 0,
  "metadata": {
    "colab": {
      "name": "OIA_ODIR Dataset",
      "provenance": [],
      "collapsed_sections": []
    },
    "kernelspec": {
      "display_name": "Python 3",
      "name": "python3"
    },
    "language_info": {
      "name": "python"
    }
  },
  "cells": [
    {
      "cell_type": "markdown",
      "metadata": {
        "id": "vsGDkuGuyq2C"
      },
      "source": [
        "# Classification on OIA ODIR dataset\n",
        "Ocular Disease Intelligent Recognition (ODIR),organized by National Institute of Health Data Science at Peking University (NIHDS-PKU) and  Institute of Artificial Intelligence at Peking University (IAI-PKU), co-organized by Shanggong Medical Technology Co. Ltd. (SG) and Advanced Institute of Information Technology at Peking University (AIIT-PKU). \n",
        "https://odir2019.grand-challenge.org/dataset/ \n",
        "\n",
        "\n",
        "\n",
        "## Dataset details :\n",
        "5,000 structured desensitized ophthalmologic image set of patient's age, sex, binocular ***color fundus photos*** and doctors' diagnostic keywords. \n",
        "\n",
        "Diseases Covered: Normal (N), Diabetes (D), Glaucoma (G), AMD (A) and Hypertension (H). \n",
        "\n",
        "Diseases Droped:Cataract (C), Myopia (M), Opacity (O)"
      ]
    },
    {
      "cell_type": "markdown",
      "metadata": {
        "id": "wFJz4KrJKXoL"
      },
      "source": [
        "# Import Files & Libraries"
      ]
    },
    {
      "cell_type": "code",
      "metadata": {
        "colab": {
          "base_uri": "https://localhost:8080/"
        },
        "id": "K4GBQPHC_l1c",
        "outputId": "aff03d28-e400-4bba-999b-cbf6cd84f1ae"
      },
      "source": [
        "from google.colab import drive\n",
        "drive.mount(\"/content/gdrive\")"
      ],
      "execution_count": null,
      "outputs": [
        {
          "output_type": "stream",
          "text": [
            "Mounted at /content/gdrive\n"
          ],
          "name": "stdout"
        }
      ]
    },
    {
      "cell_type": "code",
      "metadata": {
        "id": "lW7Z59aqC8K1"
      },
      "source": [
        "import pandas as pd\n",
        "import numpy as np\n",
        "\n",
        "import tensorflow\n",
        "from tensorflow.keras.models import Model, Sequential, load_model\n",
        "from tensorflow.keras.layers import Flatten, Dense\n",
        "from tensorflow.keras.utils import Sequence\n",
        "from tensorflow.keras.applications import EfficientNetB0\n",
        "from tensorflow.keras.applications.imagenet_utils import preprocess_input\n",
        "from tensorflow.keras.preprocessing.image import ImageDataGenerator\n",
        "from tensorflow.keras.optimizers import Adam\n",
        "from tensorflow.keras.losses import CategoricalCrossentropy, CategoricalHinge\n",
        "from tensorflow.keras.callbacks import ModelCheckpoint, ReduceLROnPlateau,EarlyStopping\n",
        "\n",
        "from sklearn.model_selection import train_test_split\n",
        "from sklearn.utils import class_weight\n",
        "from sklearn.preprocessing import LabelBinarizer\n",
        "from sklearn.metrics import roc_curve, auc, roc_auc_score, confusion_matrix, classification_report\n",
        "\n",
        "import matplotlib.cm as cm\n",
        "import matplotlib.pyplot as plt"
      ],
      "execution_count": null,
      "outputs": []
    },
    {
      "cell_type": "code",
      "metadata": {
        "id": "6oVyhYE7XNwg"
      },
      "source": [
        "import datetime\n",
        "from tensorboard.plugins.hparams import api as hp"
      ],
      "execution_count": null,
      "outputs": []
    },
    {
      "cell_type": "code",
      "metadata": {
        "id": "GpM2_thaBHPj"
      },
      "source": [
        "training_annotations=pd.read_excel(\"/content/gdrive/My Drive/Colab Notebooks/Derbi Hackathon/oia_odir_dataset/Training Set/Annotation/training.xlsx\")\n",
        "test_annotations=pd.read_excel(\"/content/gdrive/My Drive/Colab Notebooks/Derbi Hackathon/oia_odir_dataset/Onsite_Test_Set/Annotation/on-site-test.xlsx\")"
      ],
      "execution_count": null,
      "outputs": []
    },
    {
      "cell_type": "markdown",
      "metadata": {
        "id": "EQiDYRTZE0xj"
      },
      "source": [
        ""
      ]
    },
    {
      "cell_type": "markdown",
      "metadata": {
        "id": "zXe2_86QI__q"
      },
      "source": [
        "# Import Data"
      ]
    },
    {
      "cell_type": "code",
      "metadata": {
        "id": "e6s3wMPcFrF8"
      },
      "source": [
        "training_annotations.drop(['Patient Sex','Patient Age','Left-Diagnostic Keywords','Right-Diagnostic Keywords'],axis=1,inplace=True)\n",
        "test_annotations.drop(['Patient Sex','Patient Age','Left-Diagnostic Keywords','Right-Diagnostic Keywords'],axis=1,inplace=True)"
      ],
      "execution_count": null,
      "outputs": []
    },
    {
      "cell_type": "code",
      "metadata": {
        "colab": {
          "base_uri": "https://localhost:8080/"
        },
        "id": "t7cWk7Qggv4D",
        "outputId": "16d5deeb-74ca-4c20-b707-8d1cec8abc52"
      },
      "source": [
        "training_annotations"
      ],
      "execution_count": null,
      "outputs": [
        {
          "output_type": "execute_result",
          "data": {
            "text/html": [
              "<div>\n",
              "<style scoped>\n",
              "    .dataframe tbody tr th:only-of-type {\n",
              "        vertical-align: middle;\n",
              "    }\n",
              "\n",
              "    .dataframe tbody tr th {\n",
              "        vertical-align: top;\n",
              "    }\n",
              "\n",
              "    .dataframe thead th {\n",
              "        text-align: right;\n",
              "    }\n",
              "</style>\n",
              "<table border=\"1\" class=\"dataframe\">\n",
              "  <thead>\n",
              "    <tr style=\"text-align: right;\">\n",
              "      <th></th>\n",
              "      <th>ID</th>\n",
              "      <th>Left-Fundus</th>\n",
              "      <th>Right-Fundus</th>\n",
              "      <th>N</th>\n",
              "      <th>D</th>\n",
              "      <th>G</th>\n",
              "      <th>C</th>\n",
              "      <th>A</th>\n",
              "      <th>H</th>\n",
              "      <th>M</th>\n",
              "      <th>O</th>\n",
              "    </tr>\n",
              "  </thead>\n",
              "  <tbody>\n",
              "    <tr>\n",
              "      <th>0</th>\n",
              "      <td>0</td>\n",
              "      <td>0_left.jpg</td>\n",
              "      <td>0_right.jpg</td>\n",
              "      <td>0</td>\n",
              "      <td>0</td>\n",
              "      <td>0</td>\n",
              "      <td>1</td>\n",
              "      <td>0</td>\n",
              "      <td>0</td>\n",
              "      <td>0</td>\n",
              "      <td>0</td>\n",
              "    </tr>\n",
              "    <tr>\n",
              "      <th>1</th>\n",
              "      <td>1</td>\n",
              "      <td>1_left.jpg</td>\n",
              "      <td>1_right.jpg</td>\n",
              "      <td>1</td>\n",
              "      <td>0</td>\n",
              "      <td>0</td>\n",
              "      <td>0</td>\n",
              "      <td>0</td>\n",
              "      <td>0</td>\n",
              "      <td>0</td>\n",
              "      <td>0</td>\n",
              "    </tr>\n",
              "    <tr>\n",
              "      <th>2</th>\n",
              "      <td>2</td>\n",
              "      <td>2_left.jpg</td>\n",
              "      <td>2_right.jpg</td>\n",
              "      <td>0</td>\n",
              "      <td>1</td>\n",
              "      <td>0</td>\n",
              "      <td>0</td>\n",
              "      <td>0</td>\n",
              "      <td>0</td>\n",
              "      <td>0</td>\n",
              "      <td>1</td>\n",
              "    </tr>\n",
              "    <tr>\n",
              "      <th>3</th>\n",
              "      <td>3</td>\n",
              "      <td>3_left.jpg</td>\n",
              "      <td>3_right.jpg</td>\n",
              "      <td>0</td>\n",
              "      <td>0</td>\n",
              "      <td>0</td>\n",
              "      <td>0</td>\n",
              "      <td>0</td>\n",
              "      <td>0</td>\n",
              "      <td>0</td>\n",
              "      <td>1</td>\n",
              "    </tr>\n",
              "    <tr>\n",
              "      <th>4</th>\n",
              "      <td>4</td>\n",
              "      <td>4_left.jpg</td>\n",
              "      <td>4_right.jpg</td>\n",
              "      <td>0</td>\n",
              "      <td>1</td>\n",
              "      <td>0</td>\n",
              "      <td>0</td>\n",
              "      <td>0</td>\n",
              "      <td>0</td>\n",
              "      <td>0</td>\n",
              "      <td>1</td>\n",
              "    </tr>\n",
              "    <tr>\n",
              "      <th>...</th>\n",
              "      <td>...</td>\n",
              "      <td>...</td>\n",
              "      <td>...</td>\n",
              "      <td>...</td>\n",
              "      <td>...</td>\n",
              "      <td>...</td>\n",
              "      <td>...</td>\n",
              "      <td>...</td>\n",
              "      <td>...</td>\n",
              "      <td>...</td>\n",
              "      <td>...</td>\n",
              "    </tr>\n",
              "    <tr>\n",
              "      <th>3495</th>\n",
              "      <td>4686</td>\n",
              "      <td>4686_left.jpg</td>\n",
              "      <td>4686_right.jpg</td>\n",
              "      <td>0</td>\n",
              "      <td>1</td>\n",
              "      <td>0</td>\n",
              "      <td>0</td>\n",
              "      <td>0</td>\n",
              "      <td>0</td>\n",
              "      <td>0</td>\n",
              "      <td>0</td>\n",
              "    </tr>\n",
              "    <tr>\n",
              "      <th>3496</th>\n",
              "      <td>4688</td>\n",
              "      <td>4688_left.jpg</td>\n",
              "      <td>4688_right.jpg</td>\n",
              "      <td>0</td>\n",
              "      <td>1</td>\n",
              "      <td>0</td>\n",
              "      <td>0</td>\n",
              "      <td>0</td>\n",
              "      <td>0</td>\n",
              "      <td>0</td>\n",
              "      <td>0</td>\n",
              "    </tr>\n",
              "    <tr>\n",
              "      <th>3497</th>\n",
              "      <td>4689</td>\n",
              "      <td>4689_left.jpg</td>\n",
              "      <td>4689_right.jpg</td>\n",
              "      <td>0</td>\n",
              "      <td>1</td>\n",
              "      <td>0</td>\n",
              "      <td>0</td>\n",
              "      <td>0</td>\n",
              "      <td>0</td>\n",
              "      <td>0</td>\n",
              "      <td>0</td>\n",
              "    </tr>\n",
              "    <tr>\n",
              "      <th>3498</th>\n",
              "      <td>4690</td>\n",
              "      <td>4690_left.jpg</td>\n",
              "      <td>4690_right.jpg</td>\n",
              "      <td>0</td>\n",
              "      <td>1</td>\n",
              "      <td>0</td>\n",
              "      <td>0</td>\n",
              "      <td>0</td>\n",
              "      <td>0</td>\n",
              "      <td>0</td>\n",
              "      <td>0</td>\n",
              "    </tr>\n",
              "    <tr>\n",
              "      <th>3499</th>\n",
              "      <td>4784</td>\n",
              "      <td>4784_left.jpg</td>\n",
              "      <td>4784_right.jpg</td>\n",
              "      <td>0</td>\n",
              "      <td>0</td>\n",
              "      <td>0</td>\n",
              "      <td>0</td>\n",
              "      <td>1</td>\n",
              "      <td>1</td>\n",
              "      <td>0</td>\n",
              "      <td>0</td>\n",
              "    </tr>\n",
              "  </tbody>\n",
              "</table>\n",
              "<p>3500 rows × 11 columns</p>\n",
              "</div>"
            ],
            "text/plain": [
              "        ID    Left-Fundus    Right-Fundus  N  D  G  C  A  H  M  O\n",
              "0        0     0_left.jpg     0_right.jpg  0  0  0  1  0  0  0  0\n",
              "1        1     1_left.jpg     1_right.jpg  1  0  0  0  0  0  0  0\n",
              "2        2     2_left.jpg     2_right.jpg  0  1  0  0  0  0  0  1\n",
              "3        3     3_left.jpg     3_right.jpg  0  0  0  0  0  0  0  1\n",
              "4        4     4_left.jpg     4_right.jpg  0  1  0  0  0  0  0  1\n",
              "...    ...            ...             ... .. .. .. .. .. .. .. ..\n",
              "3495  4686  4686_left.jpg  4686_right.jpg  0  1  0  0  0  0  0  0\n",
              "3496  4688  4688_left.jpg  4688_right.jpg  0  1  0  0  0  0  0  0\n",
              "3497  4689  4689_left.jpg  4689_right.jpg  0  1  0  0  0  0  0  0\n",
              "3498  4690  4690_left.jpg  4690_right.jpg  0  1  0  0  0  0  0  0\n",
              "3499  4784  4784_left.jpg  4784_right.jpg  0  0  0  0  1  1  0  0\n",
              "\n",
              "[3500 rows x 11 columns]"
            ]
          },
          "metadata": {},
          "execution_count": 6
        }
      ]
    },
    {
      "cell_type": "code",
      "metadata": {
        "id": "lBwt67n8IfuR"
      },
      "source": [
        "total_train=training_annotations\n",
        "total_train=total_train.append(training_annotations)\n",
        "total_train=total_train.reset_index() # make index 0 - 6999\n",
        "\n",
        "total_test=test_annotations\n",
        "total_test=total_test.append(test_annotations)\n",
        "total_test=total_test.reset_index() # make index 0 -999"
      ],
      "execution_count": null,
      "outputs": []
    },
    {
      "cell_type": "code",
      "metadata": {
        "colab": {
          "base_uri": "https://localhost:8080/"
        },
        "id": "lVUroB-elLG-",
        "outputId": "5341c9d2-c280-478d-a33f-aa9bbe86655e"
      },
      "source": [
        "total_train['Left-Fundus'][3500:6999]=total_train['Right-Fundus'][3500:6999]\n",
        "total_train[6999:7000]['Left-Fundus']=total_train[6999:7000]['Right-Fundus'] # to make 6999 change from left to rgt\n",
        "total_train.drop(['Right-Fundus'],axis=1,inplace=True)\n",
        "total_train.drop(['index'],axis=1,inplace=True)\n",
        "total_train=total_train.rename(columns={\"Left-Fundus\": \"Fundus\"})\n",
        "\n",
        "# Test dataframe\n",
        "total_test['Left-Fundus'][1000:1999]=total_test['Right-Fundus'][1000:1999]\n",
        "total_test[1000:1999]['Left-Fundus']=total_test[1000:1999]['Right-Fundus'] # to make change from left to rgt\n",
        "# drop all labels\n",
        "total_test.drop(['Right-Fundus','index','N','D','G','A','H','C','M','O'],axis=1,inplace=True)\n",
        "total_test=total_test.rename(columns={\"Left-Fundus\": \"Fundus\"})"
      ],
      "execution_count": null,
      "outputs": [
        {
          "output_type": "stream",
          "text": [
            "/usr/local/lib/python3.7/dist-packages/ipykernel_launcher.py:1: SettingWithCopyWarning: \n",
            "A value is trying to be set on a copy of a slice from a DataFrame\n",
            "\n",
            "See the caveats in the documentation: https://pandas.pydata.org/pandas-docs/stable/user_guide/indexing.html#returning-a-view-versus-a-copy\n",
            "  \"\"\"Entry point for launching an IPython kernel.\n",
            "/usr/local/lib/python3.7/dist-packages/ipykernel_launcher.py:2: SettingWithCopyWarning: \n",
            "A value is trying to be set on a copy of a slice from a DataFrame.\n",
            "Try using .loc[row_indexer,col_indexer] = value instead\n",
            "\n",
            "See the caveats in the documentation: https://pandas.pydata.org/pandas-docs/stable/user_guide/indexing.html#returning-a-view-versus-a-copy\n",
            "  \n",
            "/usr/local/lib/python3.7/dist-packages/ipykernel_launcher.py:8: SettingWithCopyWarning: \n",
            "A value is trying to be set on a copy of a slice from a DataFrame\n",
            "\n",
            "See the caveats in the documentation: https://pandas.pydata.org/pandas-docs/stable/user_guide/indexing.html#returning-a-view-versus-a-copy\n",
            "  \n",
            "/usr/local/lib/python3.7/dist-packages/ipykernel_launcher.py:9: SettingWithCopyWarning: \n",
            "A value is trying to be set on a copy of a slice from a DataFrame.\n",
            "Try using .loc[row_indexer,col_indexer] = value instead\n",
            "\n",
            "See the caveats in the documentation: https://pandas.pydata.org/pandas-docs/stable/user_guide/indexing.html#returning-a-view-versus-a-copy\n",
            "  if __name__ == '__main__':\n"
          ],
          "name": "stderr"
        }
      ]
    },
    {
      "cell_type": "code",
      "metadata": {
        "colab": {
          "base_uri": "https://localhost:8080/"
        },
        "id": "8qOJixRxQO0H",
        "outputId": "d4e3315e-1912-44e1-b7a5-a5a2466bd2db"
      },
      "source": [
        "total_train"
      ],
      "execution_count": null,
      "outputs": [
        {
          "output_type": "execute_result",
          "data": {
            "text/html": [
              "<div>\n",
              "<style scoped>\n",
              "    .dataframe tbody tr th:only-of-type {\n",
              "        vertical-align: middle;\n",
              "    }\n",
              "\n",
              "    .dataframe tbody tr th {\n",
              "        vertical-align: top;\n",
              "    }\n",
              "\n",
              "    .dataframe thead th {\n",
              "        text-align: right;\n",
              "    }\n",
              "</style>\n",
              "<table border=\"1\" class=\"dataframe\">\n",
              "  <thead>\n",
              "    <tr style=\"text-align: right;\">\n",
              "      <th></th>\n",
              "      <th>ID</th>\n",
              "      <th>Fundus</th>\n",
              "      <th>N</th>\n",
              "      <th>D</th>\n",
              "      <th>G</th>\n",
              "      <th>C</th>\n",
              "      <th>A</th>\n",
              "      <th>H</th>\n",
              "      <th>M</th>\n",
              "      <th>O</th>\n",
              "    </tr>\n",
              "  </thead>\n",
              "  <tbody>\n",
              "    <tr>\n",
              "      <th>0</th>\n",
              "      <td>0</td>\n",
              "      <td>0_left.jpg</td>\n",
              "      <td>0</td>\n",
              "      <td>0</td>\n",
              "      <td>0</td>\n",
              "      <td>1</td>\n",
              "      <td>0</td>\n",
              "      <td>0</td>\n",
              "      <td>0</td>\n",
              "      <td>0</td>\n",
              "    </tr>\n",
              "    <tr>\n",
              "      <th>1</th>\n",
              "      <td>1</td>\n",
              "      <td>1_left.jpg</td>\n",
              "      <td>1</td>\n",
              "      <td>0</td>\n",
              "      <td>0</td>\n",
              "      <td>0</td>\n",
              "      <td>0</td>\n",
              "      <td>0</td>\n",
              "      <td>0</td>\n",
              "      <td>0</td>\n",
              "    </tr>\n",
              "    <tr>\n",
              "      <th>2</th>\n",
              "      <td>2</td>\n",
              "      <td>2_left.jpg</td>\n",
              "      <td>0</td>\n",
              "      <td>1</td>\n",
              "      <td>0</td>\n",
              "      <td>0</td>\n",
              "      <td>0</td>\n",
              "      <td>0</td>\n",
              "      <td>0</td>\n",
              "      <td>1</td>\n",
              "    </tr>\n",
              "    <tr>\n",
              "      <th>3</th>\n",
              "      <td>3</td>\n",
              "      <td>3_left.jpg</td>\n",
              "      <td>0</td>\n",
              "      <td>0</td>\n",
              "      <td>0</td>\n",
              "      <td>0</td>\n",
              "      <td>0</td>\n",
              "      <td>0</td>\n",
              "      <td>0</td>\n",
              "      <td>1</td>\n",
              "    </tr>\n",
              "    <tr>\n",
              "      <th>4</th>\n",
              "      <td>4</td>\n",
              "      <td>4_left.jpg</td>\n",
              "      <td>0</td>\n",
              "      <td>1</td>\n",
              "      <td>0</td>\n",
              "      <td>0</td>\n",
              "      <td>0</td>\n",
              "      <td>0</td>\n",
              "      <td>0</td>\n",
              "      <td>1</td>\n",
              "    </tr>\n",
              "    <tr>\n",
              "      <th>...</th>\n",
              "      <td>...</td>\n",
              "      <td>...</td>\n",
              "      <td>...</td>\n",
              "      <td>...</td>\n",
              "      <td>...</td>\n",
              "      <td>...</td>\n",
              "      <td>...</td>\n",
              "      <td>...</td>\n",
              "      <td>...</td>\n",
              "      <td>...</td>\n",
              "    </tr>\n",
              "    <tr>\n",
              "      <th>6995</th>\n",
              "      <td>4686</td>\n",
              "      <td>4686_right.jpg</td>\n",
              "      <td>0</td>\n",
              "      <td>1</td>\n",
              "      <td>0</td>\n",
              "      <td>0</td>\n",
              "      <td>0</td>\n",
              "      <td>0</td>\n",
              "      <td>0</td>\n",
              "      <td>0</td>\n",
              "    </tr>\n",
              "    <tr>\n",
              "      <th>6996</th>\n",
              "      <td>4688</td>\n",
              "      <td>4688_right.jpg</td>\n",
              "      <td>0</td>\n",
              "      <td>1</td>\n",
              "      <td>0</td>\n",
              "      <td>0</td>\n",
              "      <td>0</td>\n",
              "      <td>0</td>\n",
              "      <td>0</td>\n",
              "      <td>0</td>\n",
              "    </tr>\n",
              "    <tr>\n",
              "      <th>6997</th>\n",
              "      <td>4689</td>\n",
              "      <td>4689_right.jpg</td>\n",
              "      <td>0</td>\n",
              "      <td>1</td>\n",
              "      <td>0</td>\n",
              "      <td>0</td>\n",
              "      <td>0</td>\n",
              "      <td>0</td>\n",
              "      <td>0</td>\n",
              "      <td>0</td>\n",
              "    </tr>\n",
              "    <tr>\n",
              "      <th>6998</th>\n",
              "      <td>4690</td>\n",
              "      <td>4690_right.jpg</td>\n",
              "      <td>0</td>\n",
              "      <td>1</td>\n",
              "      <td>0</td>\n",
              "      <td>0</td>\n",
              "      <td>0</td>\n",
              "      <td>0</td>\n",
              "      <td>0</td>\n",
              "      <td>0</td>\n",
              "    </tr>\n",
              "    <tr>\n",
              "      <th>6999</th>\n",
              "      <td>4784</td>\n",
              "      <td>4784_right.jpg</td>\n",
              "      <td>0</td>\n",
              "      <td>0</td>\n",
              "      <td>0</td>\n",
              "      <td>0</td>\n",
              "      <td>1</td>\n",
              "      <td>1</td>\n",
              "      <td>0</td>\n",
              "      <td>0</td>\n",
              "    </tr>\n",
              "  </tbody>\n",
              "</table>\n",
              "<p>7000 rows × 10 columns</p>\n",
              "</div>"
            ],
            "text/plain": [
              "        ID          Fundus  N  D  G  C  A  H  M  O\n",
              "0        0      0_left.jpg  0  0  0  1  0  0  0  0\n",
              "1        1      1_left.jpg  1  0  0  0  0  0  0  0\n",
              "2        2      2_left.jpg  0  1  0  0  0  0  0  1\n",
              "3        3      3_left.jpg  0  0  0  0  0  0  0  1\n",
              "4        4      4_left.jpg  0  1  0  0  0  0  0  1\n",
              "...    ...             ... .. .. .. .. .. .. .. ..\n",
              "6995  4686  4686_right.jpg  0  1  0  0  0  0  0  0\n",
              "6996  4688  4688_right.jpg  0  1  0  0  0  0  0  0\n",
              "6997  4689  4689_right.jpg  0  1  0  0  0  0  0  0\n",
              "6998  4690  4690_right.jpg  0  1  0  0  0  0  0  0\n",
              "6999  4784  4784_right.jpg  0  0  0  0  1  1  0  0\n",
              "\n",
              "[7000 rows x 10 columns]"
            ]
          },
          "metadata": {},
          "execution_count": 9
        }
      ]
    },
    {
      "cell_type": "code",
      "metadata": {
        "colab": {
          "base_uri": "https://localhost:8080/"
        },
        "id": "SFZoHTHYnJ1w",
        "outputId": "80539a22-3200-430a-8b08-8c039a8379ff"
      },
      "source": [
        "total_test"
      ],
      "execution_count": null,
      "outputs": [
        {
          "output_type": "execute_result",
          "data": {
            "text/html": [
              "<div>\n",
              "<style scoped>\n",
              "    .dataframe tbody tr th:only-of-type {\n",
              "        vertical-align: middle;\n",
              "    }\n",
              "\n",
              "    .dataframe tbody tr th {\n",
              "        vertical-align: top;\n",
              "    }\n",
              "\n",
              "    .dataframe thead th {\n",
              "        text-align: right;\n",
              "    }\n",
              "</style>\n",
              "<table border=\"1\" class=\"dataframe\">\n",
              "  <thead>\n",
              "    <tr style=\"text-align: right;\">\n",
              "      <th></th>\n",
              "      <th>ID</th>\n",
              "      <th>Fundus</th>\n",
              "    </tr>\n",
              "  </thead>\n",
              "  <tbody>\n",
              "    <tr>\n",
              "      <th>0</th>\n",
              "      <td>198</td>\n",
              "      <td>198_left.jpg</td>\n",
              "    </tr>\n",
              "    <tr>\n",
              "      <th>1</th>\n",
              "      <td>663</td>\n",
              "      <td>663_left.jpg</td>\n",
              "    </tr>\n",
              "    <tr>\n",
              "      <th>2</th>\n",
              "      <td>1025</td>\n",
              "      <td>1025_left.jpg</td>\n",
              "    </tr>\n",
              "    <tr>\n",
              "      <th>3</th>\n",
              "      <td>1139</td>\n",
              "      <td>1139_left.jpg</td>\n",
              "    </tr>\n",
              "    <tr>\n",
              "      <th>4</th>\n",
              "      <td>1141</td>\n",
              "      <td>1141_left.jpg</td>\n",
              "    </tr>\n",
              "    <tr>\n",
              "      <th>...</th>\n",
              "      <td>...</td>\n",
              "      <td>...</td>\n",
              "    </tr>\n",
              "    <tr>\n",
              "      <th>1995</th>\n",
              "      <td>4995</td>\n",
              "      <td>4995_right.jpg</td>\n",
              "    </tr>\n",
              "    <tr>\n",
              "      <th>1996</th>\n",
              "      <td>4996</td>\n",
              "      <td>4996_right.jpg</td>\n",
              "    </tr>\n",
              "    <tr>\n",
              "      <th>1997</th>\n",
              "      <td>4997</td>\n",
              "      <td>4997_right.jpg</td>\n",
              "    </tr>\n",
              "    <tr>\n",
              "      <th>1998</th>\n",
              "      <td>4998</td>\n",
              "      <td>4998_right.jpg</td>\n",
              "    </tr>\n",
              "    <tr>\n",
              "      <th>1999</th>\n",
              "      <td>4999</td>\n",
              "      <td>4999_left.jpg</td>\n",
              "    </tr>\n",
              "  </tbody>\n",
              "</table>\n",
              "<p>2000 rows × 2 columns</p>\n",
              "</div>"
            ],
            "text/plain": [
              "        ID          Fundus\n",
              "0      198    198_left.jpg\n",
              "1      663    663_left.jpg\n",
              "2     1025   1025_left.jpg\n",
              "3     1139   1139_left.jpg\n",
              "4     1141   1141_left.jpg\n",
              "...    ...             ...\n",
              "1995  4995  4995_right.jpg\n",
              "1996  4996  4996_right.jpg\n",
              "1997  4997  4997_right.jpg\n",
              "1998  4998  4998_right.jpg\n",
              "1999  4999   4999_left.jpg\n",
              "\n",
              "[2000 rows x 2 columns]"
            ]
          },
          "metadata": {},
          "execution_count": 10
        }
      ]
    },
    {
      "cell_type": "markdown",
      "metadata": {
        "id": "MXkqJIm-QoFK"
      },
      "source": [
        "# EDA + Conversion to multi - class problem"
      ]
    },
    {
      "cell_type": "code",
      "metadata": {
        "id": "Uasn4rD7QsQC",
        "colab": {
          "base_uri": "https://localhost:8080/"
        },
        "outputId": "56dfa9d7-e68b-4eca-eff5-7c5d4b088aca"
      },
      "source": [
        "sum_column = total_train['N']+total_train['A']+total_train['D']+total_train['G']+total_train['H']\n",
        "sum_column"
      ],
      "execution_count": null,
      "outputs": [
        {
          "output_type": "execute_result",
          "data": {
            "text/plain": [
              "0       0\n",
              "1       1\n",
              "2       1\n",
              "3       0\n",
              "4       1\n",
              "       ..\n",
              "6995    1\n",
              "6996    1\n",
              "6997    1\n",
              "6998    1\n",
              "6999    2\n",
              "Length: 7000, dtype: int64"
            ]
          },
          "metadata": {},
          "execution_count": 11
        }
      ]
    },
    {
      "cell_type": "code",
      "metadata": {
        "colab": {
          "base_uri": "https://localhost:8080/"
        },
        "id": "-egwcg0jSNJt",
        "outputId": "c72f538b-c944-40f5-8d54-1163a8cc2b2d"
      },
      "source": [
        "# No of images making problem multi label\n",
        "index_multi_labeled=[]\n",
        "\n",
        "for i in range(0,len(sum_column)):\n",
        "  if sum_column[i]!=1:\n",
        "    index_multi_labeled.append(i)\n",
        "print(len(index_multi_labeled))\n",
        "print(index_multi_labeled)"
      ],
      "execution_count": null,
      "outputs": [
        {
          "output_type": "stream",
          "text": [
            "1964\n",
            "[0, 3, 9, 10, 11, 12, 13, 14, 15, 16, 17, 18, 20, 21, 24, 25, 29, 31, 33, 34, 35, 36, 38, 39, 40, 42, 43, 51, 52, 56, 57, 58, 59, 60, 61, 63, 65, 66, 68, 69, 70, 71, 73, 75, 76, 78, 80, 82, 83, 85, 88, 91, 92, 95, 97, 98, 99, 100, 101, 103, 104, 105, 106, 109, 110, 112, 114, 115, 117, 119, 120, 122, 124, 125, 127, 128, 129, 131, 132, 134, 135, 138, 139, 140, 141, 142, 143, 144, 145, 146, 147, 149, 150, 153, 154, 155, 156, 165, 166, 170, 172, 173, 174, 176, 178, 180, 181, 182, 183, 185, 187, 189, 190, 192, 194, 196, 197, 199, 203, 204, 207, 211, 213, 214, 217, 218, 219, 221, 225, 226, 227, 231, 232, 235, 236, 237, 238, 239, 240, 241, 243, 244, 245, 246, 247, 251, 252, 253, 254, 255, 257, 258, 260, 268, 270, 272, 274, 275, 276, 277, 282, 284, 285, 286, 289, 292, 293, 294, 295, 296, 297, 300, 301, 302, 304, 305, 306, 309, 310, 312, 314, 315, 316, 317, 321, 324, 325, 328, 329, 330, 331, 332, 334, 335, 336, 338, 342, 343, 345, 346, 348, 349, 350, 351, 352, 353, 355, 356, 361, 362, 363, 364, 365, 369, 370, 371, 372, 374, 378, 380, 381, 383, 384, 387, 388, 389, 392, 394, 395, 399, 400, 401, 402, 403, 404, 405, 407, 408, 412, 415, 416, 417, 420, 422, 424, 425, 428, 431, 432, 433, 437, 438, 439, 442, 448, 449, 452, 453, 455, 456, 457, 458, 459, 460, 462, 464, 467, 469, 470, 471, 475, 476, 477, 479, 480, 481, 482, 486, 487, 495, 498, 499, 500, 501, 502, 503, 507, 508, 509, 510, 514, 516, 519, 520, 522, 523, 524, 525, 526, 527, 528, 530, 533, 535, 539, 542, 544, 547, 551, 552, 553, 554, 558, 559, 569, 570, 572, 574, 576, 579, 580, 583, 584, 585, 586, 587, 588, 589, 590, 598, 601, 604, 605, 610, 612, 616, 617, 619, 622, 623, 627, 628, 632, 635, 636, 639, 640, 642, 643, 645, 649, 651, 654, 655, 656, 657, 658, 660, 663, 668, 669, 671, 672, 677, 678, 681, 683, 687, 691, 692, 694, 700, 702, 703, 704, 708, 709, 710, 713, 714, 715, 719, 722, 723, 724, 725, 726, 727, 729, 730, 732, 734, 735, 736, 737, 739, 740, 744, 745, 747, 749, 752, 754, 756, 758, 762, 764, 765, 768, 769, 770, 771, 772, 773, 774, 778, 779, 780, 781, 787, 795, 796, 798, 802, 803, 806, 807, 809, 816, 818, 820, 821, 822, 825, 826, 827, 831, 832, 833, 835, 836, 838, 839, 841, 842, 843, 844, 846, 849, 851, 852, 854, 856, 857, 859, 860, 861, 864, 865, 867, 870, 871, 873, 874, 875, 876, 877, 880, 881, 882, 885, 889, 890, 891, 892, 893, 894, 895, 897, 898, 899, 900, 901, 904, 905, 906, 907, 910, 913, 916, 917, 919, 920, 922, 923, 926, 928, 929, 930, 931, 932, 933, 935, 937, 938, 939, 940, 942, 943, 947, 951, 952, 955, 960, 962, 965, 969, 970, 971, 974, 975, 978, 980, 981, 982, 983, 984, 985, 989, 990, 992, 993, 994, 995, 996, 997, 998, 999, 1000, 1001, 1002, 1003, 1004, 1005, 1006, 1008, 1010, 1011, 1012, 1014, 1015, 1018, 1019, 1020, 1021, 1022, 1027, 1028, 1029, 1032, 1033, 1035, 1036, 1039, 1043, 1045, 1046, 1047, 1053, 1054, 1055, 1056, 1058, 1059, 1061, 1062, 1063, 1065, 1066, 1067, 1068, 1071, 1074, 1075, 1076, 1077, 1078, 1079, 1080, 1081, 1082, 1083, 1084, 1086, 1087, 1088, 1089, 1090, 1091, 1092, 1093, 1095, 1097, 1098, 1099, 1101, 1102, 1104, 1105, 1106, 1110, 1112, 1113, 1114, 1115, 1116, 1117, 1120, 1121, 1122, 1123, 1124, 1125, 1126, 1127, 1128, 1129, 1130, 1133, 1134, 1138, 1139, 1150, 1157, 1159, 1163, 1165, 1167, 1169, 1170, 1171, 1176, 1186, 1197, 1201, 1202, 1206, 1210, 1214, 1216, 1218, 1219, 1220, 1223, 1224, 1225, 1226, 1227, 1236, 1243, 1248, 1252, 1259, 1262, 1264, 1265, 1268, 1283, 1287, 1288, 1293, 1295, 1298, 1300, 1302, 1303, 1304, 1308, 1313, 1320, 1321, 1322, 1326, 1328, 1334, 1340, 1343, 1344, 1345, 1346, 1347, 1348, 1349, 1350, 1351, 1352, 1353, 1354, 1355, 1356, 1357, 1358, 1359, 1360, 1361, 1362, 1364, 1365, 1366, 1367, 1368, 1369, 1370, 1371, 1372, 1373, 1374, 1375, 1376, 1377, 1378, 1379, 1380, 1381, 1382, 1383, 1384, 1385, 1386, 1387, 1388, 1389, 1390, 1391, 1392, 1393, 1394, 1395, 1396, 1397, 1398, 1399, 1400, 1401, 1402, 1403, 1404, 1405, 1406, 1407, 1408, 1409, 1410, 1411, 1412, 1413, 1414, 1415, 1416, 1417, 1418, 1419, 1420, 1421, 1422, 1423, 1424, 1425, 1426, 1427, 1428, 1429, 1430, 1431, 1432, 1433, 1434, 1435, 1436, 1437, 1438, 1439, 1440, 1441, 1442, 1443, 1444, 1445, 1446, 1448, 1449, 1450, 1451, 1452, 1453, 1454, 1456, 1457, 1458, 1459, 1460, 1462, 1463, 1488, 1507, 1518, 1520, 1522, 1524, 1526, 1527, 1530, 1532, 1534, 1541, 1543, 1544, 1546, 1547, 1550, 1551, 1556, 1557, 1559, 1560, 1563, 1564, 1566, 1567, 1568, 1570, 1571, 1572, 1573, 1574, 1575, 1576, 1578, 1580, 1581, 1582, 1583, 1584, 1585, 1586, 1587, 1588, 1589, 1590, 1591, 1592, 1593, 1594, 1595, 1596, 1597, 1598, 1599, 1600, 1601, 1603, 1604, 1605, 1606, 1607, 1608, 1609, 1610, 1611, 1612, 1613, 1614, 1615, 1617, 1618, 1619, 1620, 1622, 1623, 1627, 1629, 1630, 1631, 1632, 1633, 1634, 1635, 1636, 1637, 1638, 1639, 1640, 1641, 1642, 1643, 1644, 1645, 1646, 1647, 1648, 1649, 1650, 1651, 1652, 1653, 1654, 1655, 1656, 1657, 1660, 1661, 1662, 1663, 1664, 1665, 1666, 1667, 1668, 1669, 1670, 1671, 1672, 1673, 1674, 1675, 1676, 1678, 1679, 1680, 1681, 1683, 1685, 1686, 1687, 1688, 1689, 1691, 1692, 1693, 1694, 1695, 1696, 1697, 1698, 1699, 1700, 1701, 1702, 1703, 2830, 2833, 2844, 2856, 2866, 2868, 2869, 2873, 2893, 2915, 2932, 2935, 2943, 2946, 2950, 2961, 2963, 2990, 2992, 2999, 3010, 3059, 3062, 3067, 3074, 3075, 3079, 3184, 3187, 3291, 3320, 3419, 3499, 3500, 3503, 3509, 3510, 3511, 3512, 3513, 3514, 3515, 3516, 3517, 3518, 3520, 3521, 3524, 3525, 3529, 3531, 3533, 3534, 3535, 3536, 3538, 3539, 3540, 3542, 3543, 3551, 3552, 3556, 3557, 3558, 3559, 3560, 3561, 3563, 3565, 3566, 3568, 3569, 3570, 3571, 3573, 3575, 3576, 3578, 3580, 3582, 3583, 3585, 3588, 3591, 3592, 3595, 3597, 3598, 3599, 3600, 3601, 3603, 3604, 3605, 3606, 3609, 3610, 3612, 3614, 3615, 3617, 3619, 3620, 3622, 3624, 3625, 3627, 3628, 3629, 3631, 3632, 3634, 3635, 3638, 3639, 3640, 3641, 3642, 3643, 3644, 3645, 3646, 3647, 3649, 3650, 3653, 3654, 3655, 3656, 3665, 3666, 3670, 3672, 3673, 3674, 3676, 3678, 3680, 3681, 3682, 3683, 3685, 3687, 3689, 3690, 3692, 3694, 3696, 3697, 3699, 3703, 3704, 3707, 3711, 3713, 3714, 3717, 3718, 3719, 3721, 3725, 3726, 3727, 3731, 3732, 3735, 3736, 3737, 3738, 3739, 3740, 3741, 3743, 3744, 3745, 3746, 3747, 3751, 3752, 3753, 3754, 3755, 3757, 3758, 3760, 3768, 3770, 3772, 3774, 3775, 3776, 3777, 3782, 3784, 3785, 3786, 3789, 3792, 3793, 3794, 3795, 3796, 3797, 3800, 3801, 3802, 3804, 3805, 3806, 3809, 3810, 3812, 3814, 3815, 3816, 3817, 3821, 3824, 3825, 3828, 3829, 3830, 3831, 3832, 3834, 3835, 3836, 3838, 3842, 3843, 3845, 3846, 3848, 3849, 3850, 3851, 3852, 3853, 3855, 3856, 3861, 3862, 3863, 3864, 3865, 3869, 3870, 3871, 3872, 3874, 3878, 3880, 3881, 3883, 3884, 3887, 3888, 3889, 3892, 3894, 3895, 3899, 3900, 3901, 3902, 3903, 3904, 3905, 3907, 3908, 3912, 3915, 3916, 3917, 3920, 3922, 3924, 3925, 3928, 3931, 3932, 3933, 3937, 3938, 3939, 3942, 3948, 3949, 3952, 3953, 3955, 3956, 3957, 3958, 3959, 3960, 3962, 3964, 3967, 3969, 3970, 3971, 3975, 3976, 3977, 3979, 3980, 3981, 3982, 3986, 3987, 3995, 3998, 3999, 4000, 4001, 4002, 4003, 4007, 4008, 4009, 4010, 4014, 4016, 4019, 4020, 4022, 4023, 4024, 4025, 4026, 4027, 4028, 4030, 4033, 4035, 4039, 4042, 4044, 4047, 4051, 4052, 4053, 4054, 4058, 4059, 4069, 4070, 4072, 4074, 4076, 4079, 4080, 4083, 4084, 4085, 4086, 4087, 4088, 4089, 4090, 4098, 4101, 4104, 4105, 4110, 4112, 4116, 4117, 4119, 4122, 4123, 4127, 4128, 4132, 4135, 4136, 4139, 4140, 4142, 4143, 4145, 4149, 4151, 4154, 4155, 4156, 4157, 4158, 4160, 4163, 4168, 4169, 4171, 4172, 4177, 4178, 4181, 4183, 4187, 4191, 4192, 4194, 4200, 4202, 4203, 4204, 4208, 4209, 4210, 4213, 4214, 4215, 4219, 4222, 4223, 4224, 4225, 4226, 4227, 4229, 4230, 4232, 4234, 4235, 4236, 4237, 4239, 4240, 4244, 4245, 4247, 4249, 4252, 4254, 4256, 4258, 4262, 4264, 4265, 4268, 4269, 4270, 4271, 4272, 4273, 4274, 4278, 4279, 4280, 4281, 4287, 4295, 4296, 4298, 4302, 4303, 4306, 4307, 4309, 4316, 4318, 4320, 4321, 4322, 4325, 4326, 4327, 4331, 4332, 4333, 4335, 4336, 4338, 4339, 4341, 4342, 4343, 4344, 4346, 4349, 4351, 4352, 4354, 4356, 4357, 4359, 4360, 4361, 4364, 4365, 4367, 4370, 4371, 4373, 4374, 4375, 4376, 4377, 4380, 4381, 4382, 4385, 4389, 4390, 4391, 4392, 4393, 4394, 4395, 4397, 4398, 4399, 4400, 4401, 4404, 4405, 4406, 4407, 4410, 4413, 4416, 4417, 4419, 4420, 4422, 4423, 4426, 4428, 4429, 4430, 4431, 4432, 4433, 4435, 4437, 4438, 4439, 4440, 4442, 4443, 4447, 4451, 4452, 4455, 4460, 4462, 4465, 4469, 4470, 4471, 4474, 4475, 4478, 4480, 4481, 4482, 4483, 4484, 4485, 4489, 4490, 4492, 4493, 4494, 4495, 4496, 4497, 4498, 4499, 4500, 4501, 4502, 4503, 4504, 4505, 4506, 4508, 4510, 4511, 4512, 4514, 4515, 4518, 4519, 4520, 4521, 4522, 4527, 4528, 4529, 4532, 4533, 4535, 4536, 4539, 4543, 4545, 4546, 4547, 4553, 4554, 4555, 4556, 4558, 4559, 4561, 4562, 4563, 4565, 4566, 4567, 4568, 4571, 4574, 4575, 4576, 4577, 4578, 4579, 4580, 4581, 4582, 4583, 4584, 4586, 4587, 4588, 4589, 4590, 4591, 4592, 4593, 4595, 4597, 4598, 4599, 4601, 4602, 4604, 4605, 4606, 4610, 4612, 4613, 4614, 4615, 4616, 4617, 4620, 4621, 4622, 4623, 4624, 4625, 4626, 4627, 4628, 4629, 4630, 4633, 4634, 4638, 4639, 4650, 4657, 4659, 4663, 4665, 4667, 4669, 4670, 4671, 4676, 4686, 4697, 4701, 4702, 4706, 4710, 4714, 4716, 4718, 4719, 4720, 4723, 4724, 4725, 4726, 4727, 4736, 4743, 4748, 4752, 4759, 4762, 4764, 4765, 4768, 4783, 4787, 4788, 4793, 4795, 4798, 4800, 4802, 4803, 4804, 4808, 4813, 4820, 4821, 4822, 4826, 4828, 4834, 4840, 4843, 4844, 4845, 4846, 4847, 4848, 4849, 4850, 4851, 4852, 4853, 4854, 4855, 4856, 4857, 4858, 4859, 4860, 4861, 4862, 4864, 4865, 4866, 4867, 4868, 4869, 4870, 4871, 4872, 4873, 4874, 4875, 4876, 4877, 4878, 4879, 4880, 4881, 4882, 4883, 4884, 4885, 4886, 4887, 4888, 4889, 4890, 4891, 4892, 4893, 4894, 4895, 4896, 4897, 4898, 4899, 4900, 4901, 4902, 4903, 4904, 4905, 4906, 4907, 4908, 4909, 4910, 4911, 4912, 4913, 4914, 4915, 4916, 4917, 4918, 4919, 4920, 4921, 4922, 4923, 4924, 4925, 4926, 4927, 4928, 4929, 4930, 4931, 4932, 4933, 4934, 4935, 4936, 4937, 4938, 4939, 4940, 4941, 4942, 4943, 4944, 4945, 4946, 4948, 4949, 4950, 4951, 4952, 4953, 4954, 4956, 4957, 4958, 4959, 4960, 4962, 4963, 4988, 5007, 5018, 5020, 5022, 5024, 5026, 5027, 5030, 5032, 5034, 5041, 5043, 5044, 5046, 5047, 5050, 5051, 5056, 5057, 5059, 5060, 5063, 5064, 5066, 5067, 5068, 5070, 5071, 5072, 5073, 5074, 5075, 5076, 5078, 5080, 5081, 5082, 5083, 5084, 5085, 5086, 5087, 5088, 5089, 5090, 5091, 5092, 5093, 5094, 5095, 5096, 5097, 5098, 5099, 5100, 5101, 5103, 5104, 5105, 5106, 5107, 5108, 5109, 5110, 5111, 5112, 5113, 5114, 5115, 5117, 5118, 5119, 5120, 5122, 5123, 5127, 5129, 5130, 5131, 5132, 5133, 5134, 5135, 5136, 5137, 5138, 5139, 5140, 5141, 5142, 5143, 5144, 5145, 5146, 5147, 5148, 5149, 5150, 5151, 5152, 5153, 5154, 5155, 5156, 5157, 5160, 5161, 5162, 5163, 5164, 5165, 5166, 5167, 5168, 5169, 5170, 5171, 5172, 5173, 5174, 5175, 5176, 5178, 5179, 5180, 5181, 5183, 5185, 5186, 5187, 5188, 5189, 5191, 5192, 5193, 5194, 5195, 5196, 5197, 5198, 5199, 5200, 5201, 5202, 5203, 6330, 6333, 6344, 6356, 6366, 6368, 6369, 6373, 6393, 6415, 6432, 6435, 6443, 6446, 6450, 6461, 6463, 6490, 6492, 6499, 6510, 6559, 6562, 6567, 6574, 6575, 6579, 6684, 6687, 6791, 6820, 6919, 6999]\n"
          ],
          "name": "stdout"
        }
      ]
    },
    {
      "cell_type": "code",
      "metadata": {
        "id": "oEr0YgnzbIkO"
      },
      "source": [
        "# Drop Cataract (C), Myopia (M) & Opacity (O)\n",
        "train=total_train.drop(['C','M','O'],axis=1)\n",
        "\n",
        "# drop multi labeled images\n",
        "train.drop(index_multi_labeled,inplace=True)"
      ],
      "execution_count": null,
      "outputs": []
    },
    {
      "cell_type": "code",
      "metadata": {
        "colab": {
          "base_uri": "https://localhost:8080/"
        },
        "id": "rRNf4v87-guz",
        "outputId": "fd8dc696-adbd-40a3-d95f-05426c109301"
      },
      "source": [
        "LABELS = train.columns[2:]\n",
        "def build_label(row):\n",
        "  return \",\".join([LABELS[idx] for idx, val in enumerate(row[2:]) if val == 1])\n",
        "        \n",
        "train.apply(lambda x: build_label(x), axis=1).value_counts()\n",
        "\n",
        "print(LABELS)\n",
        "\n",
        "def build_label_list(row):\n",
        "  return [LABELS[idx] for idx, val in enumerate(row[2:]) if val == 1]\n",
        "        \n",
        "train[\"label\"] = train.apply(lambda x: build_label_list(x), axis=1)"
      ],
      "execution_count": null,
      "outputs": [
        {
          "output_type": "stream",
          "text": [
            "Index(['N', 'D', 'G', 'A', 'H', 'label'], dtype='object')\n"
          ],
          "name": "stdout"
        }
      ]
    },
    {
      "cell_type": "markdown",
      "metadata": {
        "id": "hIkZ_fvgWyME"
      },
      "source": [
        "No of images in each class"
      ]
    },
    {
      "cell_type": "code",
      "metadata": {
        "colab": {
          "base_uri": "https://localhost:8080/"
        },
        "id": "Fq7k0irUThXX",
        "outputId": "2c0281de-8594-41e3-ad5a-95af69cad80a"
      },
      "source": [
        "train.sum()"
      ],
      "execution_count": null,
      "outputs": [
        {
          "output_type": "execute_result",
          "data": {
            "text/plain": [
              "ID                                                 13369090\n",
              "Fundus    1_left.jpg2_left.jpg4_left.jpg5_left.jpg6_left...\n",
              "N                                                      2280\n",
              "D                                                      2070\n",
              "G                                                       328\n",
              "A                                                       266\n",
              "H                                                        92\n",
              "label     [N, D, D, D, D, D, N, D, D, H, D, D, H, G, H, ...\n",
              "dtype: object"
            ]
          },
          "metadata": {},
          "execution_count": 48
        }
      ]
    },
    {
      "cell_type": "markdown",
      "metadata": {
        "id": "GjEN0yy7CFpt"
      },
      "source": [
        "# Data Augmentation"
      ]
    },
    {
      "cell_type": "code",
      "metadata": {
        "id": "0DMjkaR_Gkku"
      },
      "source": [
        "train_datagen = ImageDataGenerator(\n",
        "    rescale=1./255,\n",
        "    shear_range=0.2,\n",
        "    zoom_range=0.2,validation_split=0.1,\n",
        "    horizontal_flip=True,preprocessing_function = preprocess_input)\n",
        "\n",
        "test_datagen = ImageDataGenerator(rescale=1./255,preprocessing_function = preprocess_input)"
      ],
      "execution_count": null,
      "outputs": []
    },
    {
      "cell_type": "code",
      "metadata": {
        "colab": {
          "base_uri": "https://localhost:8080/",
          "height": 86
        },
        "id": "cpf6aHvizEi0",
        "outputId": "81f30930-3e40-4c37-99d9-5f8d8ccb16b9"
      },
      "source": [
        "train_generator = train_datagen.flow_from_dataframe(\n",
        "    train,directory=\"/content/gdrive/My Drive/Colab Notebooks/Derbi Hackathon/oia_odir_dataset/Training Set/Images\",\n",
        "    batch_size=32,color_mode=\"rgb\",subset='training',target_size=(224, 224),\n",
        "    x_col='Fundus',class_mode=\"categorical\",y_col=\"label\") \n",
        "\n",
        "\"\"\"\n",
        "train_generator = train_datagen.flow_from_dataframe(\n",
        "    train,directory=\"/content/gdrive/My Drive/Colab Notebooks/Derbi Hackathon/oia_odir_dataset/Training Set/Images\",\n",
        "    batch_size=32,color_mode=\"rgb\",subset='training',\n",
        "    x_col='Fundus',class_mode='multi_output',target_size=(224, 224),y_col=['N','D','G','A','H']) \n",
        "#earlier class mode was multi-output \"raw\"\n",
        "\"\"\""
      ],
      "execution_count": null,
      "outputs": [
        {
          "output_type": "stream",
          "text": [
            "Found 4533 validated image filenames belonging to 5 classes.\n"
          ],
          "name": "stdout"
        },
        {
          "output_type": "execute_result",
          "data": {
            "application/vnd.google.colaboratory.intrinsic+json": {
              "type": "string"
            },
            "text/plain": [
              "'\\ntrain_generator = train_datagen.flow_from_dataframe(\\n    train,directory=\"/content/gdrive/My Drive/Colab Notebooks/Derbi Hackathon/oia_odir_dataset/Training Set/Images\",\\n    batch_size=32,color_mode=\"rgb\",subset=\\'training\\',\\n    x_col=\\'Fundus\\',class_mode=\\'multi_output\\',target_size=(224, 224),y_col=[\\'N\\',\\'D\\',\\'G\\',\\'A\\',\\'H\\']) \\n#earlier class mode was multi-output \"raw\"\\n'"
            ]
          },
          "metadata": {},
          "execution_count": 51
        }
      ]
    },
    {
      "cell_type": "code",
      "metadata": {
        "colab": {
          "base_uri": "https://localhost:8080/",
          "height": 86
        },
        "id": "WBe6bRwzGGsl",
        "outputId": "7f804396-18d2-46aa-9fab-0ff105115a87"
      },
      "source": [
        "validation_generator= train_datagen.flow_from_dataframe(train,batch_size=32,\n",
        "                                                  directory=\"/content/gdrive/My Drive/Colab Notebooks/Derbi Hackathon/oia_odir_dataset/Training Set/Images\",target_size=(224, 224),\n",
        "                                                  x_col='Fundus',class_mode=\"categorical\",y_col=\"label\",subset='validation') \n",
        "\n",
        "\"\"\"\n",
        "validation_generator= train_datagen.flow_from_dataframe(train,batch_size=32,\n",
        "                                                  directory=\"/content/gdrive/My Drive/Colab Notebooks/Derbi Hackathon/oia_odir_dataset/Training Set/Images\",target_size=(224, 224),\n",
        "                                                  x_col='Fundus',y_col=['N','D','G','A','H'],class_mode='multi_output',subset='validation')\n",
        "\"\"\""
      ],
      "execution_count": null,
      "outputs": [
        {
          "output_type": "stream",
          "text": [
            "Found 503 validated image filenames belonging to 5 classes.\n"
          ],
          "name": "stdout"
        },
        {
          "output_type": "execute_result",
          "data": {
            "application/vnd.google.colaboratory.intrinsic+json": {
              "type": "string"
            },
            "text/plain": [
              "'\\nvalidation_generator= train_datagen.flow_from_dataframe(train,batch_size=32,\\n                                                  directory=\"/content/gdrive/My Drive/Colab Notebooks/Derbi Hackathon/oia_odir_dataset/Training Set/Images\",target_size=(224, 224),\\n                                                  x_col=\\'Fundus\\',y_col=[\\'N\\',\\'D\\',\\'G\\',\\'A\\',\\'H\\'],class_mode=\\'multi_output\\',subset=\\'validation\\')\\n'"
            ]
          },
          "metadata": {},
          "execution_count": 50
        }
      ]
    },
    {
      "cell_type": "code",
      "metadata": {
        "colab": {
          "base_uri": "https://localhost:8080/"
        },
        "id": "QIvB-KGgmSwc",
        "outputId": "417025b2-fddd-400b-fbf3-33e9d775d34a"
      },
      "source": [
        "test_generator = test_datagen.flow_from_dataframe(\n",
        "    total_test,directory=\"/content/gdrive/My Drive/Colab Notebooks/Derbi Hackathon/oia_odir_dataset/Onsite_Test_Set/Images\",target_size=(224, 224),\n",
        "    x_col='Fundus',batch_size=32,class_mode=None)"
      ],
      "execution_count": null,
      "outputs": [
        {
          "output_type": "stream",
          "text": [
            "Found 2000 validated image filenames.\n"
          ],
          "name": "stdout"
        }
      ]
    },
    {
      "cell_type": "markdown",
      "metadata": {
        "id": "yUTh6j_6fjRH"
      },
      "source": [
        "# Efficient Net B0 Model"
      ]
    },
    {
      "cell_type": "code",
      "metadata": {
        "colab": {
          "base_uri": "https://localhost:8080/"
        },
        "id": "rOnktsNSfmQt",
        "outputId": "9b03de49-36d7-4b9c-cac8-cf9d54300029"
      },
      "source": [
        "IMG_SHAPE = (224, 224,3)\n",
        "\n",
        "base_model=EfficientNetB0(input_shape=IMG_SHAPE,include_top=False, weights='imagenet')\n",
        "\n",
        "for layer in base_model.layers:\n",
        "  layer.trainable = False  \n",
        "\n",
        "x = base_model.output\n",
        "x=Flatten()(x)\n",
        "\n",
        "predictions = Dense(5, activation=\"softmax\")(x)\n",
        "\n",
        "model = Model(inputs=base_model.input, outputs=predictions)\n",
        "\n",
        "print(model.summary())"
      ],
      "execution_count": null,
      "outputs": [
        {
          "output_type": "stream",
          "text": [
            "Model: \"model_2\"\n",
            "__________________________________________________________________________________________________\n",
            "Layer (type)                    Output Shape         Param #     Connected to                     \n",
            "==================================================================================================\n",
            "input_3 (InputLayer)            [(None, 224, 224, 3) 0                                            \n",
            "__________________________________________________________________________________________________\n",
            "rescaling_2 (Rescaling)         (None, 224, 224, 3)  0           input_3[0][0]                    \n",
            "__________________________________________________________________________________________________\n",
            "normalization_2 (Normalization) (None, 224, 224, 3)  7           rescaling_2[0][0]                \n",
            "__________________________________________________________________________________________________\n",
            "stem_conv_pad (ZeroPadding2D)   (None, 225, 225, 3)  0           normalization_2[0][0]            \n",
            "__________________________________________________________________________________________________\n",
            "stem_conv (Conv2D)              (None, 112, 112, 32) 864         stem_conv_pad[0][0]              \n",
            "__________________________________________________________________________________________________\n",
            "stem_bn (BatchNormalization)    (None, 112, 112, 32) 128         stem_conv[0][0]                  \n",
            "__________________________________________________________________________________________________\n",
            "stem_activation (Activation)    (None, 112, 112, 32) 0           stem_bn[0][0]                    \n",
            "__________________________________________________________________________________________________\n",
            "block1a_dwconv (DepthwiseConv2D (None, 112, 112, 32) 288         stem_activation[0][0]            \n",
            "__________________________________________________________________________________________________\n",
            "block1a_bn (BatchNormalization) (None, 112, 112, 32) 128         block1a_dwconv[0][0]             \n",
            "__________________________________________________________________________________________________\n",
            "block1a_activation (Activation) (None, 112, 112, 32) 0           block1a_bn[0][0]                 \n",
            "__________________________________________________________________________________________________\n",
            "block1a_se_squeeze (GlobalAvera (None, 32)           0           block1a_activation[0][0]         \n",
            "__________________________________________________________________________________________________\n",
            "block1a_se_reshape (Reshape)    (None, 1, 1, 32)     0           block1a_se_squeeze[0][0]         \n",
            "__________________________________________________________________________________________________\n",
            "block1a_se_reduce (Conv2D)      (None, 1, 1, 8)      264         block1a_se_reshape[0][0]         \n",
            "__________________________________________________________________________________________________\n",
            "block1a_se_expand (Conv2D)      (None, 1, 1, 32)     288         block1a_se_reduce[0][0]          \n",
            "__________________________________________________________________________________________________\n",
            "block1a_se_excite (Multiply)    (None, 112, 112, 32) 0           block1a_activation[0][0]         \n",
            "                                                                 block1a_se_expand[0][0]          \n",
            "__________________________________________________________________________________________________\n",
            "block1a_project_conv (Conv2D)   (None, 112, 112, 16) 512         block1a_se_excite[0][0]          \n",
            "__________________________________________________________________________________________________\n",
            "block1a_project_bn (BatchNormal (None, 112, 112, 16) 64          block1a_project_conv[0][0]       \n",
            "__________________________________________________________________________________________________\n",
            "block2a_expand_conv (Conv2D)    (None, 112, 112, 96) 1536        block1a_project_bn[0][0]         \n",
            "__________________________________________________________________________________________________\n",
            "block2a_expand_bn (BatchNormali (None, 112, 112, 96) 384         block2a_expand_conv[0][0]        \n",
            "__________________________________________________________________________________________________\n",
            "block2a_expand_activation (Acti (None, 112, 112, 96) 0           block2a_expand_bn[0][0]          \n",
            "__________________________________________________________________________________________________\n",
            "block2a_dwconv_pad (ZeroPadding (None, 113, 113, 96) 0           block2a_expand_activation[0][0]  \n",
            "__________________________________________________________________________________________________\n",
            "block2a_dwconv (DepthwiseConv2D (None, 56, 56, 96)   864         block2a_dwconv_pad[0][0]         \n",
            "__________________________________________________________________________________________________\n",
            "block2a_bn (BatchNormalization) (None, 56, 56, 96)   384         block2a_dwconv[0][0]             \n",
            "__________________________________________________________________________________________________\n",
            "block2a_activation (Activation) (None, 56, 56, 96)   0           block2a_bn[0][0]                 \n",
            "__________________________________________________________________________________________________\n",
            "block2a_se_squeeze (GlobalAvera (None, 96)           0           block2a_activation[0][0]         \n",
            "__________________________________________________________________________________________________\n",
            "block2a_se_reshape (Reshape)    (None, 1, 1, 96)     0           block2a_se_squeeze[0][0]         \n",
            "__________________________________________________________________________________________________\n",
            "block2a_se_reduce (Conv2D)      (None, 1, 1, 4)      388         block2a_se_reshape[0][0]         \n",
            "__________________________________________________________________________________________________\n",
            "block2a_se_expand (Conv2D)      (None, 1, 1, 96)     480         block2a_se_reduce[0][0]          \n",
            "__________________________________________________________________________________________________\n",
            "block2a_se_excite (Multiply)    (None, 56, 56, 96)   0           block2a_activation[0][0]         \n",
            "                                                                 block2a_se_expand[0][0]          \n",
            "__________________________________________________________________________________________________\n",
            "block2a_project_conv (Conv2D)   (None, 56, 56, 24)   2304        block2a_se_excite[0][0]          \n",
            "__________________________________________________________________________________________________\n",
            "block2a_project_bn (BatchNormal (None, 56, 56, 24)   96          block2a_project_conv[0][0]       \n",
            "__________________________________________________________________________________________________\n",
            "block2b_expand_conv (Conv2D)    (None, 56, 56, 144)  3456        block2a_project_bn[0][0]         \n",
            "__________________________________________________________________________________________________\n",
            "block2b_expand_bn (BatchNormali (None, 56, 56, 144)  576         block2b_expand_conv[0][0]        \n",
            "__________________________________________________________________________________________________\n",
            "block2b_expand_activation (Acti (None, 56, 56, 144)  0           block2b_expand_bn[0][0]          \n",
            "__________________________________________________________________________________________________\n",
            "block2b_dwconv (DepthwiseConv2D (None, 56, 56, 144)  1296        block2b_expand_activation[0][0]  \n",
            "__________________________________________________________________________________________________\n",
            "block2b_bn (BatchNormalization) (None, 56, 56, 144)  576         block2b_dwconv[0][0]             \n",
            "__________________________________________________________________________________________________\n",
            "block2b_activation (Activation) (None, 56, 56, 144)  0           block2b_bn[0][0]                 \n",
            "__________________________________________________________________________________________________\n",
            "block2b_se_squeeze (GlobalAvera (None, 144)          0           block2b_activation[0][0]         \n",
            "__________________________________________________________________________________________________\n",
            "block2b_se_reshape (Reshape)    (None, 1, 1, 144)    0           block2b_se_squeeze[0][0]         \n",
            "__________________________________________________________________________________________________\n",
            "block2b_se_reduce (Conv2D)      (None, 1, 1, 6)      870         block2b_se_reshape[0][0]         \n",
            "__________________________________________________________________________________________________\n",
            "block2b_se_expand (Conv2D)      (None, 1, 1, 144)    1008        block2b_se_reduce[0][0]          \n",
            "__________________________________________________________________________________________________\n",
            "block2b_se_excite (Multiply)    (None, 56, 56, 144)  0           block2b_activation[0][0]         \n",
            "                                                                 block2b_se_expand[0][0]          \n",
            "__________________________________________________________________________________________________\n",
            "block2b_project_conv (Conv2D)   (None, 56, 56, 24)   3456        block2b_se_excite[0][0]          \n",
            "__________________________________________________________________________________________________\n",
            "block2b_project_bn (BatchNormal (None, 56, 56, 24)   96          block2b_project_conv[0][0]       \n",
            "__________________________________________________________________________________________________\n",
            "block2b_drop (Dropout)          (None, 56, 56, 24)   0           block2b_project_bn[0][0]         \n",
            "__________________________________________________________________________________________________\n",
            "block2b_add (Add)               (None, 56, 56, 24)   0           block2b_drop[0][0]               \n",
            "                                                                 block2a_project_bn[0][0]         \n",
            "__________________________________________________________________________________________________\n",
            "block3a_expand_conv (Conv2D)    (None, 56, 56, 144)  3456        block2b_add[0][0]                \n",
            "__________________________________________________________________________________________________\n",
            "block3a_expand_bn (BatchNormali (None, 56, 56, 144)  576         block3a_expand_conv[0][0]        \n",
            "__________________________________________________________________________________________________\n",
            "block3a_expand_activation (Acti (None, 56, 56, 144)  0           block3a_expand_bn[0][0]          \n",
            "__________________________________________________________________________________________________\n",
            "block3a_dwconv_pad (ZeroPadding (None, 59, 59, 144)  0           block3a_expand_activation[0][0]  \n",
            "__________________________________________________________________________________________________\n",
            "block3a_dwconv (DepthwiseConv2D (None, 28, 28, 144)  3600        block3a_dwconv_pad[0][0]         \n",
            "__________________________________________________________________________________________________\n",
            "block3a_bn (BatchNormalization) (None, 28, 28, 144)  576         block3a_dwconv[0][0]             \n",
            "__________________________________________________________________________________________________\n",
            "block3a_activation (Activation) (None, 28, 28, 144)  0           block3a_bn[0][0]                 \n",
            "__________________________________________________________________________________________________\n",
            "block3a_se_squeeze (GlobalAvera (None, 144)          0           block3a_activation[0][0]         \n",
            "__________________________________________________________________________________________________\n",
            "block3a_se_reshape (Reshape)    (None, 1, 1, 144)    0           block3a_se_squeeze[0][0]         \n",
            "__________________________________________________________________________________________________\n",
            "block3a_se_reduce (Conv2D)      (None, 1, 1, 6)      870         block3a_se_reshape[0][0]         \n",
            "__________________________________________________________________________________________________\n",
            "block3a_se_expand (Conv2D)      (None, 1, 1, 144)    1008        block3a_se_reduce[0][0]          \n",
            "__________________________________________________________________________________________________\n",
            "block3a_se_excite (Multiply)    (None, 28, 28, 144)  0           block3a_activation[0][0]         \n",
            "                                                                 block3a_se_expand[0][0]          \n",
            "__________________________________________________________________________________________________\n",
            "block3a_project_conv (Conv2D)   (None, 28, 28, 40)   5760        block3a_se_excite[0][0]          \n",
            "__________________________________________________________________________________________________\n",
            "block3a_project_bn (BatchNormal (None, 28, 28, 40)   160         block3a_project_conv[0][0]       \n",
            "__________________________________________________________________________________________________\n",
            "block3b_expand_conv (Conv2D)    (None, 28, 28, 240)  9600        block3a_project_bn[0][0]         \n",
            "__________________________________________________________________________________________________\n",
            "block3b_expand_bn (BatchNormali (None, 28, 28, 240)  960         block3b_expand_conv[0][0]        \n",
            "__________________________________________________________________________________________________\n",
            "block3b_expand_activation (Acti (None, 28, 28, 240)  0           block3b_expand_bn[0][0]          \n",
            "__________________________________________________________________________________________________\n",
            "block3b_dwconv (DepthwiseConv2D (None, 28, 28, 240)  6000        block3b_expand_activation[0][0]  \n",
            "__________________________________________________________________________________________________\n",
            "block3b_bn (BatchNormalization) (None, 28, 28, 240)  960         block3b_dwconv[0][0]             \n",
            "__________________________________________________________________________________________________\n",
            "block3b_activation (Activation) (None, 28, 28, 240)  0           block3b_bn[0][0]                 \n",
            "__________________________________________________________________________________________________\n",
            "block3b_se_squeeze (GlobalAvera (None, 240)          0           block3b_activation[0][0]         \n",
            "__________________________________________________________________________________________________\n",
            "block3b_se_reshape (Reshape)    (None, 1, 1, 240)    0           block3b_se_squeeze[0][0]         \n",
            "__________________________________________________________________________________________________\n",
            "block3b_se_reduce (Conv2D)      (None, 1, 1, 10)     2410        block3b_se_reshape[0][0]         \n",
            "__________________________________________________________________________________________________\n",
            "block3b_se_expand (Conv2D)      (None, 1, 1, 240)    2640        block3b_se_reduce[0][0]          \n",
            "__________________________________________________________________________________________________\n",
            "block3b_se_excite (Multiply)    (None, 28, 28, 240)  0           block3b_activation[0][0]         \n",
            "                                                                 block3b_se_expand[0][0]          \n",
            "__________________________________________________________________________________________________\n",
            "block3b_project_conv (Conv2D)   (None, 28, 28, 40)   9600        block3b_se_excite[0][0]          \n",
            "__________________________________________________________________________________________________\n",
            "block3b_project_bn (BatchNormal (None, 28, 28, 40)   160         block3b_project_conv[0][0]       \n",
            "__________________________________________________________________________________________________\n",
            "block3b_drop (Dropout)          (None, 28, 28, 40)   0           block3b_project_bn[0][0]         \n",
            "__________________________________________________________________________________________________\n",
            "block3b_add (Add)               (None, 28, 28, 40)   0           block3b_drop[0][0]               \n",
            "                                                                 block3a_project_bn[0][0]         \n",
            "__________________________________________________________________________________________________\n",
            "block4a_expand_conv (Conv2D)    (None, 28, 28, 240)  9600        block3b_add[0][0]                \n",
            "__________________________________________________________________________________________________\n",
            "block4a_expand_bn (BatchNormali (None, 28, 28, 240)  960         block4a_expand_conv[0][0]        \n",
            "__________________________________________________________________________________________________\n",
            "block4a_expand_activation (Acti (None, 28, 28, 240)  0           block4a_expand_bn[0][0]          \n",
            "__________________________________________________________________________________________________\n",
            "block4a_dwconv_pad (ZeroPadding (None, 29, 29, 240)  0           block4a_expand_activation[0][0]  \n",
            "__________________________________________________________________________________________________\n",
            "block4a_dwconv (DepthwiseConv2D (None, 14, 14, 240)  2160        block4a_dwconv_pad[0][0]         \n",
            "__________________________________________________________________________________________________\n",
            "block4a_bn (BatchNormalization) (None, 14, 14, 240)  960         block4a_dwconv[0][0]             \n",
            "__________________________________________________________________________________________________\n",
            "block4a_activation (Activation) (None, 14, 14, 240)  0           block4a_bn[0][0]                 \n",
            "__________________________________________________________________________________________________\n",
            "block4a_se_squeeze (GlobalAvera (None, 240)          0           block4a_activation[0][0]         \n",
            "__________________________________________________________________________________________________\n",
            "block4a_se_reshape (Reshape)    (None, 1, 1, 240)    0           block4a_se_squeeze[0][0]         \n",
            "__________________________________________________________________________________________________\n",
            "block4a_se_reduce (Conv2D)      (None, 1, 1, 10)     2410        block4a_se_reshape[0][0]         \n",
            "__________________________________________________________________________________________________\n",
            "block4a_se_expand (Conv2D)      (None, 1, 1, 240)    2640        block4a_se_reduce[0][0]          \n",
            "__________________________________________________________________________________________________\n",
            "block4a_se_excite (Multiply)    (None, 14, 14, 240)  0           block4a_activation[0][0]         \n",
            "                                                                 block4a_se_expand[0][0]          \n",
            "__________________________________________________________________________________________________\n",
            "block4a_project_conv (Conv2D)   (None, 14, 14, 80)   19200       block4a_se_excite[0][0]          \n",
            "__________________________________________________________________________________________________\n",
            "block4a_project_bn (BatchNormal (None, 14, 14, 80)   320         block4a_project_conv[0][0]       \n",
            "__________________________________________________________________________________________________\n",
            "block4b_expand_conv (Conv2D)    (None, 14, 14, 480)  38400       block4a_project_bn[0][0]         \n",
            "__________________________________________________________________________________________________\n",
            "block4b_expand_bn (BatchNormali (None, 14, 14, 480)  1920        block4b_expand_conv[0][0]        \n",
            "__________________________________________________________________________________________________\n",
            "block4b_expand_activation (Acti (None, 14, 14, 480)  0           block4b_expand_bn[0][0]          \n",
            "__________________________________________________________________________________________________\n",
            "block4b_dwconv (DepthwiseConv2D (None, 14, 14, 480)  4320        block4b_expand_activation[0][0]  \n",
            "__________________________________________________________________________________________________\n",
            "block4b_bn (BatchNormalization) (None, 14, 14, 480)  1920        block4b_dwconv[0][0]             \n",
            "__________________________________________________________________________________________________\n",
            "block4b_activation (Activation) (None, 14, 14, 480)  0           block4b_bn[0][0]                 \n",
            "__________________________________________________________________________________________________\n",
            "block4b_se_squeeze (GlobalAvera (None, 480)          0           block4b_activation[0][0]         \n",
            "__________________________________________________________________________________________________\n",
            "block4b_se_reshape (Reshape)    (None, 1, 1, 480)    0           block4b_se_squeeze[0][0]         \n",
            "__________________________________________________________________________________________________\n",
            "block4b_se_reduce (Conv2D)      (None, 1, 1, 20)     9620        block4b_se_reshape[0][0]         \n",
            "__________________________________________________________________________________________________\n",
            "block4b_se_expand (Conv2D)      (None, 1, 1, 480)    10080       block4b_se_reduce[0][0]          \n",
            "__________________________________________________________________________________________________\n",
            "block4b_se_excite (Multiply)    (None, 14, 14, 480)  0           block4b_activation[0][0]         \n",
            "                                                                 block4b_se_expand[0][0]          \n",
            "__________________________________________________________________________________________________\n",
            "block4b_project_conv (Conv2D)   (None, 14, 14, 80)   38400       block4b_se_excite[0][0]          \n",
            "__________________________________________________________________________________________________\n",
            "block4b_project_bn (BatchNormal (None, 14, 14, 80)   320         block4b_project_conv[0][0]       \n",
            "__________________________________________________________________________________________________\n",
            "block4b_drop (Dropout)          (None, 14, 14, 80)   0           block4b_project_bn[0][0]         \n",
            "__________________________________________________________________________________________________\n",
            "block4b_add (Add)               (None, 14, 14, 80)   0           block4b_drop[0][0]               \n",
            "                                                                 block4a_project_bn[0][0]         \n",
            "__________________________________________________________________________________________________\n",
            "block4c_expand_conv (Conv2D)    (None, 14, 14, 480)  38400       block4b_add[0][0]                \n",
            "__________________________________________________________________________________________________\n",
            "block4c_expand_bn (BatchNormali (None, 14, 14, 480)  1920        block4c_expand_conv[0][0]        \n",
            "__________________________________________________________________________________________________\n",
            "block4c_expand_activation (Acti (None, 14, 14, 480)  0           block4c_expand_bn[0][0]          \n",
            "__________________________________________________________________________________________________\n",
            "block4c_dwconv (DepthwiseConv2D (None, 14, 14, 480)  4320        block4c_expand_activation[0][0]  \n",
            "__________________________________________________________________________________________________\n",
            "block4c_bn (BatchNormalization) (None, 14, 14, 480)  1920        block4c_dwconv[0][0]             \n",
            "__________________________________________________________________________________________________\n",
            "block4c_activation (Activation) (None, 14, 14, 480)  0           block4c_bn[0][0]                 \n",
            "__________________________________________________________________________________________________\n",
            "block4c_se_squeeze (GlobalAvera (None, 480)          0           block4c_activation[0][0]         \n",
            "__________________________________________________________________________________________________\n",
            "block4c_se_reshape (Reshape)    (None, 1, 1, 480)    0           block4c_se_squeeze[0][0]         \n",
            "__________________________________________________________________________________________________\n",
            "block4c_se_reduce (Conv2D)      (None, 1, 1, 20)     9620        block4c_se_reshape[0][0]         \n",
            "__________________________________________________________________________________________________\n",
            "block4c_se_expand (Conv2D)      (None, 1, 1, 480)    10080       block4c_se_reduce[0][0]          \n",
            "__________________________________________________________________________________________________\n",
            "block4c_se_excite (Multiply)    (None, 14, 14, 480)  0           block4c_activation[0][0]         \n",
            "                                                                 block4c_se_expand[0][0]          \n",
            "__________________________________________________________________________________________________\n",
            "block4c_project_conv (Conv2D)   (None, 14, 14, 80)   38400       block4c_se_excite[0][0]          \n",
            "__________________________________________________________________________________________________\n",
            "block4c_project_bn (BatchNormal (None, 14, 14, 80)   320         block4c_project_conv[0][0]       \n",
            "__________________________________________________________________________________________________\n",
            "block4c_drop (Dropout)          (None, 14, 14, 80)   0           block4c_project_bn[0][0]         \n",
            "__________________________________________________________________________________________________\n",
            "block4c_add (Add)               (None, 14, 14, 80)   0           block4c_drop[0][0]               \n",
            "                                                                 block4b_add[0][0]                \n",
            "__________________________________________________________________________________________________\n",
            "block5a_expand_conv (Conv2D)    (None, 14, 14, 480)  38400       block4c_add[0][0]                \n",
            "__________________________________________________________________________________________________\n",
            "block5a_expand_bn (BatchNormali (None, 14, 14, 480)  1920        block5a_expand_conv[0][0]        \n",
            "__________________________________________________________________________________________________\n",
            "block5a_expand_activation (Acti (None, 14, 14, 480)  0           block5a_expand_bn[0][0]          \n",
            "__________________________________________________________________________________________________\n",
            "block5a_dwconv (DepthwiseConv2D (None, 14, 14, 480)  12000       block5a_expand_activation[0][0]  \n",
            "__________________________________________________________________________________________________\n",
            "block5a_bn (BatchNormalization) (None, 14, 14, 480)  1920        block5a_dwconv[0][0]             \n",
            "__________________________________________________________________________________________________\n",
            "block5a_activation (Activation) (None, 14, 14, 480)  0           block5a_bn[0][0]                 \n",
            "__________________________________________________________________________________________________\n",
            "block5a_se_squeeze (GlobalAvera (None, 480)          0           block5a_activation[0][0]         \n",
            "__________________________________________________________________________________________________\n",
            "block5a_se_reshape (Reshape)    (None, 1, 1, 480)    0           block5a_se_squeeze[0][0]         \n",
            "__________________________________________________________________________________________________\n",
            "block5a_se_reduce (Conv2D)      (None, 1, 1, 20)     9620        block5a_se_reshape[0][0]         \n",
            "__________________________________________________________________________________________________\n",
            "block5a_se_expand (Conv2D)      (None, 1, 1, 480)    10080       block5a_se_reduce[0][0]          \n",
            "__________________________________________________________________________________________________\n",
            "block5a_se_excite (Multiply)    (None, 14, 14, 480)  0           block5a_activation[0][0]         \n",
            "                                                                 block5a_se_expand[0][0]          \n",
            "__________________________________________________________________________________________________\n",
            "block5a_project_conv (Conv2D)   (None, 14, 14, 112)  53760       block5a_se_excite[0][0]          \n",
            "__________________________________________________________________________________________________\n",
            "block5a_project_bn (BatchNormal (None, 14, 14, 112)  448         block5a_project_conv[0][0]       \n",
            "__________________________________________________________________________________________________\n",
            "block5b_expand_conv (Conv2D)    (None, 14, 14, 672)  75264       block5a_project_bn[0][0]         \n",
            "__________________________________________________________________________________________________\n",
            "block5b_expand_bn (BatchNormali (None, 14, 14, 672)  2688        block5b_expand_conv[0][0]        \n",
            "__________________________________________________________________________________________________\n",
            "block5b_expand_activation (Acti (None, 14, 14, 672)  0           block5b_expand_bn[0][0]          \n",
            "__________________________________________________________________________________________________\n",
            "block5b_dwconv (DepthwiseConv2D (None, 14, 14, 672)  16800       block5b_expand_activation[0][0]  \n",
            "__________________________________________________________________________________________________\n",
            "block5b_bn (BatchNormalization) (None, 14, 14, 672)  2688        block5b_dwconv[0][0]             \n",
            "__________________________________________________________________________________________________\n",
            "block5b_activation (Activation) (None, 14, 14, 672)  0           block5b_bn[0][0]                 \n",
            "__________________________________________________________________________________________________\n",
            "block5b_se_squeeze (GlobalAvera (None, 672)          0           block5b_activation[0][0]         \n",
            "__________________________________________________________________________________________________\n",
            "block5b_se_reshape (Reshape)    (None, 1, 1, 672)    0           block5b_se_squeeze[0][0]         \n",
            "__________________________________________________________________________________________________\n",
            "block5b_se_reduce (Conv2D)      (None, 1, 1, 28)     18844       block5b_se_reshape[0][0]         \n",
            "__________________________________________________________________________________________________\n",
            "block5b_se_expand (Conv2D)      (None, 1, 1, 672)    19488       block5b_se_reduce[0][0]          \n",
            "__________________________________________________________________________________________________\n",
            "block5b_se_excite (Multiply)    (None, 14, 14, 672)  0           block5b_activation[0][0]         \n",
            "                                                                 block5b_se_expand[0][0]          \n",
            "__________________________________________________________________________________________________\n",
            "block5b_project_conv (Conv2D)   (None, 14, 14, 112)  75264       block5b_se_excite[0][0]          \n",
            "__________________________________________________________________________________________________\n",
            "block5b_project_bn (BatchNormal (None, 14, 14, 112)  448         block5b_project_conv[0][0]       \n",
            "__________________________________________________________________________________________________\n",
            "block5b_drop (Dropout)          (None, 14, 14, 112)  0           block5b_project_bn[0][0]         \n",
            "__________________________________________________________________________________________________\n",
            "block5b_add (Add)               (None, 14, 14, 112)  0           block5b_drop[0][0]               \n",
            "                                                                 block5a_project_bn[0][0]         \n",
            "__________________________________________________________________________________________________\n",
            "block5c_expand_conv (Conv2D)    (None, 14, 14, 672)  75264       block5b_add[0][0]                \n",
            "__________________________________________________________________________________________________\n",
            "block5c_expand_bn (BatchNormali (None, 14, 14, 672)  2688        block5c_expand_conv[0][0]        \n",
            "__________________________________________________________________________________________________\n",
            "block5c_expand_activation (Acti (None, 14, 14, 672)  0           block5c_expand_bn[0][0]          \n",
            "__________________________________________________________________________________________________\n",
            "block5c_dwconv (DepthwiseConv2D (None, 14, 14, 672)  16800       block5c_expand_activation[0][0]  \n",
            "__________________________________________________________________________________________________\n",
            "block5c_bn (BatchNormalization) (None, 14, 14, 672)  2688        block5c_dwconv[0][0]             \n",
            "__________________________________________________________________________________________________\n",
            "block5c_activation (Activation) (None, 14, 14, 672)  0           block5c_bn[0][0]                 \n",
            "__________________________________________________________________________________________________\n",
            "block5c_se_squeeze (GlobalAvera (None, 672)          0           block5c_activation[0][0]         \n",
            "__________________________________________________________________________________________________\n",
            "block5c_se_reshape (Reshape)    (None, 1, 1, 672)    0           block5c_se_squeeze[0][0]         \n",
            "__________________________________________________________________________________________________\n",
            "block5c_se_reduce (Conv2D)      (None, 1, 1, 28)     18844       block5c_se_reshape[0][0]         \n",
            "__________________________________________________________________________________________________\n",
            "block5c_se_expand (Conv2D)      (None, 1, 1, 672)    19488       block5c_se_reduce[0][0]          \n",
            "__________________________________________________________________________________________________\n",
            "block5c_se_excite (Multiply)    (None, 14, 14, 672)  0           block5c_activation[0][0]         \n",
            "                                                                 block5c_se_expand[0][0]          \n",
            "__________________________________________________________________________________________________\n",
            "block5c_project_conv (Conv2D)   (None, 14, 14, 112)  75264       block5c_se_excite[0][0]          \n",
            "__________________________________________________________________________________________________\n",
            "block5c_project_bn (BatchNormal (None, 14, 14, 112)  448         block5c_project_conv[0][0]       \n",
            "__________________________________________________________________________________________________\n",
            "block5c_drop (Dropout)          (None, 14, 14, 112)  0           block5c_project_bn[0][0]         \n",
            "__________________________________________________________________________________________________\n",
            "block5c_add (Add)               (None, 14, 14, 112)  0           block5c_drop[0][0]               \n",
            "                                                                 block5b_add[0][0]                \n",
            "__________________________________________________________________________________________________\n",
            "block6a_expand_conv (Conv2D)    (None, 14, 14, 672)  75264       block5c_add[0][0]                \n",
            "__________________________________________________________________________________________________\n",
            "block6a_expand_bn (BatchNormali (None, 14, 14, 672)  2688        block6a_expand_conv[0][0]        \n",
            "__________________________________________________________________________________________________\n",
            "block6a_expand_activation (Acti (None, 14, 14, 672)  0           block6a_expand_bn[0][0]          \n",
            "__________________________________________________________________________________________________\n",
            "block6a_dwconv_pad (ZeroPadding (None, 17, 17, 672)  0           block6a_expand_activation[0][0]  \n",
            "__________________________________________________________________________________________________\n",
            "block6a_dwconv (DepthwiseConv2D (None, 7, 7, 672)    16800       block6a_dwconv_pad[0][0]         \n",
            "__________________________________________________________________________________________________\n",
            "block6a_bn (BatchNormalization) (None, 7, 7, 672)    2688        block6a_dwconv[0][0]             \n",
            "__________________________________________________________________________________________________\n",
            "block6a_activation (Activation) (None, 7, 7, 672)    0           block6a_bn[0][0]                 \n",
            "__________________________________________________________________________________________________\n",
            "block6a_se_squeeze (GlobalAvera (None, 672)          0           block6a_activation[0][0]         \n",
            "__________________________________________________________________________________________________\n",
            "block6a_se_reshape (Reshape)    (None, 1, 1, 672)    0           block6a_se_squeeze[0][0]         \n",
            "__________________________________________________________________________________________________\n",
            "block6a_se_reduce (Conv2D)      (None, 1, 1, 28)     18844       block6a_se_reshape[0][0]         \n",
            "__________________________________________________________________________________________________\n",
            "block6a_se_expand (Conv2D)      (None, 1, 1, 672)    19488       block6a_se_reduce[0][0]          \n",
            "__________________________________________________________________________________________________\n",
            "block6a_se_excite (Multiply)    (None, 7, 7, 672)    0           block6a_activation[0][0]         \n",
            "                                                                 block6a_se_expand[0][0]          \n",
            "__________________________________________________________________________________________________\n",
            "block6a_project_conv (Conv2D)   (None, 7, 7, 192)    129024      block6a_se_excite[0][0]          \n",
            "__________________________________________________________________________________________________\n",
            "block6a_project_bn (BatchNormal (None, 7, 7, 192)    768         block6a_project_conv[0][0]       \n",
            "__________________________________________________________________________________________________\n",
            "block6b_expand_conv (Conv2D)    (None, 7, 7, 1152)   221184      block6a_project_bn[0][0]         \n",
            "__________________________________________________________________________________________________\n",
            "block6b_expand_bn (BatchNormali (None, 7, 7, 1152)   4608        block6b_expand_conv[0][0]        \n",
            "__________________________________________________________________________________________________\n",
            "block6b_expand_activation (Acti (None, 7, 7, 1152)   0           block6b_expand_bn[0][0]          \n",
            "__________________________________________________________________________________________________\n",
            "block6b_dwconv (DepthwiseConv2D (None, 7, 7, 1152)   28800       block6b_expand_activation[0][0]  \n",
            "__________________________________________________________________________________________________\n",
            "block6b_bn (BatchNormalization) (None, 7, 7, 1152)   4608        block6b_dwconv[0][0]             \n",
            "__________________________________________________________________________________________________\n",
            "block6b_activation (Activation) (None, 7, 7, 1152)   0           block6b_bn[0][0]                 \n",
            "__________________________________________________________________________________________________\n",
            "block6b_se_squeeze (GlobalAvera (None, 1152)         0           block6b_activation[0][0]         \n",
            "__________________________________________________________________________________________________\n",
            "block6b_se_reshape (Reshape)    (None, 1, 1, 1152)   0           block6b_se_squeeze[0][0]         \n",
            "__________________________________________________________________________________________________\n",
            "block6b_se_reduce (Conv2D)      (None, 1, 1, 48)     55344       block6b_se_reshape[0][0]         \n",
            "__________________________________________________________________________________________________\n",
            "block6b_se_expand (Conv2D)      (None, 1, 1, 1152)   56448       block6b_se_reduce[0][0]          \n",
            "__________________________________________________________________________________________________\n",
            "block6b_se_excite (Multiply)    (None, 7, 7, 1152)   0           block6b_activation[0][0]         \n",
            "                                                                 block6b_se_expand[0][0]          \n",
            "__________________________________________________________________________________________________\n",
            "block6b_project_conv (Conv2D)   (None, 7, 7, 192)    221184      block6b_se_excite[0][0]          \n",
            "__________________________________________________________________________________________________\n",
            "block6b_project_bn (BatchNormal (None, 7, 7, 192)    768         block6b_project_conv[0][0]       \n",
            "__________________________________________________________________________________________________\n",
            "block6b_drop (Dropout)          (None, 7, 7, 192)    0           block6b_project_bn[0][0]         \n",
            "__________________________________________________________________________________________________\n",
            "block6b_add (Add)               (None, 7, 7, 192)    0           block6b_drop[0][0]               \n",
            "                                                                 block6a_project_bn[0][0]         \n",
            "__________________________________________________________________________________________________\n",
            "block6c_expand_conv (Conv2D)    (None, 7, 7, 1152)   221184      block6b_add[0][0]                \n",
            "__________________________________________________________________________________________________\n",
            "block6c_expand_bn (BatchNormali (None, 7, 7, 1152)   4608        block6c_expand_conv[0][0]        \n",
            "__________________________________________________________________________________________________\n",
            "block6c_expand_activation (Acti (None, 7, 7, 1152)   0           block6c_expand_bn[0][0]          \n",
            "__________________________________________________________________________________________________\n",
            "block6c_dwconv (DepthwiseConv2D (None, 7, 7, 1152)   28800       block6c_expand_activation[0][0]  \n",
            "__________________________________________________________________________________________________\n",
            "block6c_bn (BatchNormalization) (None, 7, 7, 1152)   4608        block6c_dwconv[0][0]             \n",
            "__________________________________________________________________________________________________\n",
            "block6c_activation (Activation) (None, 7, 7, 1152)   0           block6c_bn[0][0]                 \n",
            "__________________________________________________________________________________________________\n",
            "block6c_se_squeeze (GlobalAvera (None, 1152)         0           block6c_activation[0][0]         \n",
            "__________________________________________________________________________________________________\n",
            "block6c_se_reshape (Reshape)    (None, 1, 1, 1152)   0           block6c_se_squeeze[0][0]         \n",
            "__________________________________________________________________________________________________\n",
            "block6c_se_reduce (Conv2D)      (None, 1, 1, 48)     55344       block6c_se_reshape[0][0]         \n",
            "__________________________________________________________________________________________________\n",
            "block6c_se_expand (Conv2D)      (None, 1, 1, 1152)   56448       block6c_se_reduce[0][0]          \n",
            "__________________________________________________________________________________________________\n",
            "block6c_se_excite (Multiply)    (None, 7, 7, 1152)   0           block6c_activation[0][0]         \n",
            "                                                                 block6c_se_expand[0][0]          \n",
            "__________________________________________________________________________________________________\n",
            "block6c_project_conv (Conv2D)   (None, 7, 7, 192)    221184      block6c_se_excite[0][0]          \n",
            "__________________________________________________________________________________________________\n",
            "block6c_project_bn (BatchNormal (None, 7, 7, 192)    768         block6c_project_conv[0][0]       \n",
            "__________________________________________________________________________________________________\n",
            "block6c_drop (Dropout)          (None, 7, 7, 192)    0           block6c_project_bn[0][0]         \n",
            "__________________________________________________________________________________________________\n",
            "block6c_add (Add)               (None, 7, 7, 192)    0           block6c_drop[0][0]               \n",
            "                                                                 block6b_add[0][0]                \n",
            "__________________________________________________________________________________________________\n",
            "block6d_expand_conv (Conv2D)    (None, 7, 7, 1152)   221184      block6c_add[0][0]                \n",
            "__________________________________________________________________________________________________\n",
            "block6d_expand_bn (BatchNormali (None, 7, 7, 1152)   4608        block6d_expand_conv[0][0]        \n",
            "__________________________________________________________________________________________________\n",
            "block6d_expand_activation (Acti (None, 7, 7, 1152)   0           block6d_expand_bn[0][0]          \n",
            "__________________________________________________________________________________________________\n",
            "block6d_dwconv (DepthwiseConv2D (None, 7, 7, 1152)   28800       block6d_expand_activation[0][0]  \n",
            "__________________________________________________________________________________________________\n",
            "block6d_bn (BatchNormalization) (None, 7, 7, 1152)   4608        block6d_dwconv[0][0]             \n",
            "__________________________________________________________________________________________________\n",
            "block6d_activation (Activation) (None, 7, 7, 1152)   0           block6d_bn[0][0]                 \n",
            "__________________________________________________________________________________________________\n",
            "block6d_se_squeeze (GlobalAvera (None, 1152)         0           block6d_activation[0][0]         \n",
            "__________________________________________________________________________________________________\n",
            "block6d_se_reshape (Reshape)    (None, 1, 1, 1152)   0           block6d_se_squeeze[0][0]         \n",
            "__________________________________________________________________________________________________\n",
            "block6d_se_reduce (Conv2D)      (None, 1, 1, 48)     55344       block6d_se_reshape[0][0]         \n",
            "__________________________________________________________________________________________________\n",
            "block6d_se_expand (Conv2D)      (None, 1, 1, 1152)   56448       block6d_se_reduce[0][0]          \n",
            "__________________________________________________________________________________________________\n",
            "block6d_se_excite (Multiply)    (None, 7, 7, 1152)   0           block6d_activation[0][0]         \n",
            "                                                                 block6d_se_expand[0][0]          \n",
            "__________________________________________________________________________________________________\n",
            "block6d_project_conv (Conv2D)   (None, 7, 7, 192)    221184      block6d_se_excite[0][0]          \n",
            "__________________________________________________________________________________________________\n",
            "block6d_project_bn (BatchNormal (None, 7, 7, 192)    768         block6d_project_conv[0][0]       \n",
            "__________________________________________________________________________________________________\n",
            "block6d_drop (Dropout)          (None, 7, 7, 192)    0           block6d_project_bn[0][0]         \n",
            "__________________________________________________________________________________________________\n",
            "block6d_add (Add)               (None, 7, 7, 192)    0           block6d_drop[0][0]               \n",
            "                                                                 block6c_add[0][0]                \n",
            "__________________________________________________________________________________________________\n",
            "block7a_expand_conv (Conv2D)    (None, 7, 7, 1152)   221184      block6d_add[0][0]                \n",
            "__________________________________________________________________________________________________\n",
            "block7a_expand_bn (BatchNormali (None, 7, 7, 1152)   4608        block7a_expand_conv[0][0]        \n",
            "__________________________________________________________________________________________________\n",
            "block7a_expand_activation (Acti (None, 7, 7, 1152)   0           block7a_expand_bn[0][0]          \n",
            "__________________________________________________________________________________________________\n",
            "block7a_dwconv (DepthwiseConv2D (None, 7, 7, 1152)   10368       block7a_expand_activation[0][0]  \n",
            "__________________________________________________________________________________________________\n",
            "block7a_bn (BatchNormalization) (None, 7, 7, 1152)   4608        block7a_dwconv[0][0]             \n",
            "__________________________________________________________________________________________________\n",
            "block7a_activation (Activation) (None, 7, 7, 1152)   0           block7a_bn[0][0]                 \n",
            "__________________________________________________________________________________________________\n",
            "block7a_se_squeeze (GlobalAvera (None, 1152)         0           block7a_activation[0][0]         \n",
            "__________________________________________________________________________________________________\n",
            "block7a_se_reshape (Reshape)    (None, 1, 1, 1152)   0           block7a_se_squeeze[0][0]         \n",
            "__________________________________________________________________________________________________\n",
            "block7a_se_reduce (Conv2D)      (None, 1, 1, 48)     55344       block7a_se_reshape[0][0]         \n",
            "__________________________________________________________________________________________________\n",
            "block7a_se_expand (Conv2D)      (None, 1, 1, 1152)   56448       block7a_se_reduce[0][0]          \n",
            "__________________________________________________________________________________________________\n",
            "block7a_se_excite (Multiply)    (None, 7, 7, 1152)   0           block7a_activation[0][0]         \n",
            "                                                                 block7a_se_expand[0][0]          \n",
            "__________________________________________________________________________________________________\n",
            "block7a_project_conv (Conv2D)   (None, 7, 7, 320)    368640      block7a_se_excite[0][0]          \n",
            "__________________________________________________________________________________________________\n",
            "block7a_project_bn (BatchNormal (None, 7, 7, 320)    1280        block7a_project_conv[0][0]       \n",
            "__________________________________________________________________________________________________\n",
            "top_conv (Conv2D)               (None, 7, 7, 1280)   409600      block7a_project_bn[0][0]         \n",
            "__________________________________________________________________________________________________\n",
            "top_bn (BatchNormalization)     (None, 7, 7, 1280)   5120        top_conv[0][0]                   \n",
            "__________________________________________________________________________________________________\n",
            "top_activation (Activation)     (None, 7, 7, 1280)   0           top_bn[0][0]                     \n",
            "__________________________________________________________________________________________________\n",
            "flatten_2 (Flatten)             (None, 62720)        0           top_activation[0][0]             \n",
            "__________________________________________________________________________________________________\n",
            "dense_2 (Dense)                 (None, 5)            313605      flatten_2[0][0]                  \n",
            "==================================================================================================\n",
            "Total params: 4,363,176\n",
            "Trainable params: 313,605\n",
            "Non-trainable params: 4,049,571\n",
            "__________________________________________________________________________________________________\n",
            "None\n"
          ],
          "name": "stdout"
        }
      ]
    },
    {
      "cell_type": "code",
      "metadata": {
        "id": "qHueYkRafyzk"
      },
      "source": [
        "base_learning_rate = 0.001\n",
        "\n",
        "model.compile(optimizer=Adam(learning_rate=base_learning_rate), loss=tensorflow.keras.losses.CategoricalCrossentropy(), metrics = [tensorflow.keras.metrics.Accuracy()])"
      ],
      "execution_count": null,
      "outputs": []
    },
    {
      "cell_type": "code",
      "metadata": {
        "id": "6v10x-Bqj3Hv"
      },
      "source": [
        "ckpt_filename= \"/content/gdrive/My Drive/Colab Notebooks/DerbiHackathon_ODIR_EfficientNetB0_Multiclass.hdf5\"\n",
        "checkpoint = ModelCheckpoint(filepath=ckpt_filename, save_best_only=True, verbose = 1)\n",
        "lr_reduce = ReduceLROnPlateau(monitor='val_loss', factor=0.1, patience=4, verbose=1)\n",
        "early_stop = EarlyStopping(monitor='val_loss', patience=6, verbose = 1)"
      ],
      "execution_count": null,
      "outputs": []
    },
    {
      "cell_type": "code",
      "metadata": {
        "colab": {
          "base_uri": "https://localhost:8080/"
        },
        "id": "o5ghyB37kCZ6",
        "outputId": "1e9ddde4-41e8-42f7-bb55-fdf00c115ad2"
      },
      "source": [
        "history = model.fit(train_generator,validation_data=validation_generator,epochs=15, callbacks=[checkpoint,early_stop,lr_reduce]) "
      ],
      "execution_count": null,
      "outputs": [
        {
          "metadata": {
            "tags": null
          },
          "name": "stdout",
          "output_type": "stream",
          "text": [
            "Epoch 1/15\n",
            "142/142 [==============================] - 563s 4s/step - loss: 1.1698 - accuracy: 0.0000e+00 - val_loss: 1.7479 - val_accuracy: 0.0000e+00\n",
            "\n",
            "Epoch 00001: val_loss improved from inf to 1.74791, saving model to /content/gdrive/My Drive/Colab Notebooks/DerbiHackathon_ODIR_EfficientNetB0_Multiclass.hdf5\n"
          ]
        },
        {
          "metadata": {
            "tags": null
          },
          "name": "stderr",
          "output_type": "stream",
          "text": [
            "/usr/local/lib/python3.7/dist-packages/keras/utils/generic_utils.py:497: CustomMaskWarning: Custom mask layers require a config and must override get_config. When loading, the custom mask layer must be passed to the custom_objects argument.\n",
            "  category=CustomMaskWarning)\n"
          ]
        },
        {
          "output_type": "stream",
          "text": [
            "Epoch 2/15\n",
            "142/142 [==============================] - 558s 4s/step - loss: 1.2053 - accuracy: 0.0000e+00 - val_loss: 1.9478 - val_accuracy: 0.0000e+00\n",
            "\n",
            "Epoch 00002: val_loss did not improve from 1.74791\n",
            "Epoch 3/15\n",
            "142/142 [==============================] - 564s 4s/step - loss: 1.1454 - accuracy: 0.0000e+00 - val_loss: 1.5972 - val_accuracy: 0.0000e+00\n",
            "\n",
            "Epoch 00003: val_loss improved from 1.74791 to 1.59718, saving model to /content/gdrive/My Drive/Colab Notebooks/DerbiHackathon_ODIR_EfficientNetB0_Multiclass.hdf5\n",
            "Epoch 4/15\n",
            "142/142 [==============================] - 554s 4s/step - loss: 1.1644 - accuracy: 0.0000e+00 - val_loss: 1.6256 - val_accuracy: 0.0000e+00\n",
            "\n",
            "Epoch 00004: val_loss did not improve from 1.59718\n",
            "Epoch 5/15\n",
            "142/142 [==============================] - 558s 4s/step - loss: 1.1869 - accuracy: 0.0000e+00 - val_loss: 1.4632 - val_accuracy: 0.0000e+00\n",
            "\n",
            "Epoch 00005: val_loss improved from 1.59718 to 1.46315, saving model to /content/gdrive/My Drive/Colab Notebooks/DerbiHackathon_ODIR_EfficientNetB0_Multiclass.hdf5\n",
            "Epoch 6/15\n",
            "142/142 [==============================] - 555s 4s/step - loss: 1.1633 - accuracy: 0.0000e+00 - val_loss: 1.4741 - val_accuracy: 0.0000e+00\n",
            "\n",
            "Epoch 00006: val_loss did not improve from 1.46315\n",
            "Epoch 7/15\n",
            "142/142 [==============================] - 557s 4s/step - loss: 1.1661 - accuracy: 0.0000e+00 - val_loss: 1.6549 - val_accuracy: 0.0000e+00\n",
            "\n",
            "Epoch 00007: val_loss did not improve from 1.46315\n",
            "Epoch 8/15\n",
            "142/142 [==============================] - 551s 4s/step - loss: 1.1374 - accuracy: 0.0000e+00 - val_loss: 2.0095 - val_accuracy: 0.0000e+00\n",
            "\n",
            "Epoch 00008: val_loss did not improve from 1.46315\n",
            "Epoch 9/15\n",
            "142/142 [==============================] - 551s 4s/step - loss: 1.1908 - accuracy: 0.0000e+00 - val_loss: 1.9353 - val_accuracy: 0.0000e+00\n",
            "\n",
            "Epoch 00009: val_loss did not improve from 1.46315\n",
            "\n",
            "Epoch 00009: ReduceLROnPlateau reducing learning rate to 9.999999747378752e-06.\n",
            "Epoch 10/15\n",
            "142/142 [==============================] - 551s 4s/step - loss: 1.1042 - accuracy: 0.0000e+00 - val_loss: 1.5658 - val_accuracy: 0.0000e+00\n",
            "\n",
            "Epoch 00010: val_loss did not improve from 1.46315\n",
            "Epoch 11/15\n",
            "142/142 [==============================] - 549s 4s/step - loss: 1.0958 - accuracy: 0.0000e+00 - val_loss: 1.5292 - val_accuracy: 0.0000e+00\n",
            "\n",
            "Epoch 00011: val_loss did not improve from 1.46315\n",
            "Epoch 00011: early stopping\n"
          ],
          "name": "stdout"
        }
      ]
    },
    {
      "cell_type": "code",
      "metadata": {
        "colab": {
          "base_uri": "https://localhost:8080/",
          "height": 573
        },
        "id": "z_OZUg9FkKdI",
        "outputId": "00c66208-7cda-4bab-bd57-a53202af2560"
      },
      "source": [
        "def plot_loss(history):\n",
        "    plt.plot(history.history['loss'])\n",
        "    plt.plot(history.history['val_loss'])\n",
        "    plt.title('model loss')\n",
        "    plt.ylabel('loss')\n",
        "    plt.xlabel('epoch')\n",
        "    plt.legend(['train', 'val'], loc='upper left')\n",
        "    \n",
        "def plot_acc(history):\n",
        "    plt.plot(history.history['accuracy'])\n",
        "    plt.plot(history.history['val_accuracy'])\n",
        "    plt.title('model accuracy')\n",
        "    plt.ylabel('accuracy')\n",
        "    plt.xlabel('epoch')\n",
        "    plt.legend(['train', 'val'], loc='upper left')\n",
        "\n",
        "plot_acc(history)\n",
        "plt.show()\n",
        "plot_loss(history)\n",
        "plt.show()"
      ],
      "execution_count": null,
      "outputs": [
        {
          "output_type": "display_data",
          "data": {
            "image/png": "[encoded data removed]",
            "text/plain": [
              "<Figure size 432x288 with 1 Axes>"
            ]
          },
          "metadata": {
            "needs_background": "light"
          }
        },
        {
          "output_type": "display_data",
          "data": {
            "image/png": "[encoded data removed]",
            "text/plain": [
              "<Figure size 432x288 with 1 Axes>"
            ]
          },
          "metadata": {
            "needs_background": "light"
          }
        }
      ]
    },
    {
      "cell_type": "code",
      "metadata": {
        "id": "m_gQWBLmkP2I"
      },
      "source": [
        "def plot_confusion_matrix(cm, classes,normalize=False,title='Confusion matrix',cmap=plt.cm.Blues):\n",
        "\n",
        "    plt.figure(figsize = (5,5))\n",
        "    plt.imshow(cm, interpolation='nearest', cmap=cmap)\n",
        "    plt.title(title)\n",
        "    plt.colorbar()\n",
        "    tick_marks = np.arange(len(classes))\n",
        "    plt.xticks(tick_marks, classes, rotation=90)\n",
        "    plt.yticks(tick_marks, classes)\n",
        "    if normalize:\n",
        "        cm = cm.astype('float') / cm.sum(axis=1)[:, np.newaxis]\n",
        "\n",
        "    thresh = cm.max() / 2.\n",
        "    for i, j in itertools.product(range(cm.shape[0]), range(cm.shape[1])):\n",
        "        plt.text(j, i, cm[i, j],\n",
        "                 horizontalalignment=\"center\",\n",
        "                 color=\"white\" if cm[i, j] > thresh else \"black\")\n",
        "    plt.tight_layout()\n",
        "    plt.ylabel('True label')\n",
        "    plt.xlabel('Predicted label')\n",
        "\n",
        "def plot_roc_curves(y_true, y_pred, num_classes, class_labels):\n",
        "    \n",
        "    lb = LabelBinarizer()\n",
        "    lb.fit(y_true)\n",
        "    y_test = lb.transform(y_true)\n",
        "\n",
        "    # Compute ROC curve and ROC area for each class\n",
        "    fpr = dict()\n",
        "    tpr = dict()\n",
        "    roc_auc = dict()\n",
        "    for i in range(num_classes):\n",
        "        fpr[i], tpr[i], _ = roc_curve(y_test[:, i], y_pred[:, i])\n",
        "        roc_auc[i] = auc(fpr[i], tpr[i])\n",
        "\n",
        "    # Plot all ROC curves\n",
        "    for i in range(num_classes):\n",
        "        fig, c_ax = plt.subplots(1,1, figsize = (6, 4))\n",
        "        c_ax.plot(fpr[i], tpr[i],\n",
        "                 label='ROC curve of class {0} (area = {1:0.4f})'\n",
        "                 ''.format(class_labels[i], roc_auc[i]))\n",
        "        c_ax.set_xlabel('False Positive Rate')\n",
        "        c_ax.set_ylabel('True Positive Rate')\n",
        "        c_ax.set_title('ROC curve of class {0}'.format(class_labels[i]))\n",
        "        c_ax.legend(loc=\"lower right\")\n",
        "        plt.show()\n",
        "    return roc_auc_score(y_test, y_pred)"
      ],
      "execution_count": null,
      "outputs": []
    },
    {
      "cell_type": "code",
      "metadata": {
        "id": "IRbW9yRVkc7m",
        "colab": {
          "base_uri": "https://localhost:8080/",
          "height": 418
        },
        "outputId": "02fa2180-38a9-4e7c-851f-cf7610cf68a1"
      },
      "source": [
        "score = model.evaluate(test_generator)\n",
        "print('\\nTest set accuracy:', score[1], '\\n')\n",
        "    \n",
        "y_true = np.array(test_generator.labels)\n",
        "y_pred = model.predict(test_generator, verbose = 1)\n",
        "y_pred_classes = np.argmax(y_pred,axis = 1)\n",
        "class_labels = list(test_generator.class_indices.keys())   \n",
        "    \n",
        "print('\\n', sklearn.metrics.classification_report(y_true, y_pred_classes, target_names=class_labels), sep='')\n",
        "confusion_mtx = confusion_matrix(y_true, y_pred_classes)\n",
        "\n",
        "plot_confusion_matrix(confusion_mtx, classes = class_labels)\n",
        "plt.show()\n",
        "print(\"ROC AUC score:\", plot_roc_curves(y_true, y_pred,5, class_labels))"
      ],
      "execution_count": null,
      "outputs": [
        {
          "output_type": "stream",
          "text": [
            "63/63 [==============================] - 128s 2s/step - loss: 0.0000e+00 - accuracy: 0.0000e+00\n",
            "\n",
            "Test set accuracy: 0.0 \n",
            "\n"
          ],
          "name": "stdout"
        },
        {
          "output_type": "error",
          "ename": "AttributeError",
          "evalue": "ignored",
          "traceback": [
            "\u001b[0;31m---------------------------------------------------------------------------\u001b[0m",
            "\u001b[0;31mAttributeError\u001b[0m                            Traceback (most recent call last)",
            "\u001b[0;32m<ipython-input-167-8f02818e0f6b>\u001b[0m in \u001b[0;36m<module>\u001b[0;34m()\u001b[0m\n\u001b[1;32m      2\u001b[0m \u001b[0mprint\u001b[0m\u001b[0;34m(\u001b[0m\u001b[0;34m'\\nTest set accuracy:'\u001b[0m\u001b[0;34m,\u001b[0m \u001b[0mscore\u001b[0m\u001b[0;34m[\u001b[0m\u001b[0;36m1\u001b[0m\u001b[0;34m]\u001b[0m\u001b[0;34m,\u001b[0m \u001b[0;34m'\\n'\u001b[0m\u001b[0;34m)\u001b[0m\u001b[0;34m\u001b[0m\u001b[0;34m\u001b[0m\u001b[0m\n\u001b[1;32m      3\u001b[0m \u001b[0;34m\u001b[0m\u001b[0m\n\u001b[0;32m----> 4\u001b[0;31m \u001b[0my_true\u001b[0m \u001b[0;34m=\u001b[0m \u001b[0mnp\u001b[0m\u001b[0;34m.\u001b[0m\u001b[0marray\u001b[0m\u001b[0;34m(\u001b[0m\u001b[0mtest_generator\u001b[0m\u001b[0;34m.\u001b[0m\u001b[0mlabels\u001b[0m\u001b[0;34m)\u001b[0m\u001b[0;34m\u001b[0m\u001b[0;34m\u001b[0m\u001b[0m\n\u001b[0m\u001b[1;32m      5\u001b[0m \u001b[0my_pred\u001b[0m \u001b[0;34m=\u001b[0m \u001b[0mmodel\u001b[0m\u001b[0;34m.\u001b[0m\u001b[0mpredict\u001b[0m\u001b[0;34m(\u001b[0m\u001b[0mtest_generator\u001b[0m\u001b[0;34m,\u001b[0m \u001b[0mverbose\u001b[0m \u001b[0;34m=\u001b[0m \u001b[0;36m1\u001b[0m\u001b[0;34m)\u001b[0m\u001b[0;34m\u001b[0m\u001b[0;34m\u001b[0m\u001b[0m\n\u001b[1;32m      6\u001b[0m \u001b[0my_pred_classes\u001b[0m \u001b[0;34m=\u001b[0m \u001b[0mnp\u001b[0m\u001b[0;34m.\u001b[0m\u001b[0margmax\u001b[0m\u001b[0;34m(\u001b[0m\u001b[0my_pred\u001b[0m\u001b[0;34m,\u001b[0m\u001b[0maxis\u001b[0m \u001b[0;34m=\u001b[0m \u001b[0;36m1\u001b[0m\u001b[0;34m)\u001b[0m\u001b[0;34m\u001b[0m\u001b[0;34m\u001b[0m\u001b[0m\n",
            "\u001b[0;32m/usr/local/lib/python3.7/dist-packages/keras_preprocessing/image/dataframe_iterator.py\u001b[0m in \u001b[0;36mlabels\u001b[0;34m(self)\u001b[0m\n\u001b[1;32m    293\u001b[0m             \u001b[0;32mreturn\u001b[0m \u001b[0mself\u001b[0m\u001b[0;34m.\u001b[0m\u001b[0m_targets\u001b[0m\u001b[0;34m\u001b[0m\u001b[0;34m\u001b[0m\u001b[0m\n\u001b[1;32m    294\u001b[0m         \u001b[0;32melse\u001b[0m\u001b[0;34m:\u001b[0m\u001b[0;34m\u001b[0m\u001b[0;34m\u001b[0m\u001b[0m\n\u001b[0;32m--> 295\u001b[0;31m             \u001b[0;32mreturn\u001b[0m \u001b[0mself\u001b[0m\u001b[0;34m.\u001b[0m\u001b[0mclasses\u001b[0m\u001b[0;34m\u001b[0m\u001b[0;34m\u001b[0m\u001b[0m\n\u001b[0m\u001b[1;32m    296\u001b[0m \u001b[0;34m\u001b[0m\u001b[0m\n\u001b[1;32m    297\u001b[0m     \u001b[0;34m@\u001b[0m\u001b[0mproperty\u001b[0m\u001b[0;34m\u001b[0m\u001b[0;34m\u001b[0m\u001b[0m\n",
            "\u001b[0;31mAttributeError\u001b[0m: 'DataFrameIterator' object has no attribute 'classes'"
          ]
        }
      ]
    },
    {
      "cell_type": "markdown",
      "metadata": {
        "id": "Z5kRifIWCcPQ"
      },
      "source": [
        "#  OLD\n",
        "## Efficient Net"
      ]
    },
    {
      "cell_type": "code",
      "metadata": {
        "id": "q6WrvPZscUdb"
      },
      "source": [
        "ckpt_filename= \"/content/gdrive/My Drive/Colab Notebooks/DerbiHackathonEfficientNetB0.hdf5\"\n",
        "checkpoint = ModelCheckpoint(filepath=ckpt_filename, save_best_only=True, save_weights_only=True, verbose = 1)\n",
        "lr_reduce = ReduceLROnPlateau(monitor='val_loss', factor=0.1, patience=2, verbose=1)\n",
        "early_stop = EarlyStopping(monitor='val_loss', min_delta=0.001, patience=3, mode='min', verbose = 1)"
      ],
      "execution_count": null,
      "outputs": []
    },
    {
      "cell_type": "code",
      "metadata": {
        "colab": {
          "background_save": true,
          "base_uri": "https://localhost:8080/"
        },
        "id": "AeWqh3bSIg2V",
        "outputId": "c64c1f38-7de0-46b9-8e44-07a56d4128fd"
      },
      "source": [
        "history = model.fit(train_generator,validation_data=validation_generator,epochs=15, callbacks=[checkpoint,early_stop,lr_reduce]) "
      ],
      "execution_count": null,
      "outputs": [
        {
          "name": "stdout",
          "output_type": "stream",
          "text": [
            "Epoch 1/15\n",
            "197/197 [==============================] - 5122s 26s/step - loss: 0.8536 - accuracy: 0.1477 - val_loss: 1.6588 - val_accuracy: 0.0100\n",
            "\n",
            "Epoch 00001: val_loss improved from inf to 1.65885, saving model to /content/gdrive/My Drive/Colab Notebooks/DerbiHackathonEfficientNetB0.hdf5\n",
            "Epoch 2/15\n",
            "197/197 [==============================] - 1865s 9s/step - loss: 0.8529 - accuracy: 0.1445 - val_loss: 1.9581 - val_accuracy: 0.0100\n",
            "\n",
            "Epoch 00002: val_loss did not improve from 1.65885\n",
            "Epoch 3/15\n",
            "197/197 [==============================] - 1868s 9s/step - loss: 0.8529 - accuracy: 0.1445 - val_loss: 1.9793 - val_accuracy: 0.0100\n",
            "\n",
            "Epoch 00003: val_loss did not improve from 1.65885\n",
            "\n",
            "Epoch 00003: ReduceLROnPlateau reducing learning rate to 9.999999747378752e-06.\n",
            "Epoch 4/15\n",
            "197/197 [==============================] - 1864s 9s/step - loss: 0.8529 - accuracy: 0.1445 - val_loss: 1.9795 - val_accuracy: 0.0100\n",
            "\n",
            "Epoch 00004: val_loss did not improve from 1.65885\n",
            "Epoch 00004: early stopping\n"
          ]
        }
      ]
    },
    {
      "cell_type": "code",
      "metadata": {
        "colab": {
          "background_save": true
        },
        "id": "7mqyYtRO3rGF"
      },
      "source": [
        "def plot_loss(history):\n",
        "    plt.plot(history.history['loss'])\n",
        "    plt.plot(history.history['val_loss'])\n",
        "    plt.title('model loss')\n",
        "    plt.ylabel('loss')\n",
        "    plt.xlabel('epoch')\n",
        "    plt.legend(['train', 'val'], loc='upper left')\n",
        "    \n",
        "def plot_acc(history):\n",
        "    plt.plot(history.history['accuracy'])\n",
        "    plt.plot(history.history['val_accuracy'])\n",
        "    plt.title('model accuracy')\n",
        "    plt.ylabel('accuracy')\n",
        "    plt.xlabel('epoch')\n",
        "    plt.legend(['train', 'val'], loc='upper left')\n",
        "    "
      ],
      "execution_count": null,
      "outputs": []
    },
    {
      "cell_type": "code",
      "metadata": {
        "colab": {
          "background_save": true
        },
        "id": "tvpnV_Hc3weJ",
        "outputId": "f4b37e0f-36be-4b29-d6be-4b41dfc432d0"
      },
      "source": [
        "plot_acc(history)\n",
        "plt.show()\n",
        "plot_loss(history)\n",
        "plt.show()"
      ],
      "execution_count": null,
      "outputs": [
        {
          "data": {
            "image/png": "[encoded data removed]",
            "text/plain": [
              "<Figure size 432x288 with 1 Axes>"
            ]
          },
          "metadata": {},
          "output_type": "display_data"
        },
        {
          "data": {
            "image/png": "[encoded data removed]",
            "text/plain": [
              "<Figure size 432x288 with 1 Axes>"
            ]
          },
          "metadata": {},
          "output_type": "display_data"
        }
      ]
    }
  ]
}