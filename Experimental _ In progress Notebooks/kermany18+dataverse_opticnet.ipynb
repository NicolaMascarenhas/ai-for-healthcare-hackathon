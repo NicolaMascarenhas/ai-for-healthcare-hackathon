{
 "cells": [
  {
   "cell_type": "markdown",
   "metadata": {
    "papermill": {
     "duration": 0.029874,
     "end_time": "2021-08-23T18:23:31.486817",
     "exception": false,
     "start_time": "2021-08-23T18:23:31.456943",
     "status": "completed"
    },
    "tags": []
   },
   "source": [
    "#### In this notebook, we used data from 2 datasets containing OCT images, \n",
    " 1.  #### Kermany (Retinal_OCT2017)\n",
    " 2.  #### Dataverse Data Set \n",
    "\n",
    "####  AMD:   AMD (55 - dataverse) + CNV(900-kermany)\n",
    "####  DR:   DR (107 - dataverse) + DME(816-kermany)\n",
    "#### NORMAL: Normal(208 - dataverse) + Normal(800-kermany)\n",
    "\n",
    "Here we perform the training on the same combined dataset as VGG16 but we train using the OpticNet model from scratch. Despite training from scratch we achieve better results of 93% on the training set and 92% on the test set"
   ]
  },
  {
   "cell_type": "markdown",
   "metadata": {
    "papermill": {
     "duration": 0.027552,
     "end_time": "2021-08-23T18:23:31.542160",
     "exception": false,
     "start_time": "2021-08-23T18:23:31.514608",
     "status": "completed"
    },
    "tags": []
   },
   "source": [
    "# Importing Data & Libraries"
   ]
  },
  {
   "cell_type": "code",
   "execution_count": 1,
   "metadata": {
    "execution": {
     "iopub.execute_input": "2021-08-23T18:23:31.608312Z",
     "iopub.status.busy": "2021-08-23T18:23:31.607332Z",
     "iopub.status.idle": "2021-08-23T18:23:31.610248Z",
     "shell.execute_reply": "2021-08-23T18:23:31.609723Z",
     "shell.execute_reply.started": "2021-08-22T18:02:38.107959Z"
    },
    "papermill": {
     "duration": 0.041188,
     "end_time": "2021-08-23T18:23:31.610400",
     "exception": false,
     "start_time": "2021-08-23T18:23:31.569212",
     "status": "completed"
    },
    "tags": []
   },
   "outputs": [],
   "source": [
    "p = \"/kaggle/input/kermany2018/OCT2017 /train\"\n",
    "p1 = \"/kaggle/input/ai-in-healthcare-hackathon/DataVerse_Dataset/DataVerse_Dataset\""
   ]
  },
  {
   "cell_type": "code",
   "execution_count": 2,
   "metadata": {
    "execution": {
     "iopub.execute_input": "2021-08-23T18:23:31.674370Z",
     "iopub.status.busy": "2021-08-23T18:23:31.673637Z",
     "iopub.status.idle": "2021-08-23T18:23:36.759113Z",
     "shell.execute_reply": "2021-08-23T18:23:36.758197Z",
     "shell.execute_reply.started": "2021-08-22T18:07:31.243985Z"
    },
    "papermill": {
     "duration": 5.121209,
     "end_time": "2021-08-23T18:23:36.759254",
     "exception": false,
     "start_time": "2021-08-23T18:23:31.638045",
     "status": "completed"
    },
    "tags": []
   },
   "outputs": [],
   "source": [
    "import os\n",
    "import pandas as pd\n",
    "from PIL import Image\n",
    "import numpy as np\n",
    "import matplotlib.pyplot as plt\n",
    "import random\n",
    "from tqdm import tqdm\n",
    "from collections import defaultdict\n",
    "import seaborn as sns\n",
    "from keras.preprocessing.image import ImageDataGenerator\n",
    "import tensorflow as tf\n",
    "\n",
    "from keras.layers import Activation,Dense, Dropout, Flatten, Conv2D, MaxPool2D,MaxPooling2D,AveragePooling2D, BatchNormalization, ReLU\n",
    "from keras.applications.vgg16 import VGG16\n",
    "from keras.models import Model\n",
    "from keras.applications.inception_v3 import InceptionV3\n",
    "from keras.applications import ResNet50, InceptionResNetV2\n",
    "from keras.preprocessing.image import load_img,img_to_array\n",
    "from tensorflow.keras.applications.imagenet_utils import preprocess_input\n",
    "\n",
    "import matplotlib.cm as cm\n",
    "from IPython.display import Image, display\n",
    "\n",
    "import itertools\n",
    "import sklearn\n",
    "from sklearn.model_selection import train_test_split\n",
    "from sklearn.utils import class_weight\n",
    "from sklearn.preprocessing import LabelBinarizer\n",
    "from sklearn.metrics import roc_curve, auc, roc_auc_score, confusion_matrix, classification_report"
   ]
  },
  {
   "cell_type": "markdown",
   "metadata": {
    "papermill": {
     "duration": 0.027553,
     "end_time": "2021-08-23T18:23:36.814745",
     "exception": false,
     "start_time": "2021-08-23T18:23:36.787192",
     "status": "completed"
    },
    "tags": []
   },
   "source": [
    "# Data Pre Processing & Visualization"
   ]
  },
  {
   "cell_type": "code",
   "execution_count": 3,
   "metadata": {
    "execution": {
     "iopub.execute_input": "2021-08-23T18:23:36.872911Z",
     "iopub.status.busy": "2021-08-23T18:23:36.872116Z",
     "iopub.status.idle": "2021-08-23T18:23:36.874673Z",
     "shell.execute_reply": "2021-08-23T18:23:36.875065Z",
     "shell.execute_reply.started": "2021-08-22T16:46:15.728926Z"
    },
    "papermill": {
     "duration": 0.033721,
     "end_time": "2021-08-23T18:23:36.875199",
     "exception": false,
     "start_time": "2021-08-23T18:23:36.841478",
     "status": "completed"
    },
    "tags": []
   },
   "outputs": [],
   "source": [
    "new_class = {'CNV':'AMD', 'DME':'DR', 'NORMAL':'NORMAL'}"
   ]
  },
  {
   "cell_type": "code",
   "execution_count": 4,
   "metadata": {
    "execution": {
     "iopub.execute_input": "2021-08-23T18:23:36.933610Z",
     "iopub.status.busy": "2021-08-23T18:23:36.933074Z",
     "iopub.status.idle": "2021-08-23T18:34:05.661051Z",
     "shell.execute_reply": "2021-08-23T18:34:05.661452Z",
     "shell.execute_reply.started": "2021-08-22T18:07:26.828417Z"
    },
    "papermill": {
     "duration": 628.760291,
     "end_time": "2021-08-23T18:34:05.661620",
     "exception": false,
     "start_time": "2021-08-23T18:23:36.901329",
     "status": "completed"
    },
    "tags": []
   },
   "outputs": [
    {
     "name": "stderr",
     "output_type": "stream",
     "text": [
      "100%|██████████| 11348/11348 [01:26<00:00, 130.57it/s]\n",
      "100%|██████████| 37205/37205 [05:18<00:00, 116.71it/s]\n",
      "100%|██████████| 26315/26315 [03:41<00:00, 118.71it/s]\n"
     ]
    }
   ],
   "source": [
    "train = defaultdict(list)\n",
    "train_class = defaultdict(list)\n",
    "\n",
    "for i in ['DME', 'CNV', 'NORMAL']:\n",
    "    path = os.path.join(p, i)\n",
    "    for j in tqdm(os.listdir(path)):\n",
    "        im = plt.imread(os.path.join(path, j))\n",
    "        if im.shape == (496, 768):\n",
    "            train[new_class[str(i)]].append(os.path.join(path, j))\n",
    "            train_class[new_class[str(i)]].append(new_class[str(i)])"
   ]
  },
  {
   "cell_type": "code",
   "execution_count": 5,
   "metadata": {
    "execution": {
     "iopub.execute_input": "2021-08-23T18:34:09.099468Z",
     "iopub.status.busy": "2021-08-23T18:34:09.098579Z",
     "iopub.status.idle": "2021-08-23T18:34:09.102016Z",
     "shell.execute_reply": "2021-08-23T18:34:09.102654Z",
     "shell.execute_reply.started": "2021-08-22T16:50:46.701411Z"
    },
    "papermill": {
     "duration": 1.48655,
     "end_time": "2021-08-23T18:34:09.102851",
     "exception": false,
     "start_time": "2021-08-23T18:34:07.616301",
     "status": "completed"
    },
    "tags": []
   },
   "outputs": [
    {
     "name": "stdout",
     "output_type": "stream",
     "text": [
      "DR 816\n",
      "AMD 12050\n",
      "NORMAL 6088\n"
     ]
    }
   ],
   "source": [
    "for i in ['DR', 'AMD', 'NORMAL']:\n",
    "    print(i,len(train[i]))"
   ]
  },
  {
   "cell_type": "code",
   "execution_count": 6,
   "metadata": {
    "execution": {
     "iopub.execute_input": "2021-08-23T18:34:12.123295Z",
     "iopub.status.busy": "2021-08-23T18:34:12.121723Z",
     "iopub.status.idle": "2021-08-23T18:34:12.124006Z",
     "shell.execute_reply": "2021-08-23T18:34:12.124414Z",
     "shell.execute_reply.started": "2021-08-22T16:50:46.709828Z"
    },
    "papermill": {
     "duration": 1.54667,
     "end_time": "2021-08-23T18:34:12.124553",
     "exception": false,
     "start_time": "2021-08-23T18:34:10.577883",
     "status": "completed"
    },
    "tags": []
   },
   "outputs": [],
   "source": [
    "data_path = []\n",
    "data_label = []\n",
    "for i,j in zip(['DR', 'AMD', 'NORMAL'],[816, 900, 800]):\n",
    "    temp  = list(zip(train[i], train_class[i]))\n",
    "    random.shuffle(temp)\n",
    "    res1, res2 = zip(*temp)\n",
    "    data_path.extend(res1[0:j])\n",
    "    data_label.extend(res2[0:j])"
   ]
  },
  {
   "cell_type": "code",
   "execution_count": 7,
   "metadata": {
    "execution": {
     "iopub.execute_input": "2021-08-23T18:34:15.315617Z",
     "iopub.status.busy": "2021-08-23T18:34:15.314735Z",
     "iopub.status.idle": "2021-08-23T18:34:15.317063Z",
     "shell.execute_reply": "2021-08-23T18:34:15.317450Z",
     "shell.execute_reply.started": "2021-08-22T16:50:46.747901Z"
    },
    "papermill": {
     "duration": 1.471753,
     "end_time": "2021-08-23T18:34:15.317585",
     "exception": false,
     "start_time": "2021-08-23T18:34:13.845832",
     "status": "completed"
    },
    "tags": []
   },
   "outputs": [],
   "source": [
    "def labeller(j):\n",
    "    if j.startswith(\"AMRD\"): return 'AMD'\n",
    "    elif j.startswith(\"DR\"): return 'DR'\n",
    "    else: return 'NORMAL'"
   ]
  },
  {
   "cell_type": "code",
   "execution_count": 8,
   "metadata": {
    "execution": {
     "iopub.execute_input": "2021-08-23T18:34:18.289401Z",
     "iopub.status.busy": "2021-08-23T18:34:18.288753Z",
     "iopub.status.idle": "2021-08-23T18:34:18.401831Z",
     "shell.execute_reply": "2021-08-23T18:34:18.401375Z",
     "shell.execute_reply.started": "2021-08-22T16:50:46.75485Z"
    },
    "papermill": {
     "duration": 1.619163,
     "end_time": "2021-08-23T18:34:18.402011",
     "exception": false,
     "start_time": "2021-08-23T18:34:16.782848",
     "status": "completed"
    },
    "tags": []
   },
   "outputs": [],
   "source": [
    "for i in ['Macular Degeneration', 'Diabetic_Retinopathy','Normal_retina']:\n",
    "    full_path = os.path.join(p1,i)\n",
    "    img_dir = os.listdir(full_path)\n",
    "    for j in img_dir:\n",
    "        data_path.append(os.path.join(full_path, j))\n",
    "        data_label.append(labeller(j))"
   ]
  },
  {
   "cell_type": "code",
   "execution_count": 9,
   "metadata": {
    "execution": {
     "iopub.execute_input": "2021-08-23T18:34:21.350536Z",
     "iopub.status.busy": "2021-08-23T18:34:21.349864Z",
     "iopub.status.idle": "2021-08-23T18:34:21.353239Z",
     "shell.execute_reply": "2021-08-23T18:34:21.352776Z",
     "shell.execute_reply.started": "2021-08-22T16:50:46.772817Z"
    },
    "papermill": {
     "duration": 1.482114,
     "end_time": "2021-08-23T18:34:21.353362",
     "exception": false,
     "start_time": "2021-08-23T18:34:19.871248",
     "status": "completed"
    },
    "tags": []
   },
   "outputs": [],
   "source": [
    "X_train, X_test, y_train, y_test = train_test_split(data_path, data_label, test_size=0.2, random_state=42)\n",
    "df_train = pd.DataFrame(list(zip(X_train, y_train)),columns =['image_path', 'label'])\n",
    "df_test = pd.DataFrame(list(zip(X_test, y_test)),columns =['image_path', 'label'])"
   ]
  },
  {
   "cell_type": "markdown",
   "metadata": {
    "papermill": {
     "duration": 1.741448,
     "end_time": "2021-08-23T18:34:24.581422",
     "exception": false,
     "start_time": "2021-08-23T18:34:22.839974",
     "status": "completed"
    },
    "tags": []
   },
   "source": [
    "Training Data"
   ]
  },
  {
   "cell_type": "code",
   "execution_count": 10,
   "metadata": {
    "execution": {
     "iopub.execute_input": "2021-08-23T18:34:27.525014Z",
     "iopub.status.busy": "2021-08-23T18:34:27.524205Z",
     "iopub.status.idle": "2021-08-23T18:34:27.670439Z",
     "shell.execute_reply": "2021-08-23T18:34:27.670860Z",
     "shell.execute_reply.started": "2021-08-22T16:50:46.787285Z"
    },
    "papermill": {
     "duration": 1.628211,
     "end_time": "2021-08-23T18:34:27.671006",
     "exception": false,
     "start_time": "2021-08-23T18:34:26.042795",
     "status": "completed"
    },
    "tags": []
   },
   "outputs": [
    {
     "data": {
      "text/plain": [
       "<AxesSubplot:xlabel='label', ylabel='count'>"
      ]
     },
     "execution_count": 10,
     "metadata": {},
     "output_type": "execute_result"
    },
    {
     "data": {
      "image/png": "[encoded data removed]",
      "text/plain": [
       "<Figure size 1080x288 with 1 Axes>"
      ]
     },
     "metadata": {
      "needs_background": "light"
     },
     "output_type": "display_data"
    }
   ],
   "source": [
    "plt.rcParams[\"figure.figsize\"] = (15,4)\n",
    "df = df_train\n",
    "lab = df['label']\n",
    "dist = lab.value_counts()\n",
    "sns.countplot(x = lab)"
   ]
  },
  {
   "cell_type": "markdown",
   "metadata": {
    "papermill": {
     "duration": 1.49686,
     "end_time": "2021-08-23T18:34:30.636575",
     "exception": false,
     "start_time": "2021-08-23T18:34:29.139715",
     "status": "completed"
    },
    "tags": []
   },
   "source": [
    "Test Data"
   ]
  },
  {
   "cell_type": "code",
   "execution_count": 11,
   "metadata": {
    "execution": {
     "iopub.execute_input": "2021-08-23T18:34:33.581077Z",
     "iopub.status.busy": "2021-08-23T18:34:33.580191Z",
     "iopub.status.idle": "2021-08-23T18:34:33.858737Z",
     "shell.execute_reply": "2021-08-23T18:34:33.858329Z",
     "shell.execute_reply.started": "2021-08-22T16:50:57.491096Z"
    },
    "papermill": {
     "duration": 1.756602,
     "end_time": "2021-08-23T18:34:33.858895",
     "exception": false,
     "start_time": "2021-08-23T18:34:32.102293",
     "status": "completed"
    },
    "tags": []
   },
   "outputs": [
    {
     "data": {
      "text/plain": [
       "<AxesSubplot:xlabel='label', ylabel='count'>"
      ]
     },
     "execution_count": 11,
     "metadata": {},
     "output_type": "execute_result"
    },
    {
     "data": {
      "image/png": "[encoded data removed]",
      "text/plain": [
       "<Figure size 1080x288 with 1 Axes>"
      ]
     },
     "metadata": {
      "needs_background": "light"
     },
     "output_type": "display_data"
    }
   ],
   "source": [
    "plt.rcParams[\"figure.figsize\"] = (15,4)\n",
    "df = df_test\n",
    "lab = df['label']\n",
    "dist = lab.value_counts()\n",
    "sns.countplot(x = lab)"
   ]
  },
  {
   "cell_type": "markdown",
   "metadata": {
    "papermill": {
     "duration": 1.518684,
     "end_time": "2021-08-23T18:34:37.115241",
     "exception": false,
     "start_time": "2021-08-23T18:34:35.596557",
     "status": "completed"
    },
    "tags": []
   },
   "source": [
    "## Data Augmentation"
   ]
  },
  {
   "cell_type": "code",
   "execution_count": 12,
   "metadata": {
    "execution": {
     "iopub.execute_input": "2021-08-23T18:34:40.561099Z",
     "iopub.status.busy": "2021-08-23T18:34:40.560540Z",
     "iopub.status.idle": "2021-08-23T18:34:41.637309Z",
     "shell.execute_reply": "2021-08-23T18:34:41.636891Z",
     "shell.execute_reply.started": "2021-08-22T16:51:00.99948Z"
    },
    "papermill": {
     "duration": 3.046619,
     "end_time": "2021-08-23T18:34:41.637440",
     "exception": false,
     "start_time": "2021-08-23T18:34:38.590821",
     "status": "completed"
    },
    "tags": []
   },
   "outputs": [
    {
     "name": "stderr",
     "output_type": "stream",
     "text": [
      "/opt/conda/lib/python3.7/site-packages/keras_preprocessing/image/dataframe_iterator.py:282: UserWarning: Found 2 invalid image filename(s) in x_col=\"image_path\". These filename(s) will be ignored.\n",
      "  .format(n_invalid, x_col)\n"
     ]
    },
    {
     "name": "stdout",
     "output_type": "stream",
     "text": [
      "Found 2306 validated image filenames belonging to 3 classes.\n",
      "Found 578 validated image filenames belonging to 3 classes.\n"
     ]
    }
   ],
   "source": [
    "train_aug = ImageDataGenerator(\n",
    "        rotation_range=40,\n",
    "        width_shift_range=0.2,\n",
    "        height_shift_range=0.2,\n",
    "        shear_range=0.2,\n",
    "        zoom_range=0.2,\n",
    "        rescale=1.0/255,\n",
    "        horizontal_flip=True,\n",
    "        fill_mode='nearest')\n",
    "\n",
    "test_aug = ImageDataGenerator(\n",
    "    rescale = 1.0/255,)\n",
    "\n",
    "train_generator= train_aug.flow_from_dataframe(\n",
    "        dataframe=df_train,\n",
    "        x_col=\"image_path\",\n",
    "        y_col=\"label\",\n",
    "        batch_size=8,\n",
    "        color_mode=\"rgb\",\n",
    "        shuffle = True,\n",
    "        target_size = (224, 224),\n",
    "        class_mode=\"categorical\")\n",
    "\n",
    "test_generator= test_aug.flow_from_dataframe(\n",
    "        dataframe=df_test,\n",
    "        x_col=\"image_path\",\n",
    "        y_col=\"label\",\n",
    "        color_mode=\"rgb\",\n",
    "        batch_size=8,\n",
    "        shuffle = False, \n",
    "        target_size = (224, 224),\n",
    "        class_mode=\"categorical\")"
   ]
  },
  {
   "cell_type": "markdown",
   "metadata": {
    "papermill": {
     "duration": 1.51201,
     "end_time": "2021-08-23T18:34:44.643161",
     "exception": false,
     "start_time": "2021-08-23T18:34:43.131151",
     "status": "completed"
    },
    "tags": []
   },
   "source": [
    "# MODEL\n",
    "## Compiling & Training OpticNet\n",
    "\n",
    "A model for classifying different Retinal Diseases using Deep Learning from Optical Coherence Tomography Images. \n",
    "OpticNet-71 is a Novel Convolutional Neural Network for Diagnosis of Retinal Diseases from Optical Tomography Images achieving 99.8% accuracy on the Kermany2018 dataset.\n",
    "\n",
    "https://arxiv.org/abs/1910.05672"
   ]
  },
  {
   "cell_type": "code",
   "execution_count": 13,
   "metadata": {
    "execution": {
     "iopub.execute_input": "2021-08-23T18:34:47.829910Z",
     "iopub.status.busy": "2021-08-23T18:34:47.828910Z",
     "iopub.status.idle": "2021-08-23T18:34:47.831130Z",
     "shell.execute_reply": "2021-08-23T18:34:47.831530Z",
     "shell.execute_reply.started": "2021-08-22T18:10:06.810228Z"
    },
    "papermill": {
     "duration": 1.499802,
     "end_time": "2021-08-23T18:34:47.831686",
     "exception": false,
     "start_time": "2021-08-23T18:34:46.331884",
     "status": "completed"
    },
    "tags": []
   },
   "outputs": [],
   "source": [
    "from keras.layers import Input, Multiply,GlobalAveragePooling2D, Add, Dense, Activation, Maximum, ZeroPadding2D, BatchNormalization, Flatten, Conv2D, AveragePooling2D, MaxPooling2D, GlobalMaxPooling2D, Lambda, UpSampling2D, DepthwiseConv2D, SeparableConv2D\n",
    "from keras.optimizers import Adam\n",
    "from keras.initializers import glorot_uniform\n",
    "\n",
    "def res_conv(X, filters, base, s):\n",
    "    \n",
    "    name_base = base + '/branch'\n",
    "    \n",
    "    F1, F2, F3 = filters\n",
    "\n",
    "    ##### Branch1 is the main path and Branch2 is the shortcut path #####\n",
    "    \n",
    "    X_shortcut = X\n",
    "    \n",
    "    ##### Branch1 #####\n",
    "    # First component of Branch1 \n",
    "    X = BatchNormalization(axis=-1, name=name_base + '1/bn_1')(X)\n",
    "    X= Activation('relu', name=name_base + '1/relu_1')(X)\n",
    "    X = Conv2D(filters=F1, kernel_size=(1,1), strides=(1,1), padding='valid', name=name_base + '1/conv_1', kernel_initializer=glorot_uniform(seed=0))(X)\n",
    "\n",
    "    # Second component of Branch1\n",
    "    X = BatchNormalization(axis=-1, name=name_base + '1/bn_2')(X)\n",
    "    X = Activation('relu', name=name_base + '1/relu_2')(X)\n",
    "    X = Conv2D(filters=F2, kernel_size=(2,2), strides=(s,s), padding='same', name=name_base + '1/conv_2', kernel_initializer=glorot_uniform(seed=0))(X)\n",
    "    \n",
    "    # Third component of Branch1\n",
    "    X = BatchNormalization(axis=-1, name=name_base + '1/bn_3')(X)\n",
    "    X = Activation('relu', name=name_base + '1/relu_3')(X)\n",
    "    X = Conv2D(filters=F3, kernel_size=(1,1), strides=(1,1), padding='valid', name=name_base + '1/conv_3', kernel_initializer=glorot_uniform(seed=0))(X)\n",
    "    \n",
    "    ##### Branch2 ####\n",
    "    X_shortcut = BatchNormalization(axis=-1, name=name_base + '2/bn_1')(X_shortcut)\n",
    "    X_shortcut= Activation('relu', name=name_base + '2/relu_1')(X_shortcut)\n",
    "    X_shortcut = Conv2D(filters=F3, kernel_size=(1,1), strides=(s,s), padding='valid', name=name_base + '2/conv_1', kernel_initializer=glorot_uniform(seed=0))(X_shortcut)\n",
    "    \n",
    "    # Final step: Add Branch1 and Branch2\n",
    "    X = Add(name=base + '/Add')([X, X_shortcut])\n",
    "\n",
    "    return X\n",
    "\n",
    "def res_identity(X, filters, base):\n",
    "    \n",
    "    name_base = base + '/branch'\n",
    "    \n",
    "    F1, F2, F3 = filters\n",
    "\n",
    "    ##### Branch1 is the main path and Branch2 is the shortcut path #####\n",
    "    \n",
    "    X_shortcut = X\n",
    "    \n",
    "    ##### Branch1 #####\n",
    "    # First component of Branch1 \n",
    "    X = BatchNormalization(axis=-1, name=name_base + '1/bn_1')(X)\n",
    "    Shortcut= Activation('relu', name=name_base + '1/relu_1')(X)\n",
    "    X = Conv2D(filters=F1, kernel_size=(1,1), strides=(1,1), padding='valid', name=name_base + '1/conv_1', kernel_initializer=glorot_uniform(seed=0))(Shortcut)\n",
    "\n",
    "    # Second component BranchOut 1\n",
    "    X1 = BatchNormalization(axis=-1, name=name_base + '1/ConvBn_2')(X)\n",
    "    X1 = Activation('relu', name=name_base + '1/ConvRelu_2')(X1)\n",
    "    X1 = Conv2D(filters=F2, kernel_size=(2,2), dilation_rate=(2, 2),strides=(1,1), padding='same', name=name_base + '1/Conv_2', kernel_initializer=glorot_uniform(seed=0))(X1)\n",
    "    \n",
    "    # Second component BrancOut 2\n",
    "    X2 = BatchNormalization(axis=-1, name=name_base + '1/SepBn_2')(X)\n",
    "    X2 = Activation('relu', name=name_base + '1/SepRelu_2')(X2)\n",
    "    X2 = SeparableConv2D(filters=F2, kernel_size=(2,2), dilation_rate=(2, 2),strides=(1,1), padding='same', name=name_base + '1/SepConv_2', kernel_initializer=glorot_uniform(seed=0))(X2)\n",
    "    \n",
    "    # Second component Add-BranchOut\n",
    "    X = Add(name=base + '/Add-2branches')([X1, X2])\n",
    "    \n",
    "    # Third component of Branch1\n",
    "    X = BatchNormalization(axis=-1, name=name_base + '1/bn_3')(X)\n",
    "    X = Activation('relu', name=name_base + '1/relu_3')(X)\n",
    "    X = Conv2D(filters=F3, kernel_size=(1,1), strides=(1,1), padding='valid', name=name_base + '1/conv_3', kernel_initializer=glorot_uniform(seed=0))(X)    \n",
    "    \n",
    "    # Final step: Add Branch1 and the original Input itself\n",
    "    X = Add(name=base + '/Add')([X_shortcut,X])\n",
    "\n",
    "    return X\n",
    "\n",
    "def EncoderDecoder(X, name_base):\n",
    "    X = MaxPooling2D((3,3), strides=(2,2), padding='same', name = name_base + '/Downsample1')(X)\n",
    "    #X = Conv2D(outgoing_depth, (2,2), strides=(1,1), dilation_rate=(2,2), padding='same', name = name_base + '/DC1', kernel_initializer=glorot_uniform(seed=0))(X)    \n",
    "    X = UpSampling2D(size=(2, 2),interpolation='bilinear',name = name_base + '/Upsample1')(X)\n",
    "    X = Activation('sigmoid', name = name_base + '/Activate')(X)\n",
    "    return X\n",
    "\n",
    "def RDBI(X, filters, base, number):\n",
    "    \n",
    "    for i in range(number):\n",
    "        X = res_identity(X, filters, base+ '/id_'+str(1+i))\n",
    "    \n",
    "    return X\n",
    "def OpticNet(input_size,num_of_classes):\n",
    "    input_shape=(input_size, input_size, 3) # Height x Width x Channel\n",
    "    X_input = Input(input_shape)\n",
    "    X = Conv2D(64, (7,7), strides=(2,2), padding='same', name ='CONV1', kernel_initializer=glorot_uniform(seed=0))(X_input)\n",
    "    X = BatchNormalization(axis=-1, name ='BN1')(X)\n",
    "    X = Activation('relu', name ='RELU1')(X)\n",
    "    X = res_conv(X, [64,64,256], 'RC0', 1)\n",
    "    \n",
    "    # MID 1\n",
    "    X1 = EncoderDecoder(X, 'EncoderDecoder1')\n",
    "    X2 = RDBI(X, [32,32,256], 'RDBI1',4)\n",
    "    X = Multiply(name = 'Mutiply1')([X1,X2])\n",
    "    X = Add(name = 'Add1')([X,X1,X2])\n",
    "    X = res_conv(X, [128,128,512], 'RC1', 2)\n",
    "    \n",
    "    # MID 2\n",
    "    X1 = EncoderDecoder(X, 'EncoderDecoder2')\n",
    "    X2 = RDBI(X, [64,64,512], 'RDBI2',4)\n",
    "    X = Multiply(name = 'Mutiply2')([X1,X2])\n",
    "    X = Add(name = 'Add2')([X,X1,X2])\n",
    "    X = res_conv(X, [256,256,1024], 'RC2', 2)\n",
    "    \n",
    "    # MID 3\n",
    "    X1 = EncoderDecoder(X, 'EncoderDecoder3')\n",
    "    X2 = RDBI(X, [128,128,1024], 'RDBI3',3)\n",
    "    X = Multiply(name = 'Mutiply3')([X1,X2])\n",
    "    X = Add(name = 'Add3')([X,X1,X2])\n",
    "    X = res_conv(X, [512,512,2048], 'RC3', 2)\n",
    "    \n",
    "    # MID 4\n",
    "    X1 = EncoderDecoder(X, 'EncoderDecoder4')\n",
    "    X2 = RDBI(X, [256,256,2048], 'RDBI4',3)\n",
    "    X = Multiply(name = 'Mutiply4')([X1,X2])\n",
    "    X = Add(name = 'Add4')([X,X1,X2]) \n",
    "    \n",
    "    X = GlobalAveragePooling2D(name='global_avg_pool')(X)\n",
    "    X = Dense(256, name='Dense_1')(X)\n",
    "    X = Dense(num_of_classes, name='Dense_2')(X)\n",
    "    X = Activation('softmax', name='classifier')(X)\n",
    "    \n",
    "    model = Model(inputs=X_input, outputs=X, name='')\n",
    "\n",
    "    return model"
   ]
  },
  {
   "cell_type": "code",
   "execution_count": 14,
   "metadata": {
    "execution": {
     "iopub.execute_input": "2021-08-23T18:34:50.774058Z",
     "iopub.status.busy": "2021-08-23T18:34:50.773202Z",
     "iopub.status.idle": "2021-08-23T18:34:50.775304Z",
     "shell.execute_reply": "2021-08-23T18:34:50.775741Z",
     "shell.execute_reply.started": "2021-08-22T16:51:41.076668Z"
    },
    "papermill": {
     "duration": 1.474042,
     "end_time": "2021-08-23T18:34:50.775888",
     "exception": false,
     "start_time": "2021-08-23T18:34:49.301846",
     "status": "completed"
    },
    "tags": []
   },
   "outputs": [],
   "source": [
    "def train_model(model, train_generator, test_generator, num_epochs, optimizer):\n",
    "    model.compile(loss='categorical_crossentropy', \n",
    "                  optimizer=optimizer, \n",
    "                  metrics=['accuracy'])\n",
    "    early_stop = tf.keras.callbacks.EarlyStopping(monitor='val_acc', min_delta=0, patience=5, verbose=1, mode='auto')\n",
    "    rlr = tf.keras.callbacks.ReduceLROnPlateau(monitor='val_loss', factor=0.1, patience=6, verbose=1, min_lr=1e-8, mode='auto')\n",
    "    model.summary()\n",
    "    \n",
    "    # Train using .fit\n",
    "    history = model.fit(train_generator, epochs=num_epochs, \n",
    "                        validation_data=test_generator, verbose=1,\n",
    "                        callbacks = [early_stop, rlr])\n",
    "    \n",
    "    return model, history"
   ]
  },
  {
   "cell_type": "markdown",
   "metadata": {
    "papermill": {
     "duration": 1.476263,
     "end_time": "2021-08-23T18:34:53.752054",
     "exception": false,
     "start_time": "2021-08-23T18:34:52.275791",
     "status": "completed"
    },
    "tags": []
   },
   "source": [
    "# Model Evaluation\n",
    "## Plotting Curves - Loss, Accuracy, ROC + Confusion Matrix"
   ]
  },
  {
   "cell_type": "code",
   "execution_count": 15,
   "metadata": {
    "execution": {
     "iopub.execute_input": "2021-08-23T18:34:56.831986Z",
     "iopub.status.busy": "2021-08-23T18:34:56.831166Z",
     "iopub.status.idle": "2021-08-23T18:34:56.846457Z",
     "shell.execute_reply": "2021-08-23T18:34:56.847200Z",
     "shell.execute_reply.started": "2021-08-22T16:51:19.83048Z"
    },
    "papermill": {
     "duration": 1.626075,
     "end_time": "2021-08-23T18:34:56.847397",
     "exception": false,
     "start_time": "2021-08-23T18:34:55.221322",
     "status": "completed"
    },
    "tags": []
   },
   "outputs": [],
   "source": [
    "def plot_loss(history):\n",
    "    plt.plot(history.history['loss'])\n",
    "    plt.plot(history.history['val_loss'])\n",
    "    plt.title('model loss')\n",
    "    plt.ylabel('loss')\n",
    "    plt.xlabel('epoch')\n",
    "    plt.legend(['train', 'val'], loc='upper left')\n",
    "    \n",
    "def plot_acc(history):\n",
    "    plt.plot(history.history['accuracy'])\n",
    "    plt.plot(history.history['val_accuracy'])\n",
    "    plt.title('model accuracy')\n",
    "    plt.ylabel('accuracy')\n",
    "    plt.xlabel('epoch')\n",
    "    plt.legend(['train', 'val'], loc='upper left')\n",
    "    \n",
    "# It prints & plots the confusion matrix, normalization can be applied by setting normalize=True.\n",
    "    \n",
    "def plot_confusion_matrix(cm, classes,normalize=False,title='Confusion matrix',cmap=plt.cm.Blues):\n",
    "\n",
    "    plt.figure(figsize = (5,5))\n",
    "    plt.imshow(cm, interpolation='nearest', cmap=cmap)\n",
    "    plt.title(title)\n",
    "    plt.colorbar()\n",
    "    tick_marks = np.arange(len(classes))\n",
    "    plt.xticks(tick_marks, classes, rotation=90)\n",
    "    plt.yticks(tick_marks, classes)\n",
    "    if normalize:\n",
    "        cm = cm.astype('float') / cm.sum(axis=1)[:, np.newaxis]\n",
    "\n",
    "    thresh = cm.max() / 2.\n",
    "    for i, j in itertools.product(range(cm.shape[0]), range(cm.shape[1])):\n",
    "        plt.text(j, i, cm[i, j],\n",
    "                 horizontalalignment=\"center\",\n",
    "                 color=\"white\" if cm[i, j] > thresh else \"black\")\n",
    "    plt.tight_layout()\n",
    "    plt.ylabel('True label')\n",
    "    plt.xlabel('Predicted label')\n",
    "\n",
    "def plot_roc_curves(y_true, y_pred, num_classes, class_labels):\n",
    "    \n",
    "    lb = LabelBinarizer()\n",
    "    lb.fit(y_true)\n",
    "    y_test = lb.transform(y_true)\n",
    "\n",
    "    # Compute ROC curve and ROC area for each class\n",
    "    fpr = dict()\n",
    "    tpr = dict()\n",
    "    roc_auc = dict()\n",
    "    for i in range(num_classes):\n",
    "        fpr[i], tpr[i], _ = roc_curve(y_test[:, i], y_pred[:, i])\n",
    "        roc_auc[i] = auc(fpr[i], tpr[i])\n",
    "\n",
    "    # Plot all ROC curves\n",
    "    for i in range(num_classes):\n",
    "        fig, c_ax = plt.subplots(1,1, figsize = (6, 4))\n",
    "        c_ax.plot(fpr[i], tpr[i],\n",
    "                 label='ROC curve of class {0} (area = {1:0.4f})'\n",
    "                 ''.format(class_labels[i], roc_auc[i]))\n",
    "        c_ax.set_xlabel('False Positive Rate')\n",
    "        c_ax.set_ylabel('True Positive Rate')\n",
    "        c_ax.set_title('ROC curve of class {0}'.format(class_labels[i]))\n",
    "        c_ax.legend(loc=\"lower right\")\n",
    "        plt.show()\n",
    "    return roc_auc_score(y_test, y_pred)"
   ]
  },
  {
   "cell_type": "code",
   "execution_count": 16,
   "metadata": {
    "execution": {
     "iopub.execute_input": "2021-08-23T18:34:59.919431Z",
     "iopub.status.busy": "2021-08-23T18:34:59.918574Z",
     "iopub.status.idle": "2021-08-23T18:34:59.921581Z",
     "shell.execute_reply": "2021-08-23T18:34:59.921133Z",
     "shell.execute_reply.started": "2021-08-22T16:51:22.961203Z"
    },
    "papermill": {
     "duration": 1.479875,
     "end_time": "2021-08-23T18:34:59.921697",
     "exception": false,
     "start_time": "2021-08-23T18:34:58.441822",
     "status": "completed"
    },
    "tags": []
   },
   "outputs": [],
   "source": [
    "def evaluate_model(model, history, test_generator):\n",
    "    # Evaluate model\n",
    "    score = model.evaluate(test_generator, verbose=0)\n",
    "    print('\\nTest set accuracy:', score[1], '\\n')\n",
    "    \n",
    "    y_true = np.array(test_generator.labels)\n",
    "    y_pred = model.predict(test_generator, verbose = 1)\n",
    "    y_pred_classes = np.argmax(y_pred,axis = 1)\n",
    "    class_labels = list(test_generator.class_indices.keys())   \n",
    "    \n",
    "    print('\\n', sklearn.metrics.classification_report(y_true, y_pred_classes, target_names=class_labels), sep='')\n",
    "    confusion_mtx = confusion_matrix(y_true, y_pred_classes)\n",
    "    plot_acc(history)\n",
    "    plt.show()\n",
    "    plot_loss(history)\n",
    "    plt.show()\n",
    "    plot_confusion_matrix(confusion_mtx, classes = class_labels)\n",
    "    plt.show()\n",
    "    print(\"ROS AUC score:\", plot_roc_curves(y_true, y_pred,3, class_labels))"
   ]
  },
  {
   "cell_type": "markdown",
   "metadata": {
    "papermill": {
     "duration": 1.510855,
     "end_time": "2021-08-23T18:35:02.898483",
     "exception": false,
     "start_time": "2021-08-23T18:35:01.387628",
     "status": "completed"
    },
    "tags": []
   },
   "source": [
    "# Transfer Learning using OpticNet"
   ]
  },
  {
   "cell_type": "markdown",
   "metadata": {
    "papermill": {
     "duration": 1.466226,
     "end_time": "2021-08-23T18:35:05.830793",
     "exception": false,
     "start_time": "2021-08-23T18:35:04.364567",
     "status": "completed"
    },
    "tags": []
   },
   "source": [
    "Compilation"
   ]
  },
  {
   "cell_type": "code",
   "execution_count": 17,
   "metadata": {
    "execution": {
     "iopub.execute_input": "2021-08-23T18:35:09.047926Z",
     "iopub.status.busy": "2021-08-23T18:35:09.047390Z",
     "iopub.status.idle": "2021-08-23T18:35:12.469216Z",
     "shell.execute_reply": "2021-08-23T18:35:12.468707Z",
     "shell.execute_reply.started": "2021-08-22T16:51:25.952054Z"
    },
    "papermill": {
     "duration": 5.154944,
     "end_time": "2021-08-23T18:35:12.469347",
     "exception": false,
     "start_time": "2021-08-23T18:35:07.314403",
     "status": "completed"
    },
    "tags": []
   },
   "outputs": [],
   "source": [
    "opticnet_model = OpticNet(224,3)"
   ]
  },
  {
   "cell_type": "markdown",
   "metadata": {
    "papermill": {
     "duration": 1.456328,
     "end_time": "2021-08-23T18:35:15.948213",
     "exception": false,
     "start_time": "2021-08-23T18:35:14.491885",
     "status": "completed"
    },
    "tags": []
   },
   "source": [
    "Training"
   ]
  },
  {
   "cell_type": "code",
   "execution_count": 18,
   "metadata": {
    "execution": {
     "iopub.execute_input": "2021-08-23T18:35:19.164289Z",
     "iopub.status.busy": "2021-08-23T18:35:19.163123Z",
     "iopub.status.idle": "2021-08-23T19:19:03.148960Z",
     "shell.execute_reply": "2021-08-23T19:19:03.148475Z",
     "shell.execute_reply.started": "2021-08-22T16:51:45.560904Z"
    },
    "papermill": {
     "duration": 2625.735953,
     "end_time": "2021-08-23T19:19:03.149104",
     "exception": false,
     "start_time": "2021-08-23T18:35:17.413151",
     "status": "completed"
    },
    "tags": []
   },
   "outputs": [
    {
     "name": "stdout",
     "output_type": "stream",
     "text": [
      "Model: \"model\"\n",
      "__________________________________________________________________________________________________\n",
      "Layer (type)                    Output Shape         Param #     Connected to                     \n",
      "==================================================================================================\n",
      "input_1 (InputLayer)            [(None, 224, 224, 3) 0                                            \n",
      "__________________________________________________________________________________________________\n",
      "CONV1 (Conv2D)                  (None, 112, 112, 64) 9472        input_1[0][0]                    \n",
      "__________________________________________________________________________________________________\n",
      "BN1 (BatchNormalization)        (None, 112, 112, 64) 256         CONV1[0][0]                      \n",
      "__________________________________________________________________________________________________\n",
      "RELU1 (Activation)              (None, 112, 112, 64) 0           BN1[0][0]                        \n",
      "__________________________________________________________________________________________________\n",
      "RC0/branch1/bn_1 (BatchNormaliz (None, 112, 112, 64) 256         RELU1[0][0]                      \n",
      "__________________________________________________________________________________________________\n",
      "RC0/branch1/relu_1 (Activation) (None, 112, 112, 64) 0           RC0/branch1/bn_1[0][0]           \n",
      "__________________________________________________________________________________________________\n",
      "RC0/branch1/conv_1 (Conv2D)     (None, 112, 112, 64) 4160        RC0/branch1/relu_1[0][0]         \n",
      "__________________________________________________________________________________________________\n",
      "RC0/branch1/bn_2 (BatchNormaliz (None, 112, 112, 64) 256         RC0/branch1/conv_1[0][0]         \n",
      "__________________________________________________________________________________________________\n",
      "RC0/branch1/relu_2 (Activation) (None, 112, 112, 64) 0           RC0/branch1/bn_2[0][0]           \n",
      "__________________________________________________________________________________________________\n",
      "RC0/branch1/conv_2 (Conv2D)     (None, 112, 112, 64) 16448       RC0/branch1/relu_2[0][0]         \n",
      "__________________________________________________________________________________________________\n",
      "RC0/branch1/bn_3 (BatchNormaliz (None, 112, 112, 64) 256         RC0/branch1/conv_2[0][0]         \n",
      "__________________________________________________________________________________________________\n",
      "RC0/branch2/bn_1 (BatchNormaliz (None, 112, 112, 64) 256         RELU1[0][0]                      \n",
      "__________________________________________________________________________________________________\n",
      "RC0/branch1/relu_3 (Activation) (None, 112, 112, 64) 0           RC0/branch1/bn_3[0][0]           \n",
      "__________________________________________________________________________________________________\n",
      "RC0/branch2/relu_1 (Activation) (None, 112, 112, 64) 0           RC0/branch2/bn_1[0][0]           \n",
      "__________________________________________________________________________________________________\n",
      "RC0/branch1/conv_3 (Conv2D)     (None, 112, 112, 256 16640       RC0/branch1/relu_3[0][0]         \n",
      "__________________________________________________________________________________________________\n",
      "RC0/branch2/conv_1 (Conv2D)     (None, 112, 112, 256 16640       RC0/branch2/relu_1[0][0]         \n",
      "__________________________________________________________________________________________________\n",
      "RC0/Add (Add)                   (None, 112, 112, 256 0           RC0/branch1/conv_3[0][0]         \n",
      "                                                                 RC0/branch2/conv_1[0][0]         \n",
      "__________________________________________________________________________________________________\n",
      "RDBI1/id_1/branch1/bn_1 (BatchN (None, 112, 112, 256 1024        RC0/Add[0][0]                    \n",
      "__________________________________________________________________________________________________\n",
      "RDBI1/id_1/branch1/relu_1 (Acti (None, 112, 112, 256 0           RDBI1/id_1/branch1/bn_1[0][0]    \n",
      "__________________________________________________________________________________________________\n",
      "RDBI1/id_1/branch1/conv_1 (Conv (None, 112, 112, 32) 8224        RDBI1/id_1/branch1/relu_1[0][0]  \n",
      "__________________________________________________________________________________________________\n",
      "RDBI1/id_1/branch1/ConvBn_2 (Ba (None, 112, 112, 32) 128         RDBI1/id_1/branch1/conv_1[0][0]  \n",
      "__________________________________________________________________________________________________\n",
      "RDBI1/id_1/branch1/SepBn_2 (Bat (None, 112, 112, 32) 128         RDBI1/id_1/branch1/conv_1[0][0]  \n",
      "__________________________________________________________________________________________________\n",
      "RDBI1/id_1/branch1/ConvRelu_2 ( (None, 112, 112, 32) 0           RDBI1/id_1/branch1/ConvBn_2[0][0]\n",
      "__________________________________________________________________________________________________\n",
      "RDBI1/id_1/branch1/SepRelu_2 (A (None, 112, 112, 32) 0           RDBI1/id_1/branch1/SepBn_2[0][0] \n",
      "__________________________________________________________________________________________________\n",
      "RDBI1/id_1/branch1/Conv_2 (Conv (None, 112, 112, 32) 4128        RDBI1/id_1/branch1/ConvRelu_2[0][\n",
      "__________________________________________________________________________________________________\n",
      "RDBI1/id_1/branch1/SepConv_2 (S (None, 112, 112, 32) 1184        RDBI1/id_1/branch1/SepRelu_2[0][0\n",
      "__________________________________________________________________________________________________\n",
      "RDBI1/id_1/Add-2branches (Add)  (None, 112, 112, 32) 0           RDBI1/id_1/branch1/Conv_2[0][0]  \n",
      "                                                                 RDBI1/id_1/branch1/SepConv_2[0][0\n",
      "__________________________________________________________________________________________________\n",
      "RDBI1/id_1/branch1/bn_3 (BatchN (None, 112, 112, 32) 128         RDBI1/id_1/Add-2branches[0][0]   \n",
      "__________________________________________________________________________________________________\n",
      "RDBI1/id_1/branch1/relu_3 (Acti (None, 112, 112, 32) 0           RDBI1/id_1/branch1/bn_3[0][0]    \n",
      "__________________________________________________________________________________________________\n",
      "RDBI1/id_1/branch1/conv_3 (Conv (None, 112, 112, 256 8448        RDBI1/id_1/branch1/relu_3[0][0]  \n",
      "__________________________________________________________________________________________________\n",
      "RDBI1/id_1/Add (Add)            (None, 112, 112, 256 0           RC0/Add[0][0]                    \n",
      "                                                                 RDBI1/id_1/branch1/conv_3[0][0]  \n",
      "__________________________________________________________________________________________________\n",
      "RDBI1/id_2/branch1/bn_1 (BatchN (None, 112, 112, 256 1024        RDBI1/id_1/Add[0][0]             \n",
      "__________________________________________________________________________________________________\n",
      "RDBI1/id_2/branch1/relu_1 (Acti (None, 112, 112, 256 0           RDBI1/id_2/branch1/bn_1[0][0]    \n",
      "__________________________________________________________________________________________________\n",
      "RDBI1/id_2/branch1/conv_1 (Conv (None, 112, 112, 32) 8224        RDBI1/id_2/branch1/relu_1[0][0]  \n",
      "__________________________________________________________________________________________________\n",
      "RDBI1/id_2/branch1/ConvBn_2 (Ba (None, 112, 112, 32) 128         RDBI1/id_2/branch1/conv_1[0][0]  \n",
      "__________________________________________________________________________________________________\n",
      "RDBI1/id_2/branch1/SepBn_2 (Bat (None, 112, 112, 32) 128         RDBI1/id_2/branch1/conv_1[0][0]  \n",
      "__________________________________________________________________________________________________\n",
      "RDBI1/id_2/branch1/ConvRelu_2 ( (None, 112, 112, 32) 0           RDBI1/id_2/branch1/ConvBn_2[0][0]\n",
      "__________________________________________________________________________________________________\n",
      "RDBI1/id_2/branch1/SepRelu_2 (A (None, 112, 112, 32) 0           RDBI1/id_2/branch1/SepBn_2[0][0] \n",
      "__________________________________________________________________________________________________\n",
      "RDBI1/id_2/branch1/Conv_2 (Conv (None, 112, 112, 32) 4128        RDBI1/id_2/branch1/ConvRelu_2[0][\n",
      "__________________________________________________________________________________________________\n",
      "RDBI1/id_2/branch1/SepConv_2 (S (None, 112, 112, 32) 1184        RDBI1/id_2/branch1/SepRelu_2[0][0\n",
      "__________________________________________________________________________________________________\n",
      "RDBI1/id_2/Add-2branches (Add)  (None, 112, 112, 32) 0           RDBI1/id_2/branch1/Conv_2[0][0]  \n",
      "                                                                 RDBI1/id_2/branch1/SepConv_2[0][0\n",
      "__________________________________________________________________________________________________\n",
      "RDBI1/id_2/branch1/bn_3 (BatchN (None, 112, 112, 32) 128         RDBI1/id_2/Add-2branches[0][0]   \n",
      "__________________________________________________________________________________________________\n",
      "RDBI1/id_2/branch1/relu_3 (Acti (None, 112, 112, 32) 0           RDBI1/id_2/branch1/bn_3[0][0]    \n",
      "__________________________________________________________________________________________________\n",
      "RDBI1/id_2/branch1/conv_3 (Conv (None, 112, 112, 256 8448        RDBI1/id_2/branch1/relu_3[0][0]  \n",
      "__________________________________________________________________________________________________\n",
      "RDBI1/id_2/Add (Add)            (None, 112, 112, 256 0           RDBI1/id_1/Add[0][0]             \n",
      "                                                                 RDBI1/id_2/branch1/conv_3[0][0]  \n",
      "__________________________________________________________________________________________________\n",
      "RDBI1/id_3/branch1/bn_1 (BatchN (None, 112, 112, 256 1024        RDBI1/id_2/Add[0][0]             \n",
      "__________________________________________________________________________________________________\n",
      "RDBI1/id_3/branch1/relu_1 (Acti (None, 112, 112, 256 0           RDBI1/id_3/branch1/bn_1[0][0]    \n",
      "__________________________________________________________________________________________________\n",
      "RDBI1/id_3/branch1/conv_1 (Conv (None, 112, 112, 32) 8224        RDBI1/id_3/branch1/relu_1[0][0]  \n",
      "__________________________________________________________________________________________________\n",
      "RDBI1/id_3/branch1/ConvBn_2 (Ba (None, 112, 112, 32) 128         RDBI1/id_3/branch1/conv_1[0][0]  \n",
      "__________________________________________________________________________________________________\n",
      "RDBI1/id_3/branch1/SepBn_2 (Bat (None, 112, 112, 32) 128         RDBI1/id_3/branch1/conv_1[0][0]  \n",
      "__________________________________________________________________________________________________\n",
      "RDBI1/id_3/branch1/ConvRelu_2 ( (None, 112, 112, 32) 0           RDBI1/id_3/branch1/ConvBn_2[0][0]\n",
      "__________________________________________________________________________________________________\n",
      "RDBI1/id_3/branch1/SepRelu_2 (A (None, 112, 112, 32) 0           RDBI1/id_3/branch1/SepBn_2[0][0] \n",
      "__________________________________________________________________________________________________\n",
      "RDBI1/id_3/branch1/Conv_2 (Conv (None, 112, 112, 32) 4128        RDBI1/id_3/branch1/ConvRelu_2[0][\n",
      "__________________________________________________________________________________________________\n",
      "RDBI1/id_3/branch1/SepConv_2 (S (None, 112, 112, 32) 1184        RDBI1/id_3/branch1/SepRelu_2[0][0\n",
      "__________________________________________________________________________________________________\n",
      "RDBI1/id_3/Add-2branches (Add)  (None, 112, 112, 32) 0           RDBI1/id_3/branch1/Conv_2[0][0]  \n",
      "                                                                 RDBI1/id_3/branch1/SepConv_2[0][0\n",
      "__________________________________________________________________________________________________\n",
      "RDBI1/id_3/branch1/bn_3 (BatchN (None, 112, 112, 32) 128         RDBI1/id_3/Add-2branches[0][0]   \n",
      "__________________________________________________________________________________________________\n",
      "RDBI1/id_3/branch1/relu_3 (Acti (None, 112, 112, 32) 0           RDBI1/id_3/branch1/bn_3[0][0]    \n",
      "__________________________________________________________________________________________________\n",
      "RDBI1/id_3/branch1/conv_3 (Conv (None, 112, 112, 256 8448        RDBI1/id_3/branch1/relu_3[0][0]  \n",
      "__________________________________________________________________________________________________\n",
      "RDBI1/id_3/Add (Add)            (None, 112, 112, 256 0           RDBI1/id_2/Add[0][0]             \n",
      "                                                                 RDBI1/id_3/branch1/conv_3[0][0]  \n",
      "__________________________________________________________________________________________________\n",
      "RDBI1/id_4/branch1/bn_1 (BatchN (None, 112, 112, 256 1024        RDBI1/id_3/Add[0][0]             \n",
      "__________________________________________________________________________________________________\n",
      "RDBI1/id_4/branch1/relu_1 (Acti (None, 112, 112, 256 0           RDBI1/id_4/branch1/bn_1[0][0]    \n",
      "__________________________________________________________________________________________________\n",
      "RDBI1/id_4/branch1/conv_1 (Conv (None, 112, 112, 32) 8224        RDBI1/id_4/branch1/relu_1[0][0]  \n",
      "__________________________________________________________________________________________________\n",
      "RDBI1/id_4/branch1/ConvBn_2 (Ba (None, 112, 112, 32) 128         RDBI1/id_4/branch1/conv_1[0][0]  \n",
      "__________________________________________________________________________________________________\n",
      "RDBI1/id_4/branch1/SepBn_2 (Bat (None, 112, 112, 32) 128         RDBI1/id_4/branch1/conv_1[0][0]  \n",
      "__________________________________________________________________________________________________\n",
      "RDBI1/id_4/branch1/ConvRelu_2 ( (None, 112, 112, 32) 0           RDBI1/id_4/branch1/ConvBn_2[0][0]\n",
      "__________________________________________________________________________________________________\n",
      "RDBI1/id_4/branch1/SepRelu_2 (A (None, 112, 112, 32) 0           RDBI1/id_4/branch1/SepBn_2[0][0] \n",
      "__________________________________________________________________________________________________\n",
      "RDBI1/id_4/branch1/Conv_2 (Conv (None, 112, 112, 32) 4128        RDBI1/id_4/branch1/ConvRelu_2[0][\n",
      "__________________________________________________________________________________________________\n",
      "RDBI1/id_4/branch1/SepConv_2 (S (None, 112, 112, 32) 1184        RDBI1/id_4/branch1/SepRelu_2[0][0\n",
      "__________________________________________________________________________________________________\n",
      "RDBI1/id_4/Add-2branches (Add)  (None, 112, 112, 32) 0           RDBI1/id_4/branch1/Conv_2[0][0]  \n",
      "                                                                 RDBI1/id_4/branch1/SepConv_2[0][0\n",
      "__________________________________________________________________________________________________\n",
      "RDBI1/id_4/branch1/bn_3 (BatchN (None, 112, 112, 32) 128         RDBI1/id_4/Add-2branches[0][0]   \n",
      "__________________________________________________________________________________________________\n",
      "EncoderDecoder1/Downsample1 (Ma (None, 56, 56, 256)  0           RC0/Add[0][0]                    \n",
      "__________________________________________________________________________________________________\n",
      "RDBI1/id_4/branch1/relu_3 (Acti (None, 112, 112, 32) 0           RDBI1/id_4/branch1/bn_3[0][0]    \n",
      "__________________________________________________________________________________________________\n",
      "EncoderDecoder1/Upsample1 (UpSa (None, 112, 112, 256 0           EncoderDecoder1/Downsample1[0][0]\n",
      "__________________________________________________________________________________________________\n",
      "RDBI1/id_4/branch1/conv_3 (Conv (None, 112, 112, 256 8448        RDBI1/id_4/branch1/relu_3[0][0]  \n",
      "__________________________________________________________________________________________________\n",
      "EncoderDecoder1/Activate (Activ (None, 112, 112, 256 0           EncoderDecoder1/Upsample1[0][0]  \n",
      "__________________________________________________________________________________________________\n",
      "RDBI1/id_4/Add (Add)            (None, 112, 112, 256 0           RDBI1/id_3/Add[0][0]             \n",
      "                                                                 RDBI1/id_4/branch1/conv_3[0][0]  \n",
      "__________________________________________________________________________________________________\n",
      "Mutiply1 (Multiply)             (None, 112, 112, 256 0           EncoderDecoder1/Activate[0][0]   \n",
      "                                                                 RDBI1/id_4/Add[0][0]             \n",
      "__________________________________________________________________________________________________\n",
      "Add1 (Add)                      (None, 112, 112, 256 0           Mutiply1[0][0]                   \n",
      "                                                                 EncoderDecoder1/Activate[0][0]   \n",
      "                                                                 RDBI1/id_4/Add[0][0]             \n",
      "__________________________________________________________________________________________________\n",
      "RC1/branch1/bn_1 (BatchNormaliz (None, 112, 112, 256 1024        Add1[0][0]                       \n",
      "__________________________________________________________________________________________________\n",
      "RC1/branch1/relu_1 (Activation) (None, 112, 112, 256 0           RC1/branch1/bn_1[0][0]           \n",
      "__________________________________________________________________________________________________\n",
      "RC1/branch1/conv_1 (Conv2D)     (None, 112, 112, 128 32896       RC1/branch1/relu_1[0][0]         \n",
      "__________________________________________________________________________________________________\n",
      "RC1/branch1/bn_2 (BatchNormaliz (None, 112, 112, 128 512         RC1/branch1/conv_1[0][0]         \n",
      "__________________________________________________________________________________________________\n",
      "RC1/branch1/relu_2 (Activation) (None, 112, 112, 128 0           RC1/branch1/bn_2[0][0]           \n",
      "__________________________________________________________________________________________________\n",
      "RC1/branch1/conv_2 (Conv2D)     (None, 56, 56, 128)  65664       RC1/branch1/relu_2[0][0]         \n",
      "__________________________________________________________________________________________________\n",
      "RC1/branch1/bn_3 (BatchNormaliz (None, 56, 56, 128)  512         RC1/branch1/conv_2[0][0]         \n",
      "__________________________________________________________________________________________________\n",
      "RC1/branch2/bn_1 (BatchNormaliz (None, 112, 112, 256 1024        Add1[0][0]                       \n",
      "__________________________________________________________________________________________________\n",
      "RC1/branch1/relu_3 (Activation) (None, 56, 56, 128)  0           RC1/branch1/bn_3[0][0]           \n",
      "__________________________________________________________________________________________________\n",
      "RC1/branch2/relu_1 (Activation) (None, 112, 112, 256 0           RC1/branch2/bn_1[0][0]           \n",
      "__________________________________________________________________________________________________\n",
      "RC1/branch1/conv_3 (Conv2D)     (None, 56, 56, 512)  66048       RC1/branch1/relu_3[0][0]         \n",
      "__________________________________________________________________________________________________\n",
      "RC1/branch2/conv_1 (Conv2D)     (None, 56, 56, 512)  131584      RC1/branch2/relu_1[0][0]         \n",
      "__________________________________________________________________________________________________\n",
      "RC1/Add (Add)                   (None, 56, 56, 512)  0           RC1/branch1/conv_3[0][0]         \n",
      "                                                                 RC1/branch2/conv_1[0][0]         \n",
      "__________________________________________________________________________________________________\n",
      "RDBI2/id_1/branch1/bn_1 (BatchN (None, 56, 56, 512)  2048        RC1/Add[0][0]                    \n",
      "__________________________________________________________________________________________________\n",
      "RDBI2/id_1/branch1/relu_1 (Acti (None, 56, 56, 512)  0           RDBI2/id_1/branch1/bn_1[0][0]    \n",
      "__________________________________________________________________________________________________\n",
      "RDBI2/id_1/branch1/conv_1 (Conv (None, 56, 56, 64)   32832       RDBI2/id_1/branch1/relu_1[0][0]  \n",
      "__________________________________________________________________________________________________\n",
      "RDBI2/id_1/branch1/ConvBn_2 (Ba (None, 56, 56, 64)   256         RDBI2/id_1/branch1/conv_1[0][0]  \n",
      "__________________________________________________________________________________________________\n",
      "RDBI2/id_1/branch1/SepBn_2 (Bat (None, 56, 56, 64)   256         RDBI2/id_1/branch1/conv_1[0][0]  \n",
      "__________________________________________________________________________________________________\n",
      "RDBI2/id_1/branch1/ConvRelu_2 ( (None, 56, 56, 64)   0           RDBI2/id_1/branch1/ConvBn_2[0][0]\n",
      "__________________________________________________________________________________________________\n",
      "RDBI2/id_1/branch1/SepRelu_2 (A (None, 56, 56, 64)   0           RDBI2/id_1/branch1/SepBn_2[0][0] \n",
      "__________________________________________________________________________________________________\n",
      "RDBI2/id_1/branch1/Conv_2 (Conv (None, 56, 56, 64)   16448       RDBI2/id_1/branch1/ConvRelu_2[0][\n",
      "__________________________________________________________________________________________________\n",
      "RDBI2/id_1/branch1/SepConv_2 (S (None, 56, 56, 64)   4416        RDBI2/id_1/branch1/SepRelu_2[0][0\n",
      "__________________________________________________________________________________________________\n",
      "RDBI2/id_1/Add-2branches (Add)  (None, 56, 56, 64)   0           RDBI2/id_1/branch1/Conv_2[0][0]  \n",
      "                                                                 RDBI2/id_1/branch1/SepConv_2[0][0\n",
      "__________________________________________________________________________________________________\n",
      "RDBI2/id_1/branch1/bn_3 (BatchN (None, 56, 56, 64)   256         RDBI2/id_1/Add-2branches[0][0]   \n",
      "__________________________________________________________________________________________________\n",
      "RDBI2/id_1/branch1/relu_3 (Acti (None, 56, 56, 64)   0           RDBI2/id_1/branch1/bn_3[0][0]    \n",
      "__________________________________________________________________________________________________\n",
      "RDBI2/id_1/branch1/conv_3 (Conv (None, 56, 56, 512)  33280       RDBI2/id_1/branch1/relu_3[0][0]  \n",
      "__________________________________________________________________________________________________\n",
      "RDBI2/id_1/Add (Add)            (None, 56, 56, 512)  0           RC1/Add[0][0]                    \n",
      "                                                                 RDBI2/id_1/branch1/conv_3[0][0]  \n",
      "__________________________________________________________________________________________________\n",
      "RDBI2/id_2/branch1/bn_1 (BatchN (None, 56, 56, 512)  2048        RDBI2/id_1/Add[0][0]             \n",
      "__________________________________________________________________________________________________\n",
      "RDBI2/id_2/branch1/relu_1 (Acti (None, 56, 56, 512)  0           RDBI2/id_2/branch1/bn_1[0][0]    \n",
      "__________________________________________________________________________________________________\n",
      "RDBI2/id_2/branch1/conv_1 (Conv (None, 56, 56, 64)   32832       RDBI2/id_2/branch1/relu_1[0][0]  \n",
      "__________________________________________________________________________________________________\n",
      "RDBI2/id_2/branch1/ConvBn_2 (Ba (None, 56, 56, 64)   256         RDBI2/id_2/branch1/conv_1[0][0]  \n",
      "__________________________________________________________________________________________________\n",
      "RDBI2/id_2/branch1/SepBn_2 (Bat (None, 56, 56, 64)   256         RDBI2/id_2/branch1/conv_1[0][0]  \n",
      "__________________________________________________________________________________________________\n",
      "RDBI2/id_2/branch1/ConvRelu_2 ( (None, 56, 56, 64)   0           RDBI2/id_2/branch1/ConvBn_2[0][0]\n",
      "__________________________________________________________________________________________________\n",
      "RDBI2/id_2/branch1/SepRelu_2 (A (None, 56, 56, 64)   0           RDBI2/id_2/branch1/SepBn_2[0][0] \n",
      "__________________________________________________________________________________________________\n",
      "RDBI2/id_2/branch1/Conv_2 (Conv (None, 56, 56, 64)   16448       RDBI2/id_2/branch1/ConvRelu_2[0][\n",
      "__________________________________________________________________________________________________\n",
      "RDBI2/id_2/branch1/SepConv_2 (S (None, 56, 56, 64)   4416        RDBI2/id_2/branch1/SepRelu_2[0][0\n",
      "__________________________________________________________________________________________________\n",
      "RDBI2/id_2/Add-2branches (Add)  (None, 56, 56, 64)   0           RDBI2/id_2/branch1/Conv_2[0][0]  \n",
      "                                                                 RDBI2/id_2/branch1/SepConv_2[0][0\n",
      "__________________________________________________________________________________________________\n",
      "RDBI2/id_2/branch1/bn_3 (BatchN (None, 56, 56, 64)   256         RDBI2/id_2/Add-2branches[0][0]   \n",
      "__________________________________________________________________________________________________\n",
      "RDBI2/id_2/branch1/relu_3 (Acti (None, 56, 56, 64)   0           RDBI2/id_2/branch1/bn_3[0][0]    \n",
      "__________________________________________________________________________________________________\n",
      "RDBI2/id_2/branch1/conv_3 (Conv (None, 56, 56, 512)  33280       RDBI2/id_2/branch1/relu_3[0][0]  \n",
      "__________________________________________________________________________________________________\n",
      "RDBI2/id_2/Add (Add)            (None, 56, 56, 512)  0           RDBI2/id_1/Add[0][0]             \n",
      "                                                                 RDBI2/id_2/branch1/conv_3[0][0]  \n",
      "__________________________________________________________________________________________________\n",
      "RDBI2/id_3/branch1/bn_1 (BatchN (None, 56, 56, 512)  2048        RDBI2/id_2/Add[0][0]             \n",
      "__________________________________________________________________________________________________\n",
      "RDBI2/id_3/branch1/relu_1 (Acti (None, 56, 56, 512)  0           RDBI2/id_3/branch1/bn_1[0][0]    \n",
      "__________________________________________________________________________________________________\n",
      "RDBI2/id_3/branch1/conv_1 (Conv (None, 56, 56, 64)   32832       RDBI2/id_3/branch1/relu_1[0][0]  \n",
      "__________________________________________________________________________________________________\n",
      "RDBI2/id_3/branch1/ConvBn_2 (Ba (None, 56, 56, 64)   256         RDBI2/id_3/branch1/conv_1[0][0]  \n",
      "__________________________________________________________________________________________________\n",
      "RDBI2/id_3/branch1/SepBn_2 (Bat (None, 56, 56, 64)   256         RDBI2/id_3/branch1/conv_1[0][0]  \n",
      "__________________________________________________________________________________________________\n",
      "RDBI2/id_3/branch1/ConvRelu_2 ( (None, 56, 56, 64)   0           RDBI2/id_3/branch1/ConvBn_2[0][0]\n",
      "__________________________________________________________________________________________________\n",
      "RDBI2/id_3/branch1/SepRelu_2 (A (None, 56, 56, 64)   0           RDBI2/id_3/branch1/SepBn_2[0][0] \n",
      "__________________________________________________________________________________________________\n",
      "RDBI2/id_3/branch1/Conv_2 (Conv (None, 56, 56, 64)   16448       RDBI2/id_3/branch1/ConvRelu_2[0][\n",
      "__________________________________________________________________________________________________\n",
      "RDBI2/id_3/branch1/SepConv_2 (S (None, 56, 56, 64)   4416        RDBI2/id_3/branch1/SepRelu_2[0][0\n",
      "__________________________________________________________________________________________________\n",
      "RDBI2/id_3/Add-2branches (Add)  (None, 56, 56, 64)   0           RDBI2/id_3/branch1/Conv_2[0][0]  \n",
      "                                                                 RDBI2/id_3/branch1/SepConv_2[0][0\n",
      "__________________________________________________________________________________________________\n",
      "RDBI2/id_3/branch1/bn_3 (BatchN (None, 56, 56, 64)   256         RDBI2/id_3/Add-2branches[0][0]   \n",
      "__________________________________________________________________________________________________\n",
      "RDBI2/id_3/branch1/relu_3 (Acti (None, 56, 56, 64)   0           RDBI2/id_3/branch1/bn_3[0][0]    \n",
      "__________________________________________________________________________________________________\n",
      "RDBI2/id_3/branch1/conv_3 (Conv (None, 56, 56, 512)  33280       RDBI2/id_3/branch1/relu_3[0][0]  \n",
      "__________________________________________________________________________________________________\n",
      "RDBI2/id_3/Add (Add)            (None, 56, 56, 512)  0           RDBI2/id_2/Add[0][0]             \n",
      "                                                                 RDBI2/id_3/branch1/conv_3[0][0]  \n",
      "__________________________________________________________________________________________________\n",
      "RDBI2/id_4/branch1/bn_1 (BatchN (None, 56, 56, 512)  2048        RDBI2/id_3/Add[0][0]             \n",
      "__________________________________________________________________________________________________\n",
      "RDBI2/id_4/branch1/relu_1 (Acti (None, 56, 56, 512)  0           RDBI2/id_4/branch1/bn_1[0][0]    \n",
      "__________________________________________________________________________________________________\n",
      "RDBI2/id_4/branch1/conv_1 (Conv (None, 56, 56, 64)   32832       RDBI2/id_4/branch1/relu_1[0][0]  \n",
      "__________________________________________________________________________________________________\n",
      "RDBI2/id_4/branch1/ConvBn_2 (Ba (None, 56, 56, 64)   256         RDBI2/id_4/branch1/conv_1[0][0]  \n",
      "__________________________________________________________________________________________________\n",
      "RDBI2/id_4/branch1/SepBn_2 (Bat (None, 56, 56, 64)   256         RDBI2/id_4/branch1/conv_1[0][0]  \n",
      "__________________________________________________________________________________________________\n",
      "RDBI2/id_4/branch1/ConvRelu_2 ( (None, 56, 56, 64)   0           RDBI2/id_4/branch1/ConvBn_2[0][0]\n",
      "__________________________________________________________________________________________________\n",
      "RDBI2/id_4/branch1/SepRelu_2 (A (None, 56, 56, 64)   0           RDBI2/id_4/branch1/SepBn_2[0][0] \n",
      "__________________________________________________________________________________________________\n",
      "RDBI2/id_4/branch1/Conv_2 (Conv (None, 56, 56, 64)   16448       RDBI2/id_4/branch1/ConvRelu_2[0][\n",
      "__________________________________________________________________________________________________\n",
      "RDBI2/id_4/branch1/SepConv_2 (S (None, 56, 56, 64)   4416        RDBI2/id_4/branch1/SepRelu_2[0][0\n",
      "__________________________________________________________________________________________________\n",
      "RDBI2/id_4/Add-2branches (Add)  (None, 56, 56, 64)   0           RDBI2/id_4/branch1/Conv_2[0][0]  \n",
      "                                                                 RDBI2/id_4/branch1/SepConv_2[0][0\n",
      "__________________________________________________________________________________________________\n",
      "RDBI2/id_4/branch1/bn_3 (BatchN (None, 56, 56, 64)   256         RDBI2/id_4/Add-2branches[0][0]   \n",
      "__________________________________________________________________________________________________\n",
      "EncoderDecoder2/Downsample1 (Ma (None, 28, 28, 512)  0           RC1/Add[0][0]                    \n",
      "__________________________________________________________________________________________________\n",
      "RDBI2/id_4/branch1/relu_3 (Acti (None, 56, 56, 64)   0           RDBI2/id_4/branch1/bn_3[0][0]    \n",
      "__________________________________________________________________________________________________\n",
      "EncoderDecoder2/Upsample1 (UpSa (None, 56, 56, 512)  0           EncoderDecoder2/Downsample1[0][0]\n",
      "__________________________________________________________________________________________________\n",
      "RDBI2/id_4/branch1/conv_3 (Conv (None, 56, 56, 512)  33280       RDBI2/id_4/branch1/relu_3[0][0]  \n",
      "__________________________________________________________________________________________________\n",
      "EncoderDecoder2/Activate (Activ (None, 56, 56, 512)  0           EncoderDecoder2/Upsample1[0][0]  \n",
      "__________________________________________________________________________________________________\n",
      "RDBI2/id_4/Add (Add)            (None, 56, 56, 512)  0           RDBI2/id_3/Add[0][0]             \n",
      "                                                                 RDBI2/id_4/branch1/conv_3[0][0]  \n",
      "__________________________________________________________________________________________________\n",
      "Mutiply2 (Multiply)             (None, 56, 56, 512)  0           EncoderDecoder2/Activate[0][0]   \n",
      "                                                                 RDBI2/id_4/Add[0][0]             \n",
      "__________________________________________________________________________________________________\n",
      "Add2 (Add)                      (None, 56, 56, 512)  0           Mutiply2[0][0]                   \n",
      "                                                                 EncoderDecoder2/Activate[0][0]   \n",
      "                                                                 RDBI2/id_4/Add[0][0]             \n",
      "__________________________________________________________________________________________________\n",
      "RC2/branch1/bn_1 (BatchNormaliz (None, 56, 56, 512)  2048        Add2[0][0]                       \n",
      "__________________________________________________________________________________________________\n",
      "RC2/branch1/relu_1 (Activation) (None, 56, 56, 512)  0           RC2/branch1/bn_1[0][0]           \n",
      "__________________________________________________________________________________________________\n",
      "RC2/branch1/conv_1 (Conv2D)     (None, 56, 56, 256)  131328      RC2/branch1/relu_1[0][0]         \n",
      "__________________________________________________________________________________________________\n",
      "RC2/branch1/bn_2 (BatchNormaliz (None, 56, 56, 256)  1024        RC2/branch1/conv_1[0][0]         \n",
      "__________________________________________________________________________________________________\n",
      "RC2/branch1/relu_2 (Activation) (None, 56, 56, 256)  0           RC2/branch1/bn_2[0][0]           \n",
      "__________________________________________________________________________________________________\n",
      "RC2/branch1/conv_2 (Conv2D)     (None, 28, 28, 256)  262400      RC2/branch1/relu_2[0][0]         \n",
      "__________________________________________________________________________________________________\n",
      "RC2/branch1/bn_3 (BatchNormaliz (None, 28, 28, 256)  1024        RC2/branch1/conv_2[0][0]         \n",
      "__________________________________________________________________________________________________\n",
      "RC2/branch2/bn_1 (BatchNormaliz (None, 56, 56, 512)  2048        Add2[0][0]                       \n",
      "__________________________________________________________________________________________________\n",
      "RC2/branch1/relu_3 (Activation) (None, 28, 28, 256)  0           RC2/branch1/bn_3[0][0]           \n",
      "__________________________________________________________________________________________________\n",
      "RC2/branch2/relu_1 (Activation) (None, 56, 56, 512)  0           RC2/branch2/bn_1[0][0]           \n",
      "__________________________________________________________________________________________________\n",
      "RC2/branch1/conv_3 (Conv2D)     (None, 28, 28, 1024) 263168      RC2/branch1/relu_3[0][0]         \n",
      "__________________________________________________________________________________________________\n",
      "RC2/branch2/conv_1 (Conv2D)     (None, 28, 28, 1024) 525312      RC2/branch2/relu_1[0][0]         \n",
      "__________________________________________________________________________________________________\n",
      "RC2/Add (Add)                   (None, 28, 28, 1024) 0           RC2/branch1/conv_3[0][0]         \n",
      "                                                                 RC2/branch2/conv_1[0][0]         \n",
      "__________________________________________________________________________________________________\n",
      "RDBI3/id_1/branch1/bn_1 (BatchN (None, 28, 28, 1024) 4096        RC2/Add[0][0]                    \n",
      "__________________________________________________________________________________________________\n",
      "RDBI3/id_1/branch1/relu_1 (Acti (None, 28, 28, 1024) 0           RDBI3/id_1/branch1/bn_1[0][0]    \n",
      "__________________________________________________________________________________________________\n",
      "RDBI3/id_1/branch1/conv_1 (Conv (None, 28, 28, 128)  131200      RDBI3/id_1/branch1/relu_1[0][0]  \n",
      "__________________________________________________________________________________________________\n",
      "RDBI3/id_1/branch1/ConvBn_2 (Ba (None, 28, 28, 128)  512         RDBI3/id_1/branch1/conv_1[0][0]  \n",
      "__________________________________________________________________________________________________\n",
      "RDBI3/id_1/branch1/SepBn_2 (Bat (None, 28, 28, 128)  512         RDBI3/id_1/branch1/conv_1[0][0]  \n",
      "__________________________________________________________________________________________________\n",
      "RDBI3/id_1/branch1/ConvRelu_2 ( (None, 28, 28, 128)  0           RDBI3/id_1/branch1/ConvBn_2[0][0]\n",
      "__________________________________________________________________________________________________\n",
      "RDBI3/id_1/branch1/SepRelu_2 (A (None, 28, 28, 128)  0           RDBI3/id_1/branch1/SepBn_2[0][0] \n",
      "__________________________________________________________________________________________________\n",
      "RDBI3/id_1/branch1/Conv_2 (Conv (None, 28, 28, 128)  65664       RDBI3/id_1/branch1/ConvRelu_2[0][\n",
      "__________________________________________________________________________________________________\n",
      "RDBI3/id_1/branch1/SepConv_2 (S (None, 28, 28, 128)  17024       RDBI3/id_1/branch1/SepRelu_2[0][0\n",
      "__________________________________________________________________________________________________\n",
      "RDBI3/id_1/Add-2branches (Add)  (None, 28, 28, 128)  0           RDBI3/id_1/branch1/Conv_2[0][0]  \n",
      "                                                                 RDBI3/id_1/branch1/SepConv_2[0][0\n",
      "__________________________________________________________________________________________________\n",
      "RDBI3/id_1/branch1/bn_3 (BatchN (None, 28, 28, 128)  512         RDBI3/id_1/Add-2branches[0][0]   \n",
      "__________________________________________________________________________________________________\n",
      "RDBI3/id_1/branch1/relu_3 (Acti (None, 28, 28, 128)  0           RDBI3/id_1/branch1/bn_3[0][0]    \n",
      "__________________________________________________________________________________________________\n",
      "RDBI3/id_1/branch1/conv_3 (Conv (None, 28, 28, 1024) 132096      RDBI3/id_1/branch1/relu_3[0][0]  \n",
      "__________________________________________________________________________________________________\n",
      "RDBI3/id_1/Add (Add)            (None, 28, 28, 1024) 0           RC2/Add[0][0]                    \n",
      "                                                                 RDBI3/id_1/branch1/conv_3[0][0]  \n",
      "__________________________________________________________________________________________________\n",
      "RDBI3/id_2/branch1/bn_1 (BatchN (None, 28, 28, 1024) 4096        RDBI3/id_1/Add[0][0]             \n",
      "__________________________________________________________________________________________________\n",
      "RDBI3/id_2/branch1/relu_1 (Acti (None, 28, 28, 1024) 0           RDBI3/id_2/branch1/bn_1[0][0]    \n",
      "__________________________________________________________________________________________________\n",
      "RDBI3/id_2/branch1/conv_1 (Conv (None, 28, 28, 128)  131200      RDBI3/id_2/branch1/relu_1[0][0]  \n",
      "__________________________________________________________________________________________________\n",
      "RDBI3/id_2/branch1/ConvBn_2 (Ba (None, 28, 28, 128)  512         RDBI3/id_2/branch1/conv_1[0][0]  \n",
      "__________________________________________________________________________________________________\n",
      "RDBI3/id_2/branch1/SepBn_2 (Bat (None, 28, 28, 128)  512         RDBI3/id_2/branch1/conv_1[0][0]  \n",
      "__________________________________________________________________________________________________\n",
      "RDBI3/id_2/branch1/ConvRelu_2 ( (None, 28, 28, 128)  0           RDBI3/id_2/branch1/ConvBn_2[0][0]\n",
      "__________________________________________________________________________________________________\n",
      "RDBI3/id_2/branch1/SepRelu_2 (A (None, 28, 28, 128)  0           RDBI3/id_2/branch1/SepBn_2[0][0] \n",
      "__________________________________________________________________________________________________\n",
      "RDBI3/id_2/branch1/Conv_2 (Conv (None, 28, 28, 128)  65664       RDBI3/id_2/branch1/ConvRelu_2[0][\n",
      "__________________________________________________________________________________________________\n",
      "RDBI3/id_2/branch1/SepConv_2 (S (None, 28, 28, 128)  17024       RDBI3/id_2/branch1/SepRelu_2[0][0\n",
      "__________________________________________________________________________________________________\n",
      "RDBI3/id_2/Add-2branches (Add)  (None, 28, 28, 128)  0           RDBI3/id_2/branch1/Conv_2[0][0]  \n",
      "                                                                 RDBI3/id_2/branch1/SepConv_2[0][0\n",
      "__________________________________________________________________________________________________\n",
      "RDBI3/id_2/branch1/bn_3 (BatchN (None, 28, 28, 128)  512         RDBI3/id_2/Add-2branches[0][0]   \n",
      "__________________________________________________________________________________________________\n",
      "RDBI3/id_2/branch1/relu_3 (Acti (None, 28, 28, 128)  0           RDBI3/id_2/branch1/bn_3[0][0]    \n",
      "__________________________________________________________________________________________________\n",
      "RDBI3/id_2/branch1/conv_3 (Conv (None, 28, 28, 1024) 132096      RDBI3/id_2/branch1/relu_3[0][0]  \n",
      "__________________________________________________________________________________________________\n",
      "RDBI3/id_2/Add (Add)            (None, 28, 28, 1024) 0           RDBI3/id_1/Add[0][0]             \n",
      "                                                                 RDBI3/id_2/branch1/conv_3[0][0]  \n",
      "__________________________________________________________________________________________________\n",
      "RDBI3/id_3/branch1/bn_1 (BatchN (None, 28, 28, 1024) 4096        RDBI3/id_2/Add[0][0]             \n",
      "__________________________________________________________________________________________________\n",
      "RDBI3/id_3/branch1/relu_1 (Acti (None, 28, 28, 1024) 0           RDBI3/id_3/branch1/bn_1[0][0]    \n",
      "__________________________________________________________________________________________________\n",
      "RDBI3/id_3/branch1/conv_1 (Conv (None, 28, 28, 128)  131200      RDBI3/id_3/branch1/relu_1[0][0]  \n",
      "__________________________________________________________________________________________________\n",
      "RDBI3/id_3/branch1/ConvBn_2 (Ba (None, 28, 28, 128)  512         RDBI3/id_3/branch1/conv_1[0][0]  \n",
      "__________________________________________________________________________________________________\n",
      "RDBI3/id_3/branch1/SepBn_2 (Bat (None, 28, 28, 128)  512         RDBI3/id_3/branch1/conv_1[0][0]  \n",
      "__________________________________________________________________________________________________\n",
      "RDBI3/id_3/branch1/ConvRelu_2 ( (None, 28, 28, 128)  0           RDBI3/id_3/branch1/ConvBn_2[0][0]\n",
      "__________________________________________________________________________________________________\n",
      "RDBI3/id_3/branch1/SepRelu_2 (A (None, 28, 28, 128)  0           RDBI3/id_3/branch1/SepBn_2[0][0] \n",
      "__________________________________________________________________________________________________\n",
      "RDBI3/id_3/branch1/Conv_2 (Conv (None, 28, 28, 128)  65664       RDBI3/id_3/branch1/ConvRelu_2[0][\n",
      "__________________________________________________________________________________________________\n",
      "RDBI3/id_3/branch1/SepConv_2 (S (None, 28, 28, 128)  17024       RDBI3/id_3/branch1/SepRelu_2[0][0\n",
      "__________________________________________________________________________________________________\n",
      "RDBI3/id_3/Add-2branches (Add)  (None, 28, 28, 128)  0           RDBI3/id_3/branch1/Conv_2[0][0]  \n",
      "                                                                 RDBI3/id_3/branch1/SepConv_2[0][0\n",
      "__________________________________________________________________________________________________\n",
      "RDBI3/id_3/branch1/bn_3 (BatchN (None, 28, 28, 128)  512         RDBI3/id_3/Add-2branches[0][0]   \n",
      "__________________________________________________________________________________________________\n",
      "EncoderDecoder3/Downsample1 (Ma (None, 14, 14, 1024) 0           RC2/Add[0][0]                    \n",
      "__________________________________________________________________________________________________\n",
      "RDBI3/id_3/branch1/relu_3 (Acti (None, 28, 28, 128)  0           RDBI3/id_3/branch1/bn_3[0][0]    \n",
      "__________________________________________________________________________________________________\n",
      "EncoderDecoder3/Upsample1 (UpSa (None, 28, 28, 1024) 0           EncoderDecoder3/Downsample1[0][0]\n",
      "__________________________________________________________________________________________________\n",
      "RDBI3/id_3/branch1/conv_3 (Conv (None, 28, 28, 1024) 132096      RDBI3/id_3/branch1/relu_3[0][0]  \n",
      "__________________________________________________________________________________________________\n",
      "EncoderDecoder3/Activate (Activ (None, 28, 28, 1024) 0           EncoderDecoder3/Upsample1[0][0]  \n",
      "__________________________________________________________________________________________________\n",
      "RDBI3/id_3/Add (Add)            (None, 28, 28, 1024) 0           RDBI3/id_2/Add[0][0]             \n",
      "                                                                 RDBI3/id_3/branch1/conv_3[0][0]  \n",
      "__________________________________________________________________________________________________\n",
      "Mutiply3 (Multiply)             (None, 28, 28, 1024) 0           EncoderDecoder3/Activate[0][0]   \n",
      "                                                                 RDBI3/id_3/Add[0][0]             \n",
      "__________________________________________________________________________________________________\n",
      "Add3 (Add)                      (None, 28, 28, 1024) 0           Mutiply3[0][0]                   \n",
      "                                                                 EncoderDecoder3/Activate[0][0]   \n",
      "                                                                 RDBI3/id_3/Add[0][0]             \n",
      "__________________________________________________________________________________________________\n",
      "RC3/branch1/bn_1 (BatchNormaliz (None, 28, 28, 1024) 4096        Add3[0][0]                       \n",
      "__________________________________________________________________________________________________\n",
      "RC3/branch1/relu_1 (Activation) (None, 28, 28, 1024) 0           RC3/branch1/bn_1[0][0]           \n",
      "__________________________________________________________________________________________________\n",
      "RC3/branch1/conv_1 (Conv2D)     (None, 28, 28, 512)  524800      RC3/branch1/relu_1[0][0]         \n",
      "__________________________________________________________________________________________________\n",
      "RC3/branch1/bn_2 (BatchNormaliz (None, 28, 28, 512)  2048        RC3/branch1/conv_1[0][0]         \n",
      "__________________________________________________________________________________________________\n",
      "RC3/branch1/relu_2 (Activation) (None, 28, 28, 512)  0           RC3/branch1/bn_2[0][0]           \n",
      "__________________________________________________________________________________________________\n",
      "RC3/branch1/conv_2 (Conv2D)     (None, 14, 14, 512)  1049088     RC3/branch1/relu_2[0][0]         \n",
      "__________________________________________________________________________________________________\n",
      "RC3/branch1/bn_3 (BatchNormaliz (None, 14, 14, 512)  2048        RC3/branch1/conv_2[0][0]         \n",
      "__________________________________________________________________________________________________\n",
      "RC3/branch2/bn_1 (BatchNormaliz (None, 28, 28, 1024) 4096        Add3[0][0]                       \n",
      "__________________________________________________________________________________________________\n",
      "RC3/branch1/relu_3 (Activation) (None, 14, 14, 512)  0           RC3/branch1/bn_3[0][0]           \n",
      "__________________________________________________________________________________________________\n",
      "RC3/branch2/relu_1 (Activation) (None, 28, 28, 1024) 0           RC3/branch2/bn_1[0][0]           \n",
      "__________________________________________________________________________________________________\n",
      "RC3/branch1/conv_3 (Conv2D)     (None, 14, 14, 2048) 1050624     RC3/branch1/relu_3[0][0]         \n",
      "__________________________________________________________________________________________________\n",
      "RC3/branch2/conv_1 (Conv2D)     (None, 14, 14, 2048) 2099200     RC3/branch2/relu_1[0][0]         \n",
      "__________________________________________________________________________________________________\n",
      "RC3/Add (Add)                   (None, 14, 14, 2048) 0           RC3/branch1/conv_3[0][0]         \n",
      "                                                                 RC3/branch2/conv_1[0][0]         \n",
      "__________________________________________________________________________________________________\n",
      "RDBI4/id_1/branch1/bn_1 (BatchN (None, 14, 14, 2048) 8192        RC3/Add[0][0]                    \n",
      "__________________________________________________________________________________________________\n",
      "RDBI4/id_1/branch1/relu_1 (Acti (None, 14, 14, 2048) 0           RDBI4/id_1/branch1/bn_1[0][0]    \n",
      "__________________________________________________________________________________________________\n",
      "RDBI4/id_1/branch1/conv_1 (Conv (None, 14, 14, 256)  524544      RDBI4/id_1/branch1/relu_1[0][0]  \n",
      "__________________________________________________________________________________________________\n",
      "RDBI4/id_1/branch1/ConvBn_2 (Ba (None, 14, 14, 256)  1024        RDBI4/id_1/branch1/conv_1[0][0]  \n",
      "__________________________________________________________________________________________________\n",
      "RDBI4/id_1/branch1/SepBn_2 (Bat (None, 14, 14, 256)  1024        RDBI4/id_1/branch1/conv_1[0][0]  \n",
      "__________________________________________________________________________________________________\n",
      "RDBI4/id_1/branch1/ConvRelu_2 ( (None, 14, 14, 256)  0           RDBI4/id_1/branch1/ConvBn_2[0][0]\n",
      "__________________________________________________________________________________________________\n",
      "RDBI4/id_1/branch1/SepRelu_2 (A (None, 14, 14, 256)  0           RDBI4/id_1/branch1/SepBn_2[0][0] \n",
      "__________________________________________________________________________________________________\n",
      "RDBI4/id_1/branch1/Conv_2 (Conv (None, 14, 14, 256)  262400      RDBI4/id_1/branch1/ConvRelu_2[0][\n",
      "__________________________________________________________________________________________________\n",
      "RDBI4/id_1/branch1/SepConv_2 (S (None, 14, 14, 256)  66816       RDBI4/id_1/branch1/SepRelu_2[0][0\n",
      "__________________________________________________________________________________________________\n",
      "RDBI4/id_1/Add-2branches (Add)  (None, 14, 14, 256)  0           RDBI4/id_1/branch1/Conv_2[0][0]  \n",
      "                                                                 RDBI4/id_1/branch1/SepConv_2[0][0\n",
      "__________________________________________________________________________________________________\n",
      "RDBI4/id_1/branch1/bn_3 (BatchN (None, 14, 14, 256)  1024        RDBI4/id_1/Add-2branches[0][0]   \n",
      "__________________________________________________________________________________________________\n",
      "RDBI4/id_1/branch1/relu_3 (Acti (None, 14, 14, 256)  0           RDBI4/id_1/branch1/bn_3[0][0]    \n",
      "__________________________________________________________________________________________________\n",
      "RDBI4/id_1/branch1/conv_3 (Conv (None, 14, 14, 2048) 526336      RDBI4/id_1/branch1/relu_3[0][0]  \n",
      "__________________________________________________________________________________________________\n",
      "RDBI4/id_1/Add (Add)            (None, 14, 14, 2048) 0           RC3/Add[0][0]                    \n",
      "                                                                 RDBI4/id_1/branch1/conv_3[0][0]  \n",
      "__________________________________________________________________________________________________\n",
      "RDBI4/id_2/branch1/bn_1 (BatchN (None, 14, 14, 2048) 8192        RDBI4/id_1/Add[0][0]             \n",
      "__________________________________________________________________________________________________\n",
      "RDBI4/id_2/branch1/relu_1 (Acti (None, 14, 14, 2048) 0           RDBI4/id_2/branch1/bn_1[0][0]    \n",
      "__________________________________________________________________________________________________\n",
      "RDBI4/id_2/branch1/conv_1 (Conv (None, 14, 14, 256)  524544      RDBI4/id_2/branch1/relu_1[0][0]  \n",
      "__________________________________________________________________________________________________\n",
      "RDBI4/id_2/branch1/ConvBn_2 (Ba (None, 14, 14, 256)  1024        RDBI4/id_2/branch1/conv_1[0][0]  \n",
      "__________________________________________________________________________________________________\n",
      "RDBI4/id_2/branch1/SepBn_2 (Bat (None, 14, 14, 256)  1024        RDBI4/id_2/branch1/conv_1[0][0]  \n",
      "__________________________________________________________________________________________________\n",
      "RDBI4/id_2/branch1/ConvRelu_2 ( (None, 14, 14, 256)  0           RDBI4/id_2/branch1/ConvBn_2[0][0]\n",
      "__________________________________________________________________________________________________\n",
      "RDBI4/id_2/branch1/SepRelu_2 (A (None, 14, 14, 256)  0           RDBI4/id_2/branch1/SepBn_2[0][0] \n",
      "__________________________________________________________________________________________________\n",
      "RDBI4/id_2/branch1/Conv_2 (Conv (None, 14, 14, 256)  262400      RDBI4/id_2/branch1/ConvRelu_2[0][\n",
      "__________________________________________________________________________________________________\n",
      "RDBI4/id_2/branch1/SepConv_2 (S (None, 14, 14, 256)  66816       RDBI4/id_2/branch1/SepRelu_2[0][0\n",
      "__________________________________________________________________________________________________\n",
      "RDBI4/id_2/Add-2branches (Add)  (None, 14, 14, 256)  0           RDBI4/id_2/branch1/Conv_2[0][0]  \n",
      "                                                                 RDBI4/id_2/branch1/SepConv_2[0][0\n",
      "__________________________________________________________________________________________________\n",
      "RDBI4/id_2/branch1/bn_3 (BatchN (None, 14, 14, 256)  1024        RDBI4/id_2/Add-2branches[0][0]   \n",
      "__________________________________________________________________________________________________\n",
      "RDBI4/id_2/branch1/relu_3 (Acti (None, 14, 14, 256)  0           RDBI4/id_2/branch1/bn_3[0][0]    \n",
      "__________________________________________________________________________________________________\n",
      "RDBI4/id_2/branch1/conv_3 (Conv (None, 14, 14, 2048) 526336      RDBI4/id_2/branch1/relu_3[0][0]  \n",
      "__________________________________________________________________________________________________\n",
      "RDBI4/id_2/Add (Add)            (None, 14, 14, 2048) 0           RDBI4/id_1/Add[0][0]             \n",
      "                                                                 RDBI4/id_2/branch1/conv_3[0][0]  \n",
      "__________________________________________________________________________________________________\n",
      "RDBI4/id_3/branch1/bn_1 (BatchN (None, 14, 14, 2048) 8192        RDBI4/id_2/Add[0][0]             \n",
      "__________________________________________________________________________________________________\n",
      "RDBI4/id_3/branch1/relu_1 (Acti (None, 14, 14, 2048) 0           RDBI4/id_3/branch1/bn_1[0][0]    \n",
      "__________________________________________________________________________________________________\n",
      "RDBI4/id_3/branch1/conv_1 (Conv (None, 14, 14, 256)  524544      RDBI4/id_3/branch1/relu_1[0][0]  \n",
      "__________________________________________________________________________________________________\n",
      "RDBI4/id_3/branch1/ConvBn_2 (Ba (None, 14, 14, 256)  1024        RDBI4/id_3/branch1/conv_1[0][0]  \n",
      "__________________________________________________________________________________________________\n",
      "RDBI4/id_3/branch1/SepBn_2 (Bat (None, 14, 14, 256)  1024        RDBI4/id_3/branch1/conv_1[0][0]  \n",
      "__________________________________________________________________________________________________\n",
      "RDBI4/id_3/branch1/ConvRelu_2 ( (None, 14, 14, 256)  0           RDBI4/id_3/branch1/ConvBn_2[0][0]\n",
      "__________________________________________________________________________________________________\n",
      "RDBI4/id_3/branch1/SepRelu_2 (A (None, 14, 14, 256)  0           RDBI4/id_3/branch1/SepBn_2[0][0] \n",
      "__________________________________________________________________________________________________\n",
      "RDBI4/id_3/branch1/Conv_2 (Conv (None, 14, 14, 256)  262400      RDBI4/id_3/branch1/ConvRelu_2[0][\n",
      "__________________________________________________________________________________________________\n",
      "RDBI4/id_3/branch1/SepConv_2 (S (None, 14, 14, 256)  66816       RDBI4/id_3/branch1/SepRelu_2[0][0\n",
      "__________________________________________________________________________________________________\n",
      "RDBI4/id_3/Add-2branches (Add)  (None, 14, 14, 256)  0           RDBI4/id_3/branch1/Conv_2[0][0]  \n",
      "                                                                 RDBI4/id_3/branch1/SepConv_2[0][0\n",
      "__________________________________________________________________________________________________\n",
      "RDBI4/id_3/branch1/bn_3 (BatchN (None, 14, 14, 256)  1024        RDBI4/id_3/Add-2branches[0][0]   \n",
      "__________________________________________________________________________________________________\n",
      "EncoderDecoder4/Downsample1 (Ma (None, 7, 7, 2048)   0           RC3/Add[0][0]                    \n",
      "__________________________________________________________________________________________________\n",
      "RDBI4/id_3/branch1/relu_3 (Acti (None, 14, 14, 256)  0           RDBI4/id_3/branch1/bn_3[0][0]    \n",
      "__________________________________________________________________________________________________\n",
      "EncoderDecoder4/Upsample1 (UpSa (None, 14, 14, 2048) 0           EncoderDecoder4/Downsample1[0][0]\n",
      "__________________________________________________________________________________________________\n",
      "RDBI4/id_3/branch1/conv_3 (Conv (None, 14, 14, 2048) 526336      RDBI4/id_3/branch1/relu_3[0][0]  \n",
      "__________________________________________________________________________________________________\n",
      "EncoderDecoder4/Activate (Activ (None, 14, 14, 2048) 0           EncoderDecoder4/Upsample1[0][0]  \n",
      "__________________________________________________________________________________________________\n",
      "RDBI4/id_3/Add (Add)            (None, 14, 14, 2048) 0           RDBI4/id_2/Add[0][0]             \n",
      "                                                                 RDBI4/id_3/branch1/conv_3[0][0]  \n",
      "__________________________________________________________________________________________________\n",
      "Mutiply4 (Multiply)             (None, 14, 14, 2048) 0           EncoderDecoder4/Activate[0][0]   \n",
      "                                                                 RDBI4/id_3/Add[0][0]             \n",
      "__________________________________________________________________________________________________\n",
      "Add4 (Add)                      (None, 14, 14, 2048) 0           Mutiply4[0][0]                   \n",
      "                                                                 EncoderDecoder4/Activate[0][0]   \n",
      "                                                                 RDBI4/id_3/Add[0][0]             \n",
      "__________________________________________________________________________________________________\n",
      "global_avg_pool (GlobalAverageP (None, 2048)         0           Add4[0][0]                       \n",
      "__________________________________________________________________________________________________\n",
      "Dense_1 (Dense)                 (None, 256)          524544      global_avg_pool[0][0]            \n",
      "__________________________________________________________________________________________________\n",
      "Dense_2 (Dense)                 (None, 3)            771         Dense_1[0][0]                    \n",
      "__________________________________________________________________________________________________\n",
      "classifier (Activation)         (None, 3)            0           Dense_2[0][0]                    \n",
      "==================================================================================================\n",
      "Total params: 12,495,235\n",
      "Trainable params: 12,450,051\n",
      "Non-trainable params: 45,184\n",
      "__________________________________________________________________________________________________\n",
      "Epoch 1/30\n",
      "289/289 [==============================] - 104s 308ms/step - loss: 2.4625 - accuracy: 0.3737 - val_loss: 1.7260 - val_accuracy: 0.3512\n",
      "Epoch 2/30\n",
      "289/289 [==============================] - 86s 298ms/step - loss: 1.2697 - accuracy: 0.5047 - val_loss: 0.8976 - val_accuracy: 0.5848\n",
      "Epoch 3/30\n",
      "289/289 [==============================] - 86s 298ms/step - loss: 0.9925 - accuracy: 0.5947 - val_loss: 0.7697 - val_accuracy: 0.6557\n",
      "Epoch 4/30\n",
      "289/289 [==============================] - 87s 299ms/step - loss: 0.9024 - accuracy: 0.6240 - val_loss: 0.7074 - val_accuracy: 0.7076\n",
      "Epoch 5/30\n",
      "289/289 [==============================] - 86s 297ms/step - loss: 0.8378 - accuracy: 0.6591 - val_loss: 0.6306 - val_accuracy: 0.7284\n",
      "Epoch 6/30\n",
      "289/289 [==============================] - 87s 301ms/step - loss: 0.7367 - accuracy: 0.6916 - val_loss: 0.8491 - val_accuracy: 0.6401\n",
      "Epoch 7/30\n",
      "289/289 [==============================] - 87s 300ms/step - loss: 0.6750 - accuracy: 0.7201 - val_loss: 0.5755 - val_accuracy: 0.7941\n",
      "Epoch 8/30\n",
      "289/289 [==============================] - 87s 300ms/step - loss: 0.6253 - accuracy: 0.7626 - val_loss: 0.5822 - val_accuracy: 0.7716\n",
      "Epoch 9/30\n",
      "289/289 [==============================] - 86s 299ms/step - loss: 0.5638 - accuracy: 0.7739 - val_loss: 0.6675 - val_accuracy: 0.7128\n",
      "Epoch 10/30\n",
      "289/289 [==============================] - 88s 304ms/step - loss: 0.5689 - accuracy: 0.7691 - val_loss: 0.4122 - val_accuracy: 0.8495\n",
      "Epoch 11/30\n",
      "289/289 [==============================] - 86s 298ms/step - loss: 0.5391 - accuracy: 0.7840 - val_loss: 0.4095 - val_accuracy: 0.8633\n",
      "Epoch 12/30\n",
      "289/289 [==============================] - 88s 303ms/step - loss: 0.5158 - accuracy: 0.8005 - val_loss: 0.5240 - val_accuracy: 0.8304\n",
      "Epoch 13/30\n",
      "289/289 [==============================] - 86s 298ms/step - loss: 0.4805 - accuracy: 0.8269 - val_loss: 0.4374 - val_accuracy: 0.8356\n",
      "Epoch 14/30\n",
      "289/289 [==============================] - 87s 301ms/step - loss: 0.4671 - accuracy: 0.8358 - val_loss: 0.5911 - val_accuracy: 0.7734\n",
      "Epoch 15/30\n",
      "289/289 [==============================] - 86s 298ms/step - loss: 0.4500 - accuracy: 0.8266 - val_loss: 0.3219 - val_accuracy: 0.8720\n",
      "Epoch 16/30\n",
      "289/289 [==============================] - 87s 302ms/step - loss: 0.4578 - accuracy: 0.8231 - val_loss: 0.6921 - val_accuracy: 0.7388\n",
      "Epoch 17/30\n",
      "289/289 [==============================] - 87s 300ms/step - loss: 0.4425 - accuracy: 0.8417 - val_loss: 0.2852 - val_accuracy: 0.9014\n",
      "Epoch 18/30\n",
      "289/289 [==============================] - 87s 300ms/step - loss: 0.4277 - accuracy: 0.8546 - val_loss: 0.3404 - val_accuracy: 0.8772\n",
      "Epoch 19/30\n",
      "289/289 [==============================] - 87s 302ms/step - loss: 0.3790 - accuracy: 0.8531 - val_loss: 0.3019 - val_accuracy: 0.8945\n",
      "Epoch 20/30\n",
      "289/289 [==============================] - 87s 299ms/step - loss: 0.4275 - accuracy: 0.8489 - val_loss: 0.4111 - val_accuracy: 0.8581\n",
      "Epoch 21/30\n",
      "289/289 [==============================] - 88s 304ms/step - loss: 0.3568 - accuracy: 0.8682 - val_loss: 0.4201 - val_accuracy: 0.8720\n",
      "Epoch 22/30\n",
      "289/289 [==============================] - 87s 301ms/step - loss: 0.3896 - accuracy: 0.8507 - val_loss: 0.5412 - val_accuracy: 0.7820\n",
      "Epoch 23/30\n",
      "289/289 [==============================] - 88s 304ms/step - loss: 0.3454 - accuracy: 0.8794 - val_loss: 0.4665 - val_accuracy: 0.8443\n",
      "\n",
      "Epoch 00023: ReduceLROnPlateau reducing learning rate to 9.999999747378752e-06.\n",
      "Epoch 24/30\n",
      "289/289 [==============================] - 88s 304ms/step - loss: 0.2534 - accuracy: 0.9061 - val_loss: 0.2309 - val_accuracy: 0.9273\n",
      "Epoch 25/30\n",
      "289/289 [==============================] - 87s 301ms/step - loss: 0.2390 - accuracy: 0.9175 - val_loss: 0.2315 - val_accuracy: 0.9239\n",
      "Epoch 26/30\n",
      "289/289 [==============================] - 87s 301ms/step - loss: 0.2624 - accuracy: 0.9202 - val_loss: 0.1844 - val_accuracy: 0.9429\n",
      "Epoch 27/30\n",
      "289/289 [==============================] - 86s 298ms/step - loss: 0.2252 - accuracy: 0.9185 - val_loss: 0.2150 - val_accuracy: 0.9325\n",
      "Epoch 28/30\n",
      "289/289 [==============================] - 87s 301ms/step - loss: 0.2314 - accuracy: 0.9217 - val_loss: 0.2521 - val_accuracy: 0.9152\n",
      "Epoch 29/30\n",
      "289/289 [==============================] - 86s 297ms/step - loss: 0.2142 - accuracy: 0.9270 - val_loss: 0.2170 - val_accuracy: 0.9273\n",
      "Epoch 30/30\n",
      "289/289 [==============================] - 86s 298ms/step - loss: 0.1947 - accuracy: 0.9286 - val_loss: 0.2728 - val_accuracy: 0.9204\n"
     ]
    }
   ],
   "source": [
    "opticnet_model, opticnet_history = train_model(opticnet_model, train_generator, test_generator, 30, Adam(lr=.0001))"
   ]
  },
  {
   "cell_type": "markdown",
   "metadata": {
    "papermill": {
     "duration": 3.962879,
     "end_time": "2021-08-23T19:19:10.827266",
     "exception": false,
     "start_time": "2021-08-23T19:19:06.864387",
     "status": "completed"
    },
    "tags": []
   },
   "source": [
    "Evaluation"
   ]
  },
  {
   "cell_type": "code",
   "execution_count": 19,
   "metadata": {
    "execution": {
     "iopub.execute_input": "2021-08-23T19:19:18.303123Z",
     "iopub.status.busy": "2021-08-23T19:19:18.302388Z",
     "iopub.status.idle": "2021-08-23T19:19:31.690476Z",
     "shell.execute_reply": "2021-08-23T19:19:31.691003Z",
     "shell.execute_reply.started": "2021-08-22T17:34:39.775978Z"
    },
    "papermill": {
     "duration": 17.191485,
     "end_time": "2021-08-23T19:19:31.691149",
     "exception": false,
     "start_time": "2021-08-23T19:19:14.499664",
     "status": "completed"
    },
    "tags": []
   },
   "outputs": [
    {
     "name": "stdout",
     "output_type": "stream",
     "text": [
      "\n",
      "Test set accuracy: 0.9204152226448059 \n",
      "\n",
      "73/73 [==============================] - 7s 77ms/step\n",
      "\n",
      "              precision    recall  f1-score   support\n",
      "\n",
      "         AMD       0.94      0.95      0.95       182\n",
      "          DR       0.98      0.83      0.90       202\n",
      "      NORMAL       0.86      0.99      0.92       194\n",
      "\n",
      "    accuracy                           0.92       578\n",
      "   macro avg       0.93      0.92      0.92       578\n",
      "weighted avg       0.93      0.92      0.92       578\n",
      "\n"
     ]
    },
    {
     "data": {
      "image/png": "[encoded data removed]",
      "text/plain": [
       "<Figure size 1080x288 with 1 Axes>"
      ]
     },
     "metadata": {
      "needs_background": "light"
     },
     "output_type": "display_data"
    },
    {
     "data": {
      "image/png": "[encoded data removed]",
      "text/plain": [
       "<Figure size 1080x288 with 1 Axes>"
      ]
     },
     "metadata": {
      "needs_background": "light"
     },
     "output_type": "display_data"
    },
    {
     "data": {
      "image/png": "[encoded data removed]",
      "text/plain": [
       "<Figure size 360x360 with 2 Axes>"
      ]
     },
     "metadata": {
      "needs_background": "light"
     },
     "output_type": "display_data"
    },
    {
     "data": {
      "image/png": "[encoded data removed]",
      "text/plain": [
       "<Figure size 432x288 with 1 Axes>"
      ]
     },
     "metadata": {
      "needs_background": "light"
     },
     "output_type": "display_data"
    },
    {
     "data": {
      "image/png": "[encoded data removed]",
      "text/plain": [
       "<Figure size 432x288 with 1 Axes>"
      ]
     },
     "metadata": {
      "needs_background": "light"
     },
     "output_type": "display_data"
    },
    {
     "data": {
      "image/png": "[encoded data removed]",
      "text/plain": [
       "<Figure size 432x288 with 1 Axes>"
      ]
     },
     "metadata": {
      "needs_background": "light"
     },
     "output_type": "display_data"
    },
    {
     "name": "stdout",
     "output_type": "stream",
     "text": [
      "ROS AUC score: 0.9890698276086467\n"
     ]
    }
   ],
   "source": [
    "evaluate_model(opticnet_model, opticnet_history, test_generator)"
   ]
  },
  {
   "cell_type": "code",
   "execution_count": 20,
   "metadata": {
    "execution": {
     "iopub.execute_input": "2021-08-23T19:19:39.471471Z",
     "iopub.status.busy": "2021-08-23T19:19:39.461344Z",
     "iopub.status.idle": "2021-08-23T19:19:40.382637Z",
     "shell.execute_reply": "2021-08-23T19:19:40.381734Z",
     "shell.execute_reply.started": "2021-08-22T17:39:35.568874Z"
    },
    "papermill": {
     "duration": 4.82124,
     "end_time": "2021-08-23T19:19:40.382785",
     "exception": false,
     "start_time": "2021-08-23T19:19:35.561545",
     "status": "completed"
    },
    "tags": []
   },
   "outputs": [],
   "source": [
    "opticnet_model.save(\"/kaggle/working/opticnet.h5\")"
   ]
  },
  {
   "cell_type": "markdown",
   "metadata": {
    "papermill": {
     "duration": 3.732984,
     "end_time": "2021-08-23T19:19:48.093704",
     "exception": false,
     "start_time": "2021-08-23T19:19:44.360720",
     "status": "completed"
    },
    "tags": []
   },
   "source": [
    "# Model Interpretability using Grad CAM\n",
    "\n",
    "One way to ensure the model is performing correctly is to debug your model and visually validate that it is “looking” and “activating” at the correct locations in an image.\n",
    "\n",
    "Selvaraju et al. published a novel paper entitled, Grad-CAM: Visual Explanations from Deep Networks via Gradient-based Localization (https://arxiv.org/abs/1610.02391). \n",
    "\n",
    "GRAD-CAM works by (1) finding the final convolutional layer in the network and then (2) examining the gradient information flowing into that layer.\n",
    "\n",
    "The output of Grad-CAM is a heatmap visualization for a given class label (either the top, predicted label or an arbitrary label we select for debugging). We can use this heatmap to visually verify where in the image the CNN is looking."
   ]
  },
  {
   "cell_type": "code",
   "execution_count": 21,
   "metadata": {
    "execution": {
     "iopub.execute_input": "2021-08-23T19:19:55.894236Z",
     "iopub.status.busy": "2021-08-23T19:19:55.893602Z",
     "iopub.status.idle": "2021-08-23T19:19:55.907382Z",
     "shell.execute_reply": "2021-08-23T19:19:55.906768Z",
     "shell.execute_reply.started": "2021-08-22T18:08:22.735996Z"
    },
    "papermill": {
     "duration": 3.775584,
     "end_time": "2021-08-23T19:19:55.907512",
     "exception": false,
     "start_time": "2021-08-23T19:19:52.131928",
     "status": "completed"
    },
    "tags": []
   },
   "outputs": [],
   "source": [
    "image_path= df_test['image_path'][100]\n",
    "\n",
    "img = load_img(image_path, target_size=(224,224,3)) # stores image in PIL format\n",
    "image_array=img_to_array(img)"
   ]
  },
  {
   "cell_type": "markdown",
   "metadata": {
    "papermill": {
     "duration": 4.495327,
     "end_time": "2021-08-23T19:20:04.203383",
     "exception": false,
     "start_time": "2021-08-23T19:19:59.708056",
     "status": "completed"
    },
    "tags": []
   },
   "source": [
    "Display Original Image"
   ]
  },
  {
   "cell_type": "code",
   "execution_count": 22,
   "metadata": {
    "execution": {
     "iopub.execute_input": "2021-08-23T19:20:11.704614Z",
     "iopub.status.busy": "2021-08-23T19:20:11.703919Z",
     "iopub.status.idle": "2021-08-23T19:20:11.706815Z",
     "shell.execute_reply": "2021-08-23T19:20:11.707211Z",
     "shell.execute_reply.started": "2021-08-22T18:08:24.934194Z"
    },
    "papermill": {
     "duration": 3.746068,
     "end_time": "2021-08-23T19:20:11.707341",
     "exception": false,
     "start_time": "2021-08-23T19:20:07.961273",
     "status": "completed"
    },
    "tags": []
   },
   "outputs": [
    {
     "name": "stdout",
     "output_type": "stream",
     "text": [
      "/kaggle/input/kermany2018/OCT2017 /train/DME/DME-8847144-7.jpeg\n"
     ]
    }
   ],
   "source": [
    "print(image_path)"
   ]
  },
  {
   "cell_type": "code",
   "execution_count": 23,
   "metadata": {
    "execution": {
     "iopub.execute_input": "2021-08-23T19:20:19.505764Z",
     "iopub.status.busy": "2021-08-23T19:20:19.505233Z",
     "iopub.status.idle": "2021-08-23T19:20:19.517666Z",
     "shell.execute_reply": "2021-08-23T19:20:19.517248Z",
     "shell.execute_reply.started": "2021-08-22T18:08:27.387101Z"
    },
    "papermill": {
     "duration": 3.75422,
     "end_time": "2021-08-23T19:20:19.517774",
     "exception": false,
     "start_time": "2021-08-23T19:20:15.763554",
     "status": "completed"
    },
    "tags": []
   },
   "outputs": [
    {
     "data": {
      "image/jpeg": "[encoded data removed]",
      "text/plain": [
       "<IPython.core.display.Image object>"
      ]
     },
     "metadata": {},
     "output_type": "display_data"
    }
   ],
   "source": [
    "display(Image(image_path))"
   ]
  },
  {
   "cell_type": "markdown",
   "metadata": {
    "papermill": {
     "duration": 3.96289,
     "end_time": "2021-08-23T19:20:27.348077",
     "exception": false,
     "start_time": "2021-08-23T19:20:23.385187",
     "status": "completed"
    },
    "tags": []
   },
   "source": [
    "GRAD CAM Algorithm"
   ]
  },
  {
   "cell_type": "code",
   "execution_count": 24,
   "metadata": {
    "execution": {
     "iopub.execute_input": "2021-08-23T19:20:34.793184Z",
     "iopub.status.busy": "2021-08-23T19:20:34.792473Z",
     "iopub.status.idle": "2021-08-23T19:20:34.796307Z",
     "shell.execute_reply": "2021-08-23T19:20:34.795878Z",
     "shell.execute_reply.started": "2021-08-22T18:30:57.892071Z"
    },
    "papermill": {
     "duration": 3.759601,
     "end_time": "2021-08-23T19:20:34.796423",
     "exception": false,
     "start_time": "2021-08-23T19:20:31.036822",
     "status": "completed"
    },
    "tags": []
   },
   "outputs": [],
   "source": [
    "def make_gradcam_heatmap(img_array, model, last_conv_layer_name, pred_index=None):\n",
    "    # First, we create a model that maps the input image to the activations\n",
    "    # of the last conv layer as well as the output predictions\n",
    "\n",
    "    grad_model = tf.keras.models.Model([model.inputs], [model.get_layer(last_conv_layer_name).output, model.layers[-2].output])\n",
    "\n",
    "    # Then, we compute the gradient of the top predicted class for our input image\n",
    "    # with respect to the activations of the last conv layer\n",
    "    with tf.GradientTape() as tape:\n",
    "        last_conv_layer_output, preds = grad_model(img_array)\n",
    "        if pred_index is None:\n",
    "            pred_index = tf.argmax(preds[0])\n",
    "        class_channel = preds[:, pred_index]\n",
    "\n",
    "    # This is the gradient of the output neuron (top predicted or chosen)\n",
    "    # with regard to the output feature map of the last conv layer\n",
    "    grads = tape.gradient(class_channel, last_conv_layer_output)\n",
    "\n",
    "    # This is a vector where each entry is the mean intensity of the gradient\n",
    "    # over a specific feature map channel\n",
    "    pooled_grads = tf.reduce_mean(grads, axis=(0, 1, 2))\n",
    "\n",
    "    # We multiply each channel in the feature map array\n",
    "    # by \"how important this channel is\" with regard to the top predicted class\n",
    "    # then sum all the channels to obtain the heatmap class activation\n",
    "    last_conv_layer_output = last_conv_layer_output[0]\n",
    "    heatmap = last_conv_layer_output @ pooled_grads[..., tf.newaxis]\n",
    "    heatmap = tf.squeeze(heatmap)\n",
    "\n",
    "    # For visualization purpose, we will also normalize the heatmap between 0 & 1\n",
    "    heatmap = tf.maximum(heatmap, 0) / tf.math.reduce_max(heatmap)\n",
    "    return heatmap.numpy()"
   ]
  },
  {
   "cell_type": "markdown",
   "metadata": {
    "papermill": {
     "duration": 3.718067,
     "end_time": "2021-08-23T19:20:43.020899",
     "exception": false,
     "start_time": "2021-08-23T19:20:39.302832",
     "status": "completed"
    },
    "tags": []
   },
   "source": [
    "Create Heat Map"
   ]
  },
  {
   "cell_type": "code",
   "execution_count": 25,
   "metadata": {
    "execution": {
     "iopub.execute_input": "2021-08-23T19:20:50.763894Z",
     "iopub.status.busy": "2021-08-23T19:20:50.762298Z",
     "iopub.status.idle": "2021-08-23T19:20:50.764537Z",
     "shell.execute_reply": "2021-08-23T19:20:50.764943Z",
     "shell.execute_reply.started": "2021-08-22T18:33:12.049339Z"
    },
    "papermill": {
     "duration": 3.879431,
     "end_time": "2021-08-23T19:20:50.765077",
     "exception": false,
     "start_time": "2021-08-23T19:20:46.885646",
     "status": "completed"
    },
    "tags": []
   },
   "outputs": [],
   "source": [
    "from tensorflow.keras.models import load_model\n",
    "# Make model\n",
    "model = opticnet_model"
   ]
  },
  {
   "cell_type": "code",
   "execution_count": 26,
   "metadata": {
    "execution": {
     "iopub.execute_input": "2021-08-23T19:20:58.550708Z",
     "iopub.status.busy": "2021-08-23T19:20:58.549954Z",
     "iopub.status.idle": "2021-08-23T19:20:59.110076Z",
     "shell.execute_reply": "2021-08-23T19:20:59.111109Z",
     "shell.execute_reply.started": "2021-08-22T18:31:39.785504Z"
    },
    "papermill": {
     "duration": 4.638763,
     "end_time": "2021-08-23T19:20:59.111330",
     "exception": false,
     "start_time": "2021-08-23T19:20:54.472567",
     "status": "completed"
    },
    "tags": []
   },
   "outputs": [
    {
     "data": {
      "image/png": "[encoded data removed]",
      "text/plain": [
       "<Figure size 288x288 with 1 Axes>"
      ]
     },
     "metadata": {
      "needs_background": "light"
     },
     "output_type": "display_data"
    }
   ],
   "source": [
    "last_conv_layer_name =\"Add4\"\n",
    "# Remove last layer's softmax\n",
    "model.layers[-1].activation = None\n",
    "\n",
    "img_array=np.expand_dims(image_array, axis=0)\n",
    "# Prepare particular image \n",
    "\n",
    "# Generate class activation heatmap\n",
    "heatmap= make_gradcam_heatmap(img_array, model, last_conv_layer_name)\n",
    "\n",
    "# Display heatmap\n",
    "plt.matshow(heatmap)\n",
    "plt.show()"
   ]
  },
  {
   "cell_type": "markdown",
   "metadata": {
    "papermill": {
     "duration": 3.837907,
     "end_time": "2021-08-23T19:21:06.733585",
     "exception": false,
     "start_time": "2021-08-23T19:21:02.895678",
     "status": "completed"
    },
    "tags": []
   },
   "source": [
    " Create a superimposed visualization"
   ]
  },
  {
   "cell_type": "code",
   "execution_count": 27,
   "metadata": {
    "execution": {
     "iopub.execute_input": "2021-08-23T19:21:14.954387Z",
     "iopub.status.busy": "2021-08-23T19:21:14.953645Z",
     "iopub.status.idle": "2021-08-23T19:21:14.957101Z",
     "shell.execute_reply": "2021-08-23T19:21:14.956675Z",
     "shell.execute_reply.started": "2021-08-22T18:31:42.1548Z"
    },
    "papermill": {
     "duration": 3.769363,
     "end_time": "2021-08-23T19:21:14.957217",
     "exception": false,
     "start_time": "2021-08-23T19:21:11.187854",
     "status": "completed"
    },
    "tags": []
   },
   "outputs": [],
   "source": [
    "def save_and_display_gradcam(img_path, heatmap, cam_path, alpha=0.4):\n",
    "    # Load the original image\n",
    "    img = tf.keras.preprocessing.image.load_img(img_path)\n",
    "    img = tf.keras.preprocessing.image.img_to_array(img)\n",
    "\n",
    "    # Rescale heatmap to a range 0-255\n",
    "    heatmap = np.uint8(255 * heatmap)\n",
    "\n",
    "    # Use jet colormap to colorize heatmap\n",
    "    jet = cm.get_cmap(\"jet\")\n",
    "\n",
    "    # Use RGB values of the colormap\n",
    "    jet_colors = jet(np.arange(256))[:, :3]\n",
    "    jet_heatmap = jet_colors[heatmap]\n",
    "\n",
    "    # Create an image with RGB colorized heatmap\n",
    "    jet_heatmap = tf.keras.preprocessing.image.array_to_img(jet_heatmap)\n",
    "    jet_heatmap = jet_heatmap.resize((img.shape[1], img.shape[0]))\n",
    "    jet_heatmap = tf.keras.preprocessing.image.img_to_array(jet_heatmap)\n",
    "\n",
    "    # Superimpose the heatmap on original image\n",
    "    superimposed_img = jet_heatmap * alpha + img\n",
    "    superimposed_img = tf.keras.preprocessing.image.array_to_img(superimposed_img)\n",
    "\n",
    "    # Save the superimposed image\n",
    "    superimposed_img.save(cam_path)\n",
    "\n",
    "    # Display Grad CAM\n",
    "    display(Image(cam_path))\n"
   ]
  },
  {
   "cell_type": "code",
   "execution_count": 28,
   "metadata": {
    "execution": {
     "iopub.execute_input": "2021-08-23T19:21:22.793500Z",
     "iopub.status.busy": "2021-08-23T19:21:22.792912Z",
     "iopub.status.idle": "2021-08-23T19:21:22.832040Z",
     "shell.execute_reply": "2021-08-23T19:21:22.832436Z",
     "shell.execute_reply.started": "2021-08-22T18:31:44.020515Z"
    },
    "papermill": {
     "duration": 4.069058,
     "end_time": "2021-08-23T19:21:22.832574",
     "exception": false,
     "start_time": "2021-08-23T19:21:18.763516",
     "status": "completed"
    },
    "tags": []
   },
   "outputs": [
    {
     "data": {
      "image/jpeg": "[encoded data removed]",
      "text/plain": [
       "<IPython.core.display.Image object>"
      ]
     },
     "metadata": {},
     "output_type": "display_data"
    }
   ],
   "source": [
    "save_and_display_gradcam(image_path, heatmap,cam_path=\"/kaggle/working/GradCamTest.jpg\")"
   ]
  },
  {
   "cell_type": "code",
   "execution_count": null,
   "metadata": {
    "papermill": {
     "duration": 3.796963,
     "end_time": "2021-08-23T19:21:30.447333",
     "exception": false,
     "start_time": "2021-08-23T19:21:26.650370",
     "status": "completed"
    },
    "tags": []
   },
   "outputs": [],
   "source": []
  }
 ],
 "metadata": {
  "kernelspec": {
   "display_name": "Python 3",
   "language": "python",
   "name": "python3"
  },
  "language_info": {
   "codemirror_mode": {
    "name": "ipython",
    "version": 3
   },
   "file_extension": ".py",
   "mimetype": "text/x-python",
   "name": "python",
   "nbconvert_exporter": "python",
   "pygments_lexer": "ipython3",
   "version": "3.8.10"
  },
  "papermill": {
   "default_parameters": {},
   "duration": 3492.642408,
   "end_time": "2021-08-23T19:21:37.526265",
   "environment_variables": {},
   "exception": null,
   "input_path": "__notebook__.ipynb",
   "output_path": "__notebook__.ipynb",
   "parameters": {},
   "start_time": "2021-08-23T18:23:24.883857",
   "version": "2.3.3"
  }
 },
 "nbformat": 4,
 "nbformat_minor": 5
}
