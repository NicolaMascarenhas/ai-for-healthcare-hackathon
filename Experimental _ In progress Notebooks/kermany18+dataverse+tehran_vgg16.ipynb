{
 "cells": [
  {
   "cell_type": "markdown",
   "metadata": {
    "papermill": {
     "duration": 0.026992,
     "end_time": "2021-08-23T15:21:15.474013",
     "exception": false,
     "start_time": "2021-08-23T15:21:15.447021",
     "status": "completed"
    },
    "tags": []
   },
   "source": [
    "#### In this notebook, we used data from 3 datasets containing OCT images, \n",
    " 1.  #### Kermany (Retinal_OCT2017)\n",
    " 2.  #### Dataverse Dataset\n",
    " 3.  #### Tehran Rabbani 2018\n",
    "\n",
    "#### Test set is Duke Dataset"
   ]
  },
  {
   "cell_type": "markdown",
   "metadata": {
    "papermill": {
     "duration": 0.025957,
     "end_time": "2021-08-23T15:21:15.525559",
     "exception": false,
     "start_time": "2021-08-23T15:21:15.499602",
     "status": "completed"
    },
    "tags": []
   },
   "source": [
    "# Importing Data & Libraries"
   ]
  },
  {
   "cell_type": "code",
   "execution_count": 1,
   "metadata": {
    "execution": {
     "iopub.execute_input": "2021-08-23T15:21:15.587611Z",
     "iopub.status.busy": "2021-08-23T15:21:15.586434Z",
     "iopub.status.idle": "2021-08-23T15:21:15.589183Z",
     "shell.execute_reply": "2021-08-23T15:21:15.588665Z",
     "shell.execute_reply.started": "2021-08-23T04:33:21.601184Z"
    },
    "papermill": {
     "duration": 0.038401,
     "end_time": "2021-08-23T15:21:15.589309",
     "exception": false,
     "start_time": "2021-08-23T15:21:15.550908",
     "status": "completed"
    },
    "tags": []
   },
   "outputs": [],
   "source": [
    "p = \"/kaggle/input/kermany2018/OCT2017 /train\"\n",
    "p1 = \"/kaggle/input/ai-in-healthcare-hackathon/DataVerse_Dataset/DataVerse_Dataset\"\n",
    "p2 = '/kaggle/input/ai-in-healthcare-hackathon/OCT_Dataset_Duke_Srinivasan_2014'\n",
    "p3 = \"/kaggle/input/ai-in-healthcare-hackathon/OCT_Dataset_Tehran_Rabbani_2018\""
   ]
  },
  {
   "cell_type": "code",
   "execution_count": 2,
   "metadata": {
    "execution": {
     "iopub.execute_input": "2021-08-23T15:21:15.646930Z",
     "iopub.status.busy": "2021-08-23T15:21:15.646296Z",
     "iopub.status.idle": "2021-08-23T15:21:20.716258Z",
     "shell.execute_reply": "2021-08-23T15:21:20.715388Z",
     "shell.execute_reply.started": "2021-08-23T03:35:51.181529Z"
    },
    "papermill": {
     "duration": 5.101675,
     "end_time": "2021-08-23T15:21:20.716401",
     "exception": false,
     "start_time": "2021-08-23T15:21:15.614726",
     "status": "completed"
    },
    "tags": []
   },
   "outputs": [],
   "source": [
    "import os\n",
    "import pandas as pd\n",
    "from PIL import Image\n",
    "import numpy as np\n",
    "import matplotlib.pyplot as plt\n",
    "import random\n",
    "from tqdm import tqdm\n",
    "from collections import defaultdict\n",
    "import seaborn as sns\n",
    "from keras.preprocessing.image import ImageDataGenerator\n",
    "import tensorflow as tf\n",
    "\n",
    "from keras.layers import Activation,Dense, Dropout, Flatten, Conv2D, MaxPool2D,MaxPooling2D,AveragePooling2D, BatchNormalization, ReLU\n",
    "from keras.applications.vgg16 import VGG16\n",
    "from keras.models import Model\n",
    "from keras.applications.inception_v3 import InceptionV3\n",
    "from keras.applications import ResNet50, InceptionResNetV2\n",
    "from keras.preprocessing.image import load_img,img_to_array\n",
    "from tensorflow.keras.applications.imagenet_utils import preprocess_input\n",
    "\n",
    "import matplotlib.cm as cm\n",
    "from IPython.display import Image, display\n",
    "\n",
    "import itertools\n",
    "import sklearn\n",
    "from sklearn.model_selection import train_test_split\n",
    "from sklearn.utils import class_weight\n",
    "from sklearn.preprocessing import LabelBinarizer\n",
    "from sklearn.metrics import roc_curve, auc, roc_auc_score, confusion_matrix, classification_report"
   ]
  },
  {
   "cell_type": "markdown",
   "metadata": {
    "papermill": {
     "duration": 0.025898,
     "end_time": "2021-08-23T15:21:20.768166",
     "exception": false,
     "start_time": "2021-08-23T15:21:20.742268",
     "status": "completed"
    },
    "tags": []
   },
   "source": [
    "# Data Pre Processing & Visualization"
   ]
  },
  {
   "cell_type": "code",
   "execution_count": 3,
   "metadata": {
    "execution": {
     "iopub.execute_input": "2021-08-23T15:21:20.825193Z",
     "iopub.status.busy": "2021-08-23T15:21:20.824350Z",
     "iopub.status.idle": "2021-08-23T15:21:20.827187Z",
     "shell.execute_reply": "2021-08-23T15:21:20.826654Z",
     "shell.execute_reply.started": "2021-08-23T05:34:27.496313Z"
    },
    "papermill": {
     "duration": 0.032603,
     "end_time": "2021-08-23T15:21:20.827294",
     "exception": false,
     "start_time": "2021-08-23T15:21:20.794691",
     "status": "completed"
    },
    "tags": []
   },
   "outputs": [],
   "source": [
    "new_class = {'CNV':'AMD', 'AMD':'AMD', 'DME':'DR', 'NORMAL':'NORMAL'}"
   ]
  },
  {
   "cell_type": "code",
   "execution_count": 4,
   "metadata": {
    "execution": {
     "iopub.execute_input": "2021-08-23T15:21:20.882789Z",
     "iopub.status.busy": "2021-08-23T15:21:20.882278Z",
     "iopub.status.idle": "2021-08-23T15:21:25.931972Z",
     "shell.execute_reply": "2021-08-23T15:21:25.931563Z",
     "shell.execute_reply.started": "2021-08-23T05:34:57.88909Z"
    },
    "papermill": {
     "duration": 5.079128,
     "end_time": "2021-08-23T15:21:25.932092",
     "exception": false,
     "start_time": "2021-08-23T15:21:20.852964",
     "status": "completed"
    },
    "tags": []
   },
   "outputs": [
    {
     "name": "stderr",
     "output_type": "stream",
     "text": [
      "100%|██████████| 11348/11348 [00:00<00:00, 378107.77it/s]\n",
      "100%|██████████| 37205/37205 [00:00<00:00, 390419.42it/s]\n",
      "100%|██████████| 26315/26315 [00:00<00:00, 381777.81it/s]\n"
     ]
    }
   ],
   "source": [
    "data_path = []\n",
    "data_label = []\n",
    "\n",
    "for i in ['DME', 'CNV', 'NORMAL']:\n",
    "    path = os.path.join(p, i)\n",
    "    for j in tqdm(os.listdir(path)):\n",
    "        data_path.append(os.path.join(path, j))\n",
    "        data_label.append(new_class[i])"
   ]
  },
  {
   "cell_type": "code",
   "execution_count": 5,
   "metadata": {
    "execution": {
     "iopub.execute_input": "2021-08-23T15:21:25.994904Z",
     "iopub.status.busy": "2021-08-23T15:21:25.993863Z",
     "iopub.status.idle": "2021-08-23T15:21:26.484860Z",
     "shell.execute_reply": "2021-08-23T15:21:26.485309Z",
     "shell.execute_reply.started": "2021-08-23T05:34:59.719392Z"
    },
    "papermill": {
     "duration": 0.524821,
     "end_time": "2021-08-23T15:21:26.485458",
     "exception": false,
     "start_time": "2021-08-23T15:21:25.960637",
     "status": "completed"
    },
    "tags": []
   },
   "outputs": [
    {
     "name": "stderr",
     "output_type": "stream",
     "text": [
      "100%|██████████| 1104/1104 [00:00<00:00, 379830.34it/s]\n",
      "100%|██████████| 1565/1565 [00:00<00:00, 369974.40it/s]\n",
      "100%|██████████| 1585/1585 [00:00<00:00, 369516.53it/s]\n"
     ]
    }
   ],
   "source": [
    "for i in ['DME', 'AMD', 'NORMAL']:\n",
    "    path = os.path.join(p3, i)\n",
    "    for j in tqdm(os.listdir(path)):\n",
    "        data_path.append(os.path.join(path, j))\n",
    "        data_label.append(new_class[i])"
   ]
  },
  {
   "cell_type": "code",
   "execution_count": 6,
   "metadata": {
    "execution": {
     "iopub.execute_input": "2021-08-23T15:21:26.551824Z",
     "iopub.status.busy": "2021-08-23T15:21:26.551322Z",
     "iopub.status.idle": "2021-08-23T15:21:27.144670Z",
     "shell.execute_reply": "2021-08-23T15:21:27.144206Z",
     "shell.execute_reply.started": "2021-08-23T05:35:01.09133Z"
    },
    "papermill": {
     "duration": 0.627558,
     "end_time": "2021-08-23T15:21:27.144790",
     "exception": false,
     "start_time": "2021-08-23T15:21:26.517232",
     "status": "completed"
    },
    "tags": []
   },
   "outputs": [
    {
     "name": "stderr",
     "output_type": "stream",
     "text": [
      "100%|██████████| 1101/1101 [00:00<00:00, 137221.90it/s]\n",
      "100%|██████████| 723/723 [00:00<00:00, 367350.91it/s]\n",
      "100%|██████████| 1407/1407 [00:00<00:00, 391208.86it/s]\n"
     ]
    }
   ],
   "source": [
    "test_path = []\n",
    "test_label = []\n",
    "\n",
    "for i in ['DME', 'AMD', 'NORMAL']:\n",
    "    path = os.path.join(p2, i)\n",
    "    for j in tqdm(os.listdir(path)):\n",
    "        test_path.append(os.path.join(path, j))\n",
    "        test_label.append(new_class[i])"
   ]
  },
  {
   "cell_type": "code",
   "execution_count": 7,
   "metadata": {
    "execution": {
     "iopub.execute_input": "2021-08-23T15:21:27.212933Z",
     "iopub.status.busy": "2021-08-23T15:21:27.212257Z",
     "iopub.status.idle": "2021-08-23T15:21:27.214633Z",
     "shell.execute_reply": "2021-08-23T15:21:27.215000Z",
     "shell.execute_reply.started": "2021-08-23T06:24:46.078772Z"
    },
    "papermill": {
     "duration": 0.038175,
     "end_time": "2021-08-23T15:21:27.215123",
     "exception": false,
     "start_time": "2021-08-23T15:21:27.176948",
     "status": "completed"
    },
    "tags": []
   },
   "outputs": [],
   "source": [
    "def labeller(j):\n",
    "    if j.startswith(\"AMRD\"): return 'AMD'\n",
    "    elif j.startswith(\"DR\"): return 'DR'\n",
    "    else: return 'NORMAL'"
   ]
  },
  {
   "cell_type": "code",
   "execution_count": 8,
   "metadata": {
    "execution": {
     "iopub.execute_input": "2021-08-23T15:21:27.283198Z",
     "iopub.status.busy": "2021-08-23T15:21:27.282708Z",
     "iopub.status.idle": "2021-08-23T15:21:27.372625Z",
     "shell.execute_reply": "2021-08-23T15:21:27.372225Z",
     "shell.execute_reply.started": "2021-08-23T06:24:46.959612Z"
    },
    "papermill": {
     "duration": 0.125666,
     "end_time": "2021-08-23T15:21:27.372727",
     "exception": false,
     "start_time": "2021-08-23T15:21:27.247061",
     "status": "completed"
    },
    "tags": []
   },
   "outputs": [],
   "source": [
    "for i in ['Macular Degeneration', 'Diabetic_Retinopathy','Normal_retina']:\n",
    "    full_path = os.path.join(p1,i)\n",
    "    img_dir = os.listdir(full_path)\n",
    "    for j in img_dir:\n",
    "        data_path.append(os.path.join(full_path, j))\n",
    "        data_label.append(labeller(j))"
   ]
  },
  {
   "cell_type": "code",
   "execution_count": 9,
   "metadata": {
    "execution": {
     "iopub.execute_input": "2021-08-23T15:21:27.443743Z",
     "iopub.status.busy": "2021-08-23T15:21:27.442991Z",
     "iopub.status.idle": "2021-08-23T15:21:27.566328Z",
     "shell.execute_reply": "2021-08-23T15:21:27.566892Z",
     "shell.execute_reply.started": "2021-08-23T06:24:48.727131Z"
    },
    "papermill": {
     "duration": 0.161859,
     "end_time": "2021-08-23T15:21:27.567100",
     "exception": false,
     "start_time": "2021-08-23T15:21:27.405241",
     "status": "completed"
    },
    "tags": []
   },
   "outputs": [],
   "source": [
    "X_train, X_val, y_train, y_val = train_test_split(data_path, data_label, test_size=0.2, random_state=42)\n",
    "df_train = pd.DataFrame(list(zip(X_train, y_train)),columns =['image_path', 'label'])\n",
    "df_val = pd.DataFrame(list(zip(X_val, y_val)),columns =['image_path', 'label'])\n",
    "df_test = pd.DataFrame(list(zip(test_path, test_label)),columns =['image_path', 'label'])"
   ]
  },
  {
   "cell_type": "markdown",
   "metadata": {
    "papermill": {
     "duration": 0.066096,
     "end_time": "2021-08-23T15:21:27.695157",
     "exception": false,
     "start_time": "2021-08-23T15:21:27.629061",
     "status": "completed"
    },
    "tags": []
   },
   "source": [
    "Training Data"
   ]
  },
  {
   "cell_type": "code",
   "execution_count": 10,
   "metadata": {
    "execution": {
     "iopub.execute_input": "2021-08-23T15:21:27.815973Z",
     "iopub.status.busy": "2021-08-23T15:21:27.811724Z",
     "iopub.status.idle": "2021-08-23T15:21:28.146158Z",
     "shell.execute_reply": "2021-08-23T15:21:28.146760Z",
     "shell.execute_reply.started": "2021-08-23T06:24:49.946099Z"
    },
    "papermill": {
     "duration": 0.398652,
     "end_time": "2021-08-23T15:21:28.146981",
     "exception": false,
     "start_time": "2021-08-23T15:21:27.748329",
     "status": "completed"
    },
    "tags": []
   },
   "outputs": [
    {
     "data": {
      "text/plain": [
       "<AxesSubplot:xlabel='label', ylabel='count'>"
      ]
     },
     "execution_count": 10,
     "metadata": {},
     "output_type": "execute_result"
    },
    {
     "data": {
      "image/png": "[encoded data removed]",
      "text/plain": [
       "<Figure size 1080x288 with 1 Axes>"
      ]
     },
     "metadata": {
      "needs_background": "light"
     },
     "output_type": "display_data"
    }
   ],
   "source": [
    "plt.rcParams[\"figure.figsize\"] = (15,4)\n",
    "df = df_train\n",
    "lab = df['label']\n",
    "dist = lab.value_counts()\n",
    "sns.countplot(x = lab)"
   ]
  },
  {
   "cell_type": "markdown",
   "metadata": {
    "papermill": {
     "duration": 0.057922,
     "end_time": "2021-08-23T15:21:28.264000",
     "exception": false,
     "start_time": "2021-08-23T15:21:28.206078",
     "status": "completed"
    },
    "tags": []
   },
   "source": [
    "Test Data"
   ]
  },
  {
   "cell_type": "code",
   "execution_count": 11,
   "metadata": {
    "execution": {
     "iopub.execute_input": "2021-08-23T15:21:28.391328Z",
     "iopub.status.busy": "2021-08-23T15:21:28.390553Z",
     "iopub.status.idle": "2021-08-23T15:21:28.589637Z",
     "shell.execute_reply": "2021-08-23T15:21:28.588905Z",
     "shell.execute_reply.started": "2021-08-23T06:24:52.15612Z"
    },
    "papermill": {
     "duration": 0.267192,
     "end_time": "2021-08-23T15:21:28.589751",
     "exception": false,
     "start_time": "2021-08-23T15:21:28.322559",
     "status": "completed"
    },
    "tags": []
   },
   "outputs": [
    {
     "data": {
      "text/plain": [
       "<AxesSubplot:xlabel='label', ylabel='count'>"
      ]
     },
     "execution_count": 11,
     "metadata": {},
     "output_type": "execute_result"
    },
    {
     "data": {
      "image/png": "[encoded data removed]",
      "text/plain": [
       "<Figure size 1080x288 with 1 Axes>"
      ]
     },
     "metadata": {
      "needs_background": "light"
     },
     "output_type": "display_data"
    }
   ],
   "source": [
    "plt.rcParams[\"figure.figsize\"] = (15,4)\n",
    "df = df_val\n",
    "lab = df['label']\n",
    "dist = lab.value_counts()\n",
    "sns.countplot(x = lab)"
   ]
  },
  {
   "cell_type": "code",
   "execution_count": 12,
   "metadata": {
    "execution": {
     "iopub.execute_input": "2021-08-23T15:21:28.667296Z",
     "iopub.status.busy": "2021-08-23T15:21:28.666516Z",
     "iopub.status.idle": "2021-08-23T15:21:28.786149Z",
     "shell.execute_reply": "2021-08-23T15:21:28.785754Z",
     "shell.execute_reply.started": "2021-08-23T06:24:53.965293Z"
    },
    "papermill": {
     "duration": 0.162835,
     "end_time": "2021-08-23T15:21:28.786284",
     "exception": false,
     "start_time": "2021-08-23T15:21:28.623449",
     "status": "completed"
    },
    "tags": []
   },
   "outputs": [
    {
     "data": {
      "text/plain": [
       "<AxesSubplot:xlabel='label', ylabel='count'>"
      ]
     },
     "execution_count": 12,
     "metadata": {},
     "output_type": "execute_result"
    },
    {
     "data": {
      "image/png": "[encoded data removed]",
      "text/plain": [
       "<Figure size 1080x288 with 1 Axes>"
      ]
     },
     "metadata": {
      "needs_background": "light"
     },
     "output_type": "display_data"
    }
   ],
   "source": [
    "plt.rcParams[\"figure.figsize\"] = (15,4)\n",
    "df = df_test\n",
    "lab = df['label']\n",
    "dist = lab.value_counts()\n",
    "sns.countplot(x = lab)"
   ]
  },
  {
   "cell_type": "markdown",
   "metadata": {
    "papermill": {
     "duration": 0.035692,
     "end_time": "2021-08-23T15:21:28.857070",
     "exception": false,
     "start_time": "2021-08-23T15:21:28.821378",
     "status": "completed"
    },
    "tags": []
   },
   "source": [
    "## Data Augmentation"
   ]
  },
  {
   "cell_type": "code",
   "execution_count": 13,
   "metadata": {
    "execution": {
     "iopub.execute_input": "2021-08-23T15:21:28.958811Z",
     "iopub.status.busy": "2021-08-23T15:21:28.934121Z",
     "iopub.status.idle": "2021-08-23T15:26:37.811846Z",
     "shell.execute_reply": "2021-08-23T15:26:37.812257Z",
     "shell.execute_reply.started": "2021-08-23T06:24:57.743907Z"
    },
    "papermill": {
     "duration": 308.920794,
     "end_time": "2021-08-23T15:26:37.812427",
     "exception": false,
     "start_time": "2021-08-23T15:21:28.891633",
     "status": "completed"
    },
    "tags": []
   },
   "outputs": [
    {
     "name": "stderr",
     "output_type": "stream",
     "text": [
      "/opt/conda/lib/python3.7/site-packages/keras_preprocessing/image/dataframe_iterator.py:282: UserWarning: Found 2 invalid image filename(s) in x_col=\"image_path\". These filename(s) will be ignored.\n",
      "  .format(n_invalid, x_col)\n"
     ]
    },
    {
     "name": "stdout",
     "output_type": "stream",
     "text": [
      "Found 63591 validated image filenames belonging to 3 classes.\n",
      "Found 15899 validated image filenames belonging to 3 classes.\n",
      "Found 3231 validated image filenames belonging to 3 classes.\n"
     ]
    }
   ],
   "source": [
    "train_aug = ImageDataGenerator(\n",
    "    rotation_range=0.2,\n",
    "    width_shift_range=0.05,\n",
    "    height_shift_range=0.05,\n",
    "    shear_range=0.05,\n",
    "    zoom_range=0.05,\n",
    "    rescale = 1./255)\n",
    "\n",
    "test_aug = ImageDataGenerator(\n",
    "    rescale = 1./255)\n",
    "\n",
    "train_generator= train_aug.flow_from_dataframe(\n",
    "dataframe=df_train,\n",
    "x_col=\"image_path\",\n",
    "y_col=\"label\",\n",
    "batch_size=8,\n",
    "color_mode=\"rgb\",\n",
    "shuffle = True,\n",
    "target_size = (224, 224),\n",
    "class_mode=\"categorical\")\n",
    "\n",
    "val_generator= test_aug.flow_from_dataframe(\n",
    "dataframe=df_val,\n",
    "x_col=\"image_path\",\n",
    "y_col=\"label\",\n",
    "color_mode=\"rgb\",\n",
    "batch_size=8,\n",
    "target_size = (224, 224),\n",
    "class_mode=\"categorical\")\n",
    "\n",
    "test_generator= test_aug.flow_from_dataframe(\n",
    "dataframe=df_test,\n",
    "x_col=\"image_path\",\n",
    "y_col=\"label\",\n",
    "color_mode=\"rgb\",\n",
    "batch_size=8,\n",
    "shuffle = False, \n",
    "target_size = (224, 224),\n",
    "class_mode=\"categorical\")"
   ]
  },
  {
   "cell_type": "code",
   "execution_count": 14,
   "metadata": {
    "execution": {
     "iopub.execute_input": "2021-08-23T15:26:37.897845Z",
     "iopub.status.busy": "2021-08-23T15:26:37.896990Z",
     "iopub.status.idle": "2021-08-23T15:26:37.936557Z",
     "shell.execute_reply": "2021-08-23T15:26:37.936099Z"
    },
    "papermill": {
     "duration": 0.088021,
     "end_time": "2021-08-23T15:26:37.936666",
     "exception": false,
     "start_time": "2021-08-23T15:26:37.848645",
     "status": "completed"
    },
    "tags": []
   },
   "outputs": [
    {
     "name": "stdout",
     "output_type": "stream",
     "text": [
      "{'AMD': 0, 'DR': 1, 'NORMAL': 2}\n",
      "Class Weights:  {0: 0.6838839420140234, 1: 2.1006507448881844, 2: 0.9418673538908143}\n"
     ]
    }
   ],
   "source": [
    "# Adding class weights to adjust imbalance\n",
    "from sklearn.utils import class_weight\n",
    "map_characters = test_generator.class_indices\n",
    "print(map_characters)\n",
    "class_weights = dict(zip(map_characters.values(), class_weight.compute_class_weight(class_weight='balanced', classes=np.unique(y_train), \n",
    "                y=y_train))) \n",
    "print(\"Class Weights: \",class_weights)"
   ]
  },
  {
   "cell_type": "markdown",
   "metadata": {
    "papermill": {
     "duration": 0.036416,
     "end_time": "2021-08-23T15:26:38.009458",
     "exception": false,
     "start_time": "2021-08-23T15:26:37.973042",
     "status": "completed"
    },
    "tags": []
   },
   "source": [
    "# MODEL\n",
    "## Compiling & Training"
   ]
  },
  {
   "cell_type": "code",
   "execution_count": 15,
   "metadata": {
    "execution": {
     "iopub.execute_input": "2021-08-23T15:26:38.099223Z",
     "iopub.status.busy": "2021-08-23T15:26:38.098333Z",
     "iopub.status.idle": "2021-08-23T15:26:38.100880Z",
     "shell.execute_reply": "2021-08-23T15:26:38.100472Z",
     "shell.execute_reply.started": "2021-08-23T05:35:49.56333Z"
    },
    "papermill": {
     "duration": 0.054642,
     "end_time": "2021-08-23T15:26:38.101001",
     "exception": false,
     "start_time": "2021-08-23T15:26:38.046359",
     "status": "completed"
    },
    "tags": []
   },
   "outputs": [],
   "source": [
    "#Model Defining\n",
    "def generate_model(pretrained_model = 'vgg16', num_classes =3):\n",
    "    if pretrained_model == 'inceptionv3':\n",
    "        weight_path = '../input/keras-pretrained-models/inception_v3_weights_tf_dim_ordering_tf_kernels_notop.h5'\n",
    "        base_model = InceptionV3(weights = weight_path, include_top=False, input_shape=(224, 224, 3))\n",
    "    elif pretrained_model == 'inceptionresnet':\n",
    "        base_model = InceptionResNetV2(weights = 'imagenet', include_top=False, input_shape=(224, 224, 3))\n",
    "    else:\n",
    "        weight_path = '../input/keras-pretrained-models/vgg16_weights_tf_dim_ordering_tf_kernels_notop.h5'\n",
    "        base_model = VGG16(weights = 'imagenet', include_top=False, input_shape=(224, 224, 3)) # Topless\n",
    "    \n",
    "    # Add top layer\n",
    "    \n",
    "    x = base_model.output\n",
    "    x = Flatten()(x)\n",
    "    x = Dense(4096)(x)\n",
    "    x = ReLU()(x)\n",
    "    x = Dropout(0.5)(x)\n",
    "    x = Dense(4096)(x)\n",
    "    x = ReLU()(x)\n",
    "    x = Dropout(0.5)(x)\n",
    "    predictions = Dense(num_classes, activation='softmax')(x)\n",
    "    model = Model(inputs=base_model.input, outputs=predictions)\n",
    "    \n",
    "    #Freezing Convolutional Base\n",
    "    \n",
    "    for layer in base_model.layers[:-3]:\n",
    "        layer.trainable = False  \n",
    "    return model"
   ]
  },
  {
   "cell_type": "code",
   "execution_count": 16,
   "metadata": {
    "execution": {
     "iopub.execute_input": "2021-08-23T15:26:38.183653Z",
     "iopub.status.busy": "2021-08-23T15:26:38.182801Z",
     "iopub.status.idle": "2021-08-23T15:26:38.185438Z",
     "shell.execute_reply": "2021-08-23T15:26:38.184992Z",
     "shell.execute_reply.started": "2021-08-23T05:35:55.195241Z"
    },
    "papermill": {
     "duration": 0.047344,
     "end_time": "2021-08-23T15:26:38.185553",
     "exception": false,
     "start_time": "2021-08-23T15:26:38.138209",
     "status": "completed"
    },
    "tags": []
   },
   "outputs": [],
   "source": [
    "def train_model(model, train_generator, test_generator, num_epochs, optimizer, class_weights):\n",
    "    model.compile(loss='categorical_crossentropy', \n",
    "                  optimizer=optimizer, \n",
    "                  metrics=['accuracy'])\n",
    "    early_stop = tf.keras.callbacks.EarlyStopping(monitor=\"val_accuracy\",patience=6, verbose=1)\n",
    "    rlr = tf.keras.callbacks.ReduceLROnPlateau(monitor=\"val_loss\", factor=0.1, patience=4)\n",
    "    print(model.summary())\n",
    "    \n",
    "    # Train using .fit\n",
    "    \n",
    "    history = model.fit(train_generator, epochs=num_epochs, \n",
    "                        validation_data=test_generator, class_weight = class_weights, verbose=1,\n",
    "                        callbacks = [rlr, early_stop])\n",
    "    \n",
    "    return model, history"
   ]
  },
  {
   "cell_type": "markdown",
   "metadata": {
    "papermill": {
     "duration": 0.036694,
     "end_time": "2021-08-23T15:26:38.259282",
     "exception": false,
     "start_time": "2021-08-23T15:26:38.222588",
     "status": "completed"
    },
    "tags": []
   },
   "source": [
    "# Model Evaluation\n",
    "## Plotting Curves - Loss, Accuracy, ROC + Confusion Matrix"
   ]
  },
  {
   "cell_type": "code",
   "execution_count": 17,
   "metadata": {
    "execution": {
     "iopub.execute_input": "2021-08-23T15:26:38.348624Z",
     "iopub.status.busy": "2021-08-23T15:26:38.347728Z",
     "iopub.status.idle": "2021-08-23T15:26:38.350261Z",
     "shell.execute_reply": "2021-08-23T15:26:38.349822Z",
     "shell.execute_reply.started": "2021-08-23T05:35:57.394422Z"
    },
    "papermill": {
     "duration": 0.054139,
     "end_time": "2021-08-23T15:26:38.350410",
     "exception": false,
     "start_time": "2021-08-23T15:26:38.296271",
     "status": "completed"
    },
    "tags": []
   },
   "outputs": [],
   "source": [
    "def plot_loss(history):\n",
    "    plt.plot(history.history['loss'])\n",
    "    plt.plot(history.history['val_loss'])\n",
    "    plt.title('model loss')\n",
    "    plt.ylabel('loss')\n",
    "    plt.xlabel('epoch')\n",
    "    plt.legend(['train', 'val'], loc='upper left')\n",
    "    \n",
    "def plot_acc(history):\n",
    "    plt.plot(history.history['accuracy'])\n",
    "    plt.plot(history.history['val_accuracy'])\n",
    "    plt.title('model accuracy')\n",
    "    plt.ylabel('accuracy')\n",
    "    plt.xlabel('epoch')\n",
    "    plt.legend(['train', 'val'], loc='upper left')\n",
    "    \n",
    "# It prints & plots the confusion matrix, normalization can be applied by setting normalize=True.\n",
    "    \n",
    "def plot_confusion_matrix(cm, classes,normalize=False,title='Confusion matrix',cmap=plt.cm.Blues):\n",
    "\n",
    "    plt.figure(figsize = (5,5))\n",
    "    plt.imshow(cm, interpolation='nearest', cmap=cmap)\n",
    "    plt.title(title)\n",
    "    plt.colorbar()\n",
    "    tick_marks = np.arange(len(classes))\n",
    "    plt.xticks(tick_marks, classes, rotation=90)\n",
    "    plt.yticks(tick_marks, classes)\n",
    "    if normalize:\n",
    "        cm = cm.astype('float') / cm.sum(axis=1)[:, np.newaxis]\n",
    "\n",
    "    thresh = cm.max() / 2.\n",
    "    for i, j in itertools.product(range(cm.shape[0]), range(cm.shape[1])):\n",
    "        plt.text(j, i, cm[i, j],\n",
    "                 horizontalalignment=\"center\",\n",
    "                 color=\"white\" if cm[i, j] > thresh else \"black\")\n",
    "    plt.tight_layout()\n",
    "    plt.ylabel('True label')\n",
    "    plt.xlabel('Predicted label')\n",
    "\n",
    "def plot_roc_curves(y_true, y_pred, num_classes, class_labels):\n",
    "    \n",
    "    lb = LabelBinarizer()\n",
    "    lb.fit(y_true)\n",
    "    y_test = lb.transform(y_true)\n",
    "\n",
    "    # Compute ROC curve and ROC area for each class\n",
    "    fpr = dict()\n",
    "    tpr = dict()\n",
    "    roc_auc = dict()\n",
    "    for i in range(num_classes):\n",
    "        fpr[i], tpr[i], _ = roc_curve(y_test[:, i], y_pred[:, i])\n",
    "        roc_auc[i] = auc(fpr[i], tpr[i])\n",
    "\n",
    "    # Plot all ROC curves\n",
    "    for i in range(num_classes):\n",
    "        fig, c_ax = plt.subplots(1,1, figsize = (6, 4))\n",
    "        c_ax.plot(fpr[i], tpr[i],\n",
    "                 label='ROC curve of class {0} (area = {1:0.4f})'\n",
    "                 ''.format(class_labels[i], roc_auc[i]))\n",
    "        c_ax.set_xlabel('False Positive Rate')\n",
    "        c_ax.set_ylabel('True Positive Rate')\n",
    "        c_ax.set_title('ROC curve of class {0}'.format(class_labels[i]))\n",
    "        c_ax.legend(loc=\"lower right\")\n",
    "        plt.show()\n",
    "    return roc_auc_score(y_test, y_pred)"
   ]
  },
  {
   "cell_type": "code",
   "execution_count": 18,
   "metadata": {
    "execution": {
     "iopub.execute_input": "2021-08-23T15:26:38.430402Z",
     "iopub.status.busy": "2021-08-23T15:26:38.429593Z",
     "iopub.status.idle": "2021-08-23T15:26:38.432462Z",
     "shell.execute_reply": "2021-08-23T15:26:38.432020Z",
     "shell.execute_reply.started": "2021-08-23T05:36:00.152962Z"
    },
    "papermill": {
     "duration": 0.045605,
     "end_time": "2021-08-23T15:26:38.432573",
     "exception": false,
     "start_time": "2021-08-23T15:26:38.386968",
     "status": "completed"
    },
    "tags": []
   },
   "outputs": [],
   "source": [
    "def evaluate_model(model, history, test_generator):\n",
    "    # Evaluate model\n",
    "    score = model.evaluate(test_generator, verbose=0)\n",
    "    print('\\nTest set accuracy:', score[1], '\\n')\n",
    "    \n",
    "    y_true = np.array(test_generator.labels)\n",
    "    y_pred = model.predict(test_generator, verbose = 1)\n",
    "    y_pred_classes = np.argmax(y_pred,axis = 1)\n",
    "    class_labels = list(test_generator.class_indices.keys())   \n",
    "    \n",
    "    print('\\n', sklearn.metrics.classification_report(y_true, y_pred_classes, target_names=class_labels), sep='')\n",
    "    confusion_mtx = confusion_matrix(y_true, y_pred_classes)\n",
    "    plot_acc(history)\n",
    "    plt.show()\n",
    "    plot_loss(history)\n",
    "    plt.show()\n",
    "    plot_confusion_matrix(confusion_mtx, classes = class_labels)\n",
    "    plt.show()\n",
    "    print(\"ROS AUC score:\", plot_roc_curves(y_true, y_pred,3, class_labels))"
   ]
  },
  {
   "cell_type": "markdown",
   "metadata": {
    "papermill": {
     "duration": 0.036194,
     "end_time": "2021-08-23T15:26:38.504890",
     "exception": false,
     "start_time": "2021-08-23T15:26:38.468696",
     "status": "completed"
    },
    "tags": []
   },
   "source": [
    "# Transfer Learning using VGG16"
   ]
  },
  {
   "cell_type": "markdown",
   "metadata": {
    "papermill": {
     "duration": 0.036221,
     "end_time": "2021-08-23T15:26:38.577537",
     "exception": false,
     "start_time": "2021-08-23T15:26:38.541316",
     "status": "completed"
    },
    "tags": []
   },
   "source": [
    "Compilation"
   ]
  },
  {
   "cell_type": "code",
   "execution_count": 19,
   "metadata": {
    "execution": {
     "iopub.execute_input": "2021-08-23T15:26:38.657835Z",
     "iopub.status.busy": "2021-08-23T15:26:38.657330Z",
     "iopub.status.idle": "2021-08-23T15:26:41.151900Z",
     "shell.execute_reply": "2021-08-23T15:26:41.151290Z",
     "shell.execute_reply.started": "2021-08-23T05:36:02.437638Z"
    },
    "papermill": {
     "duration": 2.537094,
     "end_time": "2021-08-23T15:26:41.152025",
     "exception": false,
     "start_time": "2021-08-23T15:26:38.614931",
     "status": "completed"
    },
    "tags": []
   },
   "outputs": [
    {
     "name": "stdout",
     "output_type": "stream",
     "text": [
      "Downloading data from https://storage.googleapis.com/tensorflow/keras-applications/vgg16/vgg16_weights_tf_dim_ordering_tf_kernels_notop.h5\n",
      "58892288/58889256 [==============================] - 0s 0us/step\n"
     ]
    }
   ],
   "source": [
    "vgg_model = generate_model('vgg16', 3)"
   ]
  },
  {
   "cell_type": "markdown",
   "metadata": {
    "papermill": {
     "duration": 0.037922,
     "end_time": "2021-08-23T15:26:41.228786",
     "exception": false,
     "start_time": "2021-08-23T15:26:41.190864",
     "status": "completed"
    },
    "tags": []
   },
   "source": [
    "Training"
   ]
  },
  {
   "cell_type": "code",
   "execution_count": 20,
   "metadata": {
    "execution": {
     "iopub.execute_input": "2021-08-23T15:26:41.317789Z",
     "iopub.status.busy": "2021-08-23T15:26:41.316877Z",
     "iopub.status.idle": "2021-08-23T16:11:01.293783Z",
     "shell.execute_reply": "2021-08-23T16:11:01.294641Z",
     "shell.execute_reply.started": "2021-08-23T05:36:05.29327Z"
    },
    "papermill": {
     "duration": 2660.02797,
     "end_time": "2021-08-23T16:11:01.294864",
     "exception": false,
     "start_time": "2021-08-23T15:26:41.266894",
     "status": "completed"
    },
    "tags": []
   },
   "outputs": [
    {
     "name": "stdout",
     "output_type": "stream",
     "text": [
      "Model: \"model\"\n",
      "_________________________________________________________________\n",
      "Layer (type)                 Output Shape              Param #   \n",
      "=================================================================\n",
      "input_1 (InputLayer)         [(None, 224, 224, 3)]     0         \n",
      "_________________________________________________________________\n",
      "block1_conv1 (Conv2D)        (None, 224, 224, 64)      1792      \n",
      "_________________________________________________________________\n",
      "block1_conv2 (Conv2D)        (None, 224, 224, 64)      36928     \n",
      "_________________________________________________________________\n",
      "block1_pool (MaxPooling2D)   (None, 112, 112, 64)      0         \n",
      "_________________________________________________________________\n",
      "block2_conv1 (Conv2D)        (None, 112, 112, 128)     73856     \n",
      "_________________________________________________________________\n",
      "block2_conv2 (Conv2D)        (None, 112, 112, 128)     147584    \n",
      "_________________________________________________________________\n",
      "block2_pool (MaxPooling2D)   (None, 56, 56, 128)       0         \n",
      "_________________________________________________________________\n",
      "block3_conv1 (Conv2D)        (None, 56, 56, 256)       295168    \n",
      "_________________________________________________________________\n",
      "block3_conv2 (Conv2D)        (None, 56, 56, 256)       590080    \n",
      "_________________________________________________________________\n",
      "block3_conv3 (Conv2D)        (None, 56, 56, 256)       590080    \n",
      "_________________________________________________________________\n",
      "block3_pool (MaxPooling2D)   (None, 28, 28, 256)       0         \n",
      "_________________________________________________________________\n",
      "block4_conv1 (Conv2D)        (None, 28, 28, 512)       1180160   \n",
      "_________________________________________________________________\n",
      "block4_conv2 (Conv2D)        (None, 28, 28, 512)       2359808   \n",
      "_________________________________________________________________\n",
      "block4_conv3 (Conv2D)        (None, 28, 28, 512)       2359808   \n",
      "_________________________________________________________________\n",
      "block4_pool (MaxPooling2D)   (None, 14, 14, 512)       0         \n",
      "_________________________________________________________________\n",
      "block5_conv1 (Conv2D)        (None, 14, 14, 512)       2359808   \n",
      "_________________________________________________________________\n",
      "block5_conv2 (Conv2D)        (None, 14, 14, 512)       2359808   \n",
      "_________________________________________________________________\n",
      "block5_conv3 (Conv2D)        (None, 14, 14, 512)       2359808   \n",
      "_________________________________________________________________\n",
      "block5_pool (MaxPooling2D)   (None, 7, 7, 512)         0         \n",
      "_________________________________________________________________\n",
      "flatten (Flatten)            (None, 25088)             0         \n",
      "_________________________________________________________________\n",
      "dense (Dense)                (None, 4096)              102764544 \n",
      "_________________________________________________________________\n",
      "re_lu (ReLU)                 (None, 4096)              0         \n",
      "_________________________________________________________________\n",
      "dropout (Dropout)            (None, 4096)              0         \n",
      "_________________________________________________________________\n",
      "dense_1 (Dense)              (None, 4096)              16781312  \n",
      "_________________________________________________________________\n",
      "re_lu_1 (ReLU)               (None, 4096)              0         \n",
      "_________________________________________________________________\n",
      "dropout_1 (Dropout)          (None, 4096)              0         \n",
      "_________________________________________________________________\n",
      "dense_2 (Dense)              (None, 3)                 12291     \n",
      "=================================================================\n",
      "Total params: 134,272,835\n",
      "Trainable params: 124,277,763\n",
      "Non-trainable params: 9,995,072\n",
      "_________________________________________________________________\n",
      "None\n",
      "Epoch 1/2\n",
      "7949/7949 [==============================] - 1581s 198ms/step - loss: 0.3690 - accuracy: 0.8747 - val_loss: 0.1418 - val_accuracy: 0.9484\n",
      "Epoch 2/2\n",
      "7949/7949 [==============================] - 1074s 135ms/step - loss: 0.1585 - accuracy: 0.9527 - val_loss: 0.1324 - val_accuracy: 0.9592\n"
     ]
    }
   ],
   "source": [
    "vgg_model, vgg_history = train_model(vgg_model, train_generator, val_generator, 2, tf.keras.optimizers.SGD(lr=0.001, momentum=0.9), class_weights)"
   ]
  },
  {
   "cell_type": "markdown",
   "metadata": {
    "papermill": {
     "duration": 4.189981,
     "end_time": "2021-08-23T16:11:09.689460",
     "exception": false,
     "start_time": "2021-08-23T16:11:05.499479",
     "status": "completed"
    },
    "tags": []
   },
   "source": [
    "Evaluation"
   ]
  },
  {
   "cell_type": "code",
   "execution_count": 21,
   "metadata": {
    "execution": {
     "iopub.execute_input": "2021-08-23T16:11:18.696132Z",
     "iopub.status.busy": "2021-08-23T16:11:18.695588Z",
     "iopub.status.idle": "2021-08-23T16:11:59.974824Z",
     "shell.execute_reply": "2021-08-23T16:11:59.975221Z",
     "shell.execute_reply.started": "2021-08-23T06:25:05.53838Z"
    },
    "papermill": {
     "duration": 45.891666,
     "end_time": "2021-08-23T16:11:59.975448",
     "exception": false,
     "start_time": "2021-08-23T16:11:14.083782",
     "status": "completed"
    },
    "tags": []
   },
   "outputs": [
    {
     "name": "stdout",
     "output_type": "stream",
     "text": [
      "\n",
      "Test set accuracy: 0.8830083608627319 \n",
      "\n",
      "404/404 [==============================] - 14s 35ms/step\n",
      "\n",
      "              precision    recall  f1-score   support\n",
      "\n",
      "         AMD       0.90      0.97      0.93       723\n",
      "          DR       0.92      0.77      0.84      1101\n",
      "      NORMAL       0.85      0.93      0.89      1407\n",
      "\n",
      "    accuracy                           0.88      3231\n",
      "   macro avg       0.89      0.89      0.89      3231\n",
      "weighted avg       0.89      0.88      0.88      3231\n",
      "\n"
     ]
    },
    {
     "data": {
      "image/png": "[encoded data removed]",
      "text/plain": [
       "<Figure size 1080x288 with 1 Axes>"
      ]
     },
     "metadata": {
      "needs_background": "light"
     },
     "output_type": "display_data"
    },
    {
     "data": {
      "image/png": "[encoded data removed]",
      "text/plain": [
       "<Figure size 1080x288 with 1 Axes>"
      ]
     },
     "metadata": {
      "needs_background": "light"
     },
     "output_type": "display_data"
    },
    {
     "data": {
      "image/png": "[encoded data removed]",
      "text/plain": [
       "<Figure size 360x360 with 2 Axes>"
      ]
     },
     "metadata": {
      "needs_background": "light"
     },
     "output_type": "display_data"
    },
    {
     "data": {
      "image/png": "[encoded data removed]",
      "text/plain": [
       "<Figure size 432x288 with 1 Axes>"
      ]
     },
     "metadata": {
      "needs_background": "light"
     },
     "output_type": "display_data"
    },
    {
     "data": {
      "image/png": "[encoded data removed]",
      "text/plain": [
       "<Figure size 432x288 with 1 Axes>"
      ]
     },
     "metadata": {
      "needs_background": "light"
     },
     "output_type": "display_data"
    },
    {
     "data": {
      "image/png": "[encoded data removed]",
      "text/plain": [
       "<Figure size 432x288 with 1 Axes>"
      ]
     },
     "metadata": {
      "needs_background": "light"
     },
     "output_type": "display_data"
    },
    {
     "name": "stdout",
     "output_type": "stream",
     "text": [
      "ROS AUC score: 0.968130982526186\n"
     ]
    }
   ],
   "source": [
    "evaluate_model(vgg_model, vgg_history, test_generator)"
   ]
  },
  {
   "cell_type": "code",
   "execution_count": 22,
   "metadata": {
    "execution": {
     "iopub.execute_input": "2021-08-23T16:12:08.728549Z",
     "iopub.status.busy": "2021-08-23T16:12:08.727686Z",
     "iopub.status.idle": "2021-08-23T16:12:10.595225Z",
     "shell.execute_reply": "2021-08-23T16:12:10.594714Z",
     "shell.execute_reply.started": "2021-08-23T06:17:39.889659Z"
    },
    "papermill": {
     "duration": 6.454158,
     "end_time": "2021-08-23T16:12:10.595371",
     "exception": false,
     "start_time": "2021-08-23T16:12:04.141213",
     "status": "completed"
    },
    "tags": []
   },
   "outputs": [],
   "source": [
    "vgg_model.save(\"/kaggle/working/vgg_sgd.h5\")"
   ]
  },
  {
   "cell_type": "markdown",
   "metadata": {
    "papermill": {
     "duration": 4.638175,
     "end_time": "2021-08-23T16:12:19.595683",
     "exception": false,
     "start_time": "2021-08-23T16:12:14.957508",
     "status": "completed"
    },
    "tags": []
   },
   "source": [
    "# Model Interpretability using Grad CAM\n",
    "\n",
    "One way to ensure the model is performing correctly is to debug your model and visually validate that it is “looking” and “activating” at the correct locations in an image.\n",
    "\n",
    "Selvaraju et al. published a novel paper entitled, Grad-CAM: Visual Explanations from Deep Networks via Gradient-based Localization (https://arxiv.org/abs/1610.02391). \n",
    "\n",
    "GRAD-CAM works by (1) finding the final convolutional layer in the network and then (2) examining the gradient information flowing into that layer.\n",
    "\n",
    "The output of Grad-CAM is a heatmap visualization for a given class label (either the top, predicted label or an arbitrary label we select for debugging). We can use this heatmap to visually verify where in the image the CNN is looking."
   ]
  },
  {
   "cell_type": "code",
   "execution_count": 23,
   "metadata": {
    "execution": {
     "iopub.execute_input": "2021-08-23T16:12:29.256912Z",
     "iopub.status.busy": "2021-08-23T16:12:29.256396Z",
     "iopub.status.idle": "2021-08-23T16:12:29.266434Z",
     "shell.execute_reply": "2021-08-23T16:12:29.265928Z",
     "shell.execute_reply.started": "2021-08-23T06:25:46.831435Z"
    },
    "papermill": {
     "duration": 4.555577,
     "end_time": "2021-08-23T16:12:29.266554",
     "exception": false,
     "start_time": "2021-08-23T16:12:24.710977",
     "status": "completed"
    },
    "tags": []
   },
   "outputs": [
    {
     "name": "stdout",
     "output_type": "stream",
     "text": [
      "DR\n"
     ]
    }
   ],
   "source": [
    "last_conv_layer_name =\"block5_conv3\"\n",
    "image_path=df_test['image_path'][100]\n",
    "print(df_test['label'][100])\n",
    "\n",
    "img = load_img(image_path, target_size=(224,224,3)) # stores image in PIL format\n",
    "image_array=img_to_array(img)"
   ]
  },
  {
   "cell_type": "markdown",
   "metadata": {
    "papermill": {
     "duration": 4.163474,
     "end_time": "2021-08-23T16:12:37.677887",
     "exception": false,
     "start_time": "2021-08-23T16:12:33.514413",
     "status": "completed"
    },
    "tags": []
   },
   "source": [
    "Display Original Image"
   ]
  },
  {
   "cell_type": "code",
   "execution_count": 24,
   "metadata": {
    "execution": {
     "iopub.execute_input": "2021-08-23T16:12:46.306384Z",
     "iopub.status.busy": "2021-08-23T16:12:46.305790Z",
     "iopub.status.idle": "2021-08-23T16:12:46.318694Z",
     "shell.execute_reply": "2021-08-23T16:12:46.319076Z",
     "shell.execute_reply.started": "2021-08-23T06:25:48.486732Z"
    },
    "papermill": {
     "duration": 4.234037,
     "end_time": "2021-08-23T16:12:46.319248",
     "exception": false,
     "start_time": "2021-08-23T16:12:42.085211",
     "status": "completed"
    },
    "tags": []
   },
   "outputs": [
    {
     "data": {
      "image/jpeg": "[encoded data removed]",
      "text/plain": [
       "<IPython.core.display.Image object>"
      ]
     },
     "metadata": {},
     "output_type": "display_data"
    }
   ],
   "source": [
    "display(Image(image_path))"
   ]
  },
  {
   "cell_type": "markdown",
   "metadata": {
    "papermill": {
     "duration": 4.215571,
     "end_time": "2021-08-23T16:12:55.119136",
     "exception": false,
     "start_time": "2021-08-23T16:12:50.903565",
     "status": "completed"
    },
    "tags": []
   },
   "source": [
    "GRAD CAM Algorithm"
   ]
  },
  {
   "cell_type": "code",
   "execution_count": 25,
   "metadata": {
    "execution": {
     "iopub.execute_input": "2021-08-23T16:13:04.224831Z",
     "iopub.status.busy": "2021-08-23T16:13:04.223935Z",
     "iopub.status.idle": "2021-08-23T16:13:04.226622Z",
     "shell.execute_reply": "2021-08-23T16:13:04.226194Z",
     "shell.execute_reply.started": "2021-08-23T06:25:51.552459Z"
    },
    "papermill": {
     "duration": 4.44968,
     "end_time": "2021-08-23T16:13:04.226730",
     "exception": false,
     "start_time": "2021-08-23T16:12:59.777050",
     "status": "completed"
    },
    "tags": []
   },
   "outputs": [],
   "source": [
    "def make_gradcam_heatmap(img_array, model, last_conv_layer_name, pred_index=None):\n",
    "    # First, we create a model that maps the input image to the activations\n",
    "    # of the last conv layer as well as the output predictions\n",
    "\n",
    "    grad_model = tf.keras.models.Model([model.inputs], [model.get_layer(last_conv_layer_name).output, model.output])\n",
    "\n",
    "    # Then, we compute the gradient of the top predicted class for our input image\n",
    "    # with respect to the activations of the last conv layer\n",
    "    with tf.GradientTape() as tape:\n",
    "        last_conv_layer_output, preds = grad_model(img_array)\n",
    "        if pred_index is None:\n",
    "            pred_index = tf.argmax(preds[0])\n",
    "        class_channel = preds[:, pred_index]\n",
    "\n",
    "    # This is the gradient of the output neuron (top predicted or chosen)\n",
    "    # with regard to the output feature map of the last conv layer\n",
    "    grads = tape.gradient(class_channel, last_conv_layer_output)\n",
    "\n",
    "    # This is a vector where each entry is the mean intensity of the gradient\n",
    "    # over a specific feature map channel\n",
    "    pooled_grads = tf.reduce_mean(grads, axis=(0, 1, 2))\n",
    "\n",
    "    # We multiply each channel in the feature map array\n",
    "    # by \"how important this channel is\" with regard to the top predicted class\n",
    "    # then sum all the channels to obtain the heatmap class activation\n",
    "    last_conv_layer_output = last_conv_layer_output[0]\n",
    "    heatmap = last_conv_layer_output @ pooled_grads[..., tf.newaxis]\n",
    "    heatmap = tf.squeeze(heatmap)\n",
    "\n",
    "    # For visualization purpose, we will also normalize the heatmap between 0 & 1\n",
    "    heatmap = tf.maximum(heatmap, 0) / tf.math.reduce_max(heatmap)\n",
    "    return heatmap.numpy()"
   ]
  },
  {
   "cell_type": "markdown",
   "metadata": {
    "papermill": {
     "duration": 4.474083,
     "end_time": "2021-08-23T16:13:12.896828",
     "exception": false,
     "start_time": "2021-08-23T16:13:08.422745",
     "status": "completed"
    },
    "tags": []
   },
   "source": [
    "Create Heat Map"
   ]
  },
  {
   "cell_type": "code",
   "execution_count": 26,
   "metadata": {
    "execution": {
     "iopub.execute_input": "2021-08-23T16:13:21.281655Z",
     "iopub.status.busy": "2021-08-23T16:13:21.280833Z",
     "iopub.status.idle": "2021-08-23T16:13:22.573673Z",
     "shell.execute_reply": "2021-08-23T16:13:22.575187Z",
     "shell.execute_reply.started": "2021-08-23T06:25:53.691861Z"
    },
    "papermill": {
     "duration": 5.463007,
     "end_time": "2021-08-23T16:13:22.575433",
     "exception": false,
     "start_time": "2021-08-23T16:13:17.112426",
     "status": "completed"
    },
    "tags": []
   },
   "outputs": [
    {
     "data": {
      "image/png": "[encoded data removed]",
      "text/plain": [
       "<Figure size 288x288 with 1 Axes>"
      ]
     },
     "metadata": {
      "needs_background": "light"
     },
     "output_type": "display_data"
    }
   ],
   "source": [
    "# Make model\n",
    "model = vgg_model\n",
    "\n",
    "# Remove last layer's softmax\n",
    "model.layers[-1].activation = None\n",
    "\n",
    "img_array=np.expand_dims(image_array, axis=0)\n",
    "# Prepare particular image\n",
    "img_array = preprocess_input(img_array)    \n",
    "\n",
    "# Print what the top predicted class is\n",
    "preds = model.predict(img_array)  \n",
    "\n",
    "# Generate class activation heatmap\n",
    "heatmap= make_gradcam_heatmap(img_array, model, last_conv_layer_name)\n",
    "\n",
    "# Display heatmap\n",
    "plt.matshow(heatmap)\n",
    "plt.show()"
   ]
  },
  {
   "cell_type": "markdown",
   "metadata": {
    "papermill": {
     "duration": 4.734064,
     "end_time": "2021-08-23T16:13:31.884010",
     "exception": false,
     "start_time": "2021-08-23T16:13:27.149946",
     "status": "completed"
    },
    "tags": []
   },
   "source": [
    " Create a superimposed visualization"
   ]
  },
  {
   "cell_type": "code",
   "execution_count": 27,
   "metadata": {
    "execution": {
     "iopub.execute_input": "2021-08-23T16:13:40.645046Z",
     "iopub.status.busy": "2021-08-23T16:13:40.644490Z",
     "iopub.status.idle": "2021-08-23T16:13:40.647881Z",
     "shell.execute_reply": "2021-08-23T16:13:40.648803Z",
     "shell.execute_reply.started": "2021-08-23T06:25:55.610242Z"
    },
    "papermill": {
     "duration": 4.160014,
     "end_time": "2021-08-23T16:13:40.648943",
     "exception": false,
     "start_time": "2021-08-23T16:13:36.488929",
     "status": "completed"
    },
    "tags": []
   },
   "outputs": [],
   "source": [
    "def save_and_display_gradcam(img_path, heatmap, cam_path, alpha=0.4):\n",
    "    # Load the original image\n",
    "    img = tf.keras.preprocessing.image.load_img(img_path)\n",
    "    img = tf.keras.preprocessing.image.img_to_array(img)\n",
    "\n",
    "    # Rescale heatmap to a range 0-255\n",
    "    heatmap = np.uint8(255 * heatmap)\n",
    "\n",
    "    # Use jet colormap to colorize heatmap\n",
    "    jet = cm.get_cmap(\"jet\")\n",
    "\n",
    "    # Use RGB values of the colormap\n",
    "    jet_colors = jet(np.arange(256))[:, :3]\n",
    "    jet_heatmap = jet_colors[heatmap]\n",
    "\n",
    "    # Create an image with RGB colorized heatmap\n",
    "    jet_heatmap = tf.keras.preprocessing.image.array_to_img(jet_heatmap)\n",
    "    jet_heatmap = jet_heatmap.resize((img.shape[1], img.shape[0]))\n",
    "    jet_heatmap = tf.keras.preprocessing.image.img_to_array(jet_heatmap)\n",
    "\n",
    "    # Superimpose the heatmap on original image\n",
    "    superimposed_img = jet_heatmap * alpha + img\n",
    "    superimposed_img = tf.keras.preprocessing.image.array_to_img(superimposed_img)\n",
    "\n",
    "    # Save the superimposed image\n",
    "    superimposed_img.save(cam_path)\n",
    "\n",
    "    # Display Grad CAM\n",
    "    display(Image(cam_path))\n"
   ]
  },
  {
   "cell_type": "code",
   "execution_count": 28,
   "metadata": {
    "execution": {
     "iopub.execute_input": "2021-08-23T16:13:49.403820Z",
     "iopub.status.busy": "2021-08-23T16:13:49.403257Z",
     "iopub.status.idle": "2021-08-23T16:13:49.432421Z",
     "shell.execute_reply": "2021-08-23T16:13:49.432803Z",
     "shell.execute_reply.started": "2021-08-23T06:25:57.325877Z"
    },
    "papermill": {
     "duration": 4.340714,
     "end_time": "2021-08-23T16:13:49.432953",
     "exception": false,
     "start_time": "2021-08-23T16:13:45.092239",
     "status": "completed"
    },
    "tags": []
   },
   "outputs": [
    {
     "data": {
      "image/jpeg": "[encoded data removed]",
      "text/plain": [
       "<IPython.core.display.Image object>"
      ]
     },
     "metadata": {},
     "output_type": "display_data"
    }
   ],
   "source": [
    "save_and_display_gradcam(image_path, heatmap,cam_path=\"/kaggle/working/GradCamTest.jpg\")"
   ]
  }
 ],
 "metadata": {
  "kernelspec": {
   "display_name": "Python 3",
   "language": "python",
   "name": "python3"
  },
  "language_info": {
   "codemirror_mode": {
    "name": "ipython",
    "version": 3
   },
   "file_extension": ".py",
   "mimetype": "text/x-python",
   "name": "python",
   "nbconvert_exporter": "python",
   "pygments_lexer": "ipython3",
   "version": "3.8.10"
  },
  "papermill": {
   "default_parameters": {},
   "duration": 3167.41203,
   "end_time": "2021-08-23T16:13:56.270448",
   "environment_variables": {},
   "exception": null,
   "input_path": "__notebook__.ipynb",
   "output_path": "__notebook__.ipynb",
   "parameters": {},
   "start_time": "2021-08-23T15:21:08.858418",
   "version": "2.3.3"
  }
 },
 "nbformat": 4,
 "nbformat_minor": 5
}
